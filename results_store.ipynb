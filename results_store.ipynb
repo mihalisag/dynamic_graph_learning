{
 "cells": [
  {
   "cell_type": "markdown",
   "metadata": {
    "user_expressions": []
   },
   "source": [
    "# Storing results in a table"
   ]
  },
  {
   "cell_type": "code",
   "execution_count": 1,
   "metadata": {
    "tags": []
   },
   "outputs": [
    {
     "name": "stdout",
     "output_type": "stream",
     "text": [
      "[Errno 2] No such file or directory: '/home/home/thesis'\n",
      "/home/home/Nextcloud/University/Thesis/code_source\n"
     ]
    }
   ],
   "source": [
    "cd ~/thesis"
   ]
  },
  {
   "cell_type": "markdown",
   "metadata": {
    "user_expressions": []
   },
   "source": [
    "Import libraries"
   ]
  },
  {
   "cell_type": "code",
   "execution_count": 5,
   "metadata": {
    "tags": []
   },
   "outputs": [],
   "source": [
    "import numpy as np\n",
    "import pandas as pd\n",
    "import networkx as nx\n",
    "\n",
    "# Modify eliorc's implementation\n",
    "from eliorc_mod.node2vec import Node2Vec\n",
    "from gensim.models import Word2Vec\n",
    "\n",
    "from main_utils import *\n",
    "from plot_utils import *\n",
    "\n",
    "from datetime import datetime"
   ]
  },
  {
   "cell_type": "markdown",
   "metadata": {
    "user_expressions": []
   },
   "source": [
    "## Erdos renyi"
   ]
  },
  {
   "cell_type": "code",
   "execution_count": 11,
   "metadata": {},
   "outputs": [
    {
     "name": "stdout",
     "output_type": "stream",
     "text": [
      "(240, 4314) (256, 4939)\n"
     ]
    }
   ],
   "source": [
    "initial_graph = nx.erdos_renyi_graph(256, 0.15)\n",
    "initial_graph.name = 'erdos_renyi'\n",
    "\n",
    "params = [64, 8, 8, 0.25, 4]\n",
    "\n",
    "added_nodes_num = 16\n",
    "\n",
    "X_global, y_global, X_local, y_local, total_global_time, total_local_time, num_starting_nodes = \\\n",
    "    dynamic_extend_compare(initial_graph, added_nodes_num, params, quiet_bool=True)\n",
    "\n",
    "num_different_nodes = added_nodes_num\n",
    "\n",
    "test_sizes = np.arange(0.1, 1, 0.1)\n",
    "mod_type = 'extend'\n",
    "\n",
    "local_vars = [X_local, y_local]\n",
    "global_vars = [X_global, y_global]\n",
    "training_times = total_global_time, total_local_time \n",
    "\n",
    "results_df = results_store_func(initial_graph, mod_type, local_vars, global_vars, test_sizes, num_different_nodes, num_starting_nodes, params, training_times)\n",
    "# results_df"
   ]
  },
  {
   "cell_type": "code",
   "execution_count": null,
   "metadata": {},
   "outputs": [],
   "source": [
    "initial_graph = nx.erdos_renyi_graph(256, 0.15)\n",
    "initial_graph.name = 'erdos_renyi'\n",
    "\n",
    "params = [64, 8, 8, 0.25, 4]\n",
    "\n",
    "removed_nodes_num = 8\n",
    "\n",
    "X_global, y_global, X_local, y_local, total_global_time, total_local_time, num_starting_nodes = \\\n",
    "    dynamic_prune_compare(initial_graph, removed_nodes_num, params, quiet_bool=True)\n",
    "\n",
    "num_different_nodes = removed_nodes_num\n",
    "\n",
    "test_sizes = np.arange(0.1, 1, 0.1)\n",
    "mod_type = 'prune'\n",
    "\n",
    "local_vars = [X_local, y_local]\n",
    "global_vars = [X_global, y_global]\n",
    "training_times = total_global_time, total_local_time \n",
    "\n",
    "results_df = results_store_func(initial_graph, mod_type, local_vars, global_vars, test_sizes, num_different_nodes, num_starting_nodes, params, training_times)\n",
    "# results_df"
   ]
  },
  {
   "cell_type": "markdown",
   "metadata": {},
   "source": [
    "## Cora"
   ]
  },
  {
   "cell_type": "code",
   "execution_count": 3,
   "metadata": {
    "tags": []
   },
   "outputs": [
    {
     "data": {
      "text/html": [
       "<div>\n",
       "<style scoped>\n",
       "    .dataframe tbody tr th:only-of-type {\n",
       "        vertical-align: middle;\n",
       "    }\n",
       "\n",
       "    .dataframe tbody tr th {\n",
       "        vertical-align: top;\n",
       "    }\n",
       "\n",
       "    .dataframe thead th {\n",
       "        text-align: right;\n",
       "    }\n",
       "</style>\n",
       "<table border=\"1\" class=\"dataframe\">\n",
       "  <thead>\n",
       "    <tr style=\"text-align: right;\">\n",
       "      <th></th>\n",
       "      <th>node_num</th>\n",
       "      <th>group</th>\n",
       "    </tr>\n",
       "  </thead>\n",
       "  <tbody>\n",
       "    <tr>\n",
       "      <th>0</th>\n",
       "      <td>31336</td>\n",
       "      <td>4</td>\n",
       "    </tr>\n",
       "    <tr>\n",
       "      <th>1</th>\n",
       "      <td>1061127</td>\n",
       "      <td>5</td>\n",
       "    </tr>\n",
       "    <tr>\n",
       "      <th>2</th>\n",
       "      <td>1106406</td>\n",
       "      <td>6</td>\n",
       "    </tr>\n",
       "    <tr>\n",
       "      <th>3</th>\n",
       "      <td>13195</td>\n",
       "      <td>6</td>\n",
       "    </tr>\n",
       "    <tr>\n",
       "      <th>4</th>\n",
       "      <td>37879</td>\n",
       "      <td>7</td>\n",
       "    </tr>\n",
       "  </tbody>\n",
       "</table>\n",
       "</div>"
      ],
      "text/plain": [
       "   node_num  group\n",
       "0     31336      4\n",
       "1   1061127      5\n",
       "2   1106406      6\n",
       "3     13195      6\n",
       "4     37879      7"
      ]
     },
     "execution_count": 3,
     "metadata": {},
     "output_type": "execute_result"
    }
   ],
   "source": [
    "data_dir = os.path.expanduser(\"~/thesis/datasets/cora\")\n",
    "\n",
    "edgelist = pd.read_csv(os.path.join(data_dir, \"cora.cites\"), sep='\\t', header=None, names=[\"target\", \"source\"])\n",
    "edgelist[\"label\"] = \"cites\"\n",
    "\n",
    "initial_graph = nx.from_pandas_edgelist(edgelist, edge_attr=\"label\")\n",
    "initial_graph.name = 'cora'\n",
    "\n",
    "nx.set_node_attributes(initial_graph, \"paper\", \"label\")\n",
    "\n",
    "feature_names = [\"w_{}\".format(ii) for ii in range(1433)]\n",
    "column_names =  feature_names + [\"subject\"]\n",
    "node_data = pd.read_csv(os.path.join(data_dir, \"cora.content\"), sep='\\t', header=None, names=column_names)\n",
    "\n",
    "group_df = node_data['subject'].reset_index()\n",
    "group_df.columns = ['node_num', 'group']\n",
    "\n",
    "group_df['group'], _ = pd.factorize(group_df['group'])\n",
    "group_df['group'] += 4 # number of groups for new graph\n",
    "groups_dict = groups_assign(initial_graph, initial_graph, group_df)\n",
    "\n",
    "group_df.head()"
   ]
  },
  {
   "cell_type": "code",
   "execution_count": 4,
   "metadata": {
    "tags": []
   },
   "outputs": [
    {
     "name": "stdout",
     "output_type": "stream",
     "text": [
      "Graph Information:\n",
      "Number of nodes: 2708\n",
      "Number of edges: 5278\n",
      "Density: 0.0014399999126942077\n",
      "Is connected: False\n",
      "Average clustering coefficient: 0.2406732985019372\n",
      "Directed: False\n"
     ]
    }
   ],
   "source": [
    "advanced_info(initial_graph)"
   ]
  },
  {
   "cell_type": "markdown",
   "metadata": {
    "tags": [],
    "user_expressions": []
   },
   "source": [
    "### Centrality"
   ]
  },
  {
   "cell_type": "code",
   "execution_count": 5,
   "metadata": {
    "tags": []
   },
   "outputs": [],
   "source": [
    "groups_dict = groups_assign(initial_graph, initial_graph, group_df)\n",
    "\n",
    "mod_nodes_num = 512\n",
    "removal_process = 'betweenness_centrality'\n",
    "# graphs_list = dynamic_graph_gen(initial_graph, mod_nodes_num, removal_process=removal_process)"
   ]
  },
  {
   "cell_type": "code",
   "execution_count": 7,
   "metadata": {
    "tags": []
   },
   "outputs": [],
   "source": [
    "graphs_filenames_list = f'{initial_graph.name}_{removal_process}_{mod_nodes_num}.pkl'\n",
    "\n",
    "# Load the list of graphs from the file\n",
    "with open(f'./graphs/{graphs_filenames_list}', 'rb') as f:\n",
    "    graphs_list = pickle.load(f)"
   ]
  },
  {
   "cell_type": "code",
   "execution_count": 8,
   "metadata": {
    "tags": []
   },
   "outputs": [
    {
     "name": "stdout",
     "output_type": "stream",
     "text": [
      "** Modification type: extend for 512 nodes **\n",
      "Graphs:\n",
      "(2196, 2754) (2708, 5278)\n",
      "Computing transition probabilities...\n",
      "Random walks in progress...\n"
     ]
    },
    {
     "data": {
      "application/vnd.jupyter.widget-view+json": {
       "model_id": "d6f6abec7a4a4266846352d33db30b1a",
       "version_major": 2,
       "version_minor": 0
      },
      "text/plain": [
       "  0%|          | 0/64 [00:00<?, ?it/s]"
      ]
     },
     "metadata": {},
     "output_type": "display_data"
    },
    {
     "name": "stdout",
     "output_type": "stream",
     "text": [
      "Fitting model...\n",
      "Computing transition probabilities...\n",
      "Random walks in progress...\n"
     ]
    },
    {
     "data": {
      "application/vnd.jupyter.widget-view+json": {
       "model_id": "728012f018434a75894b7c793ed6b669",
       "version_major": 2,
       "version_minor": 0
      },
      "text/plain": [
       "  0%|          | 0/64 [00:00<?, ?it/s]"
      ]
     },
     "metadata": {},
     "output_type": "display_data"
    },
    {
     "name": "stdout",
     "output_type": "stream",
     "text": [
      "Fitting model...\n",
      "Computing transition probabilities...\n",
      "Random walks in progress...\n"
     ]
    },
    {
     "data": {
      "application/vnd.jupyter.widget-view+json": {
       "model_id": "b8785baf2ecc4ee2b38b1d26b35ccadb",
       "version_major": 2,
       "version_minor": 0
      },
      "text/plain": [
       "  0%|          | 0/8 [00:00<?, ?it/s]"
      ]
     },
     "metadata": {},
     "output_type": "display_data"
    },
    {
     "name": "stdout",
     "output_type": "stream",
     "text": [
      "Fitting model...\n",
      "** Modification type: prune for 512 nodes **\n",
      "Graphs:\n",
      "(2196, 2754) (2708, 5278)\n",
      "Computing transition probabilities...\n",
      "Random walks in progress...\n"
     ]
    },
    {
     "data": {
      "application/vnd.jupyter.widget-view+json": {
       "model_id": "004bf97062884c96872aec3251048268",
       "version_major": 2,
       "version_minor": 0
      },
      "text/plain": [
       "  0%|          | 0/64 [00:00<?, ?it/s]"
      ]
     },
     "metadata": {},
     "output_type": "display_data"
    },
    {
     "name": "stdout",
     "output_type": "stream",
     "text": [
      "Fitting model...\n",
      "Computing transition probabilities...\n",
      "Random walks in progress...\n"
     ]
    },
    {
     "data": {
      "application/vnd.jupyter.widget-view+json": {
       "model_id": "291e8285ad4745c28ba417d50b2d143a",
       "version_major": 2,
       "version_minor": 0
      },
      "text/plain": [
       "  0%|          | 0/64 [00:00<?, ?it/s]"
      ]
     },
     "metadata": {},
     "output_type": "display_data"
    },
    {
     "name": "stdout",
     "output_type": "stream",
     "text": [
      "Fitting model...\n",
      "Computing transition probabilities...\n",
      "Random walks in progress...\n"
     ]
    },
    {
     "data": {
      "application/vnd.jupyter.widget-view+json": {
       "model_id": "42eb39331515498292064c5d2fa219ff",
       "version_major": 2,
       "version_minor": 0
      },
      "text/plain": [
       "  0%|          | 0/64 [00:00<?, ?it/s]"
      ]
     },
     "metadata": {},
     "output_type": "display_data"
    },
    {
     "name": "stdout",
     "output_type": "stream",
     "text": [
      "Fitting model...\n"
     ]
    }
   ],
   "source": [
    "params = (128, 40, 80, 0.25, 1)\n",
    "\n",
    "for mod_type in ['extend', 'prune']:\n",
    "    results_df = results_output_func(initial_graph, mod_type, mod_nodes_num, params, groups_dict, graphs_list, removal_process=removal_process)"
   ]
  },
  {
   "cell_type": "code",
   "execution_count": null,
   "metadata": {},
   "outputs": [],
   "source": []
  },
  {
   "cell_type": "code",
   "execution_count": null,
   "metadata": {},
   "outputs": [],
   "source": []
  },
  {
   "cell_type": "code",
   "execution_count": null,
   "metadata": {},
   "outputs": [],
   "source": []
  },
  {
   "cell_type": "markdown",
   "metadata": {},
   "source": [
    "### Grid search "
   ]
  },
  {
   "cell_type": "code",
   "execution_count": null,
   "metadata": {
    "tags": []
   },
   "outputs": [
    {
     "name": "stderr",
     "output_type": "stream",
     "text": [
      "  0%|          | 0/2 [00:00<?, ?it/s]"
     ]
    },
    {
     "name": "stdout",
     "output_type": "stream",
     "text": [
      "** Modification type: extend for 128 nodes **\n",
      "Graphs:\n",
      "(2580, 4994) (2708, 5278)\n",
      "Computing transition probabilities...\n",
      "Random walks in progress...\n"
     ]
    },
    {
     "name": "stderr",
     "output_type": "stream",
     "text": [
      "  0%|          | 0/2 [00:15<?, ?it/s]\n"
     ]
    }
   ],
   "source": [
    "parameter_combinations = node2vec_configs()\n",
    "\n",
    "for params in tqdm(parameter_combinations):\n",
    "    for mod_type in ['extend', 'prune']:\n",
    "        results_df = results_output_func(initial_graph, mod_type, mod_nodes_num, params, groups_dict, graphs_list)"
   ]
  },
  {
   "cell_type": "code",
   "execution_count": null,
   "metadata": {},
   "outputs": [],
   "source": []
  },
  {
   "cell_type": "code",
   "execution_count": null,
   "metadata": {},
   "outputs": [],
   "source": []
  },
  {
   "cell_type": "code",
   "execution_count": null,
   "metadata": {},
   "outputs": [],
   "source": []
  },
  {
   "cell_type": "code",
   "execution_count": null,
   "metadata": {},
   "outputs": [],
   "source": []
  },
  {
   "cell_type": "markdown",
   "metadata": {},
   "source": [
    "## BlogCatalog"
   ]
  },
  {
   "cell_type": "code",
   "execution_count": null,
   "metadata": {
    "tags": []
   },
   "outputs": [],
   "source": [
    "blog_dir = '~/thesis/datasets/blog_catalog/data/'\n",
    "\n",
    "initial_graph = nx.read_edgelist(blog_dir+'edges.csv', delimiter=',')\n",
    "initial_graph.name = 'blog_catalog'\n",
    "\n",
    "# Groups mapping\n",
    "group_df = pd.read_csv(blog_dir+'group-edges.csv', delimiter=',')\n",
    "group_df.columns = ['node_num', 'group']"
   ]
  },
  {
   "cell_type": "code",
   "execution_count": null,
   "metadata": {
    "tags": []
   },
   "outputs": [],
   "source": [
    "groups_dict = groups_assign(initial_graph, initial_graph, group_df)"
   ]
  },
  {
   "cell_type": "code",
   "execution_count": 6,
   "metadata": {
    "tags": []
   },
   "outputs": [
    {
     "name": "stdout",
     "output_type": "stream",
     "text": [
      "Generating list of dynamic graphs:\n"
     ]
    },
    {
     "name": "stderr",
     "output_type": "stream",
     "text": [
      "  8%|▊         | 39/512 [01:58<23:52,  3.03s/it]\n"
     ]
    },
    {
     "ename": "KeyboardInterrupt",
     "evalue": "",
     "output_type": "error",
     "traceback": [
      "\u001b[0;31m---------------------------------------------------------------------------\u001b[0m",
      "\u001b[0;31mKeyboardInterrupt\u001b[0m                         Traceback (most recent call last)",
      "Cell \u001b[0;32mIn[6], line 2\u001b[0m\n\u001b[1;32m      1\u001b[0m mod_nodes_num \u001b[38;5;241m=\u001b[39m \u001b[38;5;241m512\u001b[39m\n\u001b[0;32m----> 2\u001b[0m graphs_list \u001b[38;5;241m=\u001b[39m \u001b[43mdynamic_graph_gen\u001b[49m\u001b[43m(\u001b[49m\u001b[43minitial_graph\u001b[49m\u001b[43m,\u001b[49m\u001b[43m \u001b[49m\u001b[43mmod_nodes_num\u001b[49m\u001b[43m)\u001b[49m\n",
      "File \u001b[0;32m~/thesis/main_utils.py:633\u001b[0m, in \u001b[0;36mdynamic_graph_gen\u001b[0;34m(initial_graph, num_nodes_to_remove, save_bool)\u001b[0m\n\u001b[1;32m    631\u001b[0m \u001b[38;5;28mprint\u001b[39m(\u001b[38;5;124m\"\u001b[39m\u001b[38;5;124mGenerating list of dynamic graphs:\u001b[39m\u001b[38;5;124m\"\u001b[39m)\n\u001b[1;32m    632\u001b[0m \u001b[38;5;28;01mfor\u001b[39;00m i \u001b[38;5;129;01min\u001b[39;00m tqdm(\u001b[38;5;28mrange\u001b[39m(num_nodes_to_remove)):\n\u001b[0;32m--> 633\u001b[0m     dynamic_graph, _ \u001b[38;5;241m=\u001b[39m \u001b[43mremove_nodes_connected\u001b[49m\u001b[43m(\u001b[49m\u001b[43mdynamic_graph\u001b[49m\u001b[43m,\u001b[49m\u001b[43m \u001b[49m\u001b[38;5;241;43m1\u001b[39;49m\u001b[43m)\u001b[49m\n\u001b[1;32m    634\u001b[0m     graphs_list\u001b[38;5;241m.\u001b[39mappend(dynamic_graph)\n\u001b[1;32m    636\u001b[0m graphs_list \u001b[38;5;241m=\u001b[39m graphs_list[::\u001b[38;5;241m-\u001b[39m\u001b[38;5;241m1\u001b[39m]\n",
      "File \u001b[0;32m~/thesis/main_utils.py:507\u001b[0m, in \u001b[0;36mremove_nodes_connected\u001b[0;34m(initial_graph, num_nodes)\u001b[0m\n\u001b[1;32m    504\u001b[0m \u001b[38;5;66;03m# Set the seed\u001b[39;00m\n\u001b[1;32m    505\u001b[0m random\u001b[38;5;241m.\u001b[39mseed(\u001b[38;5;241m42\u001b[39m)\n\u001b[0;32m--> 507\u001b[0m graph \u001b[38;5;241m=\u001b[39m \u001b[43minitial_graph\u001b[49m\u001b[38;5;241;43m.\u001b[39;49m\u001b[43mcopy\u001b[49m\u001b[43m(\u001b[49m\u001b[43m)\u001b[49m\n\u001b[1;32m    508\u001b[0m removed_nodes_edges_dict \u001b[38;5;241m=\u001b[39m {}\n\u001b[1;32m    510\u001b[0m \u001b[38;5;28;01mwhile\u001b[39;00m num_nodes \u001b[38;5;241m>\u001b[39m \u001b[38;5;241m0\u001b[39m \u001b[38;5;129;01mand\u001b[39;00m \u001b[38;5;28mlen\u001b[39m(graph\u001b[38;5;241m.\u001b[39mnodes) \u001b[38;5;241m>\u001b[39m \u001b[38;5;241m0\u001b[39m:\n",
      "File \u001b[0;32m~/venvs/my_environment/lib/python3.10/site-packages/networkx/classes/graph.py:1578\u001b[0m, in \u001b[0;36mGraph.copy\u001b[0;34m(self, as_view)\u001b[0m\n\u001b[1;32m   1576\u001b[0m G\u001b[38;5;241m.\u001b[39mgraph\u001b[38;5;241m.\u001b[39mupdate(\u001b[38;5;28mself\u001b[39m\u001b[38;5;241m.\u001b[39mgraph)\n\u001b[1;32m   1577\u001b[0m G\u001b[38;5;241m.\u001b[39madd_nodes_from((n, d\u001b[38;5;241m.\u001b[39mcopy()) \u001b[38;5;28;01mfor\u001b[39;00m n, d \u001b[38;5;129;01min\u001b[39;00m \u001b[38;5;28mself\u001b[39m\u001b[38;5;241m.\u001b[39m_node\u001b[38;5;241m.\u001b[39mitems())\n\u001b[0;32m-> 1578\u001b[0m \u001b[43mG\u001b[49m\u001b[38;5;241;43m.\u001b[39;49m\u001b[43madd_edges_from\u001b[49m\u001b[43m(\u001b[49m\n\u001b[1;32m   1579\u001b[0m \u001b[43m    \u001b[49m\u001b[43m(\u001b[49m\u001b[43mu\u001b[49m\u001b[43m,\u001b[49m\u001b[43m \u001b[49m\u001b[43mv\u001b[49m\u001b[43m,\u001b[49m\u001b[43m \u001b[49m\u001b[43mdatadict\u001b[49m\u001b[38;5;241;43m.\u001b[39;49m\u001b[43mcopy\u001b[49m\u001b[43m(\u001b[49m\u001b[43m)\u001b[49m\u001b[43m)\u001b[49m\n\u001b[1;32m   1580\u001b[0m \u001b[43m    \u001b[49m\u001b[38;5;28;43;01mfor\u001b[39;49;00m\u001b[43m \u001b[49m\u001b[43mu\u001b[49m\u001b[43m,\u001b[49m\u001b[43m \u001b[49m\u001b[43mnbrs\u001b[49m\u001b[43m \u001b[49m\u001b[38;5;129;43;01min\u001b[39;49;00m\u001b[43m \u001b[49m\u001b[38;5;28;43mself\u001b[39;49m\u001b[38;5;241;43m.\u001b[39;49m\u001b[43m_adj\u001b[49m\u001b[38;5;241;43m.\u001b[39;49m\u001b[43mitems\u001b[49m\u001b[43m(\u001b[49m\u001b[43m)\u001b[49m\n\u001b[1;32m   1581\u001b[0m \u001b[43m    \u001b[49m\u001b[38;5;28;43;01mfor\u001b[39;49;00m\u001b[43m \u001b[49m\u001b[43mv\u001b[49m\u001b[43m,\u001b[49m\u001b[43m \u001b[49m\u001b[43mdatadict\u001b[49m\u001b[43m \u001b[49m\u001b[38;5;129;43;01min\u001b[39;49;00m\u001b[43m \u001b[49m\u001b[43mnbrs\u001b[49m\u001b[38;5;241;43m.\u001b[39;49m\u001b[43mitems\u001b[49m\u001b[43m(\u001b[49m\u001b[43m)\u001b[49m\n\u001b[1;32m   1582\u001b[0m \u001b[43m\u001b[49m\u001b[43m)\u001b[49m\n\u001b[1;32m   1583\u001b[0m \u001b[38;5;28;01mreturn\u001b[39;00m G\n",
      "File \u001b[0;32m~/venvs/my_environment/lib/python3.10/site-packages/networkx/classes/graph.py:978\u001b[0m, in \u001b[0;36mGraph.add_edges_from\u001b[0;34m(self, ebunch_to_add, **attr)\u001b[0m\n\u001b[1;32m    976\u001b[0m \u001b[38;5;28;01melse\u001b[39;00m:\n\u001b[1;32m    977\u001b[0m     \u001b[38;5;28;01mraise\u001b[39;00m NetworkXError(\u001b[38;5;124mf\u001b[39m\u001b[38;5;124m\"\u001b[39m\u001b[38;5;124mEdge tuple \u001b[39m\u001b[38;5;132;01m{\u001b[39;00me\u001b[38;5;132;01m}\u001b[39;00m\u001b[38;5;124m must be a 2-tuple or 3-tuple.\u001b[39m\u001b[38;5;124m\"\u001b[39m)\n\u001b[0;32m--> 978\u001b[0m \u001b[38;5;28;01mif\u001b[39;00m u \u001b[38;5;129;01mnot\u001b[39;00m \u001b[38;5;129;01min\u001b[39;00m \u001b[38;5;28mself\u001b[39m\u001b[38;5;241m.\u001b[39m_node:\n\u001b[1;32m    979\u001b[0m     \u001b[38;5;28;01mif\u001b[39;00m u \u001b[38;5;129;01mis\u001b[39;00m \u001b[38;5;28;01mNone\u001b[39;00m:\n\u001b[1;32m    980\u001b[0m         \u001b[38;5;28;01mraise\u001b[39;00m \u001b[38;5;167;01mValueError\u001b[39;00m(\u001b[38;5;124m\"\u001b[39m\u001b[38;5;124mNone cannot be a node\u001b[39m\u001b[38;5;124m\"\u001b[39m)\n",
      "\u001b[0;31mKeyboardInterrupt\u001b[0m: "
     ]
    }
   ],
   "source": [
    "mod_nodes_num = 512\n",
    "graphs_list = dynamic_graph_gen(initial_graph, mod_nodes_num)"
   ]
  },
  {
   "cell_type": "markdown",
   "metadata": {},
   "source": [
    "IMPORTANT: Save the graph list"
   ]
  },
  {
   "cell_type": "code",
   "execution_count": null,
   "metadata": {
    "tags": []
   },
   "outputs": [
    {
     "name": "stdout",
     "output_type": "stream",
     "text": [
      "** Modification type: extend for 512 nodes **\n",
      "Graphs:\n",
      "(9800, 292854) (10312, 333983)\n",
      "Computing transition probabilities...\n",
      "Random walks in progress...\n"
     ]
    },
    {
     "data": {
      "application/vnd.jupyter.widget-view+json": {
       "model_id": "f3bf2e7fbdc94d518894916adebb1317",
       "version_major": 2,
       "version_minor": 0
      },
      "text/plain": [
       "  0%|          | 0/64 [00:00<?, ?it/s]"
      ]
     },
     "metadata": {},
     "output_type": "display_data"
    },
    {
     "name": "stdout",
     "output_type": "stream",
     "text": [
      "Fitting model...\n",
      "Computing transition probabilities...\n",
      "Random walks in progress...\n"
     ]
    }
   ],
   "source": [
    "mod_type = 'extend'\n",
    "params = (128, 40, 80, 0.25, 1)\n",
    "\n",
    "results_df = results_output_func(initial_graph, mod_type, mod_nodes_num, params, groups_dict, graphs_list)\n",
    "results_df.head(8)"
   ]
  },
  {
   "cell_type": "code",
   "execution_count": null,
   "metadata": {
    "tags": []
   },
   "outputs": [],
   "source": [
    "mod_type = 'prune'\n",
    "params = (128, 40, 80, 0.25, 1)\n",
    "\n",
    "results_df = results_output_func(initial_graph, mod_type, mod_nodes_num, params, groups_dict, graphs_list)\n",
    "results_df.head(8)"
   ]
  },
  {
   "cell_type": "markdown",
   "metadata": {
    "user_expressions": []
   },
   "source": [
    "### Grid search"
   ]
  },
  {
   "cell_type": "code",
   "execution_count": 3,
   "metadata": {
    "tags": []
   },
   "outputs": [],
   "source": [
    "def node2vec_configs():\n",
    "    '''\n",
    "        Generates list of configs\n",
    "    '''\n",
    "    # D_values = [128]\n",
    "    # R_values = [40, 80] \n",
    "    # L_values = [80, 160]\n",
    "    # P_values = [0.25, 0.5, 1, 2, 4]\n",
    "    # Q_values = [0.25, 0.5, 1, 2, 4] \n",
    "\n",
    "\n",
    "    # D_values = [128]\n",
    "    # R_values = [40, 80] \n",
    "    # L_values = [80]\n",
    "    # P_values = [0.25, 1, 2, 4]\n",
    "    # Q_values = [1, 2, 4] \n",
    "\n",
    "    D_values = [128]\n",
    "    R_values = [80] \n",
    "    L_values = [80]\n",
    "    P_values = [0.25]\n",
    "    Q_values = [1] \n",
    "\n",
    "    # Generate all possible combinations of orders and seasonal orders\n",
    "    parameter_values = [D_values, R_values, L_values, P_values, Q_values]\n",
    "    parameter_combinations = list(itertools.product(*parameter_values))\n",
    "\n",
    "    return parameter_combinations"
   ]
  },
  {
   "cell_type": "code",
   "execution_count": null,
   "metadata": {
    "tags": []
   },
   "outputs": [],
   "source": [
    "parameter_combinations = node2vec_configs()\n",
    "    \n",
    "for params in tqdm(parameter_combinations):\n",
    "    for mod_type in ['extend', 'prune']:\n",
    "        results_df = results_output_func(initial_graph, mod_type, mod_nodes_num, params, groups_dict, graphs_list)"
   ]
  },
  {
   "cell_type": "code",
   "execution_count": null,
   "metadata": {},
   "outputs": [],
   "source": []
  },
  {
   "cell_type": "code",
   "execution_count": null,
   "metadata": {},
   "outputs": [],
   "source": []
  },
  {
   "cell_type": "code",
   "execution_count": null,
   "metadata": {
    "tags": []
   },
   "outputs": [],
   "source": [
    "# Long running session\n",
    "\n",
    "mod_nodes_num = 512\n",
    "removal_process = 'betweenness_centrality'\n",
    "graphs_list = dynamic_graph_gen(initial_graph, mod_nodes_num, removal_process=removal_process, save_bool=True)"
   ]
  },
  {
   "cell_type": "code",
   "execution_count": null,
   "metadata": {},
   "outputs": [],
   "source": []
  },
  {
   "cell_type": "code",
   "execution_count": null,
   "metadata": {},
   "outputs": [],
   "source": [
    "parameter_combinations = node2vec_configs()\n",
    "    \n",
    "for params in tqdm(parameter_combinations):\n",
    "    for mod_type in ['extend', 'prune']:\n",
    "        results_df = results_output_func(initial_graph, mod_type, mod_nodes_num, params, groups_dict, graphs_list)"
   ]
  },
  {
   "cell_type": "code",
   "execution_count": null,
   "metadata": {},
   "outputs": [],
   "source": []
  },
  {
   "cell_type": "code",
   "execution_count": null,
   "metadata": {
    "tags": []
   },
   "outputs": [
    {
     "name": "stdout",
     "output_type": "stream",
     "text": [
      "analysis_utils.py  \u001b[0m\u001b[01;34mfigures\u001b[0m/       \u001b[01;34mold\u001b[0m/           results.csv          test.py\n",
      "\u001b[01;34mdatasets\u001b[0m/          main_utils.py  plot_utils.py  results_store.ipynb  \u001b[01;34mwalks\u001b[0m/\n",
      "\u001b[01;34meliorc_mod\u001b[0m/        \u001b[01;34mmodels\u001b[0m/        \u001b[01;34m__pycache__\u001b[0m/   \u001b[01;34mtemp_folder\u001b[0m/\n"
     ]
    }
   ],
   "source": [
    "ls"
   ]
  },
  {
   "cell_type": "code",
   "execution_count": null,
   "metadata": {},
   "outputs": [],
   "source": []
  },
  {
   "cell_type": "markdown",
   "metadata": {},
   "source": [
    "## Wikipedia"
   ]
  },
  {
   "cell_type": "code",
   "execution_count": 4,
   "metadata": {
    "tags": []
   },
   "outputs": [],
   "source": [
    "filepath = 'datasets/wikipedia/POS.mat'\n",
    "initial_graph, group_df = mat_load_func(filepath)\n",
    "initial_graph.name = 'wikipedia'"
   ]
  },
  {
   "cell_type": "code",
   "execution_count": 5,
   "metadata": {
    "tags": []
   },
   "outputs": [
    {
     "name": "stdout",
     "output_type": "stream",
     "text": [
      "Generating list of dynamic graphs:\n"
     ]
    },
    {
     "name": "stderr",
     "output_type": "stream",
     "text": [
      "100%|██████████| 512/512 [14:33<00:00,  1.71s/it]\n"
     ]
    }
   ],
   "source": [
    "groups_dict = groups_assign(initial_graph, initial_graph, group_df)\n",
    "\n",
    "mod_nodes_num = 512\n",
    "graphs_list = dynamic_graph_gen(initial_graph, mod_nodes_num, removal_process='betweenness_centrality')"
   ]
  },
  {
   "cell_type": "code",
   "execution_count": 6,
   "metadata": {
    "tags": []
   },
   "outputs": [
    {
     "data": {
      "text/plain": [
       "(4777, 92517)"
      ]
     },
     "execution_count": 6,
     "metadata": {},
     "output_type": "execute_result"
    }
   ],
   "source": [
    "nodes_edges_func(initial_graph)"
   ]
  },
  {
   "cell_type": "markdown",
   "metadata": {
    "user_expressions": []
   },
   "source": [
    "### Centrality"
   ]
  },
  {
   "cell_type": "code",
   "execution_count": null,
   "metadata": {
    "tags": []
   },
   "outputs": [
    {
     "name": "stdout",
     "output_type": "stream",
     "text": [
      "** Modification type: extend for 512 nodes **\n",
      "Graphs:\n",
      "(4265, 76411) (4777, 92517)\n",
      "Computing transition probabilities...\n",
      "Random walks in progress...\n"
     ]
    }
   ],
   "source": [
    "params = (128, 40, 80, 0.25, 1)\n",
    "\n",
    "for mod_type in ['extend', 'prune']:\n",
    "    results_df = results_output_func(initial_graph, mod_type, mod_nodes_num, params, groups_dict, graphs_list, removal_process='betweenness_centrality')"
   ]
  },
  {
   "cell_type": "code",
   "execution_count": null,
   "metadata": {},
   "outputs": [],
   "source": []
  },
  {
   "cell_type": "code",
   "execution_count": null,
   "metadata": {},
   "outputs": [],
   "source": []
  },
  {
   "cell_type": "code",
   "execution_count": 11,
   "metadata": {},
   "outputs": [
    {
     "name": "stdout",
     "output_type": "stream",
     "text": [
      "** Modification type: extend for 1024 nodes **\n",
      "Graphs:\n",
      "(3753, 63531) (4777, 92517)\n",
      "Computing transition probabilities...\n",
      "Random walks in progress...\n"
     ]
    },
    {
     "data": {
      "application/vnd.jupyter.widget-view+json": {
       "model_id": "98746c8293d349508534722edf6b3a4c",
       "version_major": 2,
       "version_minor": 0
      },
      "text/plain": [
       "  0%|          | 0/64 [00:00<?, ?it/s]"
      ]
     },
     "metadata": {},
     "output_type": "display_data"
    },
    {
     "name": "stdout",
     "output_type": "stream",
     "text": [
      "Fitting model...\n",
      "Computing transition probabilities...\n",
      "Random walks in progress...\n"
     ]
    },
    {
     "data": {
      "application/vnd.jupyter.widget-view+json": {
       "model_id": "5ce6fb58e78245d08ca9d52b997d39ce",
       "version_major": 2,
       "version_minor": 0
      },
      "text/plain": [
       "  0%|          | 0/64 [00:00<?, ?it/s]"
      ]
     },
     "metadata": {},
     "output_type": "display_data"
    },
    {
     "name": "stdout",
     "output_type": "stream",
     "text": [
      "Fitting model...\n",
      "Computing transition probabilities...\n",
      "Random walks in progress...\n"
     ]
    },
    {
     "data": {
      "application/vnd.jupyter.widget-view+json": {
       "model_id": "1b0102cb6f25409086d132cb683ba537",
       "version_major": 2,
       "version_minor": 0
      },
      "text/plain": [
       "  0%|          | 0/8 [00:00<?, ?it/s]"
      ]
     },
     "metadata": {},
     "output_type": "display_data"
    },
    {
     "name": "stdout",
     "output_type": "stream",
     "text": [
      "Fitting model...\n"
     ]
    },
    {
     "data": {
      "text/html": [
       "<div>\n",
       "<style scoped>\n",
       "    .dataframe tbody tr th:only-of-type {\n",
       "        vertical-align: middle;\n",
       "    }\n",
       "\n",
       "    .dataframe tbody tr th {\n",
       "        vertical-align: top;\n",
       "    }\n",
       "\n",
       "    .dataframe thead th {\n",
       "        text-align: right;\n",
       "    }\n",
       "</style>\n",
       "<table border=\"1\" class=\"dataframe\">\n",
       "  <thead>\n",
       "    <tr style=\"text-align: right;\">\n",
       "      <th></th>\n",
       "      <th>dataset</th>\n",
       "      <th>nodes</th>\n",
       "      <th>edges</th>\n",
       "      <th>retraining_type</th>\n",
       "      <th>metric</th>\n",
       "      <th>10%</th>\n",
       "      <th>20%</th>\n",
       "      <th>30%</th>\n",
       "      <th>40%</th>\n",
       "      <th>50%</th>\n",
       "      <th>60%</th>\n",
       "      <th>70%</th>\n",
       "      <th>80%</th>\n",
       "      <th>90%</th>\n",
       "      <th>parameters</th>\n",
       "      <th>training_time</th>\n",
       "      <th>dynamic_update</th>\n",
       "      <th>num_different_nodes</th>\n",
       "      <th>num_starting_nodes</th>\n",
       "      <th>execution_timestamp</th>\n",
       "    </tr>\n",
       "  </thead>\n",
       "  <tbody>\n",
       "    <tr>\n",
       "      <th>0</th>\n",
       "      <td>wikipedia</td>\n",
       "      <td>4777</td>\n",
       "      <td>92517</td>\n",
       "      <td>global</td>\n",
       "      <td>macro</td>\n",
       "      <td>0.081872</td>\n",
       "      <td>0.049830</td>\n",
       "      <td>0.052619</td>\n",
       "      <td>0.044620</td>\n",
       "      <td>0.039447</td>\n",
       "      <td>0.036514</td>\n",
       "      <td>0.030789</td>\n",
       "      <td>0.027438</td>\n",
       "      <td>0.025785</td>\n",
       "      <td>[64, 8, 8, 0.25, 4]</td>\n",
       "      <td>604.198201</td>\n",
       "      <td>extend</td>\n",
       "      <td>1024</td>\n",
       "      <td>1024</td>\n",
       "      <td>05/06/2024 - 13:00</td>\n",
       "    </tr>\n",
       "    <tr>\n",
       "      <th>1</th>\n",
       "      <td>wikipedia</td>\n",
       "      <td>4777</td>\n",
       "      <td>92517</td>\n",
       "      <td>global</td>\n",
       "      <td>micro</td>\n",
       "      <td>0.491632</td>\n",
       "      <td>0.472803</td>\n",
       "      <td>0.470711</td>\n",
       "      <td>0.475667</td>\n",
       "      <td>0.475931</td>\n",
       "      <td>0.476456</td>\n",
       "      <td>0.477871</td>\n",
       "      <td>0.476190</td>\n",
       "      <td>0.472791</td>\n",
       "      <td>[64, 8, 8, 0.25, 4]</td>\n",
       "      <td>604.198201</td>\n",
       "      <td>extend</td>\n",
       "      <td>1024</td>\n",
       "      <td>1024</td>\n",
       "      <td>05/06/2024 - 13:00</td>\n",
       "    </tr>\n",
       "    <tr>\n",
       "      <th>2</th>\n",
       "      <td>wikipedia</td>\n",
       "      <td>4777</td>\n",
       "      <td>92517</td>\n",
       "      <td>local</td>\n",
       "      <td>macro</td>\n",
       "      <td>0.084981</td>\n",
       "      <td>0.061396</td>\n",
       "      <td>0.064967</td>\n",
       "      <td>0.040447</td>\n",
       "      <td>0.044950</td>\n",
       "      <td>0.036579</td>\n",
       "      <td>0.033579</td>\n",
       "      <td>0.029248</td>\n",
       "      <td>0.023131</td>\n",
       "      <td>[64, 8, 8, 0.25, 4]</td>\n",
       "      <td>500.435080</td>\n",
       "      <td>extend</td>\n",
       "      <td>1024</td>\n",
       "      <td>1024</td>\n",
       "      <td>05/06/2024 - 13:00</td>\n",
       "    </tr>\n",
       "    <tr>\n",
       "      <th>3</th>\n",
       "      <td>wikipedia</td>\n",
       "      <td>4777</td>\n",
       "      <td>92517</td>\n",
       "      <td>local</td>\n",
       "      <td>micro</td>\n",
       "      <td>0.483264</td>\n",
       "      <td>0.476987</td>\n",
       "      <td>0.478382</td>\n",
       "      <td>0.475667</td>\n",
       "      <td>0.483884</td>\n",
       "      <td>0.480293</td>\n",
       "      <td>0.486244</td>\n",
       "      <td>0.478022</td>\n",
       "      <td>0.473488</td>\n",
       "      <td>[64, 8, 8, 0.25, 4]</td>\n",
       "      <td>500.435080</td>\n",
       "      <td>extend</td>\n",
       "      <td>1024</td>\n",
       "      <td>1024</td>\n",
       "      <td>05/06/2024 - 13:00</td>\n",
       "    </tr>\n",
       "    <tr>\n",
       "      <th>4</th>\n",
       "      <td>cora</td>\n",
       "      <td>2708</td>\n",
       "      <td>5278</td>\n",
       "      <td>global</td>\n",
       "      <td>macro</td>\n",
       "      <td>0.695142</td>\n",
       "      <td>0.664917</td>\n",
       "      <td>0.662999</td>\n",
       "      <td>0.669191</td>\n",
       "      <td>0.674114</td>\n",
       "      <td>0.676894</td>\n",
       "      <td>0.667904</td>\n",
       "      <td>0.641703</td>\n",
       "      <td>0.605866</td>\n",
       "      <td>[64, 8, 8, 0.25, 4]</td>\n",
       "      <td>2.184401</td>\n",
       "      <td>prune</td>\n",
       "      <td>1024</td>\n",
       "      <td>1688</td>\n",
       "      <td>05/06/2024 - 12:03</td>\n",
       "    </tr>\n",
       "    <tr>\n",
       "      <th>5</th>\n",
       "      <td>cora</td>\n",
       "      <td>2708</td>\n",
       "      <td>5278</td>\n",
       "      <td>global</td>\n",
       "      <td>micro</td>\n",
       "      <td>0.704142</td>\n",
       "      <td>0.688427</td>\n",
       "      <td>0.695652</td>\n",
       "      <td>0.689911</td>\n",
       "      <td>0.686461</td>\n",
       "      <td>0.691395</td>\n",
       "      <td>0.676845</td>\n",
       "      <td>0.652819</td>\n",
       "      <td>0.614116</td>\n",
       "      <td>[64, 8, 8, 0.25, 4]</td>\n",
       "      <td>2.184401</td>\n",
       "      <td>prune</td>\n",
       "      <td>1024</td>\n",
       "      <td>1688</td>\n",
       "      <td>05/06/2024 - 12:03</td>\n",
       "    </tr>\n",
       "    <tr>\n",
       "      <th>6</th>\n",
       "      <td>cora</td>\n",
       "      <td>2708</td>\n",
       "      <td>5278</td>\n",
       "      <td>local</td>\n",
       "      <td>macro</td>\n",
       "      <td>0.292453</td>\n",
       "      <td>0.256135</td>\n",
       "      <td>0.250830</td>\n",
       "      <td>0.263520</td>\n",
       "      <td>0.254546</td>\n",
       "      <td>0.217255</td>\n",
       "      <td>0.203417</td>\n",
       "      <td>0.196845</td>\n",
       "      <td>0.154591</td>\n",
       "      <td>[64, 8, 8, 0.25, 4]</td>\n",
       "      <td>0.831088</td>\n",
       "      <td>prune</td>\n",
       "      <td>1024</td>\n",
       "      <td>1688</td>\n",
       "      <td>05/06/2024 - 12:03</td>\n",
       "    </tr>\n",
       "    <tr>\n",
       "      <th>7</th>\n",
       "      <td>cora</td>\n",
       "      <td>2708</td>\n",
       "      <td>5278</td>\n",
       "      <td>local</td>\n",
       "      <td>micro</td>\n",
       "      <td>0.402367</td>\n",
       "      <td>0.388724</td>\n",
       "      <td>0.379447</td>\n",
       "      <td>0.394659</td>\n",
       "      <td>0.380048</td>\n",
       "      <td>0.370920</td>\n",
       "      <td>0.357082</td>\n",
       "      <td>0.364985</td>\n",
       "      <td>0.346966</td>\n",
       "      <td>[64, 8, 8, 0.25, 4]</td>\n",
       "      <td>0.831088</td>\n",
       "      <td>prune</td>\n",
       "      <td>1024</td>\n",
       "      <td>1688</td>\n",
       "      <td>05/06/2024 - 12:03</td>\n",
       "    </tr>\n",
       "  </tbody>\n",
       "</table>\n",
       "</div>"
      ],
      "text/plain": [
       "     dataset  nodes  edges retraining_type metric       10%       20%  \\\n",
       "0  wikipedia   4777  92517          global  macro  0.081872  0.049830   \n",
       "1  wikipedia   4777  92517          global  micro  0.491632  0.472803   \n",
       "2  wikipedia   4777  92517           local  macro  0.084981  0.061396   \n",
       "3  wikipedia   4777  92517           local  micro  0.483264  0.476987   \n",
       "4       cora   2708   5278          global  macro  0.695142  0.664917   \n",
       "5       cora   2708   5278          global  micro  0.704142  0.688427   \n",
       "6       cora   2708   5278           local  macro  0.292453  0.256135   \n",
       "7       cora   2708   5278           local  micro  0.402367  0.388724   \n",
       "\n",
       "        30%       40%       50%       60%       70%       80%       90%  \\\n",
       "0  0.052619  0.044620  0.039447  0.036514  0.030789  0.027438  0.025785   \n",
       "1  0.470711  0.475667  0.475931  0.476456  0.477871  0.476190  0.472791   \n",
       "2  0.064967  0.040447  0.044950  0.036579  0.033579  0.029248  0.023131   \n",
       "3  0.478382  0.475667  0.483884  0.480293  0.486244  0.478022  0.473488   \n",
       "4  0.662999  0.669191  0.674114  0.676894  0.667904  0.641703  0.605866   \n",
       "5  0.695652  0.689911  0.686461  0.691395  0.676845  0.652819  0.614116   \n",
       "6  0.250830  0.263520  0.254546  0.217255  0.203417  0.196845  0.154591   \n",
       "7  0.379447  0.394659  0.380048  0.370920  0.357082  0.364985  0.346966   \n",
       "\n",
       "            parameters  training_time dynamic_update  num_different_nodes  \\\n",
       "0  [64, 8, 8, 0.25, 4]     604.198201         extend                 1024   \n",
       "1  [64, 8, 8, 0.25, 4]     604.198201         extend                 1024   \n",
       "2  [64, 8, 8, 0.25, 4]     500.435080         extend                 1024   \n",
       "3  [64, 8, 8, 0.25, 4]     500.435080         extend                 1024   \n",
       "4  [64, 8, 8, 0.25, 4]       2.184401          prune                 1024   \n",
       "5  [64, 8, 8, 0.25, 4]       2.184401          prune                 1024   \n",
       "6  [64, 8, 8, 0.25, 4]       0.831088          prune                 1024   \n",
       "7  [64, 8, 8, 0.25, 4]       0.831088          prune                 1024   \n",
       "\n",
       "   num_starting_nodes execution_timestamp  \n",
       "0                1024  05/06/2024 - 13:00  \n",
       "1                1024  05/06/2024 - 13:00  \n",
       "2                1024  05/06/2024 - 13:00  \n",
       "3                1024  05/06/2024 - 13:00  \n",
       "4                1688  05/06/2024 - 12:03  \n",
       "5                1688  05/06/2024 - 12:03  \n",
       "6                1688  05/06/2024 - 12:03  \n",
       "7                1688  05/06/2024 - 12:03  "
      ]
     },
     "execution_count": 11,
     "metadata": {},
     "output_type": "execute_result"
    }
   ],
   "source": [
    "mod_type = 'extend'\n",
    "params = [64, 8, 8, 0.25, 4]\n",
    "\n",
    "results_df = results_output_func(initial_graph, mod_type, mod_nodes_num, params, groups_dict, graphs_list)\n",
    "results_df.head(8)"
   ]
  },
  {
   "cell_type": "code",
   "execution_count": 12,
   "metadata": {},
   "outputs": [
    {
     "name": "stdout",
     "output_type": "stream",
     "text": [
      "** Modification type: prune for 1024 nodes **\n",
      "Graphs:\n",
      "(3753, 63531) (4777, 92517)\n",
      "1024\n",
      "Computing transition probabilities...\n",
      "Random walks in progress...\n"
     ]
    },
    {
     "data": {
      "application/vnd.jupyter.widget-view+json": {
       "model_id": "1e829f33d0884da4af82f18a59cc0c1a",
       "version_major": 2,
       "version_minor": 0
      },
      "text/plain": [
       "  0%|          | 0/64 [00:00<?, ?it/s]"
      ]
     },
     "metadata": {},
     "output_type": "display_data"
    },
    {
     "name": "stdout",
     "output_type": "stream",
     "text": [
      "Fitting model...\n",
      "Computing transition probabilities...\n",
      "Random walks in progress...\n"
     ]
    },
    {
     "data": {
      "application/vnd.jupyter.widget-view+json": {
       "model_id": "d1fb490227704894b5e82c3b2cc1a857",
       "version_major": 2,
       "version_minor": 0
      },
      "text/plain": [
       "  0%|          | 0/64 [00:00<?, ?it/s]"
      ]
     },
     "metadata": {},
     "output_type": "display_data"
    },
    {
     "name": "stdout",
     "output_type": "stream",
     "text": [
      "Fitting model...\n",
      "Computing transition probabilities...\n",
      "Random walks in progress...\n"
     ]
    },
    {
     "data": {
      "application/vnd.jupyter.widget-view+json": {
       "model_id": "395e1c5be54b4d73be4ad586ba639e8a",
       "version_major": 2,
       "version_minor": 0
      },
      "text/plain": [
       "  0%|          | 0/64 [00:00<?, ?it/s]"
      ]
     },
     "metadata": {},
     "output_type": "display_data"
    },
    {
     "name": "stdout",
     "output_type": "stream",
     "text": [
      "Fitting model...\n"
     ]
    },
    {
     "data": {
      "text/html": [
       "<div>\n",
       "<style scoped>\n",
       "    .dataframe tbody tr th:only-of-type {\n",
       "        vertical-align: middle;\n",
       "    }\n",
       "\n",
       "    .dataframe tbody tr th {\n",
       "        vertical-align: top;\n",
       "    }\n",
       "\n",
       "    .dataframe thead th {\n",
       "        text-align: right;\n",
       "    }\n",
       "</style>\n",
       "<table border=\"1\" class=\"dataframe\">\n",
       "  <thead>\n",
       "    <tr style=\"text-align: right;\">\n",
       "      <th></th>\n",
       "      <th>dataset</th>\n",
       "      <th>nodes</th>\n",
       "      <th>edges</th>\n",
       "      <th>retraining_type</th>\n",
       "      <th>metric</th>\n",
       "      <th>10%</th>\n",
       "      <th>20%</th>\n",
       "      <th>30%</th>\n",
       "      <th>40%</th>\n",
       "      <th>50%</th>\n",
       "      <th>60%</th>\n",
       "      <th>70%</th>\n",
       "      <th>80%</th>\n",
       "      <th>90%</th>\n",
       "      <th>parameters</th>\n",
       "      <th>training_time</th>\n",
       "      <th>dynamic_update</th>\n",
       "      <th>num_different_nodes</th>\n",
       "      <th>num_starting_nodes</th>\n",
       "      <th>execution_timestamp</th>\n",
       "    </tr>\n",
       "  </thead>\n",
       "  <tbody>\n",
       "    <tr>\n",
       "      <th>0</th>\n",
       "      <td>wikipedia</td>\n",
       "      <td>4777</td>\n",
       "      <td>92517</td>\n",
       "      <td>global</td>\n",
       "      <td>macro</td>\n",
       "      <td>0.045538</td>\n",
       "      <td>0.037732</td>\n",
       "      <td>0.051527</td>\n",
       "      <td>0.044686</td>\n",
       "      <td>0.038411</td>\n",
       "      <td>0.031108</td>\n",
       "      <td>0.029101</td>\n",
       "      <td>0.026497</td>\n",
       "      <td>0.023757</td>\n",
       "      <td>[64, 8, 8, 0.25, 4]</td>\n",
       "      <td>373.358892</td>\n",
       "      <td>prune</td>\n",
       "      <td>1024</td>\n",
       "      <td>4245</td>\n",
       "      <td>05/06/2024 - 13:21</td>\n",
       "    </tr>\n",
       "    <tr>\n",
       "      <th>1</th>\n",
       "      <td>wikipedia</td>\n",
       "      <td>4777</td>\n",
       "      <td>92517</td>\n",
       "      <td>global</td>\n",
       "      <td>micro</td>\n",
       "      <td>0.446809</td>\n",
       "      <td>0.466045</td>\n",
       "      <td>0.459147</td>\n",
       "      <td>0.454061</td>\n",
       "      <td>0.464571</td>\n",
       "      <td>0.470693</td>\n",
       "      <td>0.471842</td>\n",
       "      <td>0.472194</td>\n",
       "      <td>0.468028</td>\n",
       "      <td>[64, 8, 8, 0.25, 4]</td>\n",
       "      <td>373.358892</td>\n",
       "      <td>prune</td>\n",
       "      <td>1024</td>\n",
       "      <td>4245</td>\n",
       "      <td>05/06/2024 - 13:21</td>\n",
       "    </tr>\n",
       "    <tr>\n",
       "      <th>2</th>\n",
       "      <td>wikipedia</td>\n",
       "      <td>4777</td>\n",
       "      <td>92517</td>\n",
       "      <td>local</td>\n",
       "      <td>macro</td>\n",
       "      <td>0.029511</td>\n",
       "      <td>0.029614</td>\n",
       "      <td>0.027793</td>\n",
       "      <td>0.025567</td>\n",
       "      <td>0.024318</td>\n",
       "      <td>0.021647</td>\n",
       "      <td>0.021663</td>\n",
       "      <td>0.020931</td>\n",
       "      <td>0.020462</td>\n",
       "      <td>[64, 8, 8, 0.25, 4]</td>\n",
       "      <td>293.332361</td>\n",
       "      <td>prune</td>\n",
       "      <td>1024</td>\n",
       "      <td>4245</td>\n",
       "      <td>05/06/2024 - 13:21</td>\n",
       "    </tr>\n",
       "    <tr>\n",
       "      <th>3</th>\n",
       "      <td>wikipedia</td>\n",
       "      <td>4777</td>\n",
       "      <td>92517</td>\n",
       "      <td>local</td>\n",
       "      <td>micro</td>\n",
       "      <td>0.417553</td>\n",
       "      <td>0.450067</td>\n",
       "      <td>0.457371</td>\n",
       "      <td>0.460053</td>\n",
       "      <td>0.465104</td>\n",
       "      <td>0.468028</td>\n",
       "      <td>0.469939</td>\n",
       "      <td>0.470862</td>\n",
       "      <td>0.464476</td>\n",
       "      <td>[64, 8, 8, 0.25, 4]</td>\n",
       "      <td>293.332361</td>\n",
       "      <td>prune</td>\n",
       "      <td>1024</td>\n",
       "      <td>4245</td>\n",
       "      <td>05/06/2024 - 13:21</td>\n",
       "    </tr>\n",
       "    <tr>\n",
       "      <th>4</th>\n",
       "      <td>wikipedia</td>\n",
       "      <td>4777</td>\n",
       "      <td>92517</td>\n",
       "      <td>global</td>\n",
       "      <td>macro</td>\n",
       "      <td>0.081872</td>\n",
       "      <td>0.049830</td>\n",
       "      <td>0.052619</td>\n",
       "      <td>0.044620</td>\n",
       "      <td>0.039447</td>\n",
       "      <td>0.036514</td>\n",
       "      <td>0.030789</td>\n",
       "      <td>0.027438</td>\n",
       "      <td>0.025785</td>\n",
       "      <td>[64, 8, 8, 0.25, 4]</td>\n",
       "      <td>604.198201</td>\n",
       "      <td>extend</td>\n",
       "      <td>1024</td>\n",
       "      <td>1024</td>\n",
       "      <td>05/06/2024 - 13:00</td>\n",
       "    </tr>\n",
       "    <tr>\n",
       "      <th>5</th>\n",
       "      <td>wikipedia</td>\n",
       "      <td>4777</td>\n",
       "      <td>92517</td>\n",
       "      <td>global</td>\n",
       "      <td>micro</td>\n",
       "      <td>0.491632</td>\n",
       "      <td>0.472803</td>\n",
       "      <td>0.470711</td>\n",
       "      <td>0.475667</td>\n",
       "      <td>0.475931</td>\n",
       "      <td>0.476456</td>\n",
       "      <td>0.477871</td>\n",
       "      <td>0.476190</td>\n",
       "      <td>0.472791</td>\n",
       "      <td>[64, 8, 8, 0.25, 4]</td>\n",
       "      <td>604.198201</td>\n",
       "      <td>extend</td>\n",
       "      <td>1024</td>\n",
       "      <td>1024</td>\n",
       "      <td>05/06/2024 - 13:00</td>\n",
       "    </tr>\n",
       "    <tr>\n",
       "      <th>6</th>\n",
       "      <td>wikipedia</td>\n",
       "      <td>4777</td>\n",
       "      <td>92517</td>\n",
       "      <td>local</td>\n",
       "      <td>macro</td>\n",
       "      <td>0.084981</td>\n",
       "      <td>0.061396</td>\n",
       "      <td>0.064967</td>\n",
       "      <td>0.040447</td>\n",
       "      <td>0.044950</td>\n",
       "      <td>0.036579</td>\n",
       "      <td>0.033579</td>\n",
       "      <td>0.029248</td>\n",
       "      <td>0.023131</td>\n",
       "      <td>[64, 8, 8, 0.25, 4]</td>\n",
       "      <td>500.435080</td>\n",
       "      <td>extend</td>\n",
       "      <td>1024</td>\n",
       "      <td>1024</td>\n",
       "      <td>05/06/2024 - 13:00</td>\n",
       "    </tr>\n",
       "    <tr>\n",
       "      <th>7</th>\n",
       "      <td>wikipedia</td>\n",
       "      <td>4777</td>\n",
       "      <td>92517</td>\n",
       "      <td>local</td>\n",
       "      <td>micro</td>\n",
       "      <td>0.483264</td>\n",
       "      <td>0.476987</td>\n",
       "      <td>0.478382</td>\n",
       "      <td>0.475667</td>\n",
       "      <td>0.483884</td>\n",
       "      <td>0.480293</td>\n",
       "      <td>0.486244</td>\n",
       "      <td>0.478022</td>\n",
       "      <td>0.473488</td>\n",
       "      <td>[64, 8, 8, 0.25, 4]</td>\n",
       "      <td>500.435080</td>\n",
       "      <td>extend</td>\n",
       "      <td>1024</td>\n",
       "      <td>1024</td>\n",
       "      <td>05/06/2024 - 13:00</td>\n",
       "    </tr>\n",
       "  </tbody>\n",
       "</table>\n",
       "</div>"
      ],
      "text/plain": [
       "     dataset  nodes  edges retraining_type metric       10%       20%  \\\n",
       "0  wikipedia   4777  92517          global  macro  0.045538  0.037732   \n",
       "1  wikipedia   4777  92517          global  micro  0.446809  0.466045   \n",
       "2  wikipedia   4777  92517           local  macro  0.029511  0.029614   \n",
       "3  wikipedia   4777  92517           local  micro  0.417553  0.450067   \n",
       "4  wikipedia   4777  92517          global  macro  0.081872  0.049830   \n",
       "5  wikipedia   4777  92517          global  micro  0.491632  0.472803   \n",
       "6  wikipedia   4777  92517           local  macro  0.084981  0.061396   \n",
       "7  wikipedia   4777  92517           local  micro  0.483264  0.476987   \n",
       "\n",
       "        30%       40%       50%       60%       70%       80%       90%  \\\n",
       "0  0.051527  0.044686  0.038411  0.031108  0.029101  0.026497  0.023757   \n",
       "1  0.459147  0.454061  0.464571  0.470693  0.471842  0.472194  0.468028   \n",
       "2  0.027793  0.025567  0.024318  0.021647  0.021663  0.020931  0.020462   \n",
       "3  0.457371  0.460053  0.465104  0.468028  0.469939  0.470862  0.464476   \n",
       "4  0.052619  0.044620  0.039447  0.036514  0.030789  0.027438  0.025785   \n",
       "5  0.470711  0.475667  0.475931  0.476456  0.477871  0.476190  0.472791   \n",
       "6  0.064967  0.040447  0.044950  0.036579  0.033579  0.029248  0.023131   \n",
       "7  0.478382  0.475667  0.483884  0.480293  0.486244  0.478022  0.473488   \n",
       "\n",
       "            parameters  training_time dynamic_update  num_different_nodes  \\\n",
       "0  [64, 8, 8, 0.25, 4]     373.358892          prune                 1024   \n",
       "1  [64, 8, 8, 0.25, 4]     373.358892          prune                 1024   \n",
       "2  [64, 8, 8, 0.25, 4]     293.332361          prune                 1024   \n",
       "3  [64, 8, 8, 0.25, 4]     293.332361          prune                 1024   \n",
       "4  [64, 8, 8, 0.25, 4]     604.198201         extend                 1024   \n",
       "5  [64, 8, 8, 0.25, 4]     604.198201         extend                 1024   \n",
       "6  [64, 8, 8, 0.25, 4]     500.435080         extend                 1024   \n",
       "7  [64, 8, 8, 0.25, 4]     500.435080         extend                 1024   \n",
       "\n",
       "   num_starting_nodes execution_timestamp  \n",
       "0                4245  05/06/2024 - 13:21  \n",
       "1                4245  05/06/2024 - 13:21  \n",
       "2                4245  05/06/2024 - 13:21  \n",
       "3                4245  05/06/2024 - 13:21  \n",
       "4                1024  05/06/2024 - 13:00  \n",
       "5                1024  05/06/2024 - 13:00  \n",
       "6                1024  05/06/2024 - 13:00  \n",
       "7                1024  05/06/2024 - 13:00  "
      ]
     },
     "execution_count": 12,
     "metadata": {},
     "output_type": "execute_result"
    }
   ],
   "source": [
    "mod_type = 'prune'\n",
    "params = [64, 8, 8, 0.25, 4]\n",
    "\n",
    "\n",
    "results_df = results_output_func(initial_graph, mod_type, mod_nodes_num, params, groups_dict, graphs_list)\n",
    "results_df.head(8)"
   ]
  },
  {
   "cell_type": "markdown",
   "metadata": {},
   "source": [
    "### Grid search"
   ]
  },
  {
   "cell_type": "code",
   "execution_count": null,
   "metadata": {
    "tags": []
   },
   "outputs": [
    {
     "name": "stderr",
     "output_type": "stream",
     "text": [
      "  0%|          | 0/1 [00:00<?, ?it/s]"
     ]
    },
    {
     "name": "stdout",
     "output_type": "stream",
     "text": [
      "** Modification type: prune for 512 nodes **\n",
      "Graphs:\n",
      "(4265, 76411) (4777, 92517)\n",
      "Computing transition probabilities...\n",
      "Random walks in progress...\n"
     ]
    }
   ],
   "source": [
    "parameter_combinations = node2vec_configs()\n",
    "\n",
    "for params in tqdm(parameter_combinations):\n",
    "    # for mod_type in ['extend', 'prune']:\n",
    "    for mod_type in ['prune']:\n",
    "        results_df = results_output_func(initial_graph, mod_type, mod_nodes_num, params, groups_dict, graphs_list)"
   ]
  },
  {
   "cell_type": "code",
   "execution_count": null,
   "metadata": {},
   "outputs": [],
   "source": []
  },
  {
   "cell_type": "code",
   "execution_count": null,
   "metadata": {},
   "outputs": [],
   "source": []
  },
  {
   "cell_type": "code",
   "execution_count": null,
   "metadata": {},
   "outputs": [],
   "source": []
  },
  {
   "cell_type": "code",
   "execution_count": null,
   "metadata": {},
   "outputs": [],
   "source": []
  },
  {
   "cell_type": "markdown",
   "metadata": {},
   "source": [
    "## PPI"
   ]
  },
  {
   "cell_type": "code",
   "execution_count": 7,
   "metadata": {
    "tags": []
   },
   "outputs": [],
   "source": [
    "initial_graph, group_df = mat_load_func('datasets/PPI/PPI.mat')\n",
    "initial_graph.name = 'PPI'"
   ]
  },
  {
   "cell_type": "code",
   "execution_count": 8,
   "metadata": {
    "tags": []
   },
   "outputs": [
    {
     "data": {
      "text/plain": [
       "(3890, 38739)"
      ]
     },
     "execution_count": 8,
     "metadata": {},
     "output_type": "execute_result"
    }
   ],
   "source": [
    "nodes_edges_func(initial_graph)"
   ]
  },
  {
   "cell_type": "code",
   "execution_count": 5,
   "metadata": {
    "tags": []
   },
   "outputs": [
    {
     "name": "stdout",
     "output_type": "stream",
     "text": [
      "Generating list of dynamic graphs:\n"
     ]
    },
    {
     "name": "stderr",
     "output_type": "stream",
     "text": [
      "100%|██████████| 512/512 [06:13<00:00,  1.37it/s]\n"
     ]
    }
   ],
   "source": [
    "groups_dict = groups_assign(initial_graph, initial_graph, group_df)\n",
    "\n",
    "mod_nodes_num = 512\n",
    "graphs_list = dynamic_graph_gen(initial_graph, mod_nodes_num)"
   ]
  },
  {
   "cell_type": "markdown",
   "metadata": {
    "user_expressions": []
   },
   "source": [
    "### Centrality"
   ]
  },
  {
   "cell_type": "code",
   "execution_count": null,
   "metadata": {
    "tags": []
   },
   "outputs": [
    {
     "name": "stdout",
     "output_type": "stream",
     "text": [
      "Generating list of dynamic graphs:\n"
     ]
    },
    {
     "name": "stderr",
     "output_type": "stream",
     "text": [
      " 83%|████████████████████████████▉      | 423/512 [11:55:15<4:54:58, 198.86s/it]"
     ]
    }
   ],
   "source": [
    "groups_dict = groups_assign(initial_graph, initial_graph, group_df)\n",
    "\n",
    "mod_nodes_num = 512\n",
    "removal_process = 'betweenness_centrality'\n",
    "graphs_list = dynamic_graph_gen(initial_graph, mod_nodes_num, removal_process=removal_process, save_bool=True)"
   ]
  },
  {
   "cell_type": "code",
   "execution_count": null,
   "metadata": {
    "tags": []
   },
   "outputs": [],
   "source": [
    "params = (128, 40, 80, 0.25, 1)\n",
    "\n",
    "for mod_type in ['extend', 'prune']:\n",
    "    results_df = results_output_func(initial_graph, mod_type, mod_nodes_num, params, groups_dict, graphs_list, removal_process='betweenness_centrality')"
   ]
  },
  {
   "cell_type": "code",
   "execution_count": null,
   "metadata": {},
   "outputs": [],
   "source": []
  },
  {
   "cell_type": "code",
   "execution_count": null,
   "metadata": {},
   "outputs": [],
   "source": []
  },
  {
   "cell_type": "code",
   "execution_count": null,
   "metadata": {},
   "outputs": [],
   "source": []
  },
  {
   "cell_type": "code",
   "execution_count": 16,
   "metadata": {},
   "outputs": [
    {
     "name": "stdout",
     "output_type": "stream",
     "text": [
      "** Modification type: extend for 1024 nodes **\n",
      "Graphs:\n",
      "(2866, 23359) (3890, 38739)\n",
      "Computing transition probabilities...\n",
      "Random walks in progress...\n"
     ]
    },
    {
     "data": {
      "application/vnd.jupyter.widget-view+json": {
       "model_id": "43710f36f8a54746bf6a998bbf72a776",
       "version_major": 2,
       "version_minor": 0
      },
      "text/plain": [
       "  0%|          | 0/64 [00:00<?, ?it/s]"
      ]
     },
     "metadata": {},
     "output_type": "display_data"
    },
    {
     "name": "stdout",
     "output_type": "stream",
     "text": [
      "Fitting model...\n",
      "Computing transition probabilities...\n",
      "Random walks in progress...\n"
     ]
    },
    {
     "data": {
      "application/vnd.jupyter.widget-view+json": {
       "model_id": "51247f6aecab4a7da36466ed3a0d5e46",
       "version_major": 2,
       "version_minor": 0
      },
      "text/plain": [
       "  0%|          | 0/64 [00:00<?, ?it/s]"
      ]
     },
     "metadata": {},
     "output_type": "display_data"
    },
    {
     "name": "stdout",
     "output_type": "stream",
     "text": [
      "Fitting model...\n",
      "Computing transition probabilities...\n",
      "Random walks in progress...\n"
     ]
    },
    {
     "data": {
      "application/vnd.jupyter.widget-view+json": {
       "model_id": "42604aa629314fa8855f520c16367212",
       "version_major": 2,
       "version_minor": 0
      },
      "text/plain": [
       "  0%|          | 0/8 [00:00<?, ?it/s]"
      ]
     },
     "metadata": {},
     "output_type": "display_data"
    },
    {
     "name": "stdout",
     "output_type": "stream",
     "text": [
      "Fitting model...\n"
     ]
    },
    {
     "data": {
      "text/html": [
       "<div>\n",
       "<style scoped>\n",
       "    .dataframe tbody tr th:only-of-type {\n",
       "        vertical-align: middle;\n",
       "    }\n",
       "\n",
       "    .dataframe tbody tr th {\n",
       "        vertical-align: top;\n",
       "    }\n",
       "\n",
       "    .dataframe thead th {\n",
       "        text-align: right;\n",
       "    }\n",
       "</style>\n",
       "<table border=\"1\" class=\"dataframe\">\n",
       "  <thead>\n",
       "    <tr style=\"text-align: right;\">\n",
       "      <th></th>\n",
       "      <th>dataset</th>\n",
       "      <th>nodes</th>\n",
       "      <th>edges</th>\n",
       "      <th>retraining_type</th>\n",
       "      <th>metric</th>\n",
       "      <th>10%</th>\n",
       "      <th>20%</th>\n",
       "      <th>30%</th>\n",
       "      <th>40%</th>\n",
       "      <th>50%</th>\n",
       "      <th>60%</th>\n",
       "      <th>70%</th>\n",
       "      <th>80%</th>\n",
       "      <th>90%</th>\n",
       "      <th>parameters</th>\n",
       "      <th>training_time</th>\n",
       "      <th>dynamic_update</th>\n",
       "      <th>num_different_nodes</th>\n",
       "      <th>num_starting_nodes</th>\n",
       "      <th>execution_timestamp</th>\n",
       "    </tr>\n",
       "  </thead>\n",
       "  <tbody>\n",
       "    <tr>\n",
       "      <th>0</th>\n",
       "      <td>PPI</td>\n",
       "      <td>3890</td>\n",
       "      <td>38739</td>\n",
       "      <td>global</td>\n",
       "      <td>macro</td>\n",
       "      <td>0.097459</td>\n",
       "      <td>0.092602</td>\n",
       "      <td>0.089124</td>\n",
       "      <td>0.083537</td>\n",
       "      <td>0.082383</td>\n",
       "      <td>0.092120</td>\n",
       "      <td>0.084170</td>\n",
       "      <td>0.080883</td>\n",
       "      <td>0.060841</td>\n",
       "      <td>[64, 8, 8, 0.25, 4]</td>\n",
       "      <td>43.447217</td>\n",
       "      <td>extend</td>\n",
       "      <td>1024</td>\n",
       "      <td>1024</td>\n",
       "      <td>05/06/2024 - 13:36</td>\n",
       "    </tr>\n",
       "    <tr>\n",
       "      <th>1</th>\n",
       "      <td>PPI</td>\n",
       "      <td>3890</td>\n",
       "      <td>38739</td>\n",
       "      <td>global</td>\n",
       "      <td>micro</td>\n",
       "      <td>0.156812</td>\n",
       "      <td>0.149100</td>\n",
       "      <td>0.148116</td>\n",
       "      <td>0.140746</td>\n",
       "      <td>0.135733</td>\n",
       "      <td>0.136675</td>\n",
       "      <td>0.130690</td>\n",
       "      <td>0.128856</td>\n",
       "      <td>0.103113</td>\n",
       "      <td>[64, 8, 8, 0.25, 4]</td>\n",
       "      <td>43.447217</td>\n",
       "      <td>extend</td>\n",
       "      <td>1024</td>\n",
       "      <td>1024</td>\n",
       "      <td>05/06/2024 - 13:36</td>\n",
       "    </tr>\n",
       "    <tr>\n",
       "      <th>2</th>\n",
       "      <td>PPI</td>\n",
       "      <td>3890</td>\n",
       "      <td>38739</td>\n",
       "      <td>local</td>\n",
       "      <td>macro</td>\n",
       "      <td>0.093724</td>\n",
       "      <td>0.107513</td>\n",
       "      <td>0.100109</td>\n",
       "      <td>0.096566</td>\n",
       "      <td>0.093822</td>\n",
       "      <td>0.086901</td>\n",
       "      <td>0.077249</td>\n",
       "      <td>0.069578</td>\n",
       "      <td>0.052015</td>\n",
       "      <td>[64, 8, 8, 0.25, 4]</td>\n",
       "      <td>38.362036</td>\n",
       "      <td>extend</td>\n",
       "      <td>1024</td>\n",
       "      <td>1024</td>\n",
       "      <td>05/06/2024 - 13:36</td>\n",
       "    </tr>\n",
       "    <tr>\n",
       "      <th>3</th>\n",
       "      <td>PPI</td>\n",
       "      <td>3890</td>\n",
       "      <td>38739</td>\n",
       "      <td>local</td>\n",
       "      <td>micro</td>\n",
       "      <td>0.159383</td>\n",
       "      <td>0.161954</td>\n",
       "      <td>0.161815</td>\n",
       "      <td>0.148458</td>\n",
       "      <td>0.144473</td>\n",
       "      <td>0.135390</td>\n",
       "      <td>0.119310</td>\n",
       "      <td>0.112147</td>\n",
       "      <td>0.091688</td>\n",
       "      <td>[64, 8, 8, 0.25, 4]</td>\n",
       "      <td>38.362036</td>\n",
       "      <td>extend</td>\n",
       "      <td>1024</td>\n",
       "      <td>1024</td>\n",
       "      <td>05/06/2024 - 13:36</td>\n",
       "    </tr>\n",
       "    <tr>\n",
       "      <th>4</th>\n",
       "      <td>wikipedia</td>\n",
       "      <td>4777</td>\n",
       "      <td>92517</td>\n",
       "      <td>global</td>\n",
       "      <td>macro</td>\n",
       "      <td>0.045538</td>\n",
       "      <td>0.037732</td>\n",
       "      <td>0.051527</td>\n",
       "      <td>0.044686</td>\n",
       "      <td>0.038411</td>\n",
       "      <td>0.031108</td>\n",
       "      <td>0.029101</td>\n",
       "      <td>0.026497</td>\n",
       "      <td>0.023757</td>\n",
       "      <td>[64, 8, 8, 0.25, 4]</td>\n",
       "      <td>373.358892</td>\n",
       "      <td>prune</td>\n",
       "      <td>1024</td>\n",
       "      <td>4245</td>\n",
       "      <td>05/06/2024 - 13:21</td>\n",
       "    </tr>\n",
       "    <tr>\n",
       "      <th>5</th>\n",
       "      <td>wikipedia</td>\n",
       "      <td>4777</td>\n",
       "      <td>92517</td>\n",
       "      <td>global</td>\n",
       "      <td>micro</td>\n",
       "      <td>0.446809</td>\n",
       "      <td>0.466045</td>\n",
       "      <td>0.459147</td>\n",
       "      <td>0.454061</td>\n",
       "      <td>0.464571</td>\n",
       "      <td>0.470693</td>\n",
       "      <td>0.471842</td>\n",
       "      <td>0.472194</td>\n",
       "      <td>0.468028</td>\n",
       "      <td>[64, 8, 8, 0.25, 4]</td>\n",
       "      <td>373.358892</td>\n",
       "      <td>prune</td>\n",
       "      <td>1024</td>\n",
       "      <td>4245</td>\n",
       "      <td>05/06/2024 - 13:21</td>\n",
       "    </tr>\n",
       "    <tr>\n",
       "      <th>6</th>\n",
       "      <td>wikipedia</td>\n",
       "      <td>4777</td>\n",
       "      <td>92517</td>\n",
       "      <td>local</td>\n",
       "      <td>macro</td>\n",
       "      <td>0.029511</td>\n",
       "      <td>0.029614</td>\n",
       "      <td>0.027793</td>\n",
       "      <td>0.025567</td>\n",
       "      <td>0.024318</td>\n",
       "      <td>0.021647</td>\n",
       "      <td>0.021663</td>\n",
       "      <td>0.020931</td>\n",
       "      <td>0.020462</td>\n",
       "      <td>[64, 8, 8, 0.25, 4]</td>\n",
       "      <td>293.332361</td>\n",
       "      <td>prune</td>\n",
       "      <td>1024</td>\n",
       "      <td>4245</td>\n",
       "      <td>05/06/2024 - 13:21</td>\n",
       "    </tr>\n",
       "    <tr>\n",
       "      <th>7</th>\n",
       "      <td>wikipedia</td>\n",
       "      <td>4777</td>\n",
       "      <td>92517</td>\n",
       "      <td>local</td>\n",
       "      <td>micro</td>\n",
       "      <td>0.417553</td>\n",
       "      <td>0.450067</td>\n",
       "      <td>0.457371</td>\n",
       "      <td>0.460053</td>\n",
       "      <td>0.465104</td>\n",
       "      <td>0.468028</td>\n",
       "      <td>0.469939</td>\n",
       "      <td>0.470862</td>\n",
       "      <td>0.464476</td>\n",
       "      <td>[64, 8, 8, 0.25, 4]</td>\n",
       "      <td>293.332361</td>\n",
       "      <td>prune</td>\n",
       "      <td>1024</td>\n",
       "      <td>4245</td>\n",
       "      <td>05/06/2024 - 13:21</td>\n",
       "    </tr>\n",
       "  </tbody>\n",
       "</table>\n",
       "</div>"
      ],
      "text/plain": [
       "     dataset  nodes  edges retraining_type metric       10%       20%  \\\n",
       "0        PPI   3890  38739          global  macro  0.097459  0.092602   \n",
       "1        PPI   3890  38739          global  micro  0.156812  0.149100   \n",
       "2        PPI   3890  38739           local  macro  0.093724  0.107513   \n",
       "3        PPI   3890  38739           local  micro  0.159383  0.161954   \n",
       "4  wikipedia   4777  92517          global  macro  0.045538  0.037732   \n",
       "5  wikipedia   4777  92517          global  micro  0.446809  0.466045   \n",
       "6  wikipedia   4777  92517           local  macro  0.029511  0.029614   \n",
       "7  wikipedia   4777  92517           local  micro  0.417553  0.450067   \n",
       "\n",
       "        30%       40%       50%       60%       70%       80%       90%  \\\n",
       "0  0.089124  0.083537  0.082383  0.092120  0.084170  0.080883  0.060841   \n",
       "1  0.148116  0.140746  0.135733  0.136675  0.130690  0.128856  0.103113   \n",
       "2  0.100109  0.096566  0.093822  0.086901  0.077249  0.069578  0.052015   \n",
       "3  0.161815  0.148458  0.144473  0.135390  0.119310  0.112147  0.091688   \n",
       "4  0.051527  0.044686  0.038411  0.031108  0.029101  0.026497  0.023757   \n",
       "5  0.459147  0.454061  0.464571  0.470693  0.471842  0.472194  0.468028   \n",
       "6  0.027793  0.025567  0.024318  0.021647  0.021663  0.020931  0.020462   \n",
       "7  0.457371  0.460053  0.465104  0.468028  0.469939  0.470862  0.464476   \n",
       "\n",
       "            parameters  training_time dynamic_update  num_different_nodes  \\\n",
       "0  [64, 8, 8, 0.25, 4]      43.447217         extend                 1024   \n",
       "1  [64, 8, 8, 0.25, 4]      43.447217         extend                 1024   \n",
       "2  [64, 8, 8, 0.25, 4]      38.362036         extend                 1024   \n",
       "3  [64, 8, 8, 0.25, 4]      38.362036         extend                 1024   \n",
       "4  [64, 8, 8, 0.25, 4]     373.358892          prune                 1024   \n",
       "5  [64, 8, 8, 0.25, 4]     373.358892          prune                 1024   \n",
       "6  [64, 8, 8, 0.25, 4]     293.332361          prune                 1024   \n",
       "7  [64, 8, 8, 0.25, 4]     293.332361          prune                 1024   \n",
       "\n",
       "   num_starting_nodes execution_timestamp  \n",
       "0                1024  05/06/2024 - 13:36  \n",
       "1                1024  05/06/2024 - 13:36  \n",
       "2                1024  05/06/2024 - 13:36  \n",
       "3                1024  05/06/2024 - 13:36  \n",
       "4                4245  05/06/2024 - 13:21  \n",
       "5                4245  05/06/2024 - 13:21  \n",
       "6                4245  05/06/2024 - 13:21  \n",
       "7                4245  05/06/2024 - 13:21  "
      ]
     },
     "execution_count": 16,
     "metadata": {},
     "output_type": "execute_result"
    }
   ],
   "source": [
    "mod_type = 'extend'\n",
    "params = [64, 8, 8, 0.25, 4]\n",
    "\n",
    "results_df = results_output_func(initial_graph, mod_type, mod_nodes_num, params, groups_dict, graphs_list)\n",
    "results_df.head(8)"
   ]
  },
  {
   "cell_type": "code",
   "execution_count": null,
   "metadata": {},
   "outputs": [],
   "source": []
  },
  {
   "cell_type": "code",
   "execution_count": 17,
   "metadata": {},
   "outputs": [
    {
     "name": "stdout",
     "output_type": "stream",
     "text": [
      "** Modification type: prune for 1024 nodes **\n",
      "Graphs:\n",
      "(2866, 23359) (3890, 38739)\n",
      "1024\n",
      "Computing transition probabilities...\n",
      "Random walks in progress...\n"
     ]
    },
    {
     "data": {
      "application/vnd.jupyter.widget-view+json": {
       "model_id": "dfe8090d6fa64102844fde8d39c2c49b",
       "version_major": 2,
       "version_minor": 0
      },
      "text/plain": [
       "  0%|          | 0/64 [00:00<?, ?it/s]"
      ]
     },
     "metadata": {},
     "output_type": "display_data"
    },
    {
     "name": "stdout",
     "output_type": "stream",
     "text": [
      "Fitting model...\n",
      "Computing transition probabilities...\n",
      "Random walks in progress...\n"
     ]
    },
    {
     "data": {
      "application/vnd.jupyter.widget-view+json": {
       "model_id": "2a1b76f5fba140e3bb27e1044d88ebc4",
       "version_major": 2,
       "version_minor": 0
      },
      "text/plain": [
       "  0%|          | 0/64 [00:00<?, ?it/s]"
      ]
     },
     "metadata": {},
     "output_type": "display_data"
    },
    {
     "name": "stdout",
     "output_type": "stream",
     "text": [
      "Fitting model...\n",
      "Computing transition probabilities...\n",
      "Random walks in progress...\n"
     ]
    },
    {
     "data": {
      "application/vnd.jupyter.widget-view+json": {
       "model_id": "9f08b4ea25484aac86b281237e63ed16",
       "version_major": 2,
       "version_minor": 0
      },
      "text/plain": [
       "  0%|          | 0/64 [00:00<?, ?it/s]"
      ]
     },
     "metadata": {},
     "output_type": "display_data"
    },
    {
     "name": "stdout",
     "output_type": "stream",
     "text": [
      "Fitting model...\n"
     ]
    },
    {
     "data": {
      "text/html": [
       "<div>\n",
       "<style scoped>\n",
       "    .dataframe tbody tr th:only-of-type {\n",
       "        vertical-align: middle;\n",
       "    }\n",
       "\n",
       "    .dataframe tbody tr th {\n",
       "        vertical-align: top;\n",
       "    }\n",
       "\n",
       "    .dataframe thead th {\n",
       "        text-align: right;\n",
       "    }\n",
       "</style>\n",
       "<table border=\"1\" class=\"dataframe\">\n",
       "  <thead>\n",
       "    <tr style=\"text-align: right;\">\n",
       "      <th></th>\n",
       "      <th>dataset</th>\n",
       "      <th>nodes</th>\n",
       "      <th>edges</th>\n",
       "      <th>retraining_type</th>\n",
       "      <th>metric</th>\n",
       "      <th>10%</th>\n",
       "      <th>20%</th>\n",
       "      <th>30%</th>\n",
       "      <th>40%</th>\n",
       "      <th>50%</th>\n",
       "      <th>60%</th>\n",
       "      <th>70%</th>\n",
       "      <th>80%</th>\n",
       "      <th>90%</th>\n",
       "      <th>parameters</th>\n",
       "      <th>training_time</th>\n",
       "      <th>dynamic_update</th>\n",
       "      <th>num_different_nodes</th>\n",
       "      <th>num_starting_nodes</th>\n",
       "      <th>execution_timestamp</th>\n",
       "    </tr>\n",
       "  </thead>\n",
       "  <tbody>\n",
       "    <tr>\n",
       "      <th>0</th>\n",
       "      <td>PPI</td>\n",
       "      <td>3890</td>\n",
       "      <td>38739</td>\n",
       "      <td>global</td>\n",
       "      <td>macro</td>\n",
       "      <td>0.087480</td>\n",
       "      <td>0.078519</td>\n",
       "      <td>0.083875</td>\n",
       "      <td>0.081866</td>\n",
       "      <td>0.079652</td>\n",
       "      <td>0.081975</td>\n",
       "      <td>0.079652</td>\n",
       "      <td>0.068709</td>\n",
       "      <td>0.054841</td>\n",
       "      <td>[64, 8, 8, 0.25, 4]</td>\n",
       "      <td>23.138397</td>\n",
       "      <td>prune</td>\n",
       "      <td>1024</td>\n",
       "      <td>2746</td>\n",
       "      <td>05/06/2024 - 13:38</td>\n",
       "    </tr>\n",
       "    <tr>\n",
       "      <th>1</th>\n",
       "      <td>PPI</td>\n",
       "      <td>3890</td>\n",
       "      <td>38739</td>\n",
       "      <td>global</td>\n",
       "      <td>micro</td>\n",
       "      <td>0.142857</td>\n",
       "      <td>0.125436</td>\n",
       "      <td>0.137209</td>\n",
       "      <td>0.129904</td>\n",
       "      <td>0.124913</td>\n",
       "      <td>0.131977</td>\n",
       "      <td>0.130045</td>\n",
       "      <td>0.118622</td>\n",
       "      <td>0.098062</td>\n",
       "      <td>[64, 8, 8, 0.25, 4]</td>\n",
       "      <td>23.138397</td>\n",
       "      <td>prune</td>\n",
       "      <td>1024</td>\n",
       "      <td>2746</td>\n",
       "      <td>05/06/2024 - 13:38</td>\n",
       "    </tr>\n",
       "    <tr>\n",
       "      <th>2</th>\n",
       "      <td>PPI</td>\n",
       "      <td>3890</td>\n",
       "      <td>38739</td>\n",
       "      <td>local</td>\n",
       "      <td>macro</td>\n",
       "      <td>0.033213</td>\n",
       "      <td>0.037811</td>\n",
       "      <td>0.035759</td>\n",
       "      <td>0.031038</td>\n",
       "      <td>0.030844</td>\n",
       "      <td>0.025366</td>\n",
       "      <td>0.027298</td>\n",
       "      <td>0.017826</td>\n",
       "      <td>0.012040</td>\n",
       "      <td>[64, 8, 8, 0.25, 4]</td>\n",
       "      <td>18.799618</td>\n",
       "      <td>prune</td>\n",
       "      <td>1024</td>\n",
       "      <td>2746</td>\n",
       "      <td>05/06/2024 - 13:38</td>\n",
       "    </tr>\n",
       "    <tr>\n",
       "      <th>3</th>\n",
       "      <td>PPI</td>\n",
       "      <td>3890</td>\n",
       "      <td>38739</td>\n",
       "      <td>local</td>\n",
       "      <td>micro</td>\n",
       "      <td>0.073171</td>\n",
       "      <td>0.074913</td>\n",
       "      <td>0.065116</td>\n",
       "      <td>0.067132</td>\n",
       "      <td>0.069784</td>\n",
       "      <td>0.064535</td>\n",
       "      <td>0.063279</td>\n",
       "      <td>0.043611</td>\n",
       "      <td>0.050000</td>\n",
       "      <td>[64, 8, 8, 0.25, 4]</td>\n",
       "      <td>18.799618</td>\n",
       "      <td>prune</td>\n",
       "      <td>1024</td>\n",
       "      <td>2746</td>\n",
       "      <td>05/06/2024 - 13:38</td>\n",
       "    </tr>\n",
       "    <tr>\n",
       "      <th>4</th>\n",
       "      <td>PPI</td>\n",
       "      <td>3890</td>\n",
       "      <td>38739</td>\n",
       "      <td>global</td>\n",
       "      <td>macro</td>\n",
       "      <td>0.097459</td>\n",
       "      <td>0.092602</td>\n",
       "      <td>0.089124</td>\n",
       "      <td>0.083537</td>\n",
       "      <td>0.082383</td>\n",
       "      <td>0.092120</td>\n",
       "      <td>0.084170</td>\n",
       "      <td>0.080883</td>\n",
       "      <td>0.060841</td>\n",
       "      <td>[64, 8, 8, 0.25, 4]</td>\n",
       "      <td>43.447217</td>\n",
       "      <td>extend</td>\n",
       "      <td>1024</td>\n",
       "      <td>1024</td>\n",
       "      <td>05/06/2024 - 13:36</td>\n",
       "    </tr>\n",
       "    <tr>\n",
       "      <th>5</th>\n",
       "      <td>PPI</td>\n",
       "      <td>3890</td>\n",
       "      <td>38739</td>\n",
       "      <td>global</td>\n",
       "      <td>micro</td>\n",
       "      <td>0.156812</td>\n",
       "      <td>0.149100</td>\n",
       "      <td>0.148116</td>\n",
       "      <td>0.140746</td>\n",
       "      <td>0.135733</td>\n",
       "      <td>0.136675</td>\n",
       "      <td>0.130690</td>\n",
       "      <td>0.128856</td>\n",
       "      <td>0.103113</td>\n",
       "      <td>[64, 8, 8, 0.25, 4]</td>\n",
       "      <td>43.447217</td>\n",
       "      <td>extend</td>\n",
       "      <td>1024</td>\n",
       "      <td>1024</td>\n",
       "      <td>05/06/2024 - 13:36</td>\n",
       "    </tr>\n",
       "    <tr>\n",
       "      <th>6</th>\n",
       "      <td>PPI</td>\n",
       "      <td>3890</td>\n",
       "      <td>38739</td>\n",
       "      <td>local</td>\n",
       "      <td>macro</td>\n",
       "      <td>0.093724</td>\n",
       "      <td>0.107513</td>\n",
       "      <td>0.100109</td>\n",
       "      <td>0.096566</td>\n",
       "      <td>0.093822</td>\n",
       "      <td>0.086901</td>\n",
       "      <td>0.077249</td>\n",
       "      <td>0.069578</td>\n",
       "      <td>0.052015</td>\n",
       "      <td>[64, 8, 8, 0.25, 4]</td>\n",
       "      <td>38.362036</td>\n",
       "      <td>extend</td>\n",
       "      <td>1024</td>\n",
       "      <td>1024</td>\n",
       "      <td>05/06/2024 - 13:36</td>\n",
       "    </tr>\n",
       "    <tr>\n",
       "      <th>7</th>\n",
       "      <td>PPI</td>\n",
       "      <td>3890</td>\n",
       "      <td>38739</td>\n",
       "      <td>local</td>\n",
       "      <td>micro</td>\n",
       "      <td>0.159383</td>\n",
       "      <td>0.161954</td>\n",
       "      <td>0.161815</td>\n",
       "      <td>0.148458</td>\n",
       "      <td>0.144473</td>\n",
       "      <td>0.135390</td>\n",
       "      <td>0.119310</td>\n",
       "      <td>0.112147</td>\n",
       "      <td>0.091688</td>\n",
       "      <td>[64, 8, 8, 0.25, 4]</td>\n",
       "      <td>38.362036</td>\n",
       "      <td>extend</td>\n",
       "      <td>1024</td>\n",
       "      <td>1024</td>\n",
       "      <td>05/06/2024 - 13:36</td>\n",
       "    </tr>\n",
       "  </tbody>\n",
       "</table>\n",
       "</div>"
      ],
      "text/plain": [
       "  dataset  nodes  edges retraining_type metric       10%       20%       30%  \\\n",
       "0     PPI   3890  38739          global  macro  0.087480  0.078519  0.083875   \n",
       "1     PPI   3890  38739          global  micro  0.142857  0.125436  0.137209   \n",
       "2     PPI   3890  38739           local  macro  0.033213  0.037811  0.035759   \n",
       "3     PPI   3890  38739           local  micro  0.073171  0.074913  0.065116   \n",
       "4     PPI   3890  38739          global  macro  0.097459  0.092602  0.089124   \n",
       "5     PPI   3890  38739          global  micro  0.156812  0.149100  0.148116   \n",
       "6     PPI   3890  38739           local  macro  0.093724  0.107513  0.100109   \n",
       "7     PPI   3890  38739           local  micro  0.159383  0.161954  0.161815   \n",
       "\n",
       "        40%       50%       60%       70%       80%       90%  \\\n",
       "0  0.081866  0.079652  0.081975  0.079652  0.068709  0.054841   \n",
       "1  0.129904  0.124913  0.131977  0.130045  0.118622  0.098062   \n",
       "2  0.031038  0.030844  0.025366  0.027298  0.017826  0.012040   \n",
       "3  0.067132  0.069784  0.064535  0.063279  0.043611  0.050000   \n",
       "4  0.083537  0.082383  0.092120  0.084170  0.080883  0.060841   \n",
       "5  0.140746  0.135733  0.136675  0.130690  0.128856  0.103113   \n",
       "6  0.096566  0.093822  0.086901  0.077249  0.069578  0.052015   \n",
       "7  0.148458  0.144473  0.135390  0.119310  0.112147  0.091688   \n",
       "\n",
       "            parameters  training_time dynamic_update  num_different_nodes  \\\n",
       "0  [64, 8, 8, 0.25, 4]      23.138397          prune                 1024   \n",
       "1  [64, 8, 8, 0.25, 4]      23.138397          prune                 1024   \n",
       "2  [64, 8, 8, 0.25, 4]      18.799618          prune                 1024   \n",
       "3  [64, 8, 8, 0.25, 4]      18.799618          prune                 1024   \n",
       "4  [64, 8, 8, 0.25, 4]      43.447217         extend                 1024   \n",
       "5  [64, 8, 8, 0.25, 4]      43.447217         extend                 1024   \n",
       "6  [64, 8, 8, 0.25, 4]      38.362036         extend                 1024   \n",
       "7  [64, 8, 8, 0.25, 4]      38.362036         extend                 1024   \n",
       "\n",
       "   num_starting_nodes execution_timestamp  \n",
       "0                2746  05/06/2024 - 13:38  \n",
       "1                2746  05/06/2024 - 13:38  \n",
       "2                2746  05/06/2024 - 13:38  \n",
       "3                2746  05/06/2024 - 13:38  \n",
       "4                1024  05/06/2024 - 13:36  \n",
       "5                1024  05/06/2024 - 13:36  \n",
       "6                1024  05/06/2024 - 13:36  \n",
       "7                1024  05/06/2024 - 13:36  "
      ]
     },
     "execution_count": 17,
     "metadata": {},
     "output_type": "execute_result"
    }
   ],
   "source": [
    "mod_type = 'prune'\n",
    "params = [64, 8, 8, 0.25, 4]\n",
    "\n",
    "results_df = results_output_func(initial_graph, mod_type, mod_nodes_num, params, groups_dict, graphs_list)\n",
    "results_df.head(8)"
   ]
  },
  {
   "cell_type": "markdown",
   "metadata": {},
   "source": [
    "### Grid search"
   ]
  },
  {
   "cell_type": "code",
   "execution_count": 5,
   "metadata": {
    "tags": []
   },
   "outputs": [],
   "source": [
    "parameter_combinations = node2vec_configs()\n"
   ]
  },
  {
   "cell_type": "code",
   "execution_count": null,
   "metadata": {
    "tags": []
   },
   "outputs": [
    {
     "name": "stderr",
     "output_type": "stream",
     "text": [
      "  0%|          | 0/24 [00:00<?, ?it/s]"
     ]
    },
    {
     "name": "stdout",
     "output_type": "stream",
     "text": [
      "** Modification type: extend for 512 nodes **\n",
      "Graphs:\n",
      "(4265, 76411) (4777, 92517)\n",
      "Computing transition probabilities...\n",
      "Random walks in progress...\n"
     ]
    },
    {
     "data": {
      "application/vnd.jupyter.widget-view+json": {
       "model_id": "1f147d81d7fc434180809220475cc05a",
       "version_major": 2,
       "version_minor": 0
      },
      "text/plain": [
       "  0%|          | 0/64 [00:00<?, ?it/s]"
      ]
     },
     "metadata": {},
     "output_type": "display_data"
    },
    {
     "name": "stdout",
     "output_type": "stream",
     "text": [
      "Fitting model...\n",
      "Computing transition probabilities...\n",
      "Random walks in progress...\n"
     ]
    },
    {
     "data": {
      "application/vnd.jupyter.widget-view+json": {
       "model_id": "f628dd605892424a932a2e3e4ad6f949",
       "version_major": 2,
       "version_minor": 0
      },
      "text/plain": [
       "  0%|          | 0/64 [00:00<?, ?it/s]"
      ]
     },
     "metadata": {},
     "output_type": "display_data"
    },
    {
     "name": "stdout",
     "output_type": "stream",
     "text": [
      "Fitting model...\n",
      "Computing transition probabilities...\n",
      "Random walks in progress...\n"
     ]
    },
    {
     "data": {
      "application/vnd.jupyter.widget-view+json": {
       "model_id": "852ec7ffa6234b8eaad2916c8f4bd60f",
       "version_major": 2,
       "version_minor": 0
      },
      "text/plain": [
       "  0%|          | 0/8 [00:00<?, ?it/s]"
      ]
     },
     "metadata": {},
     "output_type": "display_data"
    },
    {
     "name": "stdout",
     "output_type": "stream",
     "text": [
      "Fitting model...\n",
      "** Modification type: prune for 512 nodes **\n",
      "Graphs:\n",
      "(4265, 76411) (4777, 92517)\n",
      "Computing transition probabilities...\n",
      "Random walks in progress...\n"
     ]
    },
    {
     "data": {
      "application/vnd.jupyter.widget-view+json": {
       "model_id": "9e6d7ee42d6744a1ac9aa154cdd99309",
       "version_major": 2,
       "version_minor": 0
      },
      "text/plain": [
       "  0%|          | 0/64 [00:00<?, ?it/s]"
      ]
     },
     "metadata": {},
     "output_type": "display_data"
    },
    {
     "name": "stdout",
     "output_type": "stream",
     "text": [
      "Fitting model...\n",
      "Computing transition probabilities...\n",
      "Random walks in progress...\n"
     ]
    }
   ],
   "source": [
    "# TEMPORARILY WIKIPEDIA TEST THAT\"S WHY THE DIFFERENT NODE, EDGE NUMS\n",
    "\n",
    "for params in tqdm(parameter_combinations):\n",
    "    for mod_type in ['extend', 'prune']:\n",
    "        results_df = results_output_func(initial_graph, mod_type, mod_nodes_num, params, groups_dict, graphs_list)"
   ]
  },
  {
   "cell_type": "code",
   "execution_count": null,
   "metadata": {},
   "outputs": [],
   "source": []
  },
  {
   "cell_type": "markdown",
   "metadata": {},
   "source": [
    "## Other"
   ]
  },
  {
   "cell_type": "markdown",
   "metadata": {},
   "source": [
    "### Saving dynamic graphs"
   ]
  },
  {
   "cell_type": "code",
   "execution_count": 3,
   "metadata": {},
   "outputs": [
    {
     "data": {
      "text/plain": [
       "<function main_utils.dynamic_graph_gen(initial_graph, num_nodes_to_remove, save_bool=False, removal_process='random')>"
      ]
     },
     "execution_count": 3,
     "metadata": {},
     "output_type": "execute_result"
    }
   ],
   "source": [
    "dynamic_graph_gen"
   ]
  },
  {
   "cell_type": "code",
   "execution_count": 4,
   "metadata": {},
   "outputs": [],
   "source": [
    "# # Refactor this one\n",
    "def dynamic_graph_gen(initial_graph, num_nodes_to_remove, save_bool=False, removal_process='random'):\n",
    "    '''\n",
    "    Generates a list of dynamically updated graphs starting from a subgraph of the initial graph.\n",
    "    \n",
    "    Parameters:\n",
    "        initial_graph (NetworkX graph): The initial graph.\n",
    "        num_nodes_to_remove (int): The number of nodes to remove from the initial graph.\n",
    "\n",
    "    Returns:\n",
    "        graphs_list: A list of dynamically updated graphs.\n",
    "    '''\n",
    "\n",
    "    graphs_list = [initial_graph]\n",
    "    dynamic_graph = initial_graph\n",
    "    \n",
    "    print(\"Generating list of dynamic graphs:\")\n",
    "    for i in tqdm(range(num_nodes_to_remove)):\n",
    "        dynamic_graph, _ = remove_nodes_connected(dynamic_graph, 1, removal_process)\n",
    "        graphs_list.append(dynamic_graph)\n",
    "\n",
    "    graphs_list = graphs_list[::-1]\n",
    "\n",
    "    if save_bool:\n",
    "        graphs_filenames_list = f'{initial_graph.name}_{removal_process}_{num_nodes_to_remove}.pkl'\n",
    "\n",
    "        # Save the list of graphs to a file\n",
    "        with open(f'./graphs/{graphs_filenames_list}', 'wb') as f:\n",
    "            pickle.dump(graphs_list, f)\n",
    "\n",
    "    return graphs_list"
   ]
  },
  {
   "cell_type": "code",
   "execution_count": null,
   "metadata": {},
   "outputs": [],
   "source": [
    "num_nodes_to_remove = 128\n",
    "graphs_list = dynamic_graph_gen(initial_graph, num_nodes_to_remove, save_bool=True)\n",
    "graphs_list"
   ]
  },
  {
   "cell_type": "code",
   "execution_count": 21,
   "metadata": {},
   "outputs": [],
   "source": [
    "graphs_filenames_list = f'{initial_graph.name}_{num_nodes_to_remove}.pkl'\n",
    "\n",
    "# Load the list of graphs from the file\n",
    "with open('./graphs/cora_random_128.pkl', 'rb') as f:\n",
    "    loaded_graphs_list = pickle.load(f)"
   ]
  },
  {
   "cell_type": "code",
   "execution_count": 22,
   "metadata": {},
   "outputs": [
    {
     "data": {
      "text/plain": [
       "True"
      ]
     },
     "execution_count": 22,
     "metadata": {},
     "output_type": "execute_result"
    }
   ],
   "source": [
    "len(graphs_list) == len(loaded_graphs_list)"
   ]
  },
  {
   "cell_type": "code",
   "execution_count": 27,
   "metadata": {},
   "outputs": [
    {
     "name": "stdout",
     "output_type": "stream",
     "text": [
      "Graph Information:\n",
      "Number of nodes: 2708\n",
      "Number of edges: 5278\n",
      "Density: 0.0014399999126942077\n",
      "Is connected: False\n",
      "Average clustering coefficient: 0.2406732985019372\n",
      "Directed: False\n"
     ]
    }
   ],
   "source": [
    "advanced_info(initial_graph)"
   ]
  },
  {
   "cell_type": "code",
   "execution_count": 28,
   "metadata": {},
   "outputs": [
    {
     "name": "stdout",
     "output_type": "stream",
     "text": [
      "Graph Information:\n",
      "Number of nodes: 2580\n",
      "Number of edges: 4994\n",
      "Density: 0.0015010926054507036\n",
      "Is connected: False\n",
      "Average clustering coefficient: 0.23931300304563\n",
      "Directed: False\n"
     ]
    }
   ],
   "source": [
    "advanced_info(graphs_list[0])"
   ]
  },
  {
   "cell_type": "code",
   "execution_count": 29,
   "metadata": {},
   "outputs": [
    {
     "name": "stdout",
     "output_type": "stream",
     "text": [
      "Graph Information:\n",
      "Number of nodes: 2708\n",
      "Number of edges: 5278\n",
      "Density: 0.0014399999126942077\n",
      "Is connected: False\n",
      "Average clustering coefficient: 0.2406732985019372\n",
      "Directed: False\n"
     ]
    }
   ],
   "source": [
    "advanced_info(graphs_list[-1])"
   ]
  },
  {
   "cell_type": "code",
   "execution_count": 30,
   "metadata": {},
   "outputs": [
    {
     "name": "stdout",
     "output_type": "stream",
     "text": [
      "Graph Information:\n",
      "Number of nodes: 2580\n",
      "Number of edges: 4994\n",
      "Density: 0.0015010926054507036\n",
      "Is connected: False\n",
      "Average clustering coefficient: 0.23931300304563\n",
      "Directed: False\n"
     ]
    }
   ],
   "source": [
    "advanced_info(loaded_graphs_list[0])"
   ]
  },
  {
   "cell_type": "code",
   "execution_count": 31,
   "metadata": {},
   "outputs": [
    {
     "name": "stdout",
     "output_type": "stream",
     "text": [
      "Graph Information:\n",
      "Number of nodes: 2708\n",
      "Number of edges: 5278\n",
      "Density: 0.0014399999126942077\n",
      "Is connected: False\n",
      "Average clustering coefficient: 0.2406732985019372\n",
      "Directed: False\n"
     ]
    }
   ],
   "source": [
    "advanced_info(loaded_graphs_list[-1])"
   ]
  },
  {
   "cell_type": "code",
   "execution_count": null,
   "metadata": {},
   "outputs": [],
   "source": []
  }
 ],
 "metadata": {
  "kernelspec": {
   "display_name": "Python 3.10",
   "language": "python",
   "name": "py3.10"
  }
 },
 "nbformat": 4,
 "nbformat_minor": 4
}
