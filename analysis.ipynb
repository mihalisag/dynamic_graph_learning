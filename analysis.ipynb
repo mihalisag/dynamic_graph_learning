{
 "cells": [
  {
   "cell_type": "markdown",
   "metadata": {},
   "source": [
    "# Analysis of results "
   ]
  },
  {
   "cell_type": "code",
   "execution_count": 1,
   "metadata": {},
   "outputs": [
    {
     "name": "stdout",
     "output_type": "stream",
     "text": [
      "/home/jovyan/thesis\n"
     ]
    },
    {
     "name": "stderr",
     "output_type": "stream",
     "text": [
      "/home/jovyan/venvs/my_environment/lib/python3.10/site-packages/IPython/core/magics/osm.py:393: UserWarning: using bookmarks requires you to install the `pickleshare` library.\n",
      "  bkms = self.shell.db.get('bookmarks', {})\n",
      "/home/jovyan/venvs/my_environment/lib/python3.10/site-packages/IPython/core/magics/osm.py:417: UserWarning: using dhist requires you to install the `pickleshare` library.\n",
      "  self.shell.db['dhist'] = compress_dhist(dhist)[-100:]\n"
     ]
    }
   ],
   "source": [
    "cd ~/thesis/"
   ]
  },
  {
   "cell_type": "markdown",
   "metadata": {},
   "source": [
    "## Initial processing"
   ]
  },
  {
   "cell_type": "code",
   "execution_count": 2,
   "metadata": {},
   "outputs": [
    {
     "name": "stderr",
     "output_type": "stream",
     "text": [
      "/tmp/ipykernel_620/70208650.py:2: DeprecationWarning: \n",
      "Pyarrow will become a required dependency of pandas in the next major release of pandas (pandas 3.0),\n",
      "(to allow more performant data types, such as the Arrow string type, and better interoperability with other libraries)\n",
      "but was not found to be installed on your system.\n",
      "If this would cause problems for you,\n",
      "please provide us feedback at https://github.com/pandas-dev/pandas/issues/54466\n",
      "        \n",
      "  import pandas as pd\n"
     ]
    }
   ],
   "source": [
    "import numpy as np\n",
    "import pandas as pd\n",
    "\n",
    "import matplotlib.pyplot as plt\n",
    "\n",
    "import ast\n",
    "\n",
    "from analysis_utils import *"
   ]
  },
  {
   "cell_type": "code",
   "execution_count": 3,
   "metadata": {},
   "outputs": [],
   "source": [
    "results_df = pd.read_csv('results.csv')"
   ]
  },
  {
   "cell_type": "code",
   "execution_count": 6,
   "metadata": {},
   "outputs": [],
   "source": [
    "# These are the parameters for calculating the gloal/local difference\n",
    "config = {'dataset': 'cora',\n",
    "          'dynamic_update': 'extend',\n",
    "          'metric': 'macro',\n",
    "          'parameters': '(128, 80, 160, 4, 4)',\n",
    "          'num_different_nodes': 512}"
   ]
  },
  {
   "cell_type": "code",
   "execution_count": 7,
   "metadata": {},
   "outputs": [],
   "source": [
    "sub_df = accu_time_df_gen(results_df, config)"
   ]
  },
  {
   "cell_type": "code",
   "execution_count": 8,
   "metadata": {},
   "outputs": [],
   "source": [
    "# Calculate the average accuracy difference\n",
    "avg_accuracy_diff_perc = 100* (abs(sub_df.loc[0, 'average_accuracy'] - sub_df.loc[1, 'average_accuracy']) / sub_df.loc[0, 'average_accuracy'])\n",
    "\n",
    "# Calculate the training time difference\n",
    "training_time_diff_perc = 100* (abs(sub_df.loc[0, 'training_time'] - sub_df.loc[1, 'training_time'])) / sub_df.loc[0, 'training_time']"
   ]
  },
  {
   "cell_type": "code",
   "execution_count": 9,
   "metadata": {},
   "outputs": [
    {
     "data": {
      "text/plain": [
       "(1.0062304228615382, 69.9747829843204)"
      ]
     },
     "execution_count": 9,
     "metadata": {},
     "output_type": "execute_result"
    }
   ],
   "source": [
    "avg_accuracy_diff_perc, training_time_diff_perc"
   ]
  },
  {
   "cell_type": "code",
   "execution_count": 10,
   "metadata": {},
   "outputs": [
    {
     "data": {
      "text/html": [
       "<div>\n",
       "<style scoped>\n",
       "    .dataframe tbody tr th:only-of-type {\n",
       "        vertical-align: middle;\n",
       "    }\n",
       "\n",
       "    .dataframe tbody tr th {\n",
       "        vertical-align: top;\n",
       "    }\n",
       "\n",
       "    .dataframe thead th {\n",
       "        text-align: right;\n",
       "    }\n",
       "</style>\n",
       "<table border=\"1\" class=\"dataframe\">\n",
       "  <thead>\n",
       "    <tr style=\"text-align: right;\">\n",
       "      <th></th>\n",
       "      <th>dataset</th>\n",
       "      <th>retraining_type</th>\n",
       "      <th>parameters</th>\n",
       "      <th>dynamic_update</th>\n",
       "      <th>average_accuracy</th>\n",
       "      <th>training_time</th>\n",
       "    </tr>\n",
       "  </thead>\n",
       "  <tbody>\n",
       "    <tr>\n",
       "      <th>0</th>\n",
       "      <td>cora</td>\n",
       "      <td>global</td>\n",
       "      <td>(128, 80, 160, 4, 4)</td>\n",
       "      <td>extend</td>\n",
       "      <td>0.790612</td>\n",
       "      <td>415.683768</td>\n",
       "    </tr>\n",
       "    <tr>\n",
       "      <th>1</th>\n",
       "      <td>cora</td>\n",
       "      <td>local</td>\n",
       "      <td>(128, 80, 160, 4, 4)</td>\n",
       "      <td>extend</td>\n",
       "      <td>0.782657</td>\n",
       "      <td>124.809953</td>\n",
       "    </tr>\n",
       "  </tbody>\n",
       "</table>\n",
       "</div>"
      ],
      "text/plain": [
       "  dataset retraining_type            parameters dynamic_update  \\\n",
       "0    cora          global  (128, 80, 160, 4, 4)         extend   \n",
       "1    cora           local  (128, 80, 160, 4, 4)         extend   \n",
       "\n",
       "   average_accuracy  training_time  \n",
       "0          0.790612     415.683768  \n",
       "1          0.782657     124.809953  "
      ]
     },
     "execution_count": 10,
     "metadata": {},
     "output_type": "execute_result"
    }
   ],
   "source": [
    "sub_df"
   ]
  },
  {
   "cell_type": "code",
   "execution_count": null,
   "metadata": {},
   "outputs": [],
   "source": []
  },
  {
   "cell_type": "code",
   "execution_count": null,
   "metadata": {},
   "outputs": [],
   "source": []
  },
  {
   "cell_type": "markdown",
   "metadata": {},
   "source": [
    "### Hyperparameter tuning"
   ]
  },
  {
   "cell_type": "code",
   "execution_count": 62,
   "metadata": {},
   "outputs": [
    {
     "data": {
      "text/plain": [
       "371"
      ]
     },
     "execution_count": 62,
     "metadata": {},
     "output_type": "execute_result"
    }
   ],
   "source": [
    "# Should have been 300 (?)\n",
    "all_parameters = list(results_df['parameters'].unique())\n",
    "len(all_parameters)"
   ]
  },
  {
   "cell_type": "code",
   "execution_count": 63,
   "metadata": {},
   "outputs": [
    {
     "data": {
      "text/plain": [
       "['(128, 80, 80, 0.25, 1)',\n",
       " '(128, 40, 80, 0.25, 1)',\n",
       " '(128, 40, 80, 0.25, 4)',\n",
       " '(128, 40, 80, 0.25, 2)',\n",
       " '(128, 80, 80, 4, 4)',\n",
       " '(128, 80, 80, 4, 2)',\n",
       " '(128, 80, 80, 4, 1)',\n",
       " '(128, 80, 80, 2, 4)',\n",
       " '(128, 80, 80, 2, 2)',\n",
       " '(128, 80, 80, 2, 1)',\n",
       " '(128, 80, 80, 1, 4)',\n",
       " '(128, 80, 80, 1, 2)',\n",
       " '(128, 80, 80, 1, 1)',\n",
       " '(128, 80, 80, 0.25, 4)',\n",
       " '(128, 80, 80, 0.25, 2)',\n",
       " '(128, 40, 80, 4, 4)',\n",
       " '(128, 40, 80, 4, 2)',\n",
       " '(128, 40, 80, 4, 1)',\n",
       " '(128, 40, 80, 2, 4)',\n",
       " '(128, 40, 80, 2, 2)',\n",
       " '(128, 40, 80, 2, 1)',\n",
       " '(128, 40, 80, 1, 4)',\n",
       " '(128, 40, 80, 1, 2)',\n",
       " '(128, 40, 80, 1, 1)',\n",
       " '(128, 40, 80, 0.25, 0.5)',\n",
       " '(128, 40, 80, 0.25, 0.25)',\n",
       " '(128, 80, 160, 4, 4)',\n",
       " '(128, 80, 160, 4, 2)',\n",
       " '(128, 80, 160, 4, 1)',\n",
       " '(128, 80, 160, 4, 0.5)',\n",
       " '(128, 80, 160, 4, 0.25)',\n",
       " '(128, 80, 160, 2, 4)',\n",
       " '(128, 80, 160, 2, 2)',\n",
       " '(128, 80, 160, 2, 1)',\n",
       " '(128, 80, 160, 2, 0.5)',\n",
       " '(128, 80, 160, 2, 0.25)',\n",
       " '(128, 80, 160, 1, 4)',\n",
       " '(128, 80, 160, 1, 2)',\n",
       " '(128, 80, 160, 1, 1)',\n",
       " '(128, 80, 160, 1, 0.5)',\n",
       " '(128, 80, 160, 1, 0.25)',\n",
       " '(128, 80, 160, 0.5, 4)',\n",
       " '(128, 80, 160, 0.5, 2)',\n",
       " '(128, 80, 160, 0.5, 1)',\n",
       " '(128, 80, 160, 0.5, 0.5)',\n",
       " '(128, 80, 160, 0.5, 0.25)',\n",
       " '(128, 80, 160, 0.25, 4)',\n",
       " '(128, 80, 160, 0.25, 2)',\n",
       " '(128, 80, 160, 0.25, 1)',\n",
       " '(128, 80, 160, 0.25, 0.5)',\n",
       " '(128, 80, 160, 0.25, 0.25)',\n",
       " '(128, 80, 80, 4, 0.5)',\n",
       " '(128, 80, 80, 4, 0.25)',\n",
       " '(128, 80, 80, 2, 0.5)',\n",
       " '(128, 80, 80, 2, 0.25)',\n",
       " '(128, 80, 80, 1, 0.5)',\n",
       " '(128, 80, 80, 1, 0.25)',\n",
       " '(128, 80, 80, 0.5, 4)',\n",
       " '(128, 80, 80, 0.5, 2)',\n",
       " '(128, 80, 80, 0.5, 1)',\n",
       " '(128, 80, 80, 0.5, 0.5)',\n",
       " '(128, 80, 80, 0.5, 0.25)',\n",
       " '(128, 80, 80, 0.25, 0.5)',\n",
       " '(128, 80, 80, 0.25, 0.25)',\n",
       " '(128, 40, 160, 4, 4)',\n",
       " '(128, 40, 160, 4, 2)',\n",
       " '(128, 40, 160, 4, 1)',\n",
       " '(128, 40, 160, 4, 0.5)',\n",
       " '(128, 40, 160, 4, 0.25)',\n",
       " '(128, 40, 160, 2, 4)',\n",
       " '(128, 40, 160, 2, 2)',\n",
       " '(128, 40, 160, 2, 1)',\n",
       " '(128, 40, 160, 2, 0.5)',\n",
       " '(128, 40, 160, 2, 0.25)',\n",
       " '(128, 40, 160, 1, 4)',\n",
       " '(128, 40, 160, 1, 2)',\n",
       " '(128, 40, 160, 1, 1)',\n",
       " '(128, 40, 160, 1, 0.5)',\n",
       " '(128, 40, 160, 1, 0.25)',\n",
       " '(128, 40, 160, 0.5, 4)',\n",
       " '(128, 40, 160, 0.5, 2)',\n",
       " '(128, 40, 160, 0.5, 1)',\n",
       " '(128, 40, 160, 0.5, 0.5)',\n",
       " '(128, 40, 160, 0.5, 0.25)',\n",
       " '(128, 40, 160, 0.25, 4)',\n",
       " '(128, 40, 160, 0.25, 2)',\n",
       " '(128, 40, 160, 0.25, 1)',\n",
       " '(128, 40, 160, 0.25, 0.5)',\n",
       " '(128, 40, 160, 0.25, 0.25)',\n",
       " '(128, 40, 80, 4, 0.5)',\n",
       " '(128, 40, 80, 4, 0.25)',\n",
       " '(128, 40, 80, 2, 0.5)',\n",
       " '(128, 40, 80, 2, 0.25)',\n",
       " '(128, 40, 80, 1, 0.5)',\n",
       " '(128, 40, 80, 1, 0.25)',\n",
       " '(128, 40, 80, 0.5, 4)',\n",
       " '(128, 40, 80, 0.5, 2)',\n",
       " '(128, 40, 80, 0.5, 1)',\n",
       " '(128, 40, 80, 0.5, 0.5)',\n",
       " '(128, 40, 80, 0.5, 0.25)',\n",
       " '(64, 80, 160, 2, 4)',\n",
       " '(64, 80, 160, 2, 2)',\n",
       " '(64, 80, 160, 2, 1)',\n",
       " '(64, 80, 160, 2, 0.5)',\n",
       " '(64, 80, 160, 2, 0.25)',\n",
       " '(64, 80, 160, 1, 4)',\n",
       " '(64, 80, 160, 1, 2)',\n",
       " '(64, 80, 160, 1, 1)',\n",
       " '(64, 80, 160, 1, 0.5)',\n",
       " '(64, 80, 160, 1, 0.25)',\n",
       " '(64, 80, 160, 0.5, 4)',\n",
       " '(64, 80, 160, 0.5, 2)',\n",
       " '(64, 80, 160, 0.5, 1)',\n",
       " '(64, 80, 160, 0.5, 0.5)',\n",
       " '(64, 80, 160, 0.5, 0.25)',\n",
       " '(64, 80, 160, 0.25, 4)',\n",
       " '(64, 80, 160, 0.25, 2)',\n",
       " '(64, 80, 160, 0.25, 1)',\n",
       " '(64, 80, 160, 0.25, 0.5)',\n",
       " '(64, 80, 160, 0.25, 0.25)',\n",
       " '(64, 80, 80, 4, 4)',\n",
       " '(64, 80, 80, 4, 2)',\n",
       " '(64, 80, 80, 4, 1)',\n",
       " '(64, 80, 80, 4, 0.5)',\n",
       " '(64, 80, 80, 4, 0.25)',\n",
       " '(64, 80, 80, 2, 4)',\n",
       " '(64, 80, 80, 2, 2)',\n",
       " '(64, 80, 80, 2, 1)',\n",
       " '(64, 80, 80, 2, 0.5)',\n",
       " '(64, 80, 80, 2, 0.25)',\n",
       " '(64, 80, 80, 1, 4)',\n",
       " '(64, 80, 80, 1, 2)',\n",
       " '(64, 80, 80, 1, 1)',\n",
       " '(64, 80, 80, 1, 0.5)',\n",
       " '(64, 80, 80, 1, 0.25)',\n",
       " '(64, 80, 80, 0.5, 4)',\n",
       " '(64, 80, 80, 0.5, 2)',\n",
       " '(64, 80, 80, 0.5, 1)',\n",
       " '(64, 80, 80, 0.5, 0.5)',\n",
       " '(64, 80, 80, 0.5, 0.25)',\n",
       " '(64, 80, 80, 0.25, 4)',\n",
       " '(64, 80, 80, 0.25, 2)',\n",
       " '(64, 80, 80, 0.25, 1)',\n",
       " '(64, 80, 80, 0.25, 0.5)',\n",
       " '(64, 80, 80, 0.25, 0.25)',\n",
       " '(64, 40, 240, 4, 4)',\n",
       " '(64, 40, 240, 4, 2)',\n",
       " '(64, 40, 240, 4, 1)',\n",
       " '(64, 40, 240, 4, 0.5)',\n",
       " '(64, 40, 240, 4, 0.25)',\n",
       " '(64, 40, 240, 2, 4)',\n",
       " '(64, 40, 240, 2, 2)',\n",
       " '(64, 40, 240, 2, 1)',\n",
       " '(64, 40, 240, 2, 0.5)',\n",
       " '(64, 40, 240, 2, 0.25)',\n",
       " '(64, 40, 240, 1, 4)',\n",
       " '(64, 40, 240, 1, 2)',\n",
       " '(64, 40, 240, 1, 1)',\n",
       " '(64, 40, 240, 1, 0.5)',\n",
       " '(64, 40, 240, 1, 0.25)',\n",
       " '(64, 40, 240, 0.5, 4)',\n",
       " '(64, 40, 240, 0.5, 2)',\n",
       " '(64, 40, 240, 0.5, 1)',\n",
       " '(64, 40, 240, 0.5, 0.5)',\n",
       " '(64, 40, 240, 0.5, 0.25)',\n",
       " '(64, 40, 240, 0.25, 4)',\n",
       " '(64, 40, 240, 0.25, 2)',\n",
       " '(64, 40, 240, 0.25, 1)',\n",
       " '(64, 40, 240, 0.25, 0.5)',\n",
       " '(64, 40, 240, 0.25, 0.25)',\n",
       " '(64, 40, 160, 4, 4)',\n",
       " '(64, 40, 160, 4, 2)',\n",
       " '(64, 40, 160, 4, 1)',\n",
       " '(64, 40, 160, 4, 0.5)',\n",
       " '(64, 40, 160, 4, 0.25)',\n",
       " '(64, 40, 160, 2, 4)',\n",
       " '(64, 40, 160, 2, 2)',\n",
       " '(64, 40, 160, 2, 1)',\n",
       " '(64, 40, 160, 2, 0.5)',\n",
       " '(64, 40, 160, 2, 0.25)',\n",
       " '(64, 40, 160, 1, 4)',\n",
       " '(64, 40, 160, 1, 2)',\n",
       " '(64, 40, 160, 1, 1)',\n",
       " '(64, 40, 160, 1, 0.5)',\n",
       " '(64, 40, 160, 1, 0.25)',\n",
       " '(64, 40, 160, 0.5, 4)',\n",
       " '(64, 40, 160, 0.5, 2)',\n",
       " '(64, 40, 160, 0.5, 1)',\n",
       " '(64, 40, 160, 0.5, 0.5)',\n",
       " '(64, 40, 160, 0.5, 0.25)',\n",
       " '(64, 40, 160, 0.25, 4)',\n",
       " '(64, 40, 160, 0.25, 2)',\n",
       " '(64, 40, 160, 0.25, 1)',\n",
       " '(64, 40, 160, 0.25, 0.5)',\n",
       " '(64, 40, 160, 0.25, 0.25)',\n",
       " '(64, 40, 80, 4, 4)',\n",
       " '(64, 40, 80, 4, 2)',\n",
       " '(64, 40, 80, 4, 1)',\n",
       " '(64, 40, 80, 4, 0.5)',\n",
       " '(64, 40, 80, 4, 0.25)',\n",
       " '(64, 40, 80, 2, 4)',\n",
       " '(64, 40, 80, 2, 2)',\n",
       " '(64, 40, 80, 2, 1)',\n",
       " '(64, 40, 80, 2, 0.5)',\n",
       " '(64, 40, 80, 2, 0.25)',\n",
       " '(64, 40, 80, 1, 4)',\n",
       " '(64, 40, 80, 1, 2)',\n",
       " '(64, 40, 80, 1, 1)',\n",
       " '(64, 40, 80, 1, 0.5)',\n",
       " '(64, 40, 80, 1, 0.25)',\n",
       " '(64, 40, 80, 0.5, 4)',\n",
       " '(64, 40, 80, 0.5, 2)',\n",
       " '(64, 40, 80, 0.5, 1)',\n",
       " '(64, 40, 80, 0.5, 0.5)',\n",
       " '(64, 40, 80, 0.5, 0.25)',\n",
       " '(64, 40, 80, 0.25, 4)',\n",
       " '(64, 40, 80, 0.25, 2)',\n",
       " '(64, 40, 80, 0.25, 1)',\n",
       " '(64, 40, 80, 0.25, 0.5)',\n",
       " '(64, 40, 80, 0.25, 0.25)',\n",
       " '(64, 20, 240, 4, 4)',\n",
       " '(64, 20, 240, 4, 2)',\n",
       " '(64, 20, 240, 4, 1)',\n",
       " '(64, 20, 240, 4, 0.5)',\n",
       " '(64, 20, 240, 4, 0.25)',\n",
       " '(64, 20, 240, 2, 4)',\n",
       " '(64, 20, 240, 2, 2)',\n",
       " '(64, 20, 240, 2, 1)',\n",
       " '(64, 20, 240, 2, 0.5)',\n",
       " '(64, 20, 240, 2, 0.25)',\n",
       " '(64, 20, 240, 1, 4)',\n",
       " '(64, 20, 240, 1, 2)',\n",
       " '(64, 20, 240, 1, 1)',\n",
       " '(64, 20, 240, 1, 0.5)',\n",
       " '(64, 20, 240, 1, 0.25)',\n",
       " '(64, 20, 240, 0.5, 4)',\n",
       " '(64, 20, 240, 0.5, 2)',\n",
       " '(64, 20, 240, 0.5, 1)',\n",
       " '(64, 20, 240, 0.5, 0.5)',\n",
       " '(64, 20, 240, 0.5, 0.25)',\n",
       " '(64, 20, 240, 0.25, 4)',\n",
       " '(64, 20, 240, 0.25, 2)',\n",
       " '(64, 20, 240, 0.25, 1)',\n",
       " '(64, 20, 240, 0.25, 0.5)',\n",
       " '(64, 20, 240, 0.25, 0.25)',\n",
       " '(64, 20, 160, 4, 4)',\n",
       " '(64, 20, 160, 4, 2)',\n",
       " '(64, 20, 160, 4, 1)',\n",
       " '(64, 20, 160, 4, 0.5)',\n",
       " '(64, 20, 160, 4, 0.25)',\n",
       " '(64, 20, 160, 2, 4)',\n",
       " '(64, 20, 160, 2, 2)',\n",
       " '(64, 20, 160, 2, 1)',\n",
       " '(64, 20, 160, 2, 0.5)',\n",
       " '(64, 20, 160, 2, 0.25)',\n",
       " '(64, 20, 160, 1, 4)',\n",
       " '(64, 20, 160, 1, 2)',\n",
       " '(64, 20, 160, 1, 1)',\n",
       " '(64, 20, 160, 1, 0.5)',\n",
       " '(64, 20, 160, 1, 0.25)',\n",
       " '(64, 20, 160, 0.5, 4)',\n",
       " '(64, 20, 160, 0.5, 2)',\n",
       " '(64, 20, 160, 0.5, 1)',\n",
       " '(64, 20, 160, 0.5, 0.5)',\n",
       " '(64, 20, 160, 0.5, 0.25)',\n",
       " '(64, 20, 160, 0.25, 4)',\n",
       " '(64, 20, 160, 0.25, 2)',\n",
       " '(64, 20, 160, 0.25, 1)',\n",
       " '(64, 20, 160, 0.25, 0.5)',\n",
       " '(64, 20, 160, 0.25, 0.25)',\n",
       " '(64, 20, 80, 4, 4)',\n",
       " '(64, 20, 80, 4, 2)',\n",
       " '(64, 20, 80, 4, 1)',\n",
       " '(64, 20, 80, 4, 0.5)',\n",
       " '(64, 20, 80, 4, 0.25)',\n",
       " '(64, 20, 80, 2, 4)',\n",
       " '(64, 20, 80, 2, 2)',\n",
       " '(64, 20, 80, 2, 1)',\n",
       " '(64, 20, 80, 2, 0.5)',\n",
       " '(64, 20, 80, 2, 0.25)',\n",
       " '(64, 20, 80, 1, 4)',\n",
       " '(64, 20, 80, 1, 2)',\n",
       " '(64, 20, 80, 1, 0.5)',\n",
       " '(64, 20, 80, 1, 0.25)',\n",
       " '(64, 20, 80, 0.5, 4)',\n",
       " '(64, 20, 80, 0.5, 2)',\n",
       " '(64, 20, 80, 0.5, 1)',\n",
       " '(64, 20, 80, 1, 1)',\n",
       " '(64, 20, 80, 0.5, 0.5)',\n",
       " '(64, 20, 80, 0.5, 0.25)',\n",
       " '(64, 20, 80, 0.25, 4)',\n",
       " '(64, 20, 80, 0.25, 2)',\n",
       " '(64, 20, 80, 0.25, 1)',\n",
       " '(64, 20, 80, 0.25, 0.5)',\n",
       " '(64, 20, 80, 0.25, 0.25)',\n",
       " '(64, 10, 240, 4, 4)',\n",
       " '(64, 10, 240, 4, 2)',\n",
       " '(64, 10, 240, 4, 1)',\n",
       " '(64, 10, 240, 4, 0.5)',\n",
       " '(64, 10, 240, 4, 0.25)',\n",
       " '(64, 10, 240, 2, 4)',\n",
       " '(64, 10, 240, 2, 2)',\n",
       " '(64, 10, 240, 2, 1)',\n",
       " '(64, 10, 240, 2, 0.5)',\n",
       " '(64, 10, 240, 2, 0.25)',\n",
       " '(64, 10, 240, 1, 4)',\n",
       " '(64, 10, 240, 1, 2)',\n",
       " '(64, 10, 240, 1, 1)',\n",
       " '(64, 10, 240, 1, 0.5)',\n",
       " '(64, 10, 240, 1, 0.25)',\n",
       " '(64, 10, 240, 0.5, 4)',\n",
       " '(64, 10, 240, 0.5, 2)',\n",
       " '(64, 10, 240, 0.5, 1)',\n",
       " '(64, 10, 240, 0.5, 0.5)',\n",
       " '(64, 10, 240, 0.25, 4)',\n",
       " '(64, 10, 240, 0.25, 2)',\n",
       " '(64, 10, 240, 0.25, 1)',\n",
       " '(64, 10, 240, 0.25, 0.5)',\n",
       " '(64, 10, 240, 0.5, 0.25)',\n",
       " '(64, 10, 240, 0.25, 0.25)',\n",
       " '(64, 10, 160, 4, 4)',\n",
       " '(64, 10, 160, 4, 2)',\n",
       " '(64, 10, 160, 4, 1)',\n",
       " '(64, 10, 160, 4, 0.5)',\n",
       " '(64, 10, 160, 4, 0.25)',\n",
       " '(64, 10, 160, 2, 4)',\n",
       " '(64, 10, 160, 2, 2)',\n",
       " '(64, 10, 160, 2, 1)',\n",
       " '(64, 10, 160, 2, 0.5)',\n",
       " '(64, 10, 160, 2, 0.25)',\n",
       " '(64, 10, 160, 1, 4)',\n",
       " '(64, 10, 160, 1, 2)',\n",
       " '(64, 10, 160, 1, 1)',\n",
       " '(64, 10, 160, 1, 0.5)',\n",
       " '(64, 10, 160, 1, 0.25)',\n",
       " '(64, 10, 160, 0.5, 4)',\n",
       " '(64, 10, 160, 0.5, 2)',\n",
       " '(64, 10, 160, 0.5, 1)',\n",
       " '(64, 10, 160, 0.5, 0.5)',\n",
       " '(64, 10, 160, 0.5, 0.25)',\n",
       " '(64, 10, 160, 0.25, 4)',\n",
       " '(64, 10, 160, 0.25, 2)',\n",
       " '(64, 10, 160, 0.25, 1)',\n",
       " '(64, 10, 160, 0.25, 0.5)',\n",
       " '(64, 10, 160, 0.25, 0.25)',\n",
       " '(64, 10, 80, 4, 4)',\n",
       " '(64, 10, 80, 4, 2)',\n",
       " '(64, 10, 80, 4, 1)',\n",
       " '(64, 10, 80, 4, 0.5)',\n",
       " '(64, 10, 80, 4, 0.25)',\n",
       " '(64, 10, 80, 2, 4)',\n",
       " '(64, 10, 80, 2, 2)',\n",
       " '(64, 10, 80, 2, 1)',\n",
       " '(64, 10, 80, 2, 0.5)',\n",
       " '(64, 10, 80, 2, 0.25)',\n",
       " '(64, 10, 80, 1, 4)',\n",
       " '(64, 10, 80, 1, 2)',\n",
       " '(64, 10, 80, 1, 1)',\n",
       " '(64, 10, 80, 1, 0.5)',\n",
       " '(64, 10, 80, 1, 0.25)',\n",
       " '(64, 10, 80, 0.5, 4)',\n",
       " '(64, 10, 80, 0.5, 2)',\n",
       " '(64, 10, 80, 0.5, 1)',\n",
       " '(64, 10, 80, 0.5, 0.5)',\n",
       " '(64, 10, 80, 0.5, 0.25)',\n",
       " '(64, 10, 80, 0.25, 4)',\n",
       " '(64, 10, 80, 0.25, 2)',\n",
       " '(64, 10, 80, 0.25, 1)',\n",
       " '(64, 10, 80, 0.25, 0.5)',\n",
       " '(64, 10, 80, 0.25, 0.25)',\n",
       " '[64, 8, 8, 0.25, 4]']"
      ]
     },
     "execution_count": 63,
     "metadata": {},
     "output_type": "execute_result"
    }
   ],
   "source": [
    "all_parameters"
   ]
  },
  {
   "cell_type": "code",
   "execution_count": 64,
   "metadata": {},
   "outputs": [
    {
     "ename": "ValueError",
     "evalue": "too many values to unpack (expected 5)",
     "output_type": "error",
     "traceback": [
      "\u001b[0;31m---------------------------------------------------------------------------\u001b[0m",
      "\u001b[0;31mValueError\u001b[0m                                Traceback (most recent call last)",
      "Cell \u001b[0;32mIn[64], line 11\u001b[0m\n\u001b[1;32m      7\u001b[0m Q \u001b[38;5;241m=\u001b[39m \u001b[38;5;28mset\u001b[39m()\n\u001b[1;32m     10\u001b[0m \u001b[38;5;28;01mfor\u001b[39;00m param \u001b[38;5;129;01min\u001b[39;00m all_parameters:\n\u001b[0;32m---> 11\u001b[0m     d, r, l, p, q \u001b[38;5;241m=\u001b[39m param\n\u001b[1;32m     12\u001b[0m     D\u001b[38;5;241m.\u001b[39madd(d)\n\u001b[1;32m     13\u001b[0m     R\u001b[38;5;241m.\u001b[39madd(r)\n",
      "\u001b[0;31mValueError\u001b[0m: too many values to unpack (expected 5)"
     ]
    }
   ],
   "source": [
    "# all_parameters = [ast.literal_eval(param_str) for param_str in all_parameters]\n",
    "\n",
    "D = set()\n",
    "R = set()\n",
    "L = set()\n",
    "P = set()\n",
    "Q = set()\n",
    "\n",
    "\n",
    "for param in all_parameters:\n",
    "    d, r, l, p, q = param\n",
    "    D.add(d)\n",
    "    R.add(r)\n",
    "    L.add(l)\n",
    "    P.add(p)\n",
    "    Q.add(q)\n",
    "\n",
    "\n",
    "D, R, L, P, Q"
   ]
  },
  {
   "cell_type": "code",
   "execution_count": null,
   "metadata": {},
   "outputs": [],
   "source": []
  },
  {
   "cell_type": "markdown",
   "metadata": {},
   "source": [
    "#### Cora"
   ]
  },
  {
   "cell_type": "code",
   "execution_count": 65,
   "metadata": {},
   "outputs": [],
   "source": [
    "config = {'dataset': 'cora',\n",
    "        #   'dynamic_update': 'extend',\n",
    "          'metric': 'macro',\n",
    "          'num_different_nodes': 512}"
   ]
  },
  {
   "cell_type": "code",
   "execution_count": 66,
   "metadata": {},
   "outputs": [],
   "source": [
    "all_df = mult_params_accu_time_df_gen(results_df, config, all_parameters)"
   ]
  },
  {
   "cell_type": "code",
   "execution_count": 67,
   "metadata": {},
   "outputs": [
    {
     "data": {
      "image/png": "[encoded data removed]",
      "text/plain": [
       "<Figure size 640x480 with 1 Axes>"
      ]
     },
     "metadata": {},
     "output_type": "display_data"
    }
   ],
   "source": [
    "accu_time_plot(all_df)"
   ]
  },
  {
   "cell_type": "code",
   "execution_count": 68,
   "metadata": {},
   "outputs": [
    {
     "data": {
      "text/html": [
       "<div>\n",
       "<style scoped>\n",
       "    .dataframe tbody tr th:only-of-type {\n",
       "        vertical-align: middle;\n",
       "    }\n",
       "\n",
       "    .dataframe tbody tr th {\n",
       "        vertical-align: top;\n",
       "    }\n",
       "\n",
       "    .dataframe thead th {\n",
       "        text-align: right;\n",
       "    }\n",
       "</style>\n",
       "<table border=\"1\" class=\"dataframe\">\n",
       "  <thead>\n",
       "    <tr style=\"text-align: right;\">\n",
       "      <th>cora</th>\n",
       "      <th>dataset</th>\n",
       "      <th>retraining_type</th>\n",
       "      <th>parameters</th>\n",
       "      <th>dynamic_update</th>\n",
       "      <th>average_accuracy</th>\n",
       "      <th>training_time</th>\n",
       "    </tr>\n",
       "  </thead>\n",
       "  <tbody>\n",
       "    <tr>\n",
       "      <th>83</th>\n",
       "      <td>cora</td>\n",
       "      <td>local</td>\n",
       "      <td>(128, 40, 80, 2, 1)</td>\n",
       "      <td>extend</td>\n",
       "      <td>0.816479</td>\n",
       "      <td>33.817051</td>\n",
       "    </tr>\n",
       "    <tr>\n",
       "      <th>66</th>\n",
       "      <td>cora</td>\n",
       "      <td>global</td>\n",
       "      <td>(128, 40, 80, 4, 2)</td>\n",
       "      <td>extend</td>\n",
       "      <td>0.816394</td>\n",
       "      <td>105.576616</td>\n",
       "    </tr>\n",
       "    <tr>\n",
       "      <th>103</th>\n",
       "      <td>cora</td>\n",
       "      <td>local</td>\n",
       "      <td>(128, 40, 80, 0.25, 0.25)</td>\n",
       "      <td>extend</td>\n",
       "      <td>0.812863</td>\n",
       "      <td>31.953484</td>\n",
       "    </tr>\n",
       "    <tr>\n",
       "      <th>307</th>\n",
       "      <td>cora</td>\n",
       "      <td>local</td>\n",
       "      <td>(128, 40, 160, 1, 1)</td>\n",
       "      <td>extend</td>\n",
       "      <td>0.811209</td>\n",
       "      <td>62.478489</td>\n",
       "    </tr>\n",
       "    <tr>\n",
       "      <th>291</th>\n",
       "      <td>cora</td>\n",
       "      <td>local</td>\n",
       "      <td>(128, 40, 160, 2, 0.5)</td>\n",
       "      <td>extend</td>\n",
       "      <td>0.810902</td>\n",
       "      <td>63.524729</td>\n",
       "    </tr>\n",
       "    <tr>\n",
       "      <th>227</th>\n",
       "      <td>cora</td>\n",
       "      <td>local</td>\n",
       "      <td>(128, 80, 80, 1, 0.25)</td>\n",
       "      <td>extend</td>\n",
       "      <td>0.810208</td>\n",
       "      <td>64.816080</td>\n",
       "    </tr>\n",
       "    <tr>\n",
       "      <th>211</th>\n",
       "      <td>cora</td>\n",
       "      <td>local</td>\n",
       "      <td>(128, 80, 80, 4, 0.25)</td>\n",
       "      <td>extend</td>\n",
       "      <td>0.810062</td>\n",
       "      <td>67.367942</td>\n",
       "    </tr>\n",
       "    <tr>\n",
       "      <th>175</th>\n",
       "      <td>cora</td>\n",
       "      <td>local</td>\n",
       "      <td>(128, 80, 160, 0.5, 1)</td>\n",
       "      <td>extend</td>\n",
       "      <td>0.809882</td>\n",
       "      <td>123.806995</td>\n",
       "    </tr>\n",
       "    <tr>\n",
       "      <th>254</th>\n",
       "      <td>cora</td>\n",
       "      <td>global</td>\n",
       "      <td>(128, 80, 80, 0.25, 0.25)</td>\n",
       "      <td>extend</td>\n",
       "      <td>0.809080</td>\n",
       "      <td>204.833654</td>\n",
       "    </tr>\n",
       "    <tr>\n",
       "      <th>327</th>\n",
       "      <td>cora</td>\n",
       "      <td>local</td>\n",
       "      <td>(128, 40, 160, 0.5, 1)</td>\n",
       "      <td>extend</td>\n",
       "      <td>0.808739</td>\n",
       "      <td>61.532741</td>\n",
       "    </tr>\n",
       "    <tr>\n",
       "      <th>247</th>\n",
       "      <td>cora</td>\n",
       "      <td>local</td>\n",
       "      <td>(128, 80, 80, 0.5, 0.25)</td>\n",
       "      <td>extend</td>\n",
       "      <td>0.808450</td>\n",
       "      <td>66.094316</td>\n",
       "    </tr>\n",
       "    <tr>\n",
       "      <th>91</th>\n",
       "      <td>cora</td>\n",
       "      <td>local</td>\n",
       "      <td>(128, 40, 80, 1, 2)</td>\n",
       "      <td>extend</td>\n",
       "      <td>0.808023</td>\n",
       "      <td>31.512624</td>\n",
       "    </tr>\n",
       "    <tr>\n",
       "      <th>78</th>\n",
       "      <td>cora</td>\n",
       "      <td>global</td>\n",
       "      <td>(128, 40, 80, 2, 2)</td>\n",
       "      <td>extend</td>\n",
       "      <td>0.807493</td>\n",
       "      <td>106.450717</td>\n",
       "    </tr>\n",
       "    <tr>\n",
       "      <th>379</th>\n",
       "      <td>cora</td>\n",
       "      <td>local</td>\n",
       "      <td>(128, 40, 80, 1, 0.25)</td>\n",
       "      <td>extend</td>\n",
       "      <td>0.807041</td>\n",
       "      <td>33.020657</td>\n",
       "    </tr>\n",
       "    <tr>\n",
       "      <th>363</th>\n",
       "      <td>cora</td>\n",
       "      <td>local</td>\n",
       "      <td>(128, 40, 80, 4, 0.25)</td>\n",
       "      <td>extend</td>\n",
       "      <td>0.806688</td>\n",
       "      <td>32.818427</td>\n",
       "    </tr>\n",
       "  </tbody>\n",
       "</table>\n",
       "</div>"
      ],
      "text/plain": [
       "cora dataset retraining_type                 parameters dynamic_update  \\\n",
       "83      cora           local        (128, 40, 80, 2, 1)         extend   \n",
       "66      cora          global        (128, 40, 80, 4, 2)         extend   \n",
       "103     cora           local  (128, 40, 80, 0.25, 0.25)         extend   \n",
       "307     cora           local       (128, 40, 160, 1, 1)         extend   \n",
       "291     cora           local     (128, 40, 160, 2, 0.5)         extend   \n",
       "227     cora           local     (128, 80, 80, 1, 0.25)         extend   \n",
       "211     cora           local     (128, 80, 80, 4, 0.25)         extend   \n",
       "175     cora           local     (128, 80, 160, 0.5, 1)         extend   \n",
       "254     cora          global  (128, 80, 80, 0.25, 0.25)         extend   \n",
       "327     cora           local     (128, 40, 160, 0.5, 1)         extend   \n",
       "247     cora           local   (128, 80, 80, 0.5, 0.25)         extend   \n",
       "91      cora           local        (128, 40, 80, 1, 2)         extend   \n",
       "78      cora          global        (128, 40, 80, 2, 2)         extend   \n",
       "379     cora           local     (128, 40, 80, 1, 0.25)         extend   \n",
       "363     cora           local     (128, 40, 80, 4, 0.25)         extend   \n",
       "\n",
       "cora  average_accuracy  training_time  \n",
       "83            0.816479      33.817051  \n",
       "66            0.816394     105.576616  \n",
       "103           0.812863      31.953484  \n",
       "307           0.811209      62.478489  \n",
       "291           0.810902      63.524729  \n",
       "227           0.810208      64.816080  \n",
       "211           0.810062      67.367942  \n",
       "175           0.809882     123.806995  \n",
       "254           0.809080     204.833654  \n",
       "327           0.808739      61.532741  \n",
       "247           0.808450      66.094316  \n",
       "91            0.808023      31.512624  \n",
       "78            0.807493     106.450717  \n",
       "379           0.807041      33.020657  \n",
       "363           0.806688      32.818427  "
      ]
     },
     "execution_count": 68,
     "metadata": {},
     "output_type": "execute_result"
    }
   ],
   "source": [
    "# sub_df = sub_df[sub_df.loc[:, 'retraining_type'] == 'global'].reset_index(drop=True)\n",
    "all_df.sort_values(by='average_accuracy', ascending=False).head(15)"
   ]
  },
  {
   "cell_type": "code",
   "execution_count": 69,
   "metadata": {},
   "outputs": [
    {
     "data": {
      "text/html": [
       "<div>\n",
       "<style scoped>\n",
       "    .dataframe tbody tr th:only-of-type {\n",
       "        vertical-align: middle;\n",
       "    }\n",
       "\n",
       "    .dataframe tbody tr th {\n",
       "        vertical-align: top;\n",
       "    }\n",
       "\n",
       "    .dataframe thead th {\n",
       "        text-align: right;\n",
       "    }\n",
       "</style>\n",
       "<table border=\"1\" class=\"dataframe\">\n",
       "  <thead>\n",
       "    <tr style=\"text-align: right;\">\n",
       "      <th>cora</th>\n",
       "      <th>dataset</th>\n",
       "      <th>retraining_type</th>\n",
       "      <th>parameters</th>\n",
       "      <th>dynamic_update</th>\n",
       "      <th>average_accuracy</th>\n",
       "      <th>training_time</th>\n",
       "    </tr>\n",
       "  </thead>\n",
       "  <tbody>\n",
       "    <tr>\n",
       "      <th>0</th>\n",
       "      <td>cora</td>\n",
       "      <td>global</td>\n",
       "      <td>(128, 80, 80, 0.25, 1)</td>\n",
       "      <td>prune</td>\n",
       "      <td>0.768886</td>\n",
       "      <td>164.298851</td>\n",
       "    </tr>\n",
       "    <tr>\n",
       "      <th>2</th>\n",
       "      <td>cora</td>\n",
       "      <td>global</td>\n",
       "      <td>(128, 80, 80, 0.25, 1)</td>\n",
       "      <td>extend</td>\n",
       "      <td>0.788981</td>\n",
       "      <td>203.486490</td>\n",
       "    </tr>\n",
       "    <tr>\n",
       "      <th>4</th>\n",
       "      <td>cora</td>\n",
       "      <td>global</td>\n",
       "      <td>(128, 40, 80, 0.25, 1)</td>\n",
       "      <td>prune</td>\n",
       "      <td>0.750689</td>\n",
       "      <td>81.678901</td>\n",
       "    </tr>\n",
       "    <tr>\n",
       "      <th>6</th>\n",
       "      <td>cora</td>\n",
       "      <td>global</td>\n",
       "      <td>(128, 40, 80, 0.25, 1)</td>\n",
       "      <td>extend</td>\n",
       "      <td>0.794214</td>\n",
       "      <td>102.186127</td>\n",
       "    </tr>\n",
       "    <tr>\n",
       "      <th>8</th>\n",
       "      <td>cora</td>\n",
       "      <td>global</td>\n",
       "      <td>(128, 40, 80, 0.25, 4)</td>\n",
       "      <td>prune</td>\n",
       "      <td>0.730827</td>\n",
       "      <td>80.774523</td>\n",
       "    </tr>\n",
       "    <tr>\n",
       "      <th>...</th>\n",
       "      <td>...</td>\n",
       "      <td>...</td>\n",
       "      <td>...</td>\n",
       "      <td>...</td>\n",
       "      <td>...</td>\n",
       "      <td>...</td>\n",
       "    </tr>\n",
       "    <tr>\n",
       "      <th>398</th>\n",
       "      <td>cora</td>\n",
       "      <td>global</td>\n",
       "      <td>(128, 40, 80, 0.5, 0.25)</td>\n",
       "      <td>extend</td>\n",
       "      <td>0.785540</td>\n",
       "      <td>104.126992</td>\n",
       "    </tr>\n",
       "    <tr>\n",
       "      <th>400</th>\n",
       "      <td>cora</td>\n",
       "      <td>global</td>\n",
       "      <td>[64, 8, 8, 0.25, 4]</td>\n",
       "      <td>prune</td>\n",
       "      <td>0.711445</td>\n",
       "      <td>2.311835</td>\n",
       "    </tr>\n",
       "    <tr>\n",
       "      <th>402</th>\n",
       "      <td>cora</td>\n",
       "      <td>global</td>\n",
       "      <td>[64, 8, 8, 0.25, 4]</td>\n",
       "      <td>extend</td>\n",
       "      <td>0.719772</td>\n",
       "      <td>3.050927</td>\n",
       "    </tr>\n",
       "    <tr>\n",
       "      <th>404</th>\n",
       "      <td>cora</td>\n",
       "      <td>global</td>\n",
       "      <td>[64, 8, 8, 0.25, 4]</td>\n",
       "      <td>prune</td>\n",
       "      <td>0.701516</td>\n",
       "      <td>2.295618</td>\n",
       "    </tr>\n",
       "    <tr>\n",
       "      <th>406</th>\n",
       "      <td>cora</td>\n",
       "      <td>global</td>\n",
       "      <td>[64, 8, 8, 0.25, 4]</td>\n",
       "      <td>extend</td>\n",
       "      <td>0.731451</td>\n",
       "      <td>2.913603</td>\n",
       "    </tr>\n",
       "  </tbody>\n",
       "</table>\n",
       "<p>204 rows × 6 columns</p>\n",
       "</div>"
      ],
      "text/plain": [
       "cora dataset retraining_type                parameters dynamic_update  \\\n",
       "0       cora          global    (128, 80, 80, 0.25, 1)          prune   \n",
       "2       cora          global    (128, 80, 80, 0.25, 1)         extend   \n",
       "4       cora          global    (128, 40, 80, 0.25, 1)          prune   \n",
       "6       cora          global    (128, 40, 80, 0.25, 1)         extend   \n",
       "8       cora          global    (128, 40, 80, 0.25, 4)          prune   \n",
       "..       ...             ...                       ...            ...   \n",
       "398     cora          global  (128, 40, 80, 0.5, 0.25)         extend   \n",
       "400     cora          global       [64, 8, 8, 0.25, 4]          prune   \n",
       "402     cora          global       [64, 8, 8, 0.25, 4]         extend   \n",
       "404     cora          global       [64, 8, 8, 0.25, 4]          prune   \n",
       "406     cora          global       [64, 8, 8, 0.25, 4]         extend   \n",
       "\n",
       "cora  average_accuracy  training_time  \n",
       "0             0.768886     164.298851  \n",
       "2             0.788981     203.486490  \n",
       "4             0.750689      81.678901  \n",
       "6             0.794214     102.186127  \n",
       "8             0.730827      80.774523  \n",
       "..                 ...            ...  \n",
       "398           0.785540     104.126992  \n",
       "400           0.711445       2.311835  \n",
       "402           0.719772       3.050927  \n",
       "404           0.701516       2.295618  \n",
       "406           0.731451       2.913603  \n",
       "\n",
       "[204 rows x 6 columns]"
      ]
     },
     "execution_count": 69,
     "metadata": {},
     "output_type": "execute_result"
    }
   ],
   "source": [
    "all_df.loc[all_df['retraining_type'] == 'global']"
   ]
  },
  {
   "cell_type": "code",
   "execution_count": 70,
   "metadata": {},
   "outputs": [
    {
     "data": {
      "text/plain": [
       "{'dataset': 'cora',\n",
       " 'retraining_type': 'global',\n",
       " 'parameters': '(128, 40, 80, 4, 2)',\n",
       " 'dynamic_update': 'extend',\n",
       " 'average_accuracy': 0.8163936506487652,\n",
       " 'training_time': 105.576616048813}"
      ]
     },
     "execution_count": 70,
     "metadata": {},
     "output_type": "execute_result"
    }
   ],
   "source": [
    "temp_df = all_df.loc[all_df['retraining_type'] == 'global']\n",
    "dict(temp_df.iloc[temp_df['average_accuracy'].argmax()])"
   ]
  },
  {
   "cell_type": "code",
   "execution_count": null,
   "metadata": {},
   "outputs": [],
   "source": []
  },
  {
   "cell_type": "markdown",
   "metadata": {},
   "source": [
    "#### Wikipedia "
   ]
  },
  {
   "cell_type": "code",
   "execution_count": 71,
   "metadata": {},
   "outputs": [],
   "source": [
    "config = {'dataset': 'wikipedia',\n",
    "        #   'dynamic_update': 'extend',\n",
    "          'metric': 'macro',\n",
    "          'num_different_nodes': 512}\n"
   ]
  },
  {
   "cell_type": "code",
   "execution_count": 72,
   "metadata": {},
   "outputs": [],
   "source": [
    "all_df = mult_params_accu_time_df_gen(results_df, config, all_parameters)"
   ]
  },
  {
   "cell_type": "code",
   "execution_count": 88,
   "metadata": {},
   "outputs": [],
   "source": [
    "def accu_time_plot(all_df):\n",
    "    '''\n",
    "        Plots accuracy-time scatter plot\n",
    "    '''\n",
    "\n",
    "    # Set font to Computer Modern\n",
    "    plt.rcParams['font.family'] = 'serif'\n",
    "    plt.rcParams['font.serif'] = 'Computer Modern'\n",
    "    # plt.rcParams['font.weight'] = 'bold'\n",
    "    plt.rcParams['text.usetex'] = True  # Use LaTeX for rendering text\n",
    "\n",
    "    # Dataset name\n",
    "    name = all_df.columns.name\n",
    "\n",
    "    # Map colors\n",
    "    colors = all_df['retraining_type'].map({'global': '#2053A6', 'local': '#FF6011'})\n",
    "\n",
    "    # Scatter plot for each category\n",
    "    for retraining_type, color in {'global': '#2053A6', 'local': '#FF6011'}.items():\n",
    "        subset = all_df[all_df['retraining_type'] == retraining_type]\n",
    "        plt.scatter(subset['training_time'], subset['average_accuracy'], c=color, label=retraining_type)\n",
    "\n",
    "    # Show dashed grid lines\n",
    "    plt.rc('axes', axisbelow=True)\n",
    "    plt.grid(color='lightgrey')\n",
    "    \n",
    "    plt.xlabel('Training time (s)', fontdict={'size': 20})\n",
    "    plt.ylabel('Accuracy', fontdict={'size': 20})\n",
    "\n",
    "    # plt.title(f'Scatter Plot of Accuracy-Time for {name} dataset')\n",
    "\n",
    "    # Adjust the legend\n",
    "    # plt.legend(loc='lower center', ncol=3, bbox_to_anchor=(0.5, -0.9))\n",
    "    \n",
    "    # Adjust spacing\n",
    "    plt.tight_layout()\n",
    "\n",
    "    # Save the plot\n",
    "    plt.savefig(f'figures/accu_time_all_params_{name}_plot.pdf', dpi=100, bbox_inches='tight')\n",
    "\n",
    "    plt.show()"
   ]
  },
  {
   "cell_type": "code",
   "execution_count": 89,
   "metadata": {},
   "outputs": [
    {
     "data": {
      "image/png": "[encoded data removed]",
      "text/plain": [
       "<Figure size 640x480 with 1 Axes>"
      ]
     },
     "metadata": {},
     "output_type": "display_data"
    }
   ],
   "source": [
    "accu_time_plot(all_df)"
   ]
  },
  {
   "cell_type": "code",
   "execution_count": 134,
   "metadata": {},
   "outputs": [
    {
     "data": {
      "text/plain": [
       "{'dataset': 'wikipedia',\n",
       " 'retraining_type': 'global',\n",
       " 'parameters': '[64, 8, 8, 0.25, 4]',\n",
       " 'dynamic_update': 'extend',\n",
       " 'average_accuracy': 0.03458389600716626,\n",
       " 'training_time': 503.338453769684}"
      ]
     },
     "execution_count": 134,
     "metadata": {},
     "output_type": "execute_result"
    }
   ],
   "source": [
    "temp_df = all_df.loc[all_df['retraining_type'] == 'global']\n",
    "dict(temp_df.iloc[all_df['average_accuracy'].argmax()])"
   ]
  },
  {
   "cell_type": "code",
   "execution_count": null,
   "metadata": {},
   "outputs": [],
   "source": []
  },
  {
   "cell_type": "code",
   "execution_count": null,
   "metadata": {},
   "outputs": [],
   "source": []
  },
  {
   "cell_type": "markdown",
   "metadata": {},
   "source": [
    "#### PPI"
   ]
  },
  {
   "cell_type": "code",
   "execution_count": 91,
   "metadata": {},
   "outputs": [],
   "source": [
    "config = {'dataset': 'PPI',\n",
    "          'metric': 'macro',\n",
    "          'num_different_nodes': 512}"
   ]
  },
  {
   "cell_type": "code",
   "execution_count": 92,
   "metadata": {},
   "outputs": [],
   "source": [
    "all_df = mult_params_accu_time_df_gen(results_df, config, all_parameters)"
   ]
  },
  {
   "cell_type": "code",
   "execution_count": 93,
   "metadata": {},
   "outputs": [
    {
     "data": {
      "text/html": [
       "<div>\n",
       "<style scoped>\n",
       "    .dataframe tbody tr th:only-of-type {\n",
       "        vertical-align: middle;\n",
       "    }\n",
       "\n",
       "    .dataframe tbody tr th {\n",
       "        vertical-align: top;\n",
       "    }\n",
       "\n",
       "    .dataframe thead th {\n",
       "        text-align: right;\n",
       "    }\n",
       "</style>\n",
       "<table border=\"1\" class=\"dataframe\">\n",
       "  <thead>\n",
       "    <tr style=\"text-align: right;\">\n",
       "      <th>PPI</th>\n",
       "      <th>dataset</th>\n",
       "      <th>retraining_type</th>\n",
       "      <th>parameters</th>\n",
       "      <th>dynamic_update</th>\n",
       "      <th>average_accuracy</th>\n",
       "      <th>training_time</th>\n",
       "    </tr>\n",
       "  </thead>\n",
       "  <tbody>\n",
       "    <tr>\n",
       "      <th>0</th>\n",
       "      <td>PPI</td>\n",
       "      <td>global</td>\n",
       "      <td>(128, 80, 80, 0.25, 1)</td>\n",
       "      <td>prune</td>\n",
       "      <td>0.103920</td>\n",
       "      <td>658.539948</td>\n",
       "    </tr>\n",
       "    <tr>\n",
       "      <th>83</th>\n",
       "      <td>PPI</td>\n",
       "      <td>local</td>\n",
       "      <td>(128, 40, 80, 2, 1)</td>\n",
       "      <td>extend</td>\n",
       "      <td>0.103872</td>\n",
       "      <td>103.184063</td>\n",
       "    </tr>\n",
       "    <tr>\n",
       "      <th>36</th>\n",
       "      <td>PPI</td>\n",
       "      <td>global</td>\n",
       "      <td>(128, 80, 80, 2, 1)</td>\n",
       "      <td>prune</td>\n",
       "      <td>0.103022</td>\n",
       "      <td>664.677804</td>\n",
       "    </tr>\n",
       "    <tr>\n",
       "      <th>68</th>\n",
       "      <td>PPI</td>\n",
       "      <td>global</td>\n",
       "      <td>(128, 40, 80, 4, 1)</td>\n",
       "      <td>prune</td>\n",
       "      <td>0.101758</td>\n",
       "      <td>343.939501</td>\n",
       "    </tr>\n",
       "    <tr>\n",
       "      <th>23</th>\n",
       "      <td>PPI</td>\n",
       "      <td>local</td>\n",
       "      <td>(128, 80, 80, 4, 2)</td>\n",
       "      <td>extend</td>\n",
       "      <td>0.101657</td>\n",
       "      <td>172.781480</td>\n",
       "    </tr>\n",
       "    <tr>\n",
       "      <th>27</th>\n",
       "      <td>PPI</td>\n",
       "      <td>local</td>\n",
       "      <td>(128, 80, 80, 4, 1)</td>\n",
       "      <td>extend</td>\n",
       "      <td>0.101450</td>\n",
       "      <td>167.833059</td>\n",
       "    </tr>\n",
       "    <tr>\n",
       "      <th>24</th>\n",
       "      <td>PPI</td>\n",
       "      <td>global</td>\n",
       "      <td>(128, 80, 80, 4, 1)</td>\n",
       "      <td>prune</td>\n",
       "      <td>0.099235</td>\n",
       "      <td>659.021818</td>\n",
       "    </tr>\n",
       "    <tr>\n",
       "      <th>32</th>\n",
       "      <td>PPI</td>\n",
       "      <td>global</td>\n",
       "      <td>(128, 80, 80, 2, 2)</td>\n",
       "      <td>prune</td>\n",
       "      <td>0.099116</td>\n",
       "      <td>673.238465</td>\n",
       "    </tr>\n",
       "    <tr>\n",
       "      <th>43</th>\n",
       "      <td>PPI</td>\n",
       "      <td>local</td>\n",
       "      <td>(128, 80, 80, 1, 4)</td>\n",
       "      <td>extend</td>\n",
       "      <td>0.098656</td>\n",
       "      <td>174.081321</td>\n",
       "    </tr>\n",
       "    <tr>\n",
       "      <th>102</th>\n",
       "      <td>PPI</td>\n",
       "      <td>global</td>\n",
       "      <td>(128, 40, 80, 0.25, 0.25)</td>\n",
       "      <td>extend</td>\n",
       "      <td>0.098650</td>\n",
       "      <td>388.765121</td>\n",
       "    </tr>\n",
       "    <tr>\n",
       "      <th>66</th>\n",
       "      <td>PPI</td>\n",
       "      <td>global</td>\n",
       "      <td>(128, 40, 80, 4, 2)</td>\n",
       "      <td>extend</td>\n",
       "      <td>0.098615</td>\n",
       "      <td>425.821706</td>\n",
       "    </tr>\n",
       "    <tr>\n",
       "      <th>80</th>\n",
       "      <td>PPI</td>\n",
       "      <td>global</td>\n",
       "      <td>(128, 40, 80, 2, 1)</td>\n",
       "      <td>prune</td>\n",
       "      <td>0.098507</td>\n",
       "      <td>337.525098</td>\n",
       "    </tr>\n",
       "    <tr>\n",
       "      <th>51</th>\n",
       "      <td>PPI</td>\n",
       "      <td>local</td>\n",
       "      <td>(128, 80, 80, 1, 1)</td>\n",
       "      <td>extend</td>\n",
       "      <td>0.098259</td>\n",
       "      <td>168.280955</td>\n",
       "    </tr>\n",
       "    <tr>\n",
       "      <th>63</th>\n",
       "      <td>PPI</td>\n",
       "      <td>local</td>\n",
       "      <td>(128, 40, 80, 4, 4)</td>\n",
       "      <td>extend</td>\n",
       "      <td>0.098193</td>\n",
       "      <td>101.546633</td>\n",
       "    </tr>\n",
       "    <tr>\n",
       "      <th>94</th>\n",
       "      <td>PPI</td>\n",
       "      <td>global</td>\n",
       "      <td>(128, 40, 80, 1, 1)</td>\n",
       "      <td>extend</td>\n",
       "      <td>0.098017</td>\n",
       "      <td>421.142078</td>\n",
       "    </tr>\n",
       "  </tbody>\n",
       "</table>\n",
       "</div>"
      ],
      "text/plain": [
       "PPI dataset retraining_type                 parameters dynamic_update  \\\n",
       "0       PPI          global     (128, 80, 80, 0.25, 1)          prune   \n",
       "83      PPI           local        (128, 40, 80, 2, 1)         extend   \n",
       "36      PPI          global        (128, 80, 80, 2, 1)          prune   \n",
       "68      PPI          global        (128, 40, 80, 4, 1)          prune   \n",
       "23      PPI           local        (128, 80, 80, 4, 2)         extend   \n",
       "27      PPI           local        (128, 80, 80, 4, 1)         extend   \n",
       "24      PPI          global        (128, 80, 80, 4, 1)          prune   \n",
       "32      PPI          global        (128, 80, 80, 2, 2)          prune   \n",
       "43      PPI           local        (128, 80, 80, 1, 4)         extend   \n",
       "102     PPI          global  (128, 40, 80, 0.25, 0.25)         extend   \n",
       "66      PPI          global        (128, 40, 80, 4, 2)         extend   \n",
       "80      PPI          global        (128, 40, 80, 2, 1)          prune   \n",
       "51      PPI           local        (128, 80, 80, 1, 1)         extend   \n",
       "63      PPI           local        (128, 40, 80, 4, 4)         extend   \n",
       "94      PPI          global        (128, 40, 80, 1, 1)         extend   \n",
       "\n",
       "PPI  average_accuracy  training_time  \n",
       "0            0.103920     658.539948  \n",
       "83           0.103872     103.184063  \n",
       "36           0.103022     664.677804  \n",
       "68           0.101758     343.939501  \n",
       "23           0.101657     172.781480  \n",
       "27           0.101450     167.833059  \n",
       "24           0.099235     659.021818  \n",
       "32           0.099116     673.238465  \n",
       "43           0.098656     174.081321  \n",
       "102          0.098650     388.765121  \n",
       "66           0.098615     425.821706  \n",
       "80           0.098507     337.525098  \n",
       "51           0.098259     168.280955  \n",
       "63           0.098193     101.546633  \n",
       "94           0.098017     421.142078  "
      ]
     },
     "execution_count": 93,
     "metadata": {},
     "output_type": "execute_result"
    }
   ],
   "source": [
    "# sub_df = sub_df[sub_df.loc[:, 'retraining_type'] == 'global'].reset_index(drop=True)\n",
    "all_df.sort_values(by='average_accuracy', ascending=False).head(15)"
   ]
  },
  {
   "cell_type": "code",
   "execution_count": 94,
   "metadata": {},
   "outputs": [
    {
     "data": {
      "image/png": "[encoded data removed]",
      "text/plain": [
       "<Figure size 640x480 with 1 Axes>"
      ]
     },
     "metadata": {},
     "output_type": "display_data"
    }
   ],
   "source": [
    "accu_time_plot(all_df)"
   ]
  },
  {
   "cell_type": "code",
   "execution_count": 95,
   "metadata": {},
   "outputs": [
    {
     "data": {
      "text/plain": [
       "{'dataset': 'PPI',\n",
       " 'retraining_type': 'global',\n",
       " 'parameters': '(128, 80, 80, 0.25, 1)',\n",
       " 'dynamic_update': 'prune',\n",
       " 'average_accuracy': 0.10392025126642672,\n",
       " 'training_time': 658.539947986603}"
      ]
     },
     "execution_count": 95,
     "metadata": {},
     "output_type": "execute_result"
    }
   ],
   "source": [
    "temp_df = all_df.loc[all_df['retraining_type'] == 'global']\n",
    "dict(temp_df.iloc[temp_df['average_accuracy'].argmax()])"
   ]
  },
  {
   "cell_type": "code",
   "execution_count": null,
   "metadata": {},
   "outputs": [],
   "source": []
  },
  {
   "cell_type": "code",
   "execution_count": null,
   "metadata": {},
   "outputs": [],
   "source": []
  },
  {
   "cell_type": "markdown",
   "metadata": {},
   "source": [
    "#### BlogCatalog"
   ]
  },
  {
   "cell_type": "code",
   "execution_count": 96,
   "metadata": {},
   "outputs": [],
   "source": [
    "config = {'dataset': 'blog_catalog',\n",
    "        # 'dynamic_update': 'extend',\n",
    "        'metric': 'macro',\n",
    "        'num_different_nodes': 512}"
   ]
  },
  {
   "cell_type": "code",
   "execution_count": 97,
   "metadata": {},
   "outputs": [
    {
     "data": {
      "text/html": [
       "<div>\n",
       "<style scoped>\n",
       "    .dataframe tbody tr th:only-of-type {\n",
       "        vertical-align: middle;\n",
       "    }\n",
       "\n",
       "    .dataframe tbody tr th {\n",
       "        vertical-align: top;\n",
       "    }\n",
       "\n",
       "    .dataframe thead th {\n",
       "        text-align: right;\n",
       "    }\n",
       "</style>\n",
       "<table border=\"1\" class=\"dataframe\">\n",
       "  <thead>\n",
       "    <tr style=\"text-align: right;\">\n",
       "      <th>blog_catalog</th>\n",
       "      <th>dataset</th>\n",
       "      <th>retraining_type</th>\n",
       "      <th>parameters</th>\n",
       "      <th>dynamic_update</th>\n",
       "      <th>average_accuracy</th>\n",
       "      <th>training_time</th>\n",
       "    </tr>\n",
       "  </thead>\n",
       "  <tbody>\n",
       "    <tr>\n",
       "      <th>6</th>\n",
       "      <td>blog_catalog</td>\n",
       "      <td>global</td>\n",
       "      <td>(128, 40, 80, 0.25, 1)</td>\n",
       "      <td>extend</td>\n",
       "      <td>0.206375</td>\n",
       "      <td>4956.535452</td>\n",
       "    </tr>\n",
       "    <tr>\n",
       "      <th>9</th>\n",
       "      <td>blog_catalog</td>\n",
       "      <td>local</td>\n",
       "      <td>(128, 40, 80, 0.25, 1)</td>\n",
       "      <td>extend</td>\n",
       "      <td>0.204560</td>\n",
       "      <td>1466.205247</td>\n",
       "    </tr>\n",
       "    <tr>\n",
       "      <th>4</th>\n",
       "      <td>blog_catalog</td>\n",
       "      <td>global</td>\n",
       "      <td>(128, 40, 80, 0.25, 1)</td>\n",
       "      <td>prune</td>\n",
       "      <td>0.204061</td>\n",
       "      <td>4434.546483</td>\n",
       "    </tr>\n",
       "    <tr>\n",
       "      <th>0</th>\n",
       "      <td>blog_catalog</td>\n",
       "      <td>global</td>\n",
       "      <td>(128, 80, 80, 0.25, 1)</td>\n",
       "      <td>prune</td>\n",
       "      <td>0.203846</td>\n",
       "      <td>7917.033863</td>\n",
       "    </tr>\n",
       "    <tr>\n",
       "      <th>13</th>\n",
       "      <td>blog_catalog</td>\n",
       "      <td>local</td>\n",
       "      <td>(128, 40, 80, 0.25, 1)</td>\n",
       "      <td>extend</td>\n",
       "      <td>0.203679</td>\n",
       "      <td>1459.789268</td>\n",
       "    </tr>\n",
       "    <tr>\n",
       "      <th>10</th>\n",
       "      <td>blog_catalog</td>\n",
       "      <td>global</td>\n",
       "      <td>(128, 40, 80, 0.25, 1)</td>\n",
       "      <td>prune</td>\n",
       "      <td>0.203380</td>\n",
       "      <td>4254.954576</td>\n",
       "    </tr>\n",
       "    <tr>\n",
       "      <th>3</th>\n",
       "      <td>blog_catalog</td>\n",
       "      <td>local</td>\n",
       "      <td>(128, 80, 80, 0.25, 1)</td>\n",
       "      <td>extend</td>\n",
       "      <td>0.202358</td>\n",
       "      <td>1724.187371</td>\n",
       "    </tr>\n",
       "    <tr>\n",
       "      <th>8</th>\n",
       "      <td>blog_catalog</td>\n",
       "      <td>global</td>\n",
       "      <td>(128, 40, 80, 0.25, 1)</td>\n",
       "      <td>extend</td>\n",
       "      <td>0.201024</td>\n",
       "      <td>5098.421046</td>\n",
       "    </tr>\n",
       "    <tr>\n",
       "      <th>2</th>\n",
       "      <td>blog_catalog</td>\n",
       "      <td>global</td>\n",
       "      <td>(128, 80, 80, 0.25, 1)</td>\n",
       "      <td>extend</td>\n",
       "      <td>0.198858</td>\n",
       "      <td>8798.809094</td>\n",
       "    </tr>\n",
       "    <tr>\n",
       "      <th>5</th>\n",
       "      <td>blog_catalog</td>\n",
       "      <td>local</td>\n",
       "      <td>(128, 40, 80, 0.25, 1)</td>\n",
       "      <td>prune</td>\n",
       "      <td>0.198408</td>\n",
       "      <td>1480.310039</td>\n",
       "    </tr>\n",
       "    <tr>\n",
       "      <th>7</th>\n",
       "      <td>blog_catalog</td>\n",
       "      <td>local</td>\n",
       "      <td>(128, 40, 80, 0.25, 1)</td>\n",
       "      <td>extend</td>\n",
       "      <td>0.197464</td>\n",
       "      <td>1585.535359</td>\n",
       "    </tr>\n",
       "    <tr>\n",
       "      <th>11</th>\n",
       "      <td>blog_catalog</td>\n",
       "      <td>local</td>\n",
       "      <td>(128, 40, 80, 0.25, 1)</td>\n",
       "      <td>prune</td>\n",
       "      <td>0.196315</td>\n",
       "      <td>1494.013343</td>\n",
       "    </tr>\n",
       "    <tr>\n",
       "      <th>1</th>\n",
       "      <td>blog_catalog</td>\n",
       "      <td>local</td>\n",
       "      <td>(128, 80, 80, 0.25, 1)</td>\n",
       "      <td>prune</td>\n",
       "      <td>0.196149</td>\n",
       "      <td>1963.268622</td>\n",
       "    </tr>\n",
       "    <tr>\n",
       "      <th>12</th>\n",
       "      <td>blog_catalog</td>\n",
       "      <td>global</td>\n",
       "      <td>(128, 40, 80, 0.25, 1)</td>\n",
       "      <td>extend</td>\n",
       "      <td>0.196043</td>\n",
       "      <td>4969.717611</td>\n",
       "    </tr>\n",
       "    <tr>\n",
       "      <th>14</th>\n",
       "      <td>blog_catalog</td>\n",
       "      <td>global</td>\n",
       "      <td>[64, 8, 8, 0.25, 4]</td>\n",
       "      <td>extend</td>\n",
       "      <td>0.082027</td>\n",
       "      <td>1208.674120</td>\n",
       "    </tr>\n",
       "  </tbody>\n",
       "</table>\n",
       "</div>"
      ],
      "text/plain": [
       "blog_catalog       dataset retraining_type              parameters  \\\n",
       "6             blog_catalog          global  (128, 40, 80, 0.25, 1)   \n",
       "9             blog_catalog           local  (128, 40, 80, 0.25, 1)   \n",
       "4             blog_catalog          global  (128, 40, 80, 0.25, 1)   \n",
       "0             blog_catalog          global  (128, 80, 80, 0.25, 1)   \n",
       "13            blog_catalog           local  (128, 40, 80, 0.25, 1)   \n",
       "10            blog_catalog          global  (128, 40, 80, 0.25, 1)   \n",
       "3             blog_catalog           local  (128, 80, 80, 0.25, 1)   \n",
       "8             blog_catalog          global  (128, 40, 80, 0.25, 1)   \n",
       "2             blog_catalog          global  (128, 80, 80, 0.25, 1)   \n",
       "5             blog_catalog           local  (128, 40, 80, 0.25, 1)   \n",
       "7             blog_catalog           local  (128, 40, 80, 0.25, 1)   \n",
       "11            blog_catalog           local  (128, 40, 80, 0.25, 1)   \n",
       "1             blog_catalog           local  (128, 80, 80, 0.25, 1)   \n",
       "12            blog_catalog          global  (128, 40, 80, 0.25, 1)   \n",
       "14            blog_catalog          global     [64, 8, 8, 0.25, 4]   \n",
       "\n",
       "blog_catalog dynamic_update  average_accuracy  training_time  \n",
       "6                    extend          0.206375    4956.535452  \n",
       "9                    extend          0.204560    1466.205247  \n",
       "4                     prune          0.204061    4434.546483  \n",
       "0                     prune          0.203846    7917.033863  \n",
       "13                   extend          0.203679    1459.789268  \n",
       "10                    prune          0.203380    4254.954576  \n",
       "3                    extend          0.202358    1724.187371  \n",
       "8                    extend          0.201024    5098.421046  \n",
       "2                    extend          0.198858    8798.809094  \n",
       "5                     prune          0.198408    1480.310039  \n",
       "7                    extend          0.197464    1585.535359  \n",
       "11                    prune          0.196315    1494.013343  \n",
       "1                     prune          0.196149    1963.268622  \n",
       "12                   extend          0.196043    4969.717611  \n",
       "14                   extend          0.082027    1208.674120  "
      ]
     },
     "execution_count": 97,
     "metadata": {},
     "output_type": "execute_result"
    }
   ],
   "source": [
    "all_df = mult_params_accu_time_df_gen(results_df, config, all_parameters)\n",
    "# sub_df = sub_df[sub_df.loc[:, 'retraining_type'] == 'global'].reset_index(drop=True)\n",
    "all_df.sort_values(by='average_accuracy', ascending=False).head(15)"
   ]
  },
  {
   "cell_type": "code",
   "execution_count": 98,
   "metadata": {},
   "outputs": [
    {
     "data": {
      "image/png": "[encoded data removed]",
      "text/plain": [
       "<Figure size 640x480 with 1 Axes>"
      ]
     },
     "metadata": {},
     "output_type": "display_data"
    }
   ],
   "source": [
    "accu_time_plot(all_df)"
   ]
  },
  {
   "cell_type": "code",
   "execution_count": null,
   "metadata": {},
   "outputs": [],
   "source": []
  },
  {
   "cell_type": "code",
   "execution_count": null,
   "metadata": {},
   "outputs": [],
   "source": []
  },
  {
   "cell_type": "markdown",
   "metadata": {},
   "source": [
    "## Table of results for specific dataset"
   ]
  },
  {
   "cell_type": "code",
   "execution_count": 26,
   "metadata": {},
   "outputs": [],
   "source": [
    "perc_list = ['10%', '20%', '30%', '40%', '50%', '60%', '70%', '80%', '90%']"
   ]
  },
  {
   "cell_type": "code",
   "execution_count": 28,
   "metadata": {},
   "outputs": [],
   "source": [
    "# These are the parameters for calculating the gloal/local difference\n",
    "config = {'dataset': 'cora',\n",
    "          'dynamic_update': 'extend',\n",
    "          'parameters': '(128, 40, 80, 4, 2)',\n",
    "          'num_different_nodes': 512}"
   ]
  },
  {
   "cell_type": "code",
   "execution_count": 29,
   "metadata": {},
   "outputs": [],
   "source": [
    "table_df = table_df_gen(results_df, config)"
   ]
  },
  {
   "cell_type": "code",
   "execution_count": 30,
   "metadata": {},
   "outputs": [
    {
     "data": {
      "text/plain": [
       "{'dataset': 'cora',\n",
       " 'retraining_type': 'global',\n",
       " 'parameters': '(128, 80, 160, 4, 4)',\n",
       " 'dynamic_update': 'extend',\n",
       " 'average_accuracy': 0.7906122755311732,\n",
       " 'training_time': 415.683768033981}"
      ]
     },
     "execution_count": 30,
     "metadata": {},
     "output_type": "execute_result"
    }
   ],
   "source": [
    "dict(sub_df.iloc[sub_df['average_accuracy'].argmax()])"
   ]
  },
  {
   "cell_type": "code",
   "execution_count": 31,
   "metadata": {},
   "outputs": [
    {
     "data": {
      "text/plain": [
       "array([0.1, 0.2, 0.3, 0.4, 0.5, 0.6, 0.7, 0.8, 0.9])"
      ]
     },
     "execution_count": 31,
     "metadata": {},
     "output_type": "execute_result"
    }
   ],
   "source": [
    "np.arange(0.1, 1, 0.1)"
   ]
  },
  {
   "cell_type": "code",
   "execution_count": 32,
   "metadata": {},
   "outputs": [],
   "source": [
    "# Filter the DataFrame for 'macro' and 'micro' scores\n",
    "macro_df = table_df[table_df['metric'] == 'macro']\n",
    "micro_df = table_df[table_df['metric'] == 'micro']\n",
    "\n",
    "# X-axis values\n",
    "x_values = 1 - np.arange(0.1, 1, 0.1)"
   ]
  },
  {
   "cell_type": "code",
   "execution_count": 34,
   "metadata": {},
   "outputs": [
    {
     "data": {
      "image/png": "[encoded data removed]",
      "text/plain": [
       "<Figure size 640x480 with 1 Axes>"
      ]
     },
     "metadata": {},
     "output_type": "display_data"
    }
   ],
   "source": [
    "# Plot for macro scores\n",
    "table_scores_plot(macro_df, 'macro')"
   ]
  },
  {
   "cell_type": "code",
   "execution_count": 35,
   "metadata": {},
   "outputs": [
    {
     "data": {
      "image/png": "[encoded data removed]",
      "text/plain": [
       "<Figure size 640x480 with 1 Axes>"
      ]
     },
     "metadata": {},
     "output_type": "display_data"
    }
   ],
   "source": [
    "# Plot for macro scores\n",
    "table_scores_plot(micro_df, 'micro')"
   ]
  },
  {
   "cell_type": "code",
   "execution_count": 99,
   "metadata": {},
   "outputs": [],
   "source": [
    "# These are the parameters for calculating the gloal/local difference\n",
    "config = {'parameters': '(128, 40, 80, 0.25, 1)',\n",
    "         'num_different_nodes': 512,\n",
    "         'dynamic_update': 'extend'}\n",
    "\n",
    "dfs = []\n",
    "dataset_names = ['cora', 'wikipedia', 'PPI', 'blog_catalog']\n",
    "\n",
    "for dataset in dataset_names:\n",
    "\n",
    "    config['dataset'] = dataset\n",
    "\n",
    "    table_df = table_df_gen(results_df, config)\n",
    "\n",
    "    dfs.append(table_df)\n",
    "\n",
    "dfs[-1] = dfs[-1].loc[:3]  "
   ]
  },
  {
   "cell_type": "code",
   "execution_count": 100,
   "metadata": {},
   "outputs": [
    {
     "data": {
      "image/png": "[encoded data removed]",
      "text/plain": [
       "<Figure size 1200x1600 with 8 Axes>"
      ]
     },
     "metadata": {},
     "output_type": "display_data"
    }
   ],
   "source": [
    "exp_table_scores_plot(dfs, dataset_names)"
   ]
  },
  {
   "cell_type": "code",
   "execution_count": null,
   "metadata": {},
   "outputs": [],
   "source": []
  },
  {
   "cell_type": "code",
   "execution_count": null,
   "metadata": {},
   "outputs": [],
   "source": []
  },
  {
   "cell_type": "code",
   "execution_count": null,
   "metadata": {},
   "outputs": [],
   "source": []
  },
  {
   "cell_type": "code",
   "execution_count": null,
   "metadata": {},
   "outputs": [],
   "source": []
  },
  {
   "cell_type": "code",
   "execution_count": null,
   "metadata": {},
   "outputs": [],
   "source": []
  },
  {
   "cell_type": "markdown",
   "metadata": {},
   "source": [
    "## Graphs "
   ]
  },
  {
   "cell_type": "code",
   "execution_count": 38,
   "metadata": {},
   "outputs": [],
   "source": [
    "speed_df = sub_df.copy()"
   ]
  },
  {
   "cell_type": "code",
   "execution_count": 39,
   "metadata": {},
   "outputs": [
    {
     "data": {
      "text/plain": [
       "0    (128, 80, 160, 4, 4)\n",
       "1    (128, 80, 160, 4, 4)\n",
       "Name: parameters, dtype: object"
      ]
     },
     "execution_count": 39,
     "metadata": {},
     "output_type": "execute_result"
    }
   ],
   "source": [
    "speed_df.sort_values(by='average_accuracy', ascending=False).head(30)['parameters']"
   ]
  },
  {
   "cell_type": "code",
   "execution_count": 40,
   "metadata": {},
   "outputs": [],
   "source": [
    "# Function to convert string to tuple and extract required elements\n",
    "def extract_elements(param_str):\n",
    "    tuple_obj = ast.literal_eval(param_str)\n",
    "    return tuple_obj[1], tuple_obj[2]\n",
    "\n",
    "# Apply the function to the 'parameters' column and create new columns\n",
    "speed_df[['walk_length', 'walks_num']] = speed_df['parameters'].apply(lambda x: pd.Series(extract_elements(x)))"
   ]
  },
  {
   "cell_type": "code",
   "execution_count": 41,
   "metadata": {},
   "outputs": [
    {
     "data": {
      "text/html": [
       "<div>\n",
       "<style scoped>\n",
       "    .dataframe tbody tr th:only-of-type {\n",
       "        vertical-align: middle;\n",
       "    }\n",
       "\n",
       "    .dataframe tbody tr th {\n",
       "        vertical-align: top;\n",
       "    }\n",
       "\n",
       "    .dataframe thead th {\n",
       "        text-align: right;\n",
       "    }\n",
       "</style>\n",
       "<table border=\"1\" class=\"dataframe\">\n",
       "  <thead>\n",
       "    <tr style=\"text-align: right;\">\n",
       "      <th></th>\n",
       "      <th>dataset</th>\n",
       "      <th>retraining_type</th>\n",
       "      <th>parameters</th>\n",
       "      <th>dynamic_update</th>\n",
       "      <th>average_accuracy</th>\n",
       "      <th>training_time</th>\n",
       "      <th>walk_length</th>\n",
       "      <th>walks_num</th>\n",
       "    </tr>\n",
       "  </thead>\n",
       "  <tbody>\n",
       "    <tr>\n",
       "      <th>0</th>\n",
       "      <td>cora</td>\n",
       "      <td>global</td>\n",
       "      <td>(128, 80, 160, 4, 4)</td>\n",
       "      <td>extend</td>\n",
       "      <td>0.790612</td>\n",
       "      <td>415.683768</td>\n",
       "      <td>80</td>\n",
       "      <td>160</td>\n",
       "    </tr>\n",
       "    <tr>\n",
       "      <th>1</th>\n",
       "      <td>cora</td>\n",
       "      <td>local</td>\n",
       "      <td>(128, 80, 160, 4, 4)</td>\n",
       "      <td>extend</td>\n",
       "      <td>0.782657</td>\n",
       "      <td>124.809953</td>\n",
       "      <td>80</td>\n",
       "      <td>160</td>\n",
       "    </tr>\n",
       "  </tbody>\n",
       "</table>\n",
       "</div>"
      ],
      "text/plain": [
       "  dataset retraining_type            parameters dynamic_update  \\\n",
       "0    cora          global  (128, 80, 160, 4, 4)         extend   \n",
       "1    cora           local  (128, 80, 160, 4, 4)         extend   \n",
       "\n",
       "   average_accuracy  training_time  walk_length  walks_num  \n",
       "0          0.790612     415.683768           80        160  \n",
       "1          0.782657     124.809953           80        160  "
      ]
     },
     "execution_count": 41,
     "metadata": {},
     "output_type": "execute_result"
    }
   ],
   "source": [
    "speed_df.tail(8)"
   ]
  },
  {
   "cell_type": "code",
   "execution_count": 42,
   "metadata": {},
   "outputs": [],
   "source": [
    "speed_df = speed_df.loc[speed_df['walk_length'] != 8]"
   ]
  },
  {
   "cell_type": "code",
   "execution_count": 43,
   "metadata": {},
   "outputs": [
    {
     "data": {
      "text/plain": [
       "array([80])"
      ]
     },
     "execution_count": 43,
     "metadata": {},
     "output_type": "execute_result"
    }
   ],
   "source": [
    "speed_df['walk_length'].unique()"
   ]
  },
  {
   "cell_type": "code",
   "execution_count": 44,
   "metadata": {},
   "outputs": [],
   "source": [
    "global_speed_df = speed_df.loc[speed_df['retraining_type'] == 'global']\n",
    "local_speed_df = speed_df.loc[speed_df['retraining_type'] == 'local']"
   ]
  },
  {
   "cell_type": "code",
   "execution_count": 45,
   "metadata": {},
   "outputs": [
    {
     "data": {
      "text/html": [
       "<div>\n",
       "<style scoped>\n",
       "    .dataframe tbody tr th:only-of-type {\n",
       "        vertical-align: middle;\n",
       "    }\n",
       "\n",
       "    .dataframe tbody tr th {\n",
       "        vertical-align: top;\n",
       "    }\n",
       "\n",
       "    .dataframe thead th {\n",
       "        text-align: right;\n",
       "    }\n",
       "</style>\n",
       "<table border=\"1\" class=\"dataframe\">\n",
       "  <thead>\n",
       "    <tr style=\"text-align: right;\">\n",
       "      <th></th>\n",
       "      <th>dataset</th>\n",
       "      <th>retraining_type</th>\n",
       "      <th>parameters</th>\n",
       "      <th>dynamic_update</th>\n",
       "      <th>average_accuracy</th>\n",
       "      <th>training_time</th>\n",
       "      <th>walk_length</th>\n",
       "      <th>walks_num</th>\n",
       "    </tr>\n",
       "  </thead>\n",
       "  <tbody>\n",
       "    <tr>\n",
       "      <th>0</th>\n",
       "      <td>cora</td>\n",
       "      <td>global</td>\n",
       "      <td>(128, 80, 160, 4, 4)</td>\n",
       "      <td>extend</td>\n",
       "      <td>0.790612</td>\n",
       "      <td>415.683768</td>\n",
       "      <td>80</td>\n",
       "      <td>160</td>\n",
       "    </tr>\n",
       "  </tbody>\n",
       "</table>\n",
       "</div>"
      ],
      "text/plain": [
       "  dataset retraining_type            parameters dynamic_update  \\\n",
       "0    cora          global  (128, 80, 160, 4, 4)         extend   \n",
       "\n",
       "   average_accuracy  training_time  walk_length  walks_num  \n",
       "0          0.790612     415.683768           80        160  "
      ]
     },
     "execution_count": 45,
     "metadata": {},
     "output_type": "execute_result"
    }
   ],
   "source": [
    "global_speed_df"
   ]
  },
  {
   "cell_type": "code",
   "execution_count": 46,
   "metadata": {},
   "outputs": [
    {
     "data": {
      "text/plain": [
       "415.683768033981"
      ]
     },
     "execution_count": 46,
     "metadata": {},
     "output_type": "execute_result"
    }
   ],
   "source": [
    "global_speed_df.loc[global_speed_df['walk_length'] == 80, 'training_time'].mean()"
   ]
  },
  {
   "cell_type": "code",
   "execution_count": 47,
   "metadata": {},
   "outputs": [
    {
     "data": {
      "text/plain": [
       "124.809953451157"
      ]
     },
     "execution_count": 47,
     "metadata": {},
     "output_type": "execute_result"
    }
   ],
   "source": [
    "local_speed_df.loc[local_speed_df['walk_length'] == 80, 'training_time'].mean()\n"
   ]
  },
  {
   "cell_type": "code",
   "execution_count": 48,
   "metadata": {},
   "outputs": [
    {
     "data": {
      "text/plain": [
       "nan"
      ]
     },
     "execution_count": 48,
     "metadata": {},
     "output_type": "execute_result"
    }
   ],
   "source": [
    "global_speed_df.loc[global_speed_df['walk_length'] == 40, 'training_time'].mean()"
   ]
  },
  {
   "cell_type": "code",
   "execution_count": 49,
   "metadata": {},
   "outputs": [
    {
     "data": {
      "text/plain": [
       "nan"
      ]
     },
     "execution_count": 49,
     "metadata": {},
     "output_type": "execute_result"
    }
   ],
   "source": [
    "local_speed_df.loc[local_speed_df['walk_length'] == 40, 'training_time'].mean()"
   ]
  },
  {
   "cell_type": "markdown",
   "metadata": {},
   "source": [
    "## One parameter set evaluation "
   ]
  },
  {
   "cell_type": "code",
   "execution_count": 6,
   "metadata": {},
   "outputs": [],
   "source": [
    "param_df = results_df.loc[results_df['parameters'] == '(128, 40, 80, 0.25, 1)']"
   ]
  },
  {
   "cell_type": "code",
   "execution_count": 7,
   "metadata": {},
   "outputs": [],
   "source": [
    "# These are the parameters for calculating the gloal/local difference\n",
    "config = {'parameters': '(128, 40, 80, 0.25, 1)',\n",
    "          'metric': 'macro',\n",
    "          'num_different_nodes': 512}\n",
    "\n",
    "all_stats_dict = {'extend': {}, 'prune': {}}\n",
    "\n",
    "for dynamic_update in all_stats_dict:\n",
    "\n",
    "    for dataset in param_df['dataset'].unique():\n",
    "        \n",
    "        config['dataset'] = dataset\n",
    "        sub_df = accu_time_df_gen(param_df, config)\n",
    "\n",
    "        # if dynamic_update in list(sub_df['dynamic_update']):\n",
    "        dynamic_df = sub_df[sub_df['dynamic_update'] == dynamic_update]\n",
    "        dynamic_df = dynamic_df.reset_index(drop=True)\n",
    "\n",
    "        #  # Calculate the average accuracy difference\n",
    "        # avg_accuracy_diff_perc = 100 * (abs(dynamic_df.loc[0, 'average_accuracy'] - dynamic_df.loc[1, 'average_accuracy']) / dynamic_df.loc[0, 'average_accuracy'])\n",
    "\n",
    "        # # Calculate the training time difference\n",
    "        # training_time_diff_perc = 100 * (abs(dynamic_df.loc[0, 'training_time'] - dynamic_df.loc[1, 'training_time'])) / dynamic_df.loc[0, 'training_time']\n",
    "\n",
    "        # Calculate the average accuracy difference\n",
    "        avg_accuracy_diff_perc = (abs(dynamic_df.loc[0, 'average_accuracy'] - dynamic_df.loc[1, 'average_accuracy']) / dynamic_df.loc[0, 'average_accuracy'])\n",
    "\n",
    "        # Calculate the training time difference\n",
    "        training_time_diff_perc = (abs(dynamic_df.loc[0, 'training_time'] - dynamic_df.loc[1, 'training_time'])) / dynamic_df.loc[0, 'training_time']\n",
    "\n",
    "        all_stats_dict[dynamic_update].update({dataset: (avg_accuracy_diff_perc, training_time_diff_perc)})\n"
   ]
  },
  {
   "cell_type": "code",
   "execution_count": 8,
   "metadata": {},
   "outputs": [
    {
     "data": {
      "text/plain": [
       "{'extend': {'blog_catalog': (0.04318085228351184, 0.6801121722255823),\n",
       "  'wikipedia': (0.029285962240930375, 0.786130452798154),\n",
       "  'PPI': (0.06563866343758801, 0.759588752940188),\n",
       "  'cora': (0.0036741912773315976, 0.6984596418737402)},\n",
       " 'prune': {'blog_catalog': (0.027702744479716407, 0.6661868255195622),\n",
       "  'wikipedia': (0.1672134276511298, 0.7541873442683947),\n",
       "  'PPI': (0.1066271459251596, 0.7964285125068936),\n",
       "  'cora': (0.07093595182937153, 0.9196668580929749)}}"
      ]
     },
     "execution_count": 8,
     "metadata": {},
     "output_type": "execute_result"
    }
   ],
   "source": [
    "all_stats_dict"
   ]
  },
  {
   "cell_type": "code",
   "execution_count": 9,
   "metadata": {},
   "outputs": [
    {
     "data": {
      "text/plain": [
       "True"
      ]
     },
     "execution_count": 9,
     "metadata": {},
     "output_type": "execute_result"
    }
   ],
   "source": [
    "'prune' in list(sub_df['dynamic_update'])"
   ]
  },
  {
   "cell_type": "code",
   "execution_count": 10,
   "metadata": {},
   "outputs": [
    {
     "data": {
      "text/html": [
       "<div>\n",
       "<style scoped>\n",
       "    .dataframe tbody tr th:only-of-type {\n",
       "        vertical-align: middle;\n",
       "    }\n",
       "\n",
       "    .dataframe tbody tr th {\n",
       "        vertical-align: top;\n",
       "    }\n",
       "\n",
       "    .dataframe thead th {\n",
       "        text-align: right;\n",
       "    }\n",
       "</style>\n",
       "<table border=\"1\" class=\"dataframe\">\n",
       "  <thead>\n",
       "    <tr style=\"text-align: right;\">\n",
       "      <th></th>\n",
       "      <th>dataset</th>\n",
       "      <th>retraining_type</th>\n",
       "      <th>parameters</th>\n",
       "      <th>dynamic_update</th>\n",
       "      <th>average_accuracy</th>\n",
       "      <th>training_time</th>\n",
       "    </tr>\n",
       "  </thead>\n",
       "  <tbody>\n",
       "    <tr>\n",
       "      <th>0</th>\n",
       "      <td>cora</td>\n",
       "      <td>global</td>\n",
       "      <td>(128, 40, 80, 0.25, 1)</td>\n",
       "      <td>prune</td>\n",
       "      <td>0.750689</td>\n",
       "      <td>81.678901</td>\n",
       "    </tr>\n",
       "    <tr>\n",
       "      <th>1</th>\n",
       "      <td>cora</td>\n",
       "      <td>local</td>\n",
       "      <td>(128, 40, 80, 0.25, 1)</td>\n",
       "      <td>prune</td>\n",
       "      <td>0.697438</td>\n",
       "      <td>6.561523</td>\n",
       "    </tr>\n",
       "    <tr>\n",
       "      <th>2</th>\n",
       "      <td>cora</td>\n",
       "      <td>global</td>\n",
       "      <td>(128, 40, 80, 0.25, 1)</td>\n",
       "      <td>extend</td>\n",
       "      <td>0.794214</td>\n",
       "      <td>102.186127</td>\n",
       "    </tr>\n",
       "    <tr>\n",
       "      <th>3</th>\n",
       "      <td>cora</td>\n",
       "      <td>local</td>\n",
       "      <td>(128, 40, 80, 0.25, 1)</td>\n",
       "      <td>extend</td>\n",
       "      <td>0.791296</td>\n",
       "      <td>30.813241</td>\n",
       "    </tr>\n",
       "  </tbody>\n",
       "</table>\n",
       "</div>"
      ],
      "text/plain": [
       "  dataset retraining_type              parameters dynamic_update  \\\n",
       "0    cora          global  (128, 40, 80, 0.25, 1)          prune   \n",
       "1    cora           local  (128, 40, 80, 0.25, 1)          prune   \n",
       "2    cora          global  (128, 40, 80, 0.25, 1)         extend   \n",
       "3    cora           local  (128, 40, 80, 0.25, 1)         extend   \n",
       "\n",
       "   average_accuracy  training_time  \n",
       "0          0.750689      81.678901  \n",
       "1          0.697438       6.561523  \n",
       "2          0.794214     102.186127  \n",
       "3          0.791296      30.813241  "
      ]
     },
     "execution_count": 10,
     "metadata": {},
     "output_type": "execute_result"
    }
   ],
   "source": [
    "sub_df = accu_time_df_gen(param_df, config)\n",
    "sub_df"
   ]
  },
  {
   "cell_type": "code",
   "execution_count": 104,
   "metadata": {},
   "outputs": [
    {
     "data": {
      "image/png": "[encoded data removed]",
      "text/plain": [
       "<Figure size 640x480 with 1 Axes>"
      ]
     },
     "metadata": {},
     "output_type": "display_data"
    }
   ],
   "source": [
    "dynamic_update = 'extend'\n",
    "stats_dict = all_stats_dict[dynamic_update]\n",
    "\n",
    "accu_speedup_dataset_plot(all_stats_dict, dynamic_update)"
   ]
  },
  {
   "cell_type": "code",
   "execution_count": 105,
   "metadata": {},
   "outputs": [
    {
     "data": {
      "image/png": "[encoded data removed]",
      "text/plain": [
       "<Figure size 640x480 with 1 Axes>"
      ]
     },
     "metadata": {},
     "output_type": "display_data"
    }
   ],
   "source": [
    "dynamic_update = 'prune'\n",
    "stats_dict = all_stats_dict[dynamic_update]\n",
    "\n",
    "accu_speedup_dataset_plot(all_stats_dict, dynamic_update)"
   ]
  },
  {
   "cell_type": "code",
   "execution_count": null,
   "metadata": {},
   "outputs": [],
   "source": []
  },
  {
   "cell_type": "code",
   "execution_count": null,
   "metadata": {},
   "outputs": [],
   "source": []
  },
  {
   "cell_type": "code",
   "execution_count": null,
   "metadata": {},
   "outputs": [],
   "source": []
  },
  {
   "cell_type": "code",
   "execution_count": null,
   "metadata": {},
   "outputs": [],
   "source": []
  },
  {
   "cell_type": "markdown",
   "metadata": {},
   "source": [
    "## Walk length"
   ]
  },
  {
   "cell_type": "code",
   "execution_count": 118,
   "metadata": {},
   "outputs": [],
   "source": [
    "def dataset_walk_scores_gen(dynamic_update):\n",
    "    '''\n",
    "        Generates macro scores for every dataset\n",
    "        for different walk lengths\n",
    "    '''\n",
    "\n",
    "    # all_datasets = list(results_df['dataset'].unique())\n",
    "    # dynamic_update = 'extend'   \n",
    "\n",
    "    all_datasets = ['blog_catalog', 'wikipedia', 'PPI', 'cora']\n",
    "    all_parameters = list(results_df['parameters'].unique())\n",
    "\n",
    "    config = {  'dynamic_update': dynamic_update,\n",
    "                'metric': 'macro',\n",
    "                'num_different_nodes': 512}\n",
    "\n",
    "    all_dataset_walk_dict = {}\n",
    "\n",
    "    for dataset in all_datasets:\n",
    "        config['dataset'] = dataset\n",
    "        \n",
    "        all_df = mult_params_accu_time_df_gen(results_df, config, all_parameters)\n",
    "\n",
    "        # Apply the function to the 'parameters' column and create new columns\n",
    "        all_df[['walk_length', 'walks_num']] = all_df['parameters'].apply(lambda x: pd.Series(extract_elements(x)))\n",
    "\n",
    "        all_df = all_df[['dataset', 'retraining_type', 'dynamic_update', 'walk_length', 'walks_num', 'average_accuracy', 'training_time']]\n",
    "        all_df = all_df.loc[all_df['walk_length'] != 8]\n",
    "\n",
    "        walk_df = all_df.groupby(['walk_length']).mean(['average_accuracy', 'training_time']).reset_index()\n",
    "\n",
    "        dataset_walk_metric_dict = {row['walk_length']: [row['average_accuracy'], row['training_time']] for _, row in walk_df.iterrows()}\n",
    "\n",
    "        all_dataset_walk_dict[dataset] = dataset_walk_metric_dict\n",
    "\n",
    "    \n",
    "    return all_dataset_walk_dict"
   ]
  },
  {
   "cell_type": "code",
   "execution_count": 119,
   "metadata": {},
   "outputs": [
    {
     "data": {
      "text/plain": [
       "{'blog_catalog': {40.0: [0.201524007815397, 3256.033997217814],\n",
       "  80.0: [0.2006078126419657, 5261.4982323646545]},\n",
       " 'wikipedia': {40.0: [0.11453129285081913, 2771.782344857853],\n",
       "  80.0: [0.12305040023738106, 4396.736878275871]},\n",
       " 'PPI': {40.0: [0.09210627757010621, 261.20492931774686],\n",
       "  80.0: [0.09393444069159347, 492.3110450108846]},\n",
       " 'cora': {40.0: [0.7914862135452094, 100.90610643863675],\n",
       "  80.0: [0.7900403366123152, 201.27813012838362]}}"
      ]
     },
     "execution_count": 119,
     "metadata": {},
     "output_type": "execute_result"
    }
   ],
   "source": [
    "all_dataset_walk_dict = dataset_walk_scores_gen('extend')\n",
    "all_dataset_walk_dict"
   ]
  },
  {
   "cell_type": "code",
   "execution_count": 120,
   "metadata": {},
   "outputs": [
    {
     "data": {
      "text/plain": [
       "{'blog_catalog': {40.0: [0.2005410193711704, 2915.956110060215],\n",
       "  80.0: [0.19999769708238802, 4940.151242733001]},\n",
       " 'wikipedia': {40.0: [0.10423977733313412, 2208.3137067556386]},\n",
       " 'PPI': {40.0: [0.08762960768875264, 208.00507601669864],\n",
       "  80.0: [0.08845783844683341, 396.1347808539868]},\n",
       " 'cora': {40.0: [0.7356225974485624, 67.35816725015638],\n",
       "  80.0: [0.7333733544507433, 134.51013869524004]}}"
      ]
     },
     "execution_count": 120,
     "metadata": {},
     "output_type": "execute_result"
    }
   ],
   "source": [
    "all_dataset_walk_dict = dataset_walk_scores_gen('prune')\n",
    "all_dataset_walk_dict"
   ]
  },
  {
   "cell_type": "markdown",
   "metadata": {},
   "source": [
    "From these results we have similar accuracy but half training time with half walk length (for cora)"
   ]
  },
  {
   "cell_type": "code",
   "execution_count": 121,
   "metadata": {},
   "outputs": [
    {
     "ename": "KeyError",
     "evalue": "'walk_length'",
     "output_type": "error",
     "traceback": [
      "\u001b[0;31m---------------------------------------------------------------------------\u001b[0m",
      "\u001b[0;31mKeyError\u001b[0m                                  Traceback (most recent call last)",
      "File \u001b[0;32m~/venvs/my_environment/lib/python3.10/site-packages/pandas/core/indexes/base.py:3802\u001b[0m, in \u001b[0;36mIndex.get_loc\u001b[0;34m(self, key)\u001b[0m\n\u001b[1;32m   3801\u001b[0m \u001b[38;5;28;01mtry\u001b[39;00m:\n\u001b[0;32m-> 3802\u001b[0m     \u001b[38;5;28;01mreturn\u001b[39;00m \u001b[38;5;28;43mself\u001b[39;49m\u001b[38;5;241;43m.\u001b[39;49m\u001b[43m_engine\u001b[49m\u001b[38;5;241;43m.\u001b[39;49m\u001b[43mget_loc\u001b[49m\u001b[43m(\u001b[49m\u001b[43mcasted_key\u001b[49m\u001b[43m)\u001b[49m\n\u001b[1;32m   3803\u001b[0m \u001b[38;5;28;01mexcept\u001b[39;00m \u001b[38;5;167;01mKeyError\u001b[39;00m \u001b[38;5;28;01mas\u001b[39;00m err:\n",
      "File \u001b[0;32mindex.pyx:153\u001b[0m, in \u001b[0;36mpandas._libs.index.IndexEngine.get_loc\u001b[0;34m()\u001b[0m\n",
      "File \u001b[0;32mindex.pyx:182\u001b[0m, in \u001b[0;36mpandas._libs.index.IndexEngine.get_loc\u001b[0;34m()\u001b[0m\n",
      "File \u001b[0;32mpandas/_libs/hashtable_class_helper.pxi:7081\u001b[0m, in \u001b[0;36mpandas._libs.hashtable.PyObjectHashTable.get_item\u001b[0;34m()\u001b[0m\n",
      "File \u001b[0;32mpandas/_libs/hashtable_class_helper.pxi:7089\u001b[0m, in \u001b[0;36mpandas._libs.hashtable.PyObjectHashTable.get_item\u001b[0;34m()\u001b[0m\n",
      "\u001b[0;31mKeyError\u001b[0m: 'walk_length'",
      "\nThe above exception was the direct cause of the following exception:\n",
      "\u001b[0;31mKeyError\u001b[0m                                  Traceback (most recent call last)",
      "Cell \u001b[0;32mIn[121], line 1\u001b[0m\n\u001b[0;32m----> 1\u001b[0m np\u001b[38;5;241m.\u001b[39mmean(all_df[\u001b[43mall_df\u001b[49m\u001b[43m[\u001b[49m\u001b[38;5;124;43m'\u001b[39;49m\u001b[38;5;124;43mwalk_length\u001b[39;49m\u001b[38;5;124;43m'\u001b[39;49m\u001b[43m]\u001b[49m \u001b[38;5;241m==\u001b[39m \u001b[38;5;241m40\u001b[39m][\u001b[38;5;124m'\u001b[39m\u001b[38;5;124maverage_accuracy\u001b[39m\u001b[38;5;124m'\u001b[39m])\n",
      "File \u001b[0;32m~/venvs/my_environment/lib/python3.10/site-packages/pandas/core/frame.py:4090\u001b[0m, in \u001b[0;36mDataFrame.__getitem__\u001b[0;34m(self, key)\u001b[0m\n\u001b[1;32m   4088\u001b[0m \u001b[38;5;28;01mif\u001b[39;00m \u001b[38;5;28mself\u001b[39m\u001b[38;5;241m.\u001b[39mcolumns\u001b[38;5;241m.\u001b[39mnlevels \u001b[38;5;241m>\u001b[39m \u001b[38;5;241m1\u001b[39m:\n\u001b[1;32m   4089\u001b[0m     \u001b[38;5;28;01mreturn\u001b[39;00m \u001b[38;5;28mself\u001b[39m\u001b[38;5;241m.\u001b[39m_getitem_multilevel(key)\n\u001b[0;32m-> 4090\u001b[0m indexer \u001b[38;5;241m=\u001b[39m \u001b[38;5;28;43mself\u001b[39;49m\u001b[38;5;241;43m.\u001b[39;49m\u001b[43mcolumns\u001b[49m\u001b[38;5;241;43m.\u001b[39;49m\u001b[43mget_loc\u001b[49m\u001b[43m(\u001b[49m\u001b[43mkey\u001b[49m\u001b[43m)\u001b[49m\n\u001b[1;32m   4091\u001b[0m \u001b[38;5;28;01mif\u001b[39;00m is_integer(indexer):\n\u001b[1;32m   4092\u001b[0m     indexer \u001b[38;5;241m=\u001b[39m [indexer]\n",
      "File \u001b[0;32m~/venvs/my_environment/lib/python3.10/site-packages/pandas/core/indexes/base.py:3809\u001b[0m, in \u001b[0;36mIndex.get_loc\u001b[0;34m(self, key)\u001b[0m\n\u001b[1;32m   3804\u001b[0m     \u001b[38;5;28;01mif\u001b[39;00m \u001b[38;5;28misinstance\u001b[39m(casted_key, \u001b[38;5;28mslice\u001b[39m) \u001b[38;5;129;01mor\u001b[39;00m (\n\u001b[1;32m   3805\u001b[0m         \u001b[38;5;28misinstance\u001b[39m(casted_key, abc\u001b[38;5;241m.\u001b[39mIterable)\n\u001b[1;32m   3806\u001b[0m         \u001b[38;5;129;01mand\u001b[39;00m \u001b[38;5;28many\u001b[39m(\u001b[38;5;28misinstance\u001b[39m(x, \u001b[38;5;28mslice\u001b[39m) \u001b[38;5;28;01mfor\u001b[39;00m x \u001b[38;5;129;01min\u001b[39;00m casted_key)\n\u001b[1;32m   3807\u001b[0m     ):\n\u001b[1;32m   3808\u001b[0m         \u001b[38;5;28;01mraise\u001b[39;00m InvalidIndexError(key)\n\u001b[0;32m-> 3809\u001b[0m     \u001b[38;5;28;01mraise\u001b[39;00m \u001b[38;5;167;01mKeyError\u001b[39;00m(key) \u001b[38;5;28;01mfrom\u001b[39;00m \u001b[38;5;21;01merr\u001b[39;00m\n\u001b[1;32m   3810\u001b[0m \u001b[38;5;28;01mexcept\u001b[39;00m \u001b[38;5;167;01mTypeError\u001b[39;00m:\n\u001b[1;32m   3811\u001b[0m     \u001b[38;5;66;03m# If we have a listlike key, _check_indexing_error will raise\u001b[39;00m\n\u001b[1;32m   3812\u001b[0m     \u001b[38;5;66;03m#  InvalidIndexError. Otherwise we fall through and re-raise\u001b[39;00m\n\u001b[1;32m   3813\u001b[0m     \u001b[38;5;66;03m#  the TypeError.\u001b[39;00m\n\u001b[1;32m   3814\u001b[0m     \u001b[38;5;28mself\u001b[39m\u001b[38;5;241m.\u001b[39m_check_indexing_error(key)\n",
      "\u001b[0;31mKeyError\u001b[0m: 'walk_length'"
     ]
    }
   ],
   "source": [
    "np.mean(all_df[all_df['walk_length'] == 40]['average_accuracy'])"
   ]
  },
  {
   "cell_type": "code",
   "execution_count": null,
   "metadata": {},
   "outputs": [
    {
     "data": {
      "text/plain": [
       "0.7900403366123153"
      ]
     },
     "execution_count": 19,
     "metadata": {},
     "output_type": "execute_result"
    }
   ],
   "source": [
    "np.mean(all_df[all_df['walk_length'] == 80]['average_accuracy'])"
   ]
  },
  {
   "cell_type": "code",
   "execution_count": null,
   "metadata": {},
   "outputs": [
    {
     "data": {
      "text/plain": [
       "100.90610643863675"
      ]
     },
     "execution_count": 20,
     "metadata": {},
     "output_type": "execute_result"
    }
   ],
   "source": [
    "np.mean(all_df[all_df['walk_length'] == 40]['training_time'])"
   ]
  },
  {
   "cell_type": "code",
   "execution_count": null,
   "metadata": {},
   "outputs": [
    {
     "data": {
      "text/plain": [
       "201.27813012838368"
      ]
     },
     "execution_count": 21,
     "metadata": {},
     "output_type": "execute_result"
    }
   ],
   "source": [
    "np.mean(all_df[all_df['walk_length'] == 80]['training_time'])"
   ]
  },
  {
   "cell_type": "code",
   "execution_count": null,
   "metadata": {},
   "outputs": [],
   "source": []
  },
  {
   "cell_type": "code",
   "execution_count": null,
   "metadata": {},
   "outputs": [],
   "source": []
  },
  {
   "cell_type": "code",
   "execution_count": null,
   "metadata": {},
   "outputs": [],
   "source": [
    "# fig, axes = plt.subplots(2, 1, figsize=(10, 8))\n",
    "\n",
    "# # Bar plot for Accuracy\n",
    "# sns.barplot(ax=axes[0], data=df.melt(id_vars=['Dataset'], value_vars=['Walk Length 1 Accuracy', 'Walk Length 2 Accuracy']),\n",
    "#             x='Dataset', y='value', hue='variable')\n",
    "# axes[0].set_title('Accuracy by Dataset and Walk Length')\n",
    "# axes[0].set_ylabel('Accuracy')\n",
    "# axes[0].set_xlabel('')\n",
    "\n",
    "# # Bar plot for Time\n",
    "# sns.barplot(ax=axes[1], data=df.melt(id_vars=['Dataset'], value_vars=['Walk Length 1 Time', 'Walk Length 2 Time']),\n",
    "#             x='Dataset', y='value', hue='variable')\n",
    "# axes[1].set_title('Time by Dataset and Walk Length')\n",
    "# axes[1].set_ylabel('Time')\n",
    "# axes[1].set_xlabel('Dataset')\n",
    "\n",
    "# plt.tight_layout()\n",
    "# plt.show()\n"
   ]
  },
  {
   "cell_type": "code",
   "execution_count": null,
   "metadata": {},
   "outputs": [],
   "source": []
  },
  {
   "cell_type": "code",
   "execution_count": null,
   "metadata": {},
   "outputs": [],
   "source": []
  },
  {
   "cell_type": "code",
   "execution_count": 122,
   "metadata": {},
   "outputs": [
    {
     "data": {
      "text/plain": [
       "{'blog_catalog': {40.0: [0.2005410193711704, 2915.956110060215],\n",
       "  80.0: [0.19999769708238802, 4940.151242733001]},\n",
       " 'wikipedia': {40.0: [0.10423977733313412, 2208.3137067556386]},\n",
       " 'PPI': {40.0: [0.08762960768875264, 208.00507601669864],\n",
       "  80.0: [0.08845783844683341, 396.1347808539868]},\n",
       " 'cora': {40.0: [0.7356225974485624, 67.35816725015638],\n",
       "  80.0: [0.7333733544507433, 134.51013869524004]}}"
      ]
     },
     "execution_count": 122,
     "metadata": {},
     "output_type": "execute_result"
    }
   ],
   "source": [
    "all_dataset_walk_dict"
   ]
  },
  {
   "cell_type": "code",
   "execution_count": 123,
   "metadata": {},
   "outputs": [
    {
     "data": {
      "text/plain": [
       "{'blog_catalog': {40.0: [0.201524007815397, 3256.033997217814],\n",
       "  80.0: [0.2006078126419657, 5261.4982323646545]},\n",
       " 'wikipedia': {40.0: [0.11453129285081913, 2771.782344857853],\n",
       "  80.0: [0.12305040023738106, 4396.736878275871]},\n",
       " 'PPI': {40.0: [0.09210627757010621, 261.20492931774686],\n",
       "  80.0: [0.09393444069159347, 492.3110450108846]},\n",
       " 'cora': {40.0: [0.7914862135452094, 100.90610643863675],\n",
       "  80.0: [0.7900403366123152, 201.27813012838362]}}"
      ]
     },
     "execution_count": 123,
     "metadata": {},
     "output_type": "execute_result"
    }
   ],
   "source": [
    "dynamic_update = 'extend'\n",
    "\n",
    "all_dataset_walk_dict = dataset_walk_scores_gen(dynamic_update)\n",
    "all_dataset_walk_dict\n"
   ]
  },
  {
   "cell_type": "code",
   "execution_count": 124,
   "metadata": {},
   "outputs": [
    {
     "data": {
      "image/png": "[encoded data removed]",
      "text/plain": [
       "<Figure size 640x480 with 1 Axes>"
      ]
     },
     "metadata": {},
     "output_type": "display_data"
    }
   ],
   "source": [
    "dataset_walk_plot(dynamic_update, 'accuracy', all_dataset_walk_dict)"
   ]
  },
  {
   "cell_type": "code",
   "execution_count": 125,
   "metadata": {},
   "outputs": [
    {
     "data": {
      "image/png": "[encoded data removed]",
      "text/plain": [
       "<Figure size 640x480 with 1 Axes>"
      ]
     },
     "metadata": {},
     "output_type": "display_data"
    }
   ],
   "source": [
    "dataset_walk_plot(dynamic_update, 'time', all_dataset_walk_dict)"
   ]
  },
  {
   "cell_type": "code",
   "execution_count": 126,
   "metadata": {},
   "outputs": [
    {
     "data": {
      "text/plain": [
       "{'blog_catalog': {40.0: [0.2005410193711704, 2915.956110060215],\n",
       "  80.0: [0.19999769708238802, 4940.151242733001]},\n",
       " 'wikipedia': {40.0: [0.10423977733313412, 2208.3137067556386]},\n",
       " 'PPI': {40.0: [0.08762960768875264, 208.00507601669864],\n",
       "  80.0: [0.08845783844683341, 396.1347808539868]},\n",
       " 'cora': {40.0: [0.7356225974485624, 67.35816725015638],\n",
       "  80.0: [0.7333733544507433, 134.51013869524004]}}"
      ]
     },
     "execution_count": 126,
     "metadata": {},
     "output_type": "execute_result"
    }
   ],
   "source": [
    "dynamic_update = 'prune'\n",
    "\n",
    "all_dataset_walk_dict = dataset_walk_scores_gen(dynamic_update)\n",
    "all_dataset_walk_dict\n"
   ]
  },
  {
   "cell_type": "code",
   "execution_count": 127,
   "metadata": {},
   "outputs": [
    {
     "data": {
      "image/png": "[encoded data removed]",
      "text/plain": [
       "<Figure size 640x480 with 1 Axes>"
      ]
     },
     "metadata": {},
     "output_type": "display_data"
    }
   ],
   "source": [
    "dataset_walk_plot(dynamic_update, 'accuracy', all_dataset_walk_dict)"
   ]
  },
  {
   "cell_type": "code",
   "execution_count": 128,
   "metadata": {},
   "outputs": [
    {
     "data": {
      "image/png": "[encoded data removed]",
      "text/plain": [
       "<Figure size 640x480 with 1 Axes>"
      ]
     },
     "metadata": {},
     "output_type": "display_data"
    }
   ],
   "source": [
    "dataset_walk_plot(dynamic_update, 'time', all_dataset_walk_dict)"
   ]
  },
  {
   "cell_type": "code",
   "execution_count": null,
   "metadata": {},
   "outputs": [],
   "source": []
  },
  {
   "cell_type": "markdown",
   "metadata": {},
   "source": [
    "## Centrality"
   ]
  },
  {
   "cell_type": "code",
   "execution_count": 4,
   "metadata": {},
   "outputs": [
    {
     "data": {
      "text/html": [
       "<div>\n",
       "<style scoped>\n",
       "    .dataframe tbody tr th:only-of-type {\n",
       "        vertical-align: middle;\n",
       "    }\n",
       "\n",
       "    .dataframe tbody tr th {\n",
       "        vertical-align: top;\n",
       "    }\n",
       "\n",
       "    .dataframe thead th {\n",
       "        text-align: right;\n",
       "    }\n",
       "</style>\n",
       "<table border=\"1\" class=\"dataframe\">\n",
       "  <thead>\n",
       "    <tr style=\"text-align: right;\">\n",
       "      <th></th>\n",
       "      <th>dataset</th>\n",
       "      <th>nodes</th>\n",
       "      <th>edges</th>\n",
       "      <th>retraining_type</th>\n",
       "      <th>metric</th>\n",
       "      <th>10%</th>\n",
       "      <th>20%</th>\n",
       "      <th>30%</th>\n",
       "      <th>40%</th>\n",
       "      <th>50%</th>\n",
       "      <th>...</th>\n",
       "      <th>70%</th>\n",
       "      <th>80%</th>\n",
       "      <th>90%</th>\n",
       "      <th>parameters</th>\n",
       "      <th>training_time</th>\n",
       "      <th>dynamic_update</th>\n",
       "      <th>num_different_nodes</th>\n",
       "      <th>num_starting_nodes</th>\n",
       "      <th>removal_process</th>\n",
       "      <th>execution_timestamp</th>\n",
       "    </tr>\n",
       "  </thead>\n",
       "  <tbody>\n",
       "    <tr>\n",
       "      <th>0</th>\n",
       "      <td>PPI</td>\n",
       "      <td>3890</td>\n",
       "      <td>38739</td>\n",
       "      <td>global</td>\n",
       "      <td>macro</td>\n",
       "      <td>0.117919</td>\n",
       "      <td>0.123484</td>\n",
       "      <td>0.120631</td>\n",
       "      <td>0.109218</td>\n",
       "      <td>0.101414</td>\n",
       "      <td>...</td>\n",
       "      <td>0.092165</td>\n",
       "      <td>0.070849</td>\n",
       "      <td>0.061516</td>\n",
       "      <td>(128, 40, 80, 0.25, 1)</td>\n",
       "      <td>333.163013</td>\n",
       "      <td>prune</td>\n",
       "      <td>512</td>\n",
       "      <td>2227</td>\n",
       "      <td>betweenness_centrality</td>\n",
       "      <td>11/07/2024 - 20:15</td>\n",
       "    </tr>\n",
       "    <tr>\n",
       "      <th>1</th>\n",
       "      <td>PPI</td>\n",
       "      <td>3890</td>\n",
       "      <td>38739</td>\n",
       "      <td>global</td>\n",
       "      <td>micro</td>\n",
       "      <td>0.180473</td>\n",
       "      <td>0.184911</td>\n",
       "      <td>0.166667</td>\n",
       "      <td>0.154586</td>\n",
       "      <td>0.137951</td>\n",
       "      <td>...</td>\n",
       "      <td>0.131924</td>\n",
       "      <td>0.107658</td>\n",
       "      <td>0.098323</td>\n",
       "      <td>(128, 40, 80, 0.25, 1)</td>\n",
       "      <td>333.163013</td>\n",
       "      <td>prune</td>\n",
       "      <td>512</td>\n",
       "      <td>2227</td>\n",
       "      <td>betweenness_centrality</td>\n",
       "      <td>11/07/2024 - 20:15</td>\n",
       "    </tr>\n",
       "    <tr>\n",
       "      <th>2</th>\n",
       "      <td>PPI</td>\n",
       "      <td>3890</td>\n",
       "      <td>38739</td>\n",
       "      <td>local</td>\n",
       "      <td>macro</td>\n",
       "      <td>0.091723</td>\n",
       "      <td>0.084281</td>\n",
       "      <td>0.094639</td>\n",
       "      <td>0.091126</td>\n",
       "      <td>0.081769</td>\n",
       "      <td>...</td>\n",
       "      <td>0.071375</td>\n",
       "      <td>0.065970</td>\n",
       "      <td>0.051746</td>\n",
       "      <td>(128, 40, 80, 0.25, 1)</td>\n",
       "      <td>68.855529</td>\n",
       "      <td>prune</td>\n",
       "      <td>512</td>\n",
       "      <td>2227</td>\n",
       "      <td>betweenness_centrality</td>\n",
       "      <td>11/07/2024 - 20:15</td>\n",
       "    </tr>\n",
       "    <tr>\n",
       "      <th>3</th>\n",
       "      <td>PPI</td>\n",
       "      <td>3890</td>\n",
       "      <td>38739</td>\n",
       "      <td>local</td>\n",
       "      <td>micro</td>\n",
       "      <td>0.136986</td>\n",
       "      <td>0.135802</td>\n",
       "      <td>0.139854</td>\n",
       "      <td>0.128944</td>\n",
       "      <td>0.119649</td>\n",
       "      <td>...</td>\n",
       "      <td>0.103881</td>\n",
       "      <td>0.096022</td>\n",
       "      <td>0.077744</td>\n",
       "      <td>(128, 40, 80, 0.25, 1)</td>\n",
       "      <td>68.855529</td>\n",
       "      <td>prune</td>\n",
       "      <td>512</td>\n",
       "      <td>2227</td>\n",
       "      <td>betweenness_centrality</td>\n",
       "      <td>11/07/2024 - 20:15</td>\n",
       "    </tr>\n",
       "    <tr>\n",
       "      <th>4</th>\n",
       "      <td>PPI</td>\n",
       "      <td>3890</td>\n",
       "      <td>38739</td>\n",
       "      <td>global</td>\n",
       "      <td>macro</td>\n",
       "      <td>0.113568</td>\n",
       "      <td>0.106821</td>\n",
       "      <td>0.097135</td>\n",
       "      <td>0.097138</td>\n",
       "      <td>0.086269</td>\n",
       "      <td>...</td>\n",
       "      <td>0.078349</td>\n",
       "      <td>0.073512</td>\n",
       "      <td>0.066392</td>\n",
       "      <td>(128, 40, 80, 0.25, 1)</td>\n",
       "      <td>407.610555</td>\n",
       "      <td>extend</td>\n",
       "      <td>512</td>\n",
       "      <td>512</td>\n",
       "      <td>betweenness_centrality</td>\n",
       "      <td>11/07/2024 - 20:01</td>\n",
       "    </tr>\n",
       "  </tbody>\n",
       "</table>\n",
       "<p>5 rows × 21 columns</p>\n",
       "</div>"
      ],
      "text/plain": [
       "  dataset  nodes  edges retraining_type metric       10%       20%       30%  \\\n",
       "0     PPI   3890  38739          global  macro  0.117919  0.123484  0.120631   \n",
       "1     PPI   3890  38739          global  micro  0.180473  0.184911  0.166667   \n",
       "2     PPI   3890  38739           local  macro  0.091723  0.084281  0.094639   \n",
       "3     PPI   3890  38739           local  micro  0.136986  0.135802  0.139854   \n",
       "4     PPI   3890  38739          global  macro  0.113568  0.106821  0.097135   \n",
       "\n",
       "        40%       50%  ...       70%       80%       90%  \\\n",
       "0  0.109218  0.101414  ...  0.092165  0.070849  0.061516   \n",
       "1  0.154586  0.137951  ...  0.131924  0.107658  0.098323   \n",
       "2  0.091126  0.081769  ...  0.071375  0.065970  0.051746   \n",
       "3  0.128944  0.119649  ...  0.103881  0.096022  0.077744   \n",
       "4  0.097138  0.086269  ...  0.078349  0.073512  0.066392   \n",
       "\n",
       "               parameters training_time  dynamic_update num_different_nodes  \\\n",
       "0  (128, 40, 80, 0.25, 1)    333.163013           prune                 512   \n",
       "1  (128, 40, 80, 0.25, 1)    333.163013           prune                 512   \n",
       "2  (128, 40, 80, 0.25, 1)     68.855529           prune                 512   \n",
       "3  (128, 40, 80, 0.25, 1)     68.855529           prune                 512   \n",
       "4  (128, 40, 80, 0.25, 1)    407.610555          extend                 512   \n",
       "\n",
       "   num_starting_nodes         removal_process execution_timestamp  \n",
       "0                2227  betweenness_centrality  11/07/2024 - 20:15  \n",
       "1                2227  betweenness_centrality  11/07/2024 - 20:15  \n",
       "2                2227  betweenness_centrality  11/07/2024 - 20:15  \n",
       "3                2227  betweenness_centrality  11/07/2024 - 20:15  \n",
       "4                 512  betweenness_centrality  11/07/2024 - 20:01  \n",
       "\n",
       "[5 rows x 21 columns]"
      ]
     },
     "execution_count": 4,
     "metadata": {},
     "output_type": "execute_result"
    }
   ],
   "source": [
    "results_df.head()"
   ]
  },
  {
   "cell_type": "code",
   "execution_count": 21,
   "metadata": {},
   "outputs": [],
   "source": [
    "# These are the parameters for calculating the gloal/local difference\n",
    "config = {'dataset': 'PPI',\n",
    "          'dynamic_update': 'prune',\n",
    "          'metric': 'macro',\n",
    "          'parameters': '(128, 40, 80, 0.25, 1)'}"
   ]
  },
  {
   "cell_type": "code",
   "execution_count": 22,
   "metadata": {},
   "outputs": [],
   "source": [
    "sub_df = results_df.copy()\n",
    "\n",
    "for key in config:\n",
    "    sub_df = sub_df[sub_df.loc[:, key] == config[key]]"
   ]
  },
  {
   "cell_type": "code",
   "execution_count": 23,
   "metadata": {},
   "outputs": [
    {
     "data": {
      "text/html": [
       "<div>\n",
       "<style scoped>\n",
       "    .dataframe tbody tr th:only-of-type {\n",
       "        vertical-align: middle;\n",
       "    }\n",
       "\n",
       "    .dataframe tbody tr th {\n",
       "        vertical-align: top;\n",
       "    }\n",
       "\n",
       "    .dataframe thead th {\n",
       "        text-align: right;\n",
       "    }\n",
       "</style>\n",
       "<table border=\"1\" class=\"dataframe\">\n",
       "  <thead>\n",
       "    <tr style=\"text-align: right;\">\n",
       "      <th></th>\n",
       "      <th>dataset</th>\n",
       "      <th>nodes</th>\n",
       "      <th>edges</th>\n",
       "      <th>retraining_type</th>\n",
       "      <th>metric</th>\n",
       "      <th>10%</th>\n",
       "      <th>20%</th>\n",
       "      <th>30%</th>\n",
       "      <th>40%</th>\n",
       "      <th>50%</th>\n",
       "      <th>...</th>\n",
       "      <th>70%</th>\n",
       "      <th>80%</th>\n",
       "      <th>90%</th>\n",
       "      <th>parameters</th>\n",
       "      <th>training_time</th>\n",
       "      <th>dynamic_update</th>\n",
       "      <th>num_different_nodes</th>\n",
       "      <th>num_starting_nodes</th>\n",
       "      <th>removal_process</th>\n",
       "      <th>execution_timestamp</th>\n",
       "    </tr>\n",
       "  </thead>\n",
       "  <tbody>\n",
       "    <tr>\n",
       "      <th>0</th>\n",
       "      <td>PPI</td>\n",
       "      <td>3890</td>\n",
       "      <td>38739</td>\n",
       "      <td>global</td>\n",
       "      <td>macro</td>\n",
       "      <td>0.117919</td>\n",
       "      <td>0.123484</td>\n",
       "      <td>0.120631</td>\n",
       "      <td>0.109218</td>\n",
       "      <td>0.101414</td>\n",
       "      <td>...</td>\n",
       "      <td>0.092165</td>\n",
       "      <td>0.070849</td>\n",
       "      <td>0.061516</td>\n",
       "      <td>(128, 40, 80, 0.25, 1)</td>\n",
       "      <td>333.163013</td>\n",
       "      <td>prune</td>\n",
       "      <td>512</td>\n",
       "      <td>2227</td>\n",
       "      <td>betweenness_centrality</td>\n",
       "      <td>11/07/2024 - 20:15</td>\n",
       "    </tr>\n",
       "    <tr>\n",
       "      <th>2</th>\n",
       "      <td>PPI</td>\n",
       "      <td>3890</td>\n",
       "      <td>38739</td>\n",
       "      <td>local</td>\n",
       "      <td>macro</td>\n",
       "      <td>0.091723</td>\n",
       "      <td>0.084281</td>\n",
       "      <td>0.094639</td>\n",
       "      <td>0.091126</td>\n",
       "      <td>0.081769</td>\n",
       "      <td>...</td>\n",
       "      <td>0.071375</td>\n",
       "      <td>0.065970</td>\n",
       "      <td>0.051746</td>\n",
       "      <td>(128, 40, 80, 0.25, 1)</td>\n",
       "      <td>68.855529</td>\n",
       "      <td>prune</td>\n",
       "      <td>512</td>\n",
       "      <td>2227</td>\n",
       "      <td>betweenness_centrality</td>\n",
       "      <td>11/07/2024 - 20:15</td>\n",
       "    </tr>\n",
       "    <tr>\n",
       "      <th>256</th>\n",
       "      <td>PPI</td>\n",
       "      <td>3890</td>\n",
       "      <td>38739</td>\n",
       "      <td>global</td>\n",
       "      <td>macro</td>\n",
       "      <td>0.100238</td>\n",
       "      <td>0.102293</td>\n",
       "      <td>0.089567</td>\n",
       "      <td>0.097844</td>\n",
       "      <td>0.088332</td>\n",
       "      <td>...</td>\n",
       "      <td>0.075928</td>\n",
       "      <td>0.066621</td>\n",
       "      <td>0.054594</td>\n",
       "      <td>(128, 40, 80, 0.25, 1)</td>\n",
       "      <td>341.050711</td>\n",
       "      <td>prune</td>\n",
       "      <td>512</td>\n",
       "      <td>2227</td>\n",
       "      <td>random</td>\n",
       "      <td>12/06/2024 - 17:53</td>\n",
       "    </tr>\n",
       "    <tr>\n",
       "      <th>258</th>\n",
       "      <td>PPI</td>\n",
       "      <td>3890</td>\n",
       "      <td>38739</td>\n",
       "      <td>local</td>\n",
       "      <td>macro</td>\n",
       "      <td>0.079820</td>\n",
       "      <td>0.070594</td>\n",
       "      <td>0.080996</td>\n",
       "      <td>0.087415</td>\n",
       "      <td>0.087862</td>\n",
       "      <td>...</td>\n",
       "      <td>0.075724</td>\n",
       "      <td>0.068366</td>\n",
       "      <td>0.055067</td>\n",
       "      <td>(128, 40, 80, 0.25, 1)</td>\n",
       "      <td>69.428200</td>\n",
       "      <td>prune</td>\n",
       "      <td>512</td>\n",
       "      <td>2227</td>\n",
       "      <td>random</td>\n",
       "      <td>12/06/2024 - 17:53</td>\n",
       "    </tr>\n",
       "  </tbody>\n",
       "</table>\n",
       "<p>4 rows × 21 columns</p>\n",
       "</div>"
      ],
      "text/plain": [
       "    dataset  nodes  edges retraining_type metric       10%       20%  \\\n",
       "0       PPI   3890  38739          global  macro  0.117919  0.123484   \n",
       "2       PPI   3890  38739           local  macro  0.091723  0.084281   \n",
       "256     PPI   3890  38739          global  macro  0.100238  0.102293   \n",
       "258     PPI   3890  38739           local  macro  0.079820  0.070594   \n",
       "\n",
       "          30%       40%       50%  ...       70%       80%       90%  \\\n",
       "0    0.120631  0.109218  0.101414  ...  0.092165  0.070849  0.061516   \n",
       "2    0.094639  0.091126  0.081769  ...  0.071375  0.065970  0.051746   \n",
       "256  0.089567  0.097844  0.088332  ...  0.075928  0.066621  0.054594   \n",
       "258  0.080996  0.087415  0.087862  ...  0.075724  0.068366  0.055067   \n",
       "\n",
       "                 parameters training_time  dynamic_update num_different_nodes  \\\n",
       "0    (128, 40, 80, 0.25, 1)    333.163013           prune                 512   \n",
       "2    (128, 40, 80, 0.25, 1)     68.855529           prune                 512   \n",
       "256  (128, 40, 80, 0.25, 1)    341.050711           prune                 512   \n",
       "258  (128, 40, 80, 0.25, 1)     69.428200           prune                 512   \n",
       "\n",
       "     num_starting_nodes         removal_process execution_timestamp  \n",
       "0                  2227  betweenness_centrality  11/07/2024 - 20:15  \n",
       "2                  2227  betweenness_centrality  11/07/2024 - 20:15  \n",
       "256                2227                  random  12/06/2024 - 17:53  \n",
       "258                2227                  random  12/06/2024 - 17:53  \n",
       "\n",
       "[4 rows x 21 columns]"
      ]
     },
     "execution_count": 23,
     "metadata": {},
     "output_type": "execute_result"
    }
   ],
   "source": [
    "sub_df"
   ]
  },
  {
   "cell_type": "code",
   "execution_count": null,
   "metadata": {},
   "outputs": [],
   "source": []
  }
 ],
 "metadata": {
  "kernelspec": {
   "display_name": "Python 3.10",
   "language": "python",
   "name": "py3.10"
  },
  "language_info": {
   "codemirror_mode": {
    "name": "ipython",
    "version": 3
   },
   "file_extension": ".py",
   "mimetype": "text/x-python",
   "name": "python",
   "nbconvert_exporter": "python",
   "pygments_lexer": "ipython3",
   "version": "3.10.13"
  }
 },
 "nbformat": 4,
 "nbformat_minor": 2
}
