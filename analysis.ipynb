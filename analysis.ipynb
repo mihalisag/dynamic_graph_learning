{
 "cells": [
  {
   "cell_type": "markdown",
   "metadata": {},
   "source": [
    "# Analysis of results "
   ]
  },
  {
   "cell_type": "code",
   "execution_count": 1,
   "metadata": {},
   "outputs": [
    {
     "name": "stdout",
     "output_type": "stream",
     "text": [
      "/home/jovyan/thesis\n"
     ]
    },
    {
     "name": "stderr",
     "output_type": "stream",
     "text": [
      "/home/jovyan/venvs/my_environment/lib/python3.10/site-packages/IPython/core/magics/osm.py:393: UserWarning: using bookmarks requires you to install the `pickleshare` library.\n",
      "  bkms = self.shell.db.get('bookmarks', {})\n",
      "/home/jovyan/venvs/my_environment/lib/python3.10/site-packages/IPython/core/magics/osm.py:417: UserWarning: using dhist requires you to install the `pickleshare` library.\n",
      "  self.shell.db['dhist'] = compress_dhist(dhist)[-100:]\n"
     ]
    }
   ],
   "source": [
    "cd ~/thesis/"
   ]
  },
  {
   "cell_type": "markdown",
   "metadata": {},
   "source": [
    "## Initial processing"
   ]
  },
  {
   "cell_type": "code",
   "execution_count": 2,
   "metadata": {},
   "outputs": [
    {
     "name": "stderr",
     "output_type": "stream",
     "text": [
      "/tmp/ipykernel_330/70208650.py:2: DeprecationWarning: \n",
      "Pyarrow will become a required dependency of pandas in the next major release of pandas (pandas 3.0),\n",
      "(to allow more performant data types, such as the Arrow string type, and better interoperability with other libraries)\n",
      "but was not found to be installed on your system.\n",
      "If this would cause problems for you,\n",
      "please provide us feedback at https://github.com/pandas-dev/pandas/issues/54466\n",
      "        \n",
      "  import pandas as pd\n"
     ]
    }
   ],
   "source": [
    "import numpy as np\n",
    "import pandas as pd\n",
    "\n",
    "import matplotlib.pyplot as plt\n",
    "\n",
    "import ast\n",
    "\n",
    "from analysis_utils import *"
   ]
  },
  {
   "cell_type": "code",
   "execution_count": 3,
   "metadata": {},
   "outputs": [],
   "source": [
    "results_df = pd.read_csv('results.csv')"
   ]
  },
  {
   "cell_type": "code",
   "execution_count": 4,
   "metadata": {},
   "outputs": [
    {
     "data": {
      "text/html": [
       "<div>\n",
       "<style scoped>\n",
       "    .dataframe tbody tr th:only-of-type {\n",
       "        vertical-align: middle;\n",
       "    }\n",
       "\n",
       "    .dataframe tbody tr th {\n",
       "        vertical-align: top;\n",
       "    }\n",
       "\n",
       "    .dataframe thead th {\n",
       "        text-align: right;\n",
       "    }\n",
       "</style>\n",
       "<table border=\"1\" class=\"dataframe\">\n",
       "  <thead>\n",
       "    <tr style=\"text-align: right;\">\n",
       "      <th></th>\n",
       "      <th>dataset</th>\n",
       "      <th>nodes</th>\n",
       "      <th>edges</th>\n",
       "      <th>retraining_type</th>\n",
       "      <th>metric</th>\n",
       "      <th>10%</th>\n",
       "      <th>20%</th>\n",
       "      <th>30%</th>\n",
       "      <th>40%</th>\n",
       "      <th>50%</th>\n",
       "      <th>60%</th>\n",
       "      <th>70%</th>\n",
       "      <th>80%</th>\n",
       "      <th>90%</th>\n",
       "      <th>parameters</th>\n",
       "      <th>training_time</th>\n",
       "      <th>dynamic_update</th>\n",
       "      <th>num_different_nodes</th>\n",
       "      <th>num_starting_nodes</th>\n",
       "      <th>execution_timestamp</th>\n",
       "    </tr>\n",
       "  </thead>\n",
       "  <tbody>\n",
       "    <tr>\n",
       "      <th>0</th>\n",
       "      <td>blog_catalog</td>\n",
       "      <td>10312</td>\n",
       "      <td>333983</td>\n",
       "      <td>global</td>\n",
       "      <td>macro</td>\n",
       "      <td>0.200753</td>\n",
       "      <td>0.199724</td>\n",
       "      <td>0.214322</td>\n",
       "      <td>0.201168</td>\n",
       "      <td>0.206342</td>\n",
       "      <td>0.200239</td>\n",
       "      <td>0.198569</td>\n",
       "      <td>0.192867</td>\n",
       "      <td>0.195230</td>\n",
       "      <td>(128, 40, 80, 0.25, 1)</td>\n",
       "      <td>5098.421046</td>\n",
       "      <td>extend</td>\n",
       "      <td>512</td>\n",
       "      <td>512</td>\n",
       "      <td>14/06/2024 - 19:57</td>\n",
       "    </tr>\n",
       "    <tr>\n",
       "      <th>1</th>\n",
       "      <td>blog_catalog</td>\n",
       "      <td>10312</td>\n",
       "      <td>333983</td>\n",
       "      <td>global</td>\n",
       "      <td>micro</td>\n",
       "      <td>0.204457</td>\n",
       "      <td>0.201648</td>\n",
       "      <td>0.214932</td>\n",
       "      <td>0.201939</td>\n",
       "      <td>0.207331</td>\n",
       "      <td>0.200388</td>\n",
       "      <td>0.199335</td>\n",
       "      <td>0.193939</td>\n",
       "      <td>0.195453</td>\n",
       "      <td>(128, 40, 80, 0.25, 1)</td>\n",
       "      <td>5098.421046</td>\n",
       "      <td>extend</td>\n",
       "      <td>512</td>\n",
       "      <td>512</td>\n",
       "      <td>14/06/2024 - 19:57</td>\n",
       "    </tr>\n",
       "    <tr>\n",
       "      <th>2</th>\n",
       "      <td>blog_catalog</td>\n",
       "      <td>10312</td>\n",
       "      <td>333983</td>\n",
       "      <td>local</td>\n",
       "      <td>macro</td>\n",
       "      <td>0.183361</td>\n",
       "      <td>0.202239</td>\n",
       "      <td>0.196802</td>\n",
       "      <td>0.206104</td>\n",
       "      <td>0.213029</td>\n",
       "      <td>0.212130</td>\n",
       "      <td>0.213315</td>\n",
       "      <td>0.205747</td>\n",
       "      <td>0.208313</td>\n",
       "      <td>(128, 40, 80, 0.25, 1)</td>\n",
       "      <td>1466.205247</td>\n",
       "      <td>extend</td>\n",
       "      <td>512</td>\n",
       "      <td>512</td>\n",
       "      <td>14/06/2024 - 19:57</td>\n",
       "    </tr>\n",
       "    <tr>\n",
       "      <th>3</th>\n",
       "      <td>blog_catalog</td>\n",
       "      <td>10312</td>\n",
       "      <td>333983</td>\n",
       "      <td>local</td>\n",
       "      <td>micro</td>\n",
       "      <td>0.185078</td>\n",
       "      <td>0.203102</td>\n",
       "      <td>0.197802</td>\n",
       "      <td>0.207030</td>\n",
       "      <td>0.214119</td>\n",
       "      <td>0.213316</td>\n",
       "      <td>0.214711</td>\n",
       "      <td>0.208000</td>\n",
       "      <td>0.209676</td>\n",
       "      <td>(128, 40, 80, 0.25, 1)</td>\n",
       "      <td>1466.205247</td>\n",
       "      <td>extend</td>\n",
       "      <td>512</td>\n",
       "      <td>512</td>\n",
       "      <td>14/06/2024 - 19:57</td>\n",
       "    </tr>\n",
       "    <tr>\n",
       "      <th>4</th>\n",
       "      <td>blog_catalog</td>\n",
       "      <td>10312</td>\n",
       "      <td>333983</td>\n",
       "      <td>global</td>\n",
       "      <td>macro</td>\n",
       "      <td>0.209010</td>\n",
       "      <td>0.205892</td>\n",
       "      <td>0.206661</td>\n",
       "      <td>0.204214</td>\n",
       "      <td>0.202344</td>\n",
       "      <td>0.195139</td>\n",
       "      <td>0.198391</td>\n",
       "      <td>0.207131</td>\n",
       "      <td>0.201637</td>\n",
       "      <td>(128, 40, 80, 0.25, 1)</td>\n",
       "      <td>4254.954576</td>\n",
       "      <td>prune</td>\n",
       "      <td>512</td>\n",
       "      <td>5876</td>\n",
       "      <td>14/06/2024 - 16:52</td>\n",
       "    </tr>\n",
       "    <tr>\n",
       "      <th>5</th>\n",
       "      <td>blog_catalog</td>\n",
       "      <td>10312</td>\n",
       "      <td>333983</td>\n",
       "      <td>global</td>\n",
       "      <td>micro</td>\n",
       "      <td>0.209184</td>\n",
       "      <td>0.206122</td>\n",
       "      <td>0.208092</td>\n",
       "      <td>0.205357</td>\n",
       "      <td>0.203469</td>\n",
       "      <td>0.195748</td>\n",
       "      <td>0.199971</td>\n",
       "      <td>0.207781</td>\n",
       "      <td>0.202381</td>\n",
       "      <td>(128, 40, 80, 0.25, 1)</td>\n",
       "      <td>4254.954576</td>\n",
       "      <td>prune</td>\n",
       "      <td>512</td>\n",
       "      <td>5876</td>\n",
       "      <td>14/06/2024 - 16:52</td>\n",
       "    </tr>\n",
       "    <tr>\n",
       "      <th>6</th>\n",
       "      <td>blog_catalog</td>\n",
       "      <td>10312</td>\n",
       "      <td>333983</td>\n",
       "      <td>local</td>\n",
       "      <td>macro</td>\n",
       "      <td>0.178364</td>\n",
       "      <td>0.192953</td>\n",
       "      <td>0.188758</td>\n",
       "      <td>0.200132</td>\n",
       "      <td>0.201297</td>\n",
       "      <td>0.201317</td>\n",
       "      <td>0.193922</td>\n",
       "      <td>0.206374</td>\n",
       "      <td>0.203722</td>\n",
       "      <td>(128, 40, 80, 0.25, 1)</td>\n",
       "      <td>1494.013343</td>\n",
       "      <td>prune</td>\n",
       "      <td>512</td>\n",
       "      <td>5876</td>\n",
       "      <td>14/06/2024 - 16:52</td>\n",
       "    </tr>\n",
       "    <tr>\n",
       "      <th>7</th>\n",
       "      <td>blog_catalog</td>\n",
       "      <td>10312</td>\n",
       "      <td>333983</td>\n",
       "      <td>local</td>\n",
       "      <td>micro</td>\n",
       "      <td>0.181202</td>\n",
       "      <td>0.194377</td>\n",
       "      <td>0.190368</td>\n",
       "      <td>0.202909</td>\n",
       "      <td>0.202676</td>\n",
       "      <td>0.202650</td>\n",
       "      <td>0.194902</td>\n",
       "      <td>0.206788</td>\n",
       "      <td>0.204612</td>\n",
       "      <td>(128, 40, 80, 0.25, 1)</td>\n",
       "      <td>1494.013343</td>\n",
       "      <td>prune</td>\n",
       "      <td>512</td>\n",
       "      <td>5876</td>\n",
       "      <td>14/06/2024 - 16:52</td>\n",
       "    </tr>\n",
       "    <tr>\n",
       "      <th>8</th>\n",
       "      <td>blog_catalog</td>\n",
       "      <td>10312</td>\n",
       "      <td>333983</td>\n",
       "      <td>global</td>\n",
       "      <td>macro</td>\n",
       "      <td>0.186685</td>\n",
       "      <td>0.191709</td>\n",
       "      <td>0.193777</td>\n",
       "      <td>0.199486</td>\n",
       "      <td>0.204721</td>\n",
       "      <td>0.201654</td>\n",
       "      <td>0.196953</td>\n",
       "      <td>0.191641</td>\n",
       "      <td>0.197756</td>\n",
       "      <td>(128, 40, 80, 0.25, 1)</td>\n",
       "      <td>4969.717611</td>\n",
       "      <td>extend</td>\n",
       "      <td>512</td>\n",
       "      <td>512</td>\n",
       "      <td>14/06/2024 - 13:55</td>\n",
       "    </tr>\n",
       "    <tr>\n",
       "      <th>9</th>\n",
       "      <td>blog_catalog</td>\n",
       "      <td>10312</td>\n",
       "      <td>333983</td>\n",
       "      <td>global</td>\n",
       "      <td>micro</td>\n",
       "      <td>0.189922</td>\n",
       "      <td>0.194862</td>\n",
       "      <td>0.196186</td>\n",
       "      <td>0.200970</td>\n",
       "      <td>0.206168</td>\n",
       "      <td>0.203782</td>\n",
       "      <td>0.198642</td>\n",
       "      <td>0.194303</td>\n",
       "      <td>0.199978</td>\n",
       "      <td>(128, 40, 80, 0.25, 1)</td>\n",
       "      <td>4969.717611</td>\n",
       "      <td>extend</td>\n",
       "      <td>512</td>\n",
       "      <td>512</td>\n",
       "      <td>14/06/2024 - 13:55</td>\n",
       "    </tr>\n",
       "  </tbody>\n",
       "</table>\n",
       "</div>"
      ],
      "text/plain": [
       "        dataset  nodes   edges retraining_type metric       10%       20%  \\\n",
       "0  blog_catalog  10312  333983          global  macro  0.200753  0.199724   \n",
       "1  blog_catalog  10312  333983          global  micro  0.204457  0.201648   \n",
       "2  blog_catalog  10312  333983           local  macro  0.183361  0.202239   \n",
       "3  blog_catalog  10312  333983           local  micro  0.185078  0.203102   \n",
       "4  blog_catalog  10312  333983          global  macro  0.209010  0.205892   \n",
       "5  blog_catalog  10312  333983          global  micro  0.209184  0.206122   \n",
       "6  blog_catalog  10312  333983           local  macro  0.178364  0.192953   \n",
       "7  blog_catalog  10312  333983           local  micro  0.181202  0.194377   \n",
       "8  blog_catalog  10312  333983          global  macro  0.186685  0.191709   \n",
       "9  blog_catalog  10312  333983          global  micro  0.189922  0.194862   \n",
       "\n",
       "        30%       40%       50%       60%       70%       80%       90%  \\\n",
       "0  0.214322  0.201168  0.206342  0.200239  0.198569  0.192867  0.195230   \n",
       "1  0.214932  0.201939  0.207331  0.200388  0.199335  0.193939  0.195453   \n",
       "2  0.196802  0.206104  0.213029  0.212130  0.213315  0.205747  0.208313   \n",
       "3  0.197802  0.207030  0.214119  0.213316  0.214711  0.208000  0.209676   \n",
       "4  0.206661  0.204214  0.202344  0.195139  0.198391  0.207131  0.201637   \n",
       "5  0.208092  0.205357  0.203469  0.195748  0.199971  0.207781  0.202381   \n",
       "6  0.188758  0.200132  0.201297  0.201317  0.193922  0.206374  0.203722   \n",
       "7  0.190368  0.202909  0.202676  0.202650  0.194902  0.206788  0.204612   \n",
       "8  0.193777  0.199486  0.204721  0.201654  0.196953  0.191641  0.197756   \n",
       "9  0.196186  0.200970  0.206168  0.203782  0.198642  0.194303  0.199978   \n",
       "\n",
       "               parameters  training_time dynamic_update  num_different_nodes  \\\n",
       "0  (128, 40, 80, 0.25, 1)    5098.421046         extend                  512   \n",
       "1  (128, 40, 80, 0.25, 1)    5098.421046         extend                  512   \n",
       "2  (128, 40, 80, 0.25, 1)    1466.205247         extend                  512   \n",
       "3  (128, 40, 80, 0.25, 1)    1466.205247         extend                  512   \n",
       "4  (128, 40, 80, 0.25, 1)    4254.954576          prune                  512   \n",
       "5  (128, 40, 80, 0.25, 1)    4254.954576          prune                  512   \n",
       "6  (128, 40, 80, 0.25, 1)    1494.013343          prune                  512   \n",
       "7  (128, 40, 80, 0.25, 1)    1494.013343          prune                  512   \n",
       "8  (128, 40, 80, 0.25, 1)    4969.717611         extend                  512   \n",
       "9  (128, 40, 80, 0.25, 1)    4969.717611         extend                  512   \n",
       "\n",
       "   num_starting_nodes execution_timestamp  \n",
       "0                 512  14/06/2024 - 19:57  \n",
       "1                 512  14/06/2024 - 19:57  \n",
       "2                 512  14/06/2024 - 19:57  \n",
       "3                 512  14/06/2024 - 19:57  \n",
       "4                5876  14/06/2024 - 16:52  \n",
       "5                5876  14/06/2024 - 16:52  \n",
       "6                5876  14/06/2024 - 16:52  \n",
       "7                5876  14/06/2024 - 16:52  \n",
       "8                 512  14/06/2024 - 13:55  \n",
       "9                 512  14/06/2024 - 13:55  "
      ]
     },
     "execution_count": 4,
     "metadata": {},
     "output_type": "execute_result"
    }
   ],
   "source": [
    "results_df.head(10)"
   ]
  },
  {
   "cell_type": "code",
   "execution_count": 5,
   "metadata": {},
   "outputs": [
    {
     "data": {
      "text/plain": [
       "65040"
      ]
     },
     "execution_count": 5,
     "metadata": {},
     "output_type": "execute_result"
    }
   ],
   "source": [
    "results_df.size"
   ]
  },
  {
   "cell_type": "code",
   "execution_count": 6,
   "metadata": {},
   "outputs": [],
   "source": [
    "# These are the parameters for calculating the gloal/local difference\n",
    "config = {'dataset': 'cora',\n",
    "          'dynamic_update': 'extend',\n",
    "          'metric': 'macro',\n",
    "          'parameters': '(128, 80, 160, 4, 4)',\n",
    "          'num_different_nodes': 512}"
   ]
  },
  {
   "cell_type": "code",
   "execution_count": 8,
   "metadata": {},
   "outputs": [],
   "source": [
    "sub_df = accu_time_df_gen(results_df, config)"
   ]
  },
  {
   "cell_type": "code",
   "execution_count": 9,
   "metadata": {},
   "outputs": [],
   "source": [
    "# Calculate the average accuracy difference\n",
    "avg_accuracy_diff_perc = 100* (abs(sub_df.loc[0, 'average_accuracy'] - sub_df.loc[1, 'average_accuracy']) / sub_df.loc[0, 'average_accuracy'])\n",
    "\n",
    "# Calculate the training time difference\n",
    "training_time_diff_perc = 100* (abs(sub_df.loc[0, 'training_time'] - sub_df.loc[1, 'training_time'])) / sub_df.loc[0, 'training_time']"
   ]
  },
  {
   "cell_type": "code",
   "execution_count": 10,
   "metadata": {},
   "outputs": [
    {
     "data": {
      "text/plain": [
       "(1.0062304228615382, 69.9747829843204)"
      ]
     },
     "execution_count": 10,
     "metadata": {},
     "output_type": "execute_result"
    }
   ],
   "source": [
    "avg_accuracy_diff_perc, training_time_diff_perc"
   ]
  },
  {
   "cell_type": "code",
   "execution_count": 11,
   "metadata": {},
   "outputs": [
    {
     "data": {
      "text/html": [
       "<div>\n",
       "<style scoped>\n",
       "    .dataframe tbody tr th:only-of-type {\n",
       "        vertical-align: middle;\n",
       "    }\n",
       "\n",
       "    .dataframe tbody tr th {\n",
       "        vertical-align: top;\n",
       "    }\n",
       "\n",
       "    .dataframe thead th {\n",
       "        text-align: right;\n",
       "    }\n",
       "</style>\n",
       "<table border=\"1\" class=\"dataframe\">\n",
       "  <thead>\n",
       "    <tr style=\"text-align: right;\">\n",
       "      <th></th>\n",
       "      <th>dataset</th>\n",
       "      <th>retraining_type</th>\n",
       "      <th>parameters</th>\n",
       "      <th>average_accuracy</th>\n",
       "      <th>training_time</th>\n",
       "    </tr>\n",
       "  </thead>\n",
       "  <tbody>\n",
       "    <tr>\n",
       "      <th>0</th>\n",
       "      <td>cora</td>\n",
       "      <td>global</td>\n",
       "      <td>(128, 80, 160, 4, 4)</td>\n",
       "      <td>0.790612</td>\n",
       "      <td>415.683768</td>\n",
       "    </tr>\n",
       "    <tr>\n",
       "      <th>1</th>\n",
       "      <td>cora</td>\n",
       "      <td>local</td>\n",
       "      <td>(128, 80, 160, 4, 4)</td>\n",
       "      <td>0.782657</td>\n",
       "      <td>124.809953</td>\n",
       "    </tr>\n",
       "  </tbody>\n",
       "</table>\n",
       "</div>"
      ],
      "text/plain": [
       "  dataset retraining_type            parameters  average_accuracy  \\\n",
       "0    cora          global  (128, 80, 160, 4, 4)          0.790612   \n",
       "1    cora           local  (128, 80, 160, 4, 4)          0.782657   \n",
       "\n",
       "   training_time  \n",
       "0     415.683768  \n",
       "1     124.809953  "
      ]
     },
     "execution_count": 11,
     "metadata": {},
     "output_type": "execute_result"
    }
   ],
   "source": [
    "sub_df"
   ]
  },
  {
   "cell_type": "code",
   "execution_count": null,
   "metadata": {},
   "outputs": [],
   "source": []
  },
  {
   "cell_type": "code",
   "execution_count": null,
   "metadata": {},
   "outputs": [],
   "source": []
  },
  {
   "cell_type": "code",
   "execution_count": null,
   "metadata": {},
   "outputs": [],
   "source": []
  },
  {
   "cell_type": "code",
   "execution_count": null,
   "metadata": {},
   "outputs": [],
   "source": []
  },
  {
   "cell_type": "code",
   "execution_count": null,
   "metadata": {},
   "outputs": [],
   "source": []
  },
  {
   "cell_type": "markdown",
   "metadata": {},
   "source": [
    "### Hyperparameter tuning"
   ]
  },
  {
   "cell_type": "code",
   "execution_count": 16,
   "metadata": {},
   "outputs": [
    {
     "data": {
      "text/plain": [
       "371"
      ]
     },
     "execution_count": 16,
     "metadata": {},
     "output_type": "execute_result"
    }
   ],
   "source": [
    "# Should have been 300 (?)\n",
    "all_parameters = list(results_df['parameters'].unique())\n",
    "len(all_parameters)"
   ]
  },
  {
   "cell_type": "markdown",
   "metadata": {},
   "source": [
    "#### Cora"
   ]
  },
  {
   "cell_type": "code",
   "execution_count": 17,
   "metadata": {},
   "outputs": [],
   "source": [
    "config = {'dataset': 'cora',\n",
    "          'dynamic_update': 'extend',\n",
    "          'metric': 'macro',\n",
    "          'num_different_nodes': 512}"
   ]
  },
  {
   "cell_type": "code",
   "execution_count": 18,
   "metadata": {},
   "outputs": [],
   "source": [
    "all_df = mult_params_accu_time_df_gen(results_df, config, all_parameters)"
   ]
  },
  {
   "cell_type": "code",
   "execution_count": 19,
   "metadata": {},
   "outputs": [
    {
     "data": {
      "text/html": [
       "<div>\n",
       "<style scoped>\n",
       "    .dataframe tbody tr th:only-of-type {\n",
       "        vertical-align: middle;\n",
       "    }\n",
       "\n",
       "    .dataframe tbody tr th {\n",
       "        vertical-align: top;\n",
       "    }\n",
       "\n",
       "    .dataframe thead th {\n",
       "        text-align: right;\n",
       "    }\n",
       "</style>\n",
       "<table border=\"1\" class=\"dataframe\">\n",
       "  <thead>\n",
       "    <tr style=\"text-align: right;\">\n",
       "      <th>cora</th>\n",
       "      <th>dataset</th>\n",
       "      <th>retraining_type</th>\n",
       "      <th>parameters</th>\n",
       "      <th>dynamic_update</th>\n",
       "      <th>average_accuracy</th>\n",
       "      <th>training_time</th>\n",
       "    </tr>\n",
       "  </thead>\n",
       "  <tbody>\n",
       "    <tr>\n",
       "      <th>0</th>\n",
       "      <td>cora</td>\n",
       "      <td>global</td>\n",
       "      <td>(128, 40, 80, 0.25, 1)</td>\n",
       "      <td>extend</td>\n",
       "      <td>0.794214</td>\n",
       "      <td>102.186127</td>\n",
       "    </tr>\n",
       "    <tr>\n",
       "      <th>1</th>\n",
       "      <td>cora</td>\n",
       "      <td>local</td>\n",
       "      <td>(128, 40, 80, 0.25, 1)</td>\n",
       "      <td>extend</td>\n",
       "      <td>0.791296</td>\n",
       "      <td>30.813241</td>\n",
       "    </tr>\n",
       "    <tr>\n",
       "      <th>2</th>\n",
       "      <td>cora</td>\n",
       "      <td>global</td>\n",
       "      <td>(128, 40, 80, 0.25, 4)</td>\n",
       "      <td>extend</td>\n",
       "      <td>0.764001</td>\n",
       "      <td>98.438024</td>\n",
       "    </tr>\n",
       "    <tr>\n",
       "      <th>3</th>\n",
       "      <td>cora</td>\n",
       "      <td>local</td>\n",
       "      <td>(128, 40, 80, 0.25, 4)</td>\n",
       "      <td>extend</td>\n",
       "      <td>0.762352</td>\n",
       "      <td>29.946715</td>\n",
       "    </tr>\n",
       "    <tr>\n",
       "      <th>4</th>\n",
       "      <td>cora</td>\n",
       "      <td>global</td>\n",
       "      <td>(128, 40, 80, 0.25, 2)</td>\n",
       "      <td>extend</td>\n",
       "      <td>0.783103</td>\n",
       "      <td>100.733689</td>\n",
       "    </tr>\n",
       "    <tr>\n",
       "      <th>...</th>\n",
       "      <td>...</td>\n",
       "      <td>...</td>\n",
       "      <td>...</td>\n",
       "      <td>...</td>\n",
       "      <td>...</td>\n",
       "      <td>...</td>\n",
       "    </tr>\n",
       "    <tr>\n",
       "      <th>199</th>\n",
       "      <td>cora</td>\n",
       "      <td>local</td>\n",
       "      <td>(128, 40, 80, 0.5, 0.25)</td>\n",
       "      <td>extend</td>\n",
       "      <td>0.802119</td>\n",
       "      <td>33.299119</td>\n",
       "    </tr>\n",
       "    <tr>\n",
       "      <th>200</th>\n",
       "      <td>cora</td>\n",
       "      <td>global</td>\n",
       "      <td>[64, 8, 8, 0.25, 4]</td>\n",
       "      <td>extend</td>\n",
       "      <td>0.719772</td>\n",
       "      <td>3.050927</td>\n",
       "    </tr>\n",
       "    <tr>\n",
       "      <th>201</th>\n",
       "      <td>cora</td>\n",
       "      <td>local</td>\n",
       "      <td>[64, 8, 8, 0.25, 4]</td>\n",
       "      <td>extend</td>\n",
       "      <td>0.663561</td>\n",
       "      <td>2.501036</td>\n",
       "    </tr>\n",
       "    <tr>\n",
       "      <th>202</th>\n",
       "      <td>cora</td>\n",
       "      <td>global</td>\n",
       "      <td>[64, 8, 8, 0.25, 4]</td>\n",
       "      <td>extend</td>\n",
       "      <td>0.731451</td>\n",
       "      <td>2.913603</td>\n",
       "    </tr>\n",
       "    <tr>\n",
       "      <th>203</th>\n",
       "      <td>cora</td>\n",
       "      <td>local</td>\n",
       "      <td>[64, 8, 8, 0.25, 4]</td>\n",
       "      <td>extend</td>\n",
       "      <td>0.657111</td>\n",
       "      <td>1.688076</td>\n",
       "    </tr>\n",
       "  </tbody>\n",
       "</table>\n",
       "<p>204 rows × 6 columns</p>\n",
       "</div>"
      ],
      "text/plain": [
       "cora dataset retraining_type                parameters dynamic_update  \\\n",
       "0       cora          global    (128, 40, 80, 0.25, 1)         extend   \n",
       "1       cora           local    (128, 40, 80, 0.25, 1)         extend   \n",
       "2       cora          global    (128, 40, 80, 0.25, 4)         extend   \n",
       "3       cora           local    (128, 40, 80, 0.25, 4)         extend   \n",
       "4       cora          global    (128, 40, 80, 0.25, 2)         extend   \n",
       "..       ...             ...                       ...            ...   \n",
       "199     cora           local  (128, 40, 80, 0.5, 0.25)         extend   \n",
       "200     cora          global       [64, 8, 8, 0.25, 4]         extend   \n",
       "201     cora           local       [64, 8, 8, 0.25, 4]         extend   \n",
       "202     cora          global       [64, 8, 8, 0.25, 4]         extend   \n",
       "203     cora           local       [64, 8, 8, 0.25, 4]         extend   \n",
       "\n",
       "cora  average_accuracy  training_time  \n",
       "0             0.794214     102.186127  \n",
       "1             0.791296      30.813241  \n",
       "2             0.764001      98.438024  \n",
       "3             0.762352      29.946715  \n",
       "4             0.783103     100.733689  \n",
       "..                 ...            ...  \n",
       "199           0.802119      33.299119  \n",
       "200           0.719772       3.050927  \n",
       "201           0.663561       2.501036  \n",
       "202           0.731451       2.913603  \n",
       "203           0.657111       1.688076  \n",
       "\n",
       "[204 rows x 6 columns]"
      ]
     },
     "execution_count": 19,
     "metadata": {},
     "output_type": "execute_result"
    }
   ],
   "source": [
    "all_df"
   ]
  },
  {
   "cell_type": "code",
   "execution_count": 20,
   "metadata": {},
   "outputs": [
    {
     "data": {
      "image/png": "[encoded data removed]",
      "text/plain": [
       "<Figure size 640x480 with 1 Axes>"
      ]
     },
     "metadata": {},
     "output_type": "display_data"
    }
   ],
   "source": [
    "accu_time_plot(all_df)"
   ]
  },
  {
   "cell_type": "code",
   "execution_count": 21,
   "metadata": {},
   "outputs": [
    {
     "data": {
      "text/html": [
       "<div>\n",
       "<style scoped>\n",
       "    .dataframe tbody tr th:only-of-type {\n",
       "        vertical-align: middle;\n",
       "    }\n",
       "\n",
       "    .dataframe tbody tr th {\n",
       "        vertical-align: top;\n",
       "    }\n",
       "\n",
       "    .dataframe thead th {\n",
       "        text-align: right;\n",
       "    }\n",
       "</style>\n",
       "<table border=\"1\" class=\"dataframe\">\n",
       "  <thead>\n",
       "    <tr style=\"text-align: right;\">\n",
       "      <th>cora</th>\n",
       "      <th>dataset</th>\n",
       "      <th>retraining_type</th>\n",
       "      <th>parameters</th>\n",
       "      <th>dynamic_update</th>\n",
       "      <th>average_accuracy</th>\n",
       "      <th>training_time</th>\n",
       "    </tr>\n",
       "  </thead>\n",
       "  <tbody>\n",
       "    <tr>\n",
       "      <th>41</th>\n",
       "      <td>cora</td>\n",
       "      <td>local</td>\n",
       "      <td>(128, 40, 80, 2, 1)</td>\n",
       "      <td>extend</td>\n",
       "      <td>0.816479</td>\n",
       "      <td>33.817051</td>\n",
       "    </tr>\n",
       "    <tr>\n",
       "      <th>32</th>\n",
       "      <td>cora</td>\n",
       "      <td>global</td>\n",
       "      <td>(128, 40, 80, 4, 2)</td>\n",
       "      <td>extend</td>\n",
       "      <td>0.816394</td>\n",
       "      <td>105.576616</td>\n",
       "    </tr>\n",
       "    <tr>\n",
       "      <th>51</th>\n",
       "      <td>cora</td>\n",
       "      <td>local</td>\n",
       "      <td>(128, 40, 80, 0.25, 0.25)</td>\n",
       "      <td>extend</td>\n",
       "      <td>0.812863</td>\n",
       "      <td>31.953484</td>\n",
       "    </tr>\n",
       "    <tr>\n",
       "      <th>153</th>\n",
       "      <td>cora</td>\n",
       "      <td>local</td>\n",
       "      <td>(128, 40, 160, 1, 1)</td>\n",
       "      <td>extend</td>\n",
       "      <td>0.811209</td>\n",
       "      <td>62.478489</td>\n",
       "    </tr>\n",
       "    <tr>\n",
       "      <th>145</th>\n",
       "      <td>cora</td>\n",
       "      <td>local</td>\n",
       "      <td>(128, 40, 160, 2, 0.5)</td>\n",
       "      <td>extend</td>\n",
       "      <td>0.810902</td>\n",
       "      <td>63.524729</td>\n",
       "    </tr>\n",
       "    <tr>\n",
       "      <th>113</th>\n",
       "      <td>cora</td>\n",
       "      <td>local</td>\n",
       "      <td>(128, 80, 80, 1, 0.25)</td>\n",
       "      <td>extend</td>\n",
       "      <td>0.810208</td>\n",
       "      <td>64.816080</td>\n",
       "    </tr>\n",
       "    <tr>\n",
       "      <th>105</th>\n",
       "      <td>cora</td>\n",
       "      <td>local</td>\n",
       "      <td>(128, 80, 80, 4, 0.25)</td>\n",
       "      <td>extend</td>\n",
       "      <td>0.810062</td>\n",
       "      <td>67.367942</td>\n",
       "    </tr>\n",
       "    <tr>\n",
       "      <th>87</th>\n",
       "      <td>cora</td>\n",
       "      <td>local</td>\n",
       "      <td>(128, 80, 160, 0.5, 1)</td>\n",
       "      <td>extend</td>\n",
       "      <td>0.809882</td>\n",
       "      <td>123.806995</td>\n",
       "    </tr>\n",
       "    <tr>\n",
       "      <th>126</th>\n",
       "      <td>cora</td>\n",
       "      <td>global</td>\n",
       "      <td>(128, 80, 80, 0.25, 0.25)</td>\n",
       "      <td>extend</td>\n",
       "      <td>0.809080</td>\n",
       "      <td>204.833654</td>\n",
       "    </tr>\n",
       "    <tr>\n",
       "      <th>163</th>\n",
       "      <td>cora</td>\n",
       "      <td>local</td>\n",
       "      <td>(128, 40, 160, 0.5, 1)</td>\n",
       "      <td>extend</td>\n",
       "      <td>0.808739</td>\n",
       "      <td>61.532741</td>\n",
       "    </tr>\n",
       "    <tr>\n",
       "      <th>123</th>\n",
       "      <td>cora</td>\n",
       "      <td>local</td>\n",
       "      <td>(128, 80, 80, 0.5, 0.25)</td>\n",
       "      <td>extend</td>\n",
       "      <td>0.808450</td>\n",
       "      <td>66.094316</td>\n",
       "    </tr>\n",
       "    <tr>\n",
       "      <th>45</th>\n",
       "      <td>cora</td>\n",
       "      <td>local</td>\n",
       "      <td>(128, 40, 80, 1, 2)</td>\n",
       "      <td>extend</td>\n",
       "      <td>0.808023</td>\n",
       "      <td>31.512624</td>\n",
       "    </tr>\n",
       "    <tr>\n",
       "      <th>38</th>\n",
       "      <td>cora</td>\n",
       "      <td>global</td>\n",
       "      <td>(128, 40, 80, 2, 2)</td>\n",
       "      <td>extend</td>\n",
       "      <td>0.807493</td>\n",
       "      <td>106.450717</td>\n",
       "    </tr>\n",
       "    <tr>\n",
       "      <th>189</th>\n",
       "      <td>cora</td>\n",
       "      <td>local</td>\n",
       "      <td>(128, 40, 80, 1, 0.25)</td>\n",
       "      <td>extend</td>\n",
       "      <td>0.807041</td>\n",
       "      <td>33.020657</td>\n",
       "    </tr>\n",
       "    <tr>\n",
       "      <th>181</th>\n",
       "      <td>cora</td>\n",
       "      <td>local</td>\n",
       "      <td>(128, 40, 80, 4, 0.25)</td>\n",
       "      <td>extend</td>\n",
       "      <td>0.806688</td>\n",
       "      <td>32.818427</td>\n",
       "    </tr>\n",
       "  </tbody>\n",
       "</table>\n",
       "</div>"
      ],
      "text/plain": [
       "cora dataset retraining_type                 parameters dynamic_update  \\\n",
       "41      cora           local        (128, 40, 80, 2, 1)         extend   \n",
       "32      cora          global        (128, 40, 80, 4, 2)         extend   \n",
       "51      cora           local  (128, 40, 80, 0.25, 0.25)         extend   \n",
       "153     cora           local       (128, 40, 160, 1, 1)         extend   \n",
       "145     cora           local     (128, 40, 160, 2, 0.5)         extend   \n",
       "113     cora           local     (128, 80, 80, 1, 0.25)         extend   \n",
       "105     cora           local     (128, 80, 80, 4, 0.25)         extend   \n",
       "87      cora           local     (128, 80, 160, 0.5, 1)         extend   \n",
       "126     cora          global  (128, 80, 80, 0.25, 0.25)         extend   \n",
       "163     cora           local     (128, 40, 160, 0.5, 1)         extend   \n",
       "123     cora           local   (128, 80, 80, 0.5, 0.25)         extend   \n",
       "45      cora           local        (128, 40, 80, 1, 2)         extend   \n",
       "38      cora          global        (128, 40, 80, 2, 2)         extend   \n",
       "189     cora           local     (128, 40, 80, 1, 0.25)         extend   \n",
       "181     cora           local     (128, 40, 80, 4, 0.25)         extend   \n",
       "\n",
       "cora  average_accuracy  training_time  \n",
       "41            0.816479      33.817051  \n",
       "32            0.816394     105.576616  \n",
       "51            0.812863      31.953484  \n",
       "153           0.811209      62.478489  \n",
       "145           0.810902      63.524729  \n",
       "113           0.810208      64.816080  \n",
       "105           0.810062      67.367942  \n",
       "87            0.809882     123.806995  \n",
       "126           0.809080     204.833654  \n",
       "163           0.808739      61.532741  \n",
       "123           0.808450      66.094316  \n",
       "45            0.808023      31.512624  \n",
       "38            0.807493     106.450717  \n",
       "189           0.807041      33.020657  \n",
       "181           0.806688      32.818427  "
      ]
     },
     "execution_count": 21,
     "metadata": {},
     "output_type": "execute_result"
    }
   ],
   "source": [
    "# sub_df = sub_df[sub_df.loc[:, 'retraining_type'] == 'global'].reset_index(drop=True)\n",
    "all_df.sort_values(by='average_accuracy', ascending=False).head(15)"
   ]
  },
  {
   "cell_type": "code",
   "execution_count": 22,
   "metadata": {},
   "outputs": [
    {
     "data": {
      "text/html": [
       "<div>\n",
       "<style scoped>\n",
       "    .dataframe tbody tr th:only-of-type {\n",
       "        vertical-align: middle;\n",
       "    }\n",
       "\n",
       "    .dataframe tbody tr th {\n",
       "        vertical-align: top;\n",
       "    }\n",
       "\n",
       "    .dataframe thead th {\n",
       "        text-align: right;\n",
       "    }\n",
       "</style>\n",
       "<table border=\"1\" class=\"dataframe\">\n",
       "  <thead>\n",
       "    <tr style=\"text-align: right;\">\n",
       "      <th>cora</th>\n",
       "      <th>dataset</th>\n",
       "      <th>retraining_type</th>\n",
       "      <th>parameters</th>\n",
       "      <th>dynamic_update</th>\n",
       "      <th>average_accuracy</th>\n",
       "      <th>training_time</th>\n",
       "    </tr>\n",
       "  </thead>\n",
       "  <tbody>\n",
       "    <tr>\n",
       "      <th>0</th>\n",
       "      <td>cora</td>\n",
       "      <td>global</td>\n",
       "      <td>(128, 40, 80, 0.25, 1)</td>\n",
       "      <td>extend</td>\n",
       "      <td>0.794214</td>\n",
       "      <td>102.186127</td>\n",
       "    </tr>\n",
       "    <tr>\n",
       "      <th>2</th>\n",
       "      <td>cora</td>\n",
       "      <td>global</td>\n",
       "      <td>(128, 40, 80, 0.25, 4)</td>\n",
       "      <td>extend</td>\n",
       "      <td>0.764001</td>\n",
       "      <td>98.438024</td>\n",
       "    </tr>\n",
       "    <tr>\n",
       "      <th>4</th>\n",
       "      <td>cora</td>\n",
       "      <td>global</td>\n",
       "      <td>(128, 40, 80, 0.25, 2)</td>\n",
       "      <td>extend</td>\n",
       "      <td>0.783103</td>\n",
       "      <td>100.733689</td>\n",
       "    </tr>\n",
       "    <tr>\n",
       "      <th>6</th>\n",
       "      <td>cora</td>\n",
       "      <td>global</td>\n",
       "      <td>(128, 80, 80, 4, 4)</td>\n",
       "      <td>extend</td>\n",
       "      <td>0.802823</td>\n",
       "      <td>214.764291</td>\n",
       "    </tr>\n",
       "    <tr>\n",
       "      <th>8</th>\n",
       "      <td>cora</td>\n",
       "      <td>global</td>\n",
       "      <td>(128, 80, 80, 4, 2)</td>\n",
       "      <td>extend</td>\n",
       "      <td>0.802578</td>\n",
       "      <td>211.522388</td>\n",
       "    </tr>\n",
       "    <tr>\n",
       "      <th>...</th>\n",
       "      <td>...</td>\n",
       "      <td>...</td>\n",
       "      <td>...</td>\n",
       "      <td>...</td>\n",
       "      <td>...</td>\n",
       "      <td>...</td>\n",
       "    </tr>\n",
       "    <tr>\n",
       "      <th>194</th>\n",
       "      <td>cora</td>\n",
       "      <td>global</td>\n",
       "      <td>(128, 40, 80, 0.5, 1)</td>\n",
       "      <td>extend</td>\n",
       "      <td>0.782708</td>\n",
       "      <td>104.047462</td>\n",
       "    </tr>\n",
       "    <tr>\n",
       "      <th>196</th>\n",
       "      <td>cora</td>\n",
       "      <td>global</td>\n",
       "      <td>(128, 40, 80, 0.5, 0.5)</td>\n",
       "      <td>extend</td>\n",
       "      <td>0.803651</td>\n",
       "      <td>103.660669</td>\n",
       "    </tr>\n",
       "    <tr>\n",
       "      <th>198</th>\n",
       "      <td>cora</td>\n",
       "      <td>global</td>\n",
       "      <td>(128, 40, 80, 0.5, 0.25)</td>\n",
       "      <td>extend</td>\n",
       "      <td>0.785540</td>\n",
       "      <td>104.126992</td>\n",
       "    </tr>\n",
       "    <tr>\n",
       "      <th>200</th>\n",
       "      <td>cora</td>\n",
       "      <td>global</td>\n",
       "      <td>[64, 8, 8, 0.25, 4]</td>\n",
       "      <td>extend</td>\n",
       "      <td>0.719772</td>\n",
       "      <td>3.050927</td>\n",
       "    </tr>\n",
       "    <tr>\n",
       "      <th>202</th>\n",
       "      <td>cora</td>\n",
       "      <td>global</td>\n",
       "      <td>[64, 8, 8, 0.25, 4]</td>\n",
       "      <td>extend</td>\n",
       "      <td>0.731451</td>\n",
       "      <td>2.913603</td>\n",
       "    </tr>\n",
       "  </tbody>\n",
       "</table>\n",
       "<p>102 rows × 6 columns</p>\n",
       "</div>"
      ],
      "text/plain": [
       "cora dataset retraining_type                parameters dynamic_update  \\\n",
       "0       cora          global    (128, 40, 80, 0.25, 1)         extend   \n",
       "2       cora          global    (128, 40, 80, 0.25, 4)         extend   \n",
       "4       cora          global    (128, 40, 80, 0.25, 2)         extend   \n",
       "6       cora          global       (128, 80, 80, 4, 4)         extend   \n",
       "8       cora          global       (128, 80, 80, 4, 2)         extend   \n",
       "..       ...             ...                       ...            ...   \n",
       "194     cora          global     (128, 40, 80, 0.5, 1)         extend   \n",
       "196     cora          global   (128, 40, 80, 0.5, 0.5)         extend   \n",
       "198     cora          global  (128, 40, 80, 0.5, 0.25)         extend   \n",
       "200     cora          global       [64, 8, 8, 0.25, 4]         extend   \n",
       "202     cora          global       [64, 8, 8, 0.25, 4]         extend   \n",
       "\n",
       "cora  average_accuracy  training_time  \n",
       "0             0.794214     102.186127  \n",
       "2             0.764001      98.438024  \n",
       "4             0.783103     100.733689  \n",
       "6             0.802823     214.764291  \n",
       "8             0.802578     211.522388  \n",
       "..                 ...            ...  \n",
       "194           0.782708     104.047462  \n",
       "196           0.803651     103.660669  \n",
       "198           0.785540     104.126992  \n",
       "200           0.719772       3.050927  \n",
       "202           0.731451       2.913603  \n",
       "\n",
       "[102 rows x 6 columns]"
      ]
     },
     "execution_count": 22,
     "metadata": {},
     "output_type": "execute_result"
    }
   ],
   "source": [
    "all_df.loc[all_df['retraining_type'] == 'global']"
   ]
  },
  {
   "cell_type": "code",
   "execution_count": 23,
   "metadata": {},
   "outputs": [
    {
     "data": {
      "text/plain": [
       "{'dataset': 'cora',\n",
       " 'retraining_type': 'global',\n",
       " 'parameters': '(128, 40, 80, 4, 2)',\n",
       " 'dynamic_update': 'extend',\n",
       " 'average_accuracy': 0.8163936506487652,\n",
       " 'training_time': 105.576616048813}"
      ]
     },
     "execution_count": 23,
     "metadata": {},
     "output_type": "execute_result"
    }
   ],
   "source": [
    "temp_df = all_df.loc[all_df['retraining_type'] == 'global']\n",
    "dict(temp_df.iloc[temp_df['average_accuracy'].argmax()])"
   ]
  },
  {
   "cell_type": "code",
   "execution_count": null,
   "metadata": {},
   "outputs": [],
   "source": []
  },
  {
   "cell_type": "markdown",
   "metadata": {},
   "source": [
    "#### Wikipedia "
   ]
  },
  {
   "cell_type": "code",
   "execution_count": 24,
   "metadata": {},
   "outputs": [],
   "source": [
    "config = {'dataset': 'wikipedia',\n",
    "          'dynamic_update': 'extend',\n",
    "          'metric': 'macro',\n",
    "          'num_different_nodes': 512}\n"
   ]
  },
  {
   "cell_type": "code",
   "execution_count": 25,
   "metadata": {},
   "outputs": [],
   "source": [
    "all_df = mult_params_accu_time_df_gen(results_df, config, all_parameters)"
   ]
  },
  {
   "cell_type": "code",
   "execution_count": 26,
   "metadata": {},
   "outputs": [
    {
     "data": {
      "image/png": "[encoded data removed]",
      "text/plain": [
       "<Figure size 640x480 with 1 Axes>"
      ]
     },
     "metadata": {},
     "output_type": "display_data"
    }
   ],
   "source": [
    "accu_time_plot(all_df)"
   ]
  },
  {
   "cell_type": "code",
   "execution_count": 27,
   "metadata": {},
   "outputs": [
    {
     "data": {
      "text/plain": [
       "{'dataset': 'wikipedia',\n",
       " 'retraining_type': 'global',\n",
       " 'parameters': '(128, 40, 80, 0.25, 1)',\n",
       " 'dynamic_update': 'extend',\n",
       " 'average_accuracy': 0.1256420338240266,\n",
       " 'training_time': 4115.74851751328}"
      ]
     },
     "execution_count": 27,
     "metadata": {},
     "output_type": "execute_result"
    }
   ],
   "source": [
    "temp_df = all_df.loc[all_df['retraining_type'] == 'global']\n",
    "dict(temp_df.iloc[all_df['average_accuracy'].argmax()])"
   ]
  },
  {
   "cell_type": "code",
   "execution_count": null,
   "metadata": {},
   "outputs": [],
   "source": []
  },
  {
   "cell_type": "code",
   "execution_count": null,
   "metadata": {},
   "outputs": [],
   "source": []
  },
  {
   "cell_type": "markdown",
   "metadata": {},
   "source": [
    "#### PPI"
   ]
  },
  {
   "cell_type": "code",
   "execution_count": 28,
   "metadata": {},
   "outputs": [],
   "source": [
    "config = {'dataset': 'PPI',\n",
    "          'dynamic_update': 'extend',\n",
    "          'metric': 'macro',\n",
    "          'num_different_nodes': 512}"
   ]
  },
  {
   "cell_type": "code",
   "execution_count": 29,
   "metadata": {},
   "outputs": [],
   "source": [
    "all_df = mult_params_accu_time_df_gen(results_df, config, all_parameters)"
   ]
  },
  {
   "cell_type": "code",
   "execution_count": 30,
   "metadata": {},
   "outputs": [
    {
     "data": {
      "text/html": [
       "<div>\n",
       "<style scoped>\n",
       "    .dataframe tbody tr th:only-of-type {\n",
       "        vertical-align: middle;\n",
       "    }\n",
       "\n",
       "    .dataframe tbody tr th {\n",
       "        vertical-align: top;\n",
       "    }\n",
       "\n",
       "    .dataframe thead th {\n",
       "        text-align: right;\n",
       "    }\n",
       "</style>\n",
       "<table border=\"1\" class=\"dataframe\">\n",
       "  <thead>\n",
       "    <tr style=\"text-align: right;\">\n",
       "      <th>PPI</th>\n",
       "      <th>dataset</th>\n",
       "      <th>retraining_type</th>\n",
       "      <th>parameters</th>\n",
       "      <th>dynamic_update</th>\n",
       "      <th>average_accuracy</th>\n",
       "      <th>training_time</th>\n",
       "    </tr>\n",
       "  </thead>\n",
       "  <tbody>\n",
       "    <tr>\n",
       "      <th>41</th>\n",
       "      <td>PPI</td>\n",
       "      <td>local</td>\n",
       "      <td>(128, 40, 80, 2, 1)</td>\n",
       "      <td>extend</td>\n",
       "      <td>0.103872</td>\n",
       "      <td>103.184063</td>\n",
       "    </tr>\n",
       "    <tr>\n",
       "      <th>9</th>\n",
       "      <td>PPI</td>\n",
       "      <td>local</td>\n",
       "      <td>(128, 80, 80, 4, 2)</td>\n",
       "      <td>extend</td>\n",
       "      <td>0.101657</td>\n",
       "      <td>172.781480</td>\n",
       "    </tr>\n",
       "    <tr>\n",
       "      <th>11</th>\n",
       "      <td>PPI</td>\n",
       "      <td>local</td>\n",
       "      <td>(128, 80, 80, 4, 1)</td>\n",
       "      <td>extend</td>\n",
       "      <td>0.101450</td>\n",
       "      <td>167.833059</td>\n",
       "    </tr>\n",
       "    <tr>\n",
       "      <th>19</th>\n",
       "      <td>PPI</td>\n",
       "      <td>local</td>\n",
       "      <td>(128, 80, 80, 1, 4)</td>\n",
       "      <td>extend</td>\n",
       "      <td>0.098656</td>\n",
       "      <td>174.081321</td>\n",
       "    </tr>\n",
       "    <tr>\n",
       "      <th>50</th>\n",
       "      <td>PPI</td>\n",
       "      <td>global</td>\n",
       "      <td>(128, 40, 80, 0.25, 0.25)</td>\n",
       "      <td>extend</td>\n",
       "      <td>0.098650</td>\n",
       "      <td>388.765121</td>\n",
       "    </tr>\n",
       "    <tr>\n",
       "      <th>32</th>\n",
       "      <td>PPI</td>\n",
       "      <td>global</td>\n",
       "      <td>(128, 40, 80, 4, 2)</td>\n",
       "      <td>extend</td>\n",
       "      <td>0.098615</td>\n",
       "      <td>425.821706</td>\n",
       "    </tr>\n",
       "    <tr>\n",
       "      <th>23</th>\n",
       "      <td>PPI</td>\n",
       "      <td>local</td>\n",
       "      <td>(128, 80, 80, 1, 1)</td>\n",
       "      <td>extend</td>\n",
       "      <td>0.098259</td>\n",
       "      <td>168.280955</td>\n",
       "    </tr>\n",
       "    <tr>\n",
       "      <th>31</th>\n",
       "      <td>PPI</td>\n",
       "      <td>local</td>\n",
       "      <td>(128, 40, 80, 4, 4)</td>\n",
       "      <td>extend</td>\n",
       "      <td>0.098193</td>\n",
       "      <td>101.546633</td>\n",
       "    </tr>\n",
       "    <tr>\n",
       "      <th>46</th>\n",
       "      <td>PPI</td>\n",
       "      <td>global</td>\n",
       "      <td>(128, 40, 80, 1, 1)</td>\n",
       "      <td>extend</td>\n",
       "      <td>0.098017</td>\n",
       "      <td>421.142078</td>\n",
       "    </tr>\n",
       "    <tr>\n",
       "      <th>33</th>\n",
       "      <td>PPI</td>\n",
       "      <td>local</td>\n",
       "      <td>(128, 40, 80, 4, 2)</td>\n",
       "      <td>extend</td>\n",
       "      <td>0.097698</td>\n",
       "      <td>102.307316</td>\n",
       "    </tr>\n",
       "    <tr>\n",
       "      <th>13</th>\n",
       "      <td>PPI</td>\n",
       "      <td>local</td>\n",
       "      <td>(128, 80, 80, 2, 4)</td>\n",
       "      <td>extend</td>\n",
       "      <td>0.097542</td>\n",
       "      <td>174.815243</td>\n",
       "    </tr>\n",
       "    <tr>\n",
       "      <th>51</th>\n",
       "      <td>PPI</td>\n",
       "      <td>local</td>\n",
       "      <td>(128, 40, 80, 0.25, 0.25)</td>\n",
       "      <td>extend</td>\n",
       "      <td>0.097037</td>\n",
       "      <td>99.761589</td>\n",
       "    </tr>\n",
       "    <tr>\n",
       "      <th>15</th>\n",
       "      <td>PPI</td>\n",
       "      <td>local</td>\n",
       "      <td>(128, 80, 80, 2, 2)</td>\n",
       "      <td>extend</td>\n",
       "      <td>0.096635</td>\n",
       "      <td>173.247351</td>\n",
       "    </tr>\n",
       "    <tr>\n",
       "      <th>40</th>\n",
       "      <td>PPI</td>\n",
       "      <td>global</td>\n",
       "      <td>(128, 40, 80, 2, 1)</td>\n",
       "      <td>extend</td>\n",
       "      <td>0.096274</td>\n",
       "      <td>414.207409</td>\n",
       "    </tr>\n",
       "    <tr>\n",
       "      <th>27</th>\n",
       "      <td>PPI</td>\n",
       "      <td>local</td>\n",
       "      <td>(128, 80, 80, 0.25, 2)</td>\n",
       "      <td>extend</td>\n",
       "      <td>0.096174</td>\n",
       "      <td>169.660949</td>\n",
       "    </tr>\n",
       "  </tbody>\n",
       "</table>\n",
       "</div>"
      ],
      "text/plain": [
       "PPI dataset retraining_type                 parameters dynamic_update  \\\n",
       "41      PPI           local        (128, 40, 80, 2, 1)         extend   \n",
       "9       PPI           local        (128, 80, 80, 4, 2)         extend   \n",
       "11      PPI           local        (128, 80, 80, 4, 1)         extend   \n",
       "19      PPI           local        (128, 80, 80, 1, 4)         extend   \n",
       "50      PPI          global  (128, 40, 80, 0.25, 0.25)         extend   \n",
       "32      PPI          global        (128, 40, 80, 4, 2)         extend   \n",
       "23      PPI           local        (128, 80, 80, 1, 1)         extend   \n",
       "31      PPI           local        (128, 40, 80, 4, 4)         extend   \n",
       "46      PPI          global        (128, 40, 80, 1, 1)         extend   \n",
       "33      PPI           local        (128, 40, 80, 4, 2)         extend   \n",
       "13      PPI           local        (128, 80, 80, 2, 4)         extend   \n",
       "51      PPI           local  (128, 40, 80, 0.25, 0.25)         extend   \n",
       "15      PPI           local        (128, 80, 80, 2, 2)         extend   \n",
       "40      PPI          global        (128, 40, 80, 2, 1)         extend   \n",
       "27      PPI           local     (128, 80, 80, 0.25, 2)         extend   \n",
       "\n",
       "PPI  average_accuracy  training_time  \n",
       "41           0.103872     103.184063  \n",
       "9            0.101657     172.781480  \n",
       "11           0.101450     167.833059  \n",
       "19           0.098656     174.081321  \n",
       "50           0.098650     388.765121  \n",
       "32           0.098615     425.821706  \n",
       "23           0.098259     168.280955  \n",
       "31           0.098193     101.546633  \n",
       "46           0.098017     421.142078  \n",
       "33           0.097698     102.307316  \n",
       "13           0.097542     174.815243  \n",
       "51           0.097037      99.761589  \n",
       "15           0.096635     173.247351  \n",
       "40           0.096274     414.207409  \n",
       "27           0.096174     169.660949  "
      ]
     },
     "execution_count": 30,
     "metadata": {},
     "output_type": "execute_result"
    }
   ],
   "source": [
    "# sub_df = sub_df[sub_df.loc[:, 'retraining_type'] == 'global'].reset_index(drop=True)\n",
    "all_df.sort_values(by='average_accuracy', ascending=False).head(15)"
   ]
  },
  {
   "cell_type": "code",
   "execution_count": 31,
   "metadata": {},
   "outputs": [
    {
     "data": {
      "image/png": "[encoded data removed]",
      "text/plain": [
       "<Figure size 640x480 with 1 Axes>"
      ]
     },
     "metadata": {},
     "output_type": "display_data"
    }
   ],
   "source": [
    "accu_time_plot(all_df)"
   ]
  },
  {
   "cell_type": "code",
   "execution_count": 32,
   "metadata": {},
   "outputs": [
    {
     "data": {
      "text/plain": [
       "{'dataset': 'PPI',\n",
       " 'retraining_type': 'global',\n",
       " 'parameters': '(128, 40, 80, 0.25, 0.25)',\n",
       " 'dynamic_update': 'extend',\n",
       " 'average_accuracy': 0.09864955767362732,\n",
       " 'training_time': 388.765121221542}"
      ]
     },
     "execution_count": 32,
     "metadata": {},
     "output_type": "execute_result"
    }
   ],
   "source": [
    "temp_df = all_df.loc[all_df['retraining_type'] == 'global']\n",
    "dict(temp_df.iloc[temp_df['average_accuracy'].argmax()])"
   ]
  },
  {
   "cell_type": "code",
   "execution_count": null,
   "metadata": {},
   "outputs": [],
   "source": []
  },
  {
   "cell_type": "code",
   "execution_count": null,
   "metadata": {},
   "outputs": [],
   "source": []
  },
  {
   "cell_type": "markdown",
   "metadata": {},
   "source": [
    "#### BlogCatalog"
   ]
  },
  {
   "cell_type": "code",
   "execution_count": 33,
   "metadata": {},
   "outputs": [],
   "source": [
    "\n",
    "#     config = {'dataset': 'blog_catalog',\n",
    "#             'dynamic_update': 'extend',\n",
    "#             'metric': 'macro',\n",
    "#             'num_different_nodes': 1024}"
   ]
  },
  {
   "cell_type": "code",
   "execution_count": null,
   "metadata": {},
   "outputs": [],
   "source": []
  },
  {
   "cell_type": "code",
   "execution_count": null,
   "metadata": {},
   "outputs": [],
   "source": []
  },
  {
   "cell_type": "code",
   "execution_count": null,
   "metadata": {},
   "outputs": [],
   "source": []
  },
  {
   "cell_type": "code",
   "execution_count": null,
   "metadata": {},
   "outputs": [],
   "source": []
  },
  {
   "cell_type": "markdown",
   "metadata": {},
   "source": [
    "## Table of results for specific dataset"
   ]
  },
  {
   "cell_type": "code",
   "execution_count": 34,
   "metadata": {},
   "outputs": [],
   "source": [
    "# These are the parameters for calculating the gloal/local difference\n",
    "config = {'dataset': 'cora',\n",
    "          'dynamic_update': 'extend',\n",
    "          'parameters': '(128, 40, 80, 4, 2)',\n",
    "          'num_different_nodes': 512}"
   ]
  },
  {
   "cell_type": "code",
   "execution_count": 35,
   "metadata": {},
   "outputs": [],
   "source": [
    "table_df = results_df.copy()\n",
    "\n",
    "for key in config:\n",
    "    table_df = table_df[table_df.loc[:, key] == config[key]]"
   ]
  },
  {
   "cell_type": "code",
   "execution_count": 36,
   "metadata": {},
   "outputs": [
    {
     "data": {
      "text/html": [
       "<div>\n",
       "<style scoped>\n",
       "    .dataframe tbody tr th:only-of-type {\n",
       "        vertical-align: middle;\n",
       "    }\n",
       "\n",
       "    .dataframe tbody tr th {\n",
       "        vertical-align: top;\n",
       "    }\n",
       "\n",
       "    .dataframe thead th {\n",
       "        text-align: right;\n",
       "    }\n",
       "</style>\n",
       "<table border=\"1\" class=\"dataframe\">\n",
       "  <thead>\n",
       "    <tr style=\"text-align: right;\">\n",
       "      <th></th>\n",
       "      <th>dataset</th>\n",
       "      <th>nodes</th>\n",
       "      <th>edges</th>\n",
       "      <th>retraining_type</th>\n",
       "      <th>metric</th>\n",
       "      <th>10%</th>\n",
       "      <th>20%</th>\n",
       "      <th>30%</th>\n",
       "      <th>40%</th>\n",
       "      <th>50%</th>\n",
       "      <th>60%</th>\n",
       "      <th>70%</th>\n",
       "      <th>80%</th>\n",
       "      <th>90%</th>\n",
       "      <th>parameters</th>\n",
       "      <th>training_time</th>\n",
       "      <th>dynamic_update</th>\n",
       "      <th>num_different_nodes</th>\n",
       "      <th>num_starting_nodes</th>\n",
       "      <th>execution_timestamp</th>\n",
       "    </tr>\n",
       "  </thead>\n",
       "  <tbody>\n",
       "    <tr>\n",
       "      <th>852</th>\n",
       "      <td>cora</td>\n",
       "      <td>2708</td>\n",
       "      <td>5278</td>\n",
       "      <td>global</td>\n",
       "      <td>macro</td>\n",
       "      <td>0.854654</td>\n",
       "      <td>0.844468</td>\n",
       "      <td>0.844555</td>\n",
       "      <td>0.841998</td>\n",
       "      <td>0.823224</td>\n",
       "      <td>0.796318</td>\n",
       "      <td>0.796811</td>\n",
       "      <td>0.777196</td>\n",
       "      <td>0.768319</td>\n",
       "      <td>(128, 40, 80, 4, 2)</td>\n",
       "      <td>105.576616</td>\n",
       "      <td>extend</td>\n",
       "      <td>512</td>\n",
       "      <td>512</td>\n",
       "      <td>08/06/2024 - 14:53</td>\n",
       "    </tr>\n",
       "    <tr>\n",
       "      <th>853</th>\n",
       "      <td>cora</td>\n",
       "      <td>2708</td>\n",
       "      <td>5278</td>\n",
       "      <td>global</td>\n",
       "      <td>micro</td>\n",
       "      <td>0.852399</td>\n",
       "      <td>0.846863</td>\n",
       "      <td>0.845018</td>\n",
       "      <td>0.845018</td>\n",
       "      <td>0.826440</td>\n",
       "      <td>0.802462</td>\n",
       "      <td>0.802743</td>\n",
       "      <td>0.784495</td>\n",
       "      <td>0.776046</td>\n",
       "      <td>(128, 40, 80, 4, 2)</td>\n",
       "      <td>105.576616</td>\n",
       "      <td>extend</td>\n",
       "      <td>512</td>\n",
       "      <td>512</td>\n",
       "      <td>08/06/2024 - 14:53</td>\n",
       "    </tr>\n",
       "    <tr>\n",
       "      <th>854</th>\n",
       "      <td>cora</td>\n",
       "      <td>2708</td>\n",
       "      <td>5278</td>\n",
       "      <td>local</td>\n",
       "      <td>macro</td>\n",
       "      <td>0.824758</td>\n",
       "      <td>0.817843</td>\n",
       "      <td>0.829875</td>\n",
       "      <td>0.833960</td>\n",
       "      <td>0.805164</td>\n",
       "      <td>0.806052</td>\n",
       "      <td>0.783926</td>\n",
       "      <td>0.768466</td>\n",
       "      <td>0.733091</td>\n",
       "      <td>(128, 40, 80, 4, 2)</td>\n",
       "      <td>32.564104</td>\n",
       "      <td>extend</td>\n",
       "      <td>512</td>\n",
       "      <td>512</td>\n",
       "      <td>08/06/2024 - 14:53</td>\n",
       "    </tr>\n",
       "    <tr>\n",
       "      <th>855</th>\n",
       "      <td>cora</td>\n",
       "      <td>2708</td>\n",
       "      <td>5278</td>\n",
       "      <td>local</td>\n",
       "      <td>micro</td>\n",
       "      <td>0.830258</td>\n",
       "      <td>0.824723</td>\n",
       "      <td>0.837638</td>\n",
       "      <td>0.837638</td>\n",
       "      <td>0.812408</td>\n",
       "      <td>0.814154</td>\n",
       "      <td>0.796941</td>\n",
       "      <td>0.778957</td>\n",
       "      <td>0.754717</td>\n",
       "      <td>(128, 40, 80, 4, 2)</td>\n",
       "      <td>32.564104</td>\n",
       "      <td>extend</td>\n",
       "      <td>512</td>\n",
       "      <td>512</td>\n",
       "      <td>08/06/2024 - 14:53</td>\n",
       "    </tr>\n",
       "  </tbody>\n",
       "</table>\n",
       "</div>"
      ],
      "text/plain": [
       "    dataset  nodes  edges retraining_type metric       10%       20%  \\\n",
       "852    cora   2708   5278          global  macro  0.854654  0.844468   \n",
       "853    cora   2708   5278          global  micro  0.852399  0.846863   \n",
       "854    cora   2708   5278           local  macro  0.824758  0.817843   \n",
       "855    cora   2708   5278           local  micro  0.830258  0.824723   \n",
       "\n",
       "          30%       40%       50%       60%       70%       80%       90%  \\\n",
       "852  0.844555  0.841998  0.823224  0.796318  0.796811  0.777196  0.768319   \n",
       "853  0.845018  0.845018  0.826440  0.802462  0.802743  0.784495  0.776046   \n",
       "854  0.829875  0.833960  0.805164  0.806052  0.783926  0.768466  0.733091   \n",
       "855  0.837638  0.837638  0.812408  0.814154  0.796941  0.778957  0.754717   \n",
       "\n",
       "              parameters  training_time dynamic_update  num_different_nodes  \\\n",
       "852  (128, 40, 80, 4, 2)     105.576616         extend                  512   \n",
       "853  (128, 40, 80, 4, 2)     105.576616         extend                  512   \n",
       "854  (128, 40, 80, 4, 2)      32.564104         extend                  512   \n",
       "855  (128, 40, 80, 4, 2)      32.564104         extend                  512   \n",
       "\n",
       "     num_starting_nodes execution_timestamp  \n",
       "852                 512  08/06/2024 - 14:53  \n",
       "853                 512  08/06/2024 - 14:53  \n",
       "854                 512  08/06/2024 - 14:53  \n",
       "855                 512  08/06/2024 - 14:53  "
      ]
     },
     "execution_count": 36,
     "metadata": {},
     "output_type": "execute_result"
    }
   ],
   "source": [
    "table_df"
   ]
  },
  {
   "cell_type": "code",
   "execution_count": 37,
   "metadata": {},
   "outputs": [
    {
     "data": {
      "text/plain": [
       "{'dataset': 'cora',\n",
       " 'retraining_type': 'global',\n",
       " 'parameters': '(128, 80, 160, 4, 4)',\n",
       " 'average_accuracy': 0.7906122755311732,\n",
       " 'training_time': 415.683768033981}"
      ]
     },
     "execution_count": 37,
     "metadata": {},
     "output_type": "execute_result"
    }
   ],
   "source": [
    "dict(sub_df.iloc[sub_df['average_accuracy'].argmax()])"
   ]
  },
  {
   "cell_type": "code",
   "execution_count": null,
   "metadata": {},
   "outputs": [],
   "source": []
  },
  {
   "cell_type": "markdown",
   "metadata": {},
   "source": [
    "## Graphs "
   ]
  },
  {
   "cell_type": "code",
   "execution_count": 38,
   "metadata": {},
   "outputs": [],
   "source": [
    "speed_df = sub_df.copy()"
   ]
  },
  {
   "cell_type": "code",
   "execution_count": 39,
   "metadata": {},
   "outputs": [
    {
     "data": {
      "text/plain": [
       "0    (128, 80, 160, 4, 4)\n",
       "1    (128, 80, 160, 4, 4)\n",
       "Name: parameters, dtype: object"
      ]
     },
     "execution_count": 39,
     "metadata": {},
     "output_type": "execute_result"
    }
   ],
   "source": [
    "speed_df.sort_values(by='average_accuracy', ascending=False).head(30)['parameters']"
   ]
  },
  {
   "cell_type": "code",
   "execution_count": 40,
   "metadata": {},
   "outputs": [],
   "source": [
    "# Function to convert string to tuple and extract required elements\n",
    "def extract_elements(param_str):\n",
    "    tuple_obj = ast.literal_eval(param_str)\n",
    "    return tuple_obj[1], tuple_obj[2]\n",
    "\n",
    "# Apply the function to the 'parameters' column and create new columns\n",
    "speed_df[['walk_length', 'walks_num']] = speed_df['parameters'].apply(lambda x: pd.Series(extract_elements(x)))"
   ]
  },
  {
   "cell_type": "code",
   "execution_count": 41,
   "metadata": {},
   "outputs": [
    {
     "data": {
      "text/html": [
       "<div>\n",
       "<style scoped>\n",
       "    .dataframe tbody tr th:only-of-type {\n",
       "        vertical-align: middle;\n",
       "    }\n",
       "\n",
       "    .dataframe tbody tr th {\n",
       "        vertical-align: top;\n",
       "    }\n",
       "\n",
       "    .dataframe thead th {\n",
       "        text-align: right;\n",
       "    }\n",
       "</style>\n",
       "<table border=\"1\" class=\"dataframe\">\n",
       "  <thead>\n",
       "    <tr style=\"text-align: right;\">\n",
       "      <th></th>\n",
       "      <th>dataset</th>\n",
       "      <th>retraining_type</th>\n",
       "      <th>parameters</th>\n",
       "      <th>average_accuracy</th>\n",
       "      <th>training_time</th>\n",
       "      <th>walk_length</th>\n",
       "      <th>walks_num</th>\n",
       "    </tr>\n",
       "  </thead>\n",
       "  <tbody>\n",
       "    <tr>\n",
       "      <th>0</th>\n",
       "      <td>cora</td>\n",
       "      <td>global</td>\n",
       "      <td>(128, 80, 160, 4, 4)</td>\n",
       "      <td>0.790612</td>\n",
       "      <td>415.683768</td>\n",
       "      <td>80</td>\n",
       "      <td>160</td>\n",
       "    </tr>\n",
       "    <tr>\n",
       "      <th>1</th>\n",
       "      <td>cora</td>\n",
       "      <td>local</td>\n",
       "      <td>(128, 80, 160, 4, 4)</td>\n",
       "      <td>0.782657</td>\n",
       "      <td>124.809953</td>\n",
       "      <td>80</td>\n",
       "      <td>160</td>\n",
       "    </tr>\n",
       "  </tbody>\n",
       "</table>\n",
       "</div>"
      ],
      "text/plain": [
       "  dataset retraining_type            parameters  average_accuracy  \\\n",
       "0    cora          global  (128, 80, 160, 4, 4)          0.790612   \n",
       "1    cora           local  (128, 80, 160, 4, 4)          0.782657   \n",
       "\n",
       "   training_time  walk_length  walks_num  \n",
       "0     415.683768           80        160  \n",
       "1     124.809953           80        160  "
      ]
     },
     "execution_count": 41,
     "metadata": {},
     "output_type": "execute_result"
    }
   ],
   "source": [
    "speed_df.tail(8)"
   ]
  },
  {
   "cell_type": "code",
   "execution_count": 42,
   "metadata": {},
   "outputs": [],
   "source": [
    "speed_df = speed_df.loc[speed_df['walk_length'] != 8]"
   ]
  },
  {
   "cell_type": "code",
   "execution_count": 43,
   "metadata": {},
   "outputs": [
    {
     "data": {
      "text/plain": [
       "array([80])"
      ]
     },
     "execution_count": 43,
     "metadata": {},
     "output_type": "execute_result"
    }
   ],
   "source": [
    "speed_df['walk_length'].unique()"
   ]
  },
  {
   "cell_type": "code",
   "execution_count": 44,
   "metadata": {},
   "outputs": [],
   "source": [
    "global_speed_df = speed_df.loc[speed_df['retraining_type'] == 'global']\n",
    "local_speed_df = speed_df.loc[speed_df['retraining_type'] == 'local']"
   ]
  },
  {
   "cell_type": "code",
   "execution_count": 45,
   "metadata": {},
   "outputs": [
    {
     "data": {
      "text/html": [
       "<div>\n",
       "<style scoped>\n",
       "    .dataframe tbody tr th:only-of-type {\n",
       "        vertical-align: middle;\n",
       "    }\n",
       "\n",
       "    .dataframe tbody tr th {\n",
       "        vertical-align: top;\n",
       "    }\n",
       "\n",
       "    .dataframe thead th {\n",
       "        text-align: right;\n",
       "    }\n",
       "</style>\n",
       "<table border=\"1\" class=\"dataframe\">\n",
       "  <thead>\n",
       "    <tr style=\"text-align: right;\">\n",
       "      <th></th>\n",
       "      <th>dataset</th>\n",
       "      <th>retraining_type</th>\n",
       "      <th>parameters</th>\n",
       "      <th>average_accuracy</th>\n",
       "      <th>training_time</th>\n",
       "      <th>walk_length</th>\n",
       "      <th>walks_num</th>\n",
       "    </tr>\n",
       "  </thead>\n",
       "  <tbody>\n",
       "    <tr>\n",
       "      <th>0</th>\n",
       "      <td>cora</td>\n",
       "      <td>global</td>\n",
       "      <td>(128, 80, 160, 4, 4)</td>\n",
       "      <td>0.790612</td>\n",
       "      <td>415.683768</td>\n",
       "      <td>80</td>\n",
       "      <td>160</td>\n",
       "    </tr>\n",
       "  </tbody>\n",
       "</table>\n",
       "</div>"
      ],
      "text/plain": [
       "  dataset retraining_type            parameters  average_accuracy  \\\n",
       "0    cora          global  (128, 80, 160, 4, 4)          0.790612   \n",
       "\n",
       "   training_time  walk_length  walks_num  \n",
       "0     415.683768           80        160  "
      ]
     },
     "execution_count": 45,
     "metadata": {},
     "output_type": "execute_result"
    }
   ],
   "source": [
    "global_speed_df"
   ]
  },
  {
   "cell_type": "code",
   "execution_count": 46,
   "metadata": {},
   "outputs": [
    {
     "data": {
      "text/plain": [
       "415.683768033981"
      ]
     },
     "execution_count": 46,
     "metadata": {},
     "output_type": "execute_result"
    }
   ],
   "source": [
    "global_speed_df.loc[global_speed_df['walk_length'] == 80, 'training_time'].mean()"
   ]
  },
  {
   "cell_type": "code",
   "execution_count": 47,
   "metadata": {},
   "outputs": [
    {
     "data": {
      "text/plain": [
       "124.809953451157"
      ]
     },
     "execution_count": 47,
     "metadata": {},
     "output_type": "execute_result"
    }
   ],
   "source": [
    "local_speed_df.loc[local_speed_df['walk_length'] == 80, 'training_time'].mean()\n"
   ]
  },
  {
   "cell_type": "code",
   "execution_count": 48,
   "metadata": {},
   "outputs": [
    {
     "data": {
      "text/plain": [
       "nan"
      ]
     },
     "execution_count": 48,
     "metadata": {},
     "output_type": "execute_result"
    }
   ],
   "source": [
    "global_speed_df.loc[global_speed_df['walk_length'] == 40, 'training_time'].mean()"
   ]
  },
  {
   "cell_type": "code",
   "execution_count": 49,
   "metadata": {},
   "outputs": [
    {
     "data": {
      "text/plain": [
       "nan"
      ]
     },
     "execution_count": 49,
     "metadata": {},
     "output_type": "execute_result"
    }
   ],
   "source": [
    "local_speed_df.loc[local_speed_df['walk_length'] == 40, 'training_time'].mean()"
   ]
  },
  {
   "cell_type": "markdown",
   "metadata": {},
   "source": [
    "## One parameter set evaluation "
   ]
  },
  {
   "cell_type": "code",
   "execution_count": 50,
   "metadata": {},
   "outputs": [],
   "source": [
    "param_df = results_df.loc[results_df['parameters'] == '(128, 40, 80, 0.25, 1)']"
   ]
  },
  {
   "cell_type": "code",
   "execution_count": 51,
   "metadata": {},
   "outputs": [],
   "source": [
    "# These are the parameters for calculating the gloal/local difference\n",
    "config = {'parameters': '(128, 40, 80, 0.25, 1)',\n",
    "          'metric': 'macro',\n",
    "          'num_different_nodes': 512}\n",
    "\n",
    "alL_stats_dict = {'extend': {}, 'prune': {}}\n",
    "\n",
    "for dynamic_update in alL_stats_dict:\n",
    "\n",
    "    for dataset in param_df['dataset'].unique():\n",
    "        \n",
    "        config['dataset'] = dataset\n",
    "        sub_df = accu_time_df_gen(param_df, config)\n",
    "\n",
    "        # if dynamic_update in list(sub_df['dynamic_update']):\n",
    "        dynamic_df = sub_df[sub_df['dynamic_update'] == dynamic_update]\n",
    "        dynamic_df = dynamic_df.reset_index(drop=True)\n",
    "\n",
    "        # Calculate the average accuracy difference\n",
    "        avg_accuracy_diff_perc = 100* (abs(dynamic_df.loc[0, 'average_accuracy'] - dynamic_df.loc[1, 'average_accuracy']) / dynamic_df.loc[0, 'average_accuracy'])\n",
    "\n",
    "        # Calculate the training time difference\n",
    "        training_time_diff_perc = 100* (abs(dynamic_df.loc[0, 'training_time'] - dynamic_df.loc[1, 'training_time'])) / dynamic_df.loc[0, 'training_time']\n",
    "\n",
    "        alL_stats_dict[dynamic_update].update({dataset: (avg_accuracy_diff_perc, training_time_diff_perc)})\n"
   ]
  },
  {
   "cell_type": "code",
   "execution_count": 52,
   "metadata": {},
   "outputs": [
    {
     "data": {
      "text/plain": [
       "{'extend': {'blog_catalog': (1.7591764122511893, 71.24197406370602),\n",
       "  'wikipedia': (2.9285962240930377, 78.61304527981541),\n",
       "  'PPI': (6.563866343758801, 75.9588752940188),\n",
       "  'cora': (0.36741912773315977, 69.84596418737402)},\n",
       " 'prune': {'blog_catalog': (3.4735885626950505, 64.88767819791232),\n",
       "  'wikipedia': (16.72134276511298, 75.41873442683948),\n",
       "  'PPI': (10.66271459251596, 79.64285125068935),\n",
       "  'cora': (7.093595182937153, 91.96668580929749)}}"
      ]
     },
     "execution_count": 52,
     "metadata": {},
     "output_type": "execute_result"
    }
   ],
   "source": [
    "alL_stats_dict"
   ]
  },
  {
   "cell_type": "code",
   "execution_count": 53,
   "metadata": {},
   "outputs": [
    {
     "data": {
      "text/plain": [
       "True"
      ]
     },
     "execution_count": 53,
     "metadata": {},
     "output_type": "execute_result"
    }
   ],
   "source": [
    "'prune' in list(sub_df['dynamic_update'])"
   ]
  },
  {
   "cell_type": "code",
   "execution_count": 55,
   "metadata": {},
   "outputs": [
    {
     "data": {
      "text/html": [
       "<div>\n",
       "<style scoped>\n",
       "    .dataframe tbody tr th:only-of-type {\n",
       "        vertical-align: middle;\n",
       "    }\n",
       "\n",
       "    .dataframe tbody tr th {\n",
       "        vertical-align: top;\n",
       "    }\n",
       "\n",
       "    .dataframe thead th {\n",
       "        text-align: right;\n",
       "    }\n",
       "</style>\n",
       "<table border=\"1\" class=\"dataframe\">\n",
       "  <thead>\n",
       "    <tr style=\"text-align: right;\">\n",
       "      <th></th>\n",
       "      <th>dataset</th>\n",
       "      <th>retraining_type</th>\n",
       "      <th>parameters</th>\n",
       "      <th>dynamic_update</th>\n",
       "      <th>average_accuracy</th>\n",
       "      <th>training_time</th>\n",
       "    </tr>\n",
       "  </thead>\n",
       "  <tbody>\n",
       "    <tr>\n",
       "      <th>0</th>\n",
       "      <td>cora</td>\n",
       "      <td>global</td>\n",
       "      <td>(128, 40, 80, 0.25, 1)</td>\n",
       "      <td>prune</td>\n",
       "      <td>0.750689</td>\n",
       "      <td>81.678901</td>\n",
       "    </tr>\n",
       "    <tr>\n",
       "      <th>1</th>\n",
       "      <td>cora</td>\n",
       "      <td>local</td>\n",
       "      <td>(128, 40, 80, 0.25, 1)</td>\n",
       "      <td>prune</td>\n",
       "      <td>0.697438</td>\n",
       "      <td>6.561523</td>\n",
       "    </tr>\n",
       "    <tr>\n",
       "      <th>2</th>\n",
       "      <td>cora</td>\n",
       "      <td>global</td>\n",
       "      <td>(128, 40, 80, 0.25, 1)</td>\n",
       "      <td>extend</td>\n",
       "      <td>0.794214</td>\n",
       "      <td>102.186127</td>\n",
       "    </tr>\n",
       "    <tr>\n",
       "      <th>3</th>\n",
       "      <td>cora</td>\n",
       "      <td>local</td>\n",
       "      <td>(128, 40, 80, 0.25, 1)</td>\n",
       "      <td>extend</td>\n",
       "      <td>0.791296</td>\n",
       "      <td>30.813241</td>\n",
       "    </tr>\n",
       "  </tbody>\n",
       "</table>\n",
       "</div>"
      ],
      "text/plain": [
       "  dataset retraining_type              parameters dynamic_update  \\\n",
       "0    cora          global  (128, 40, 80, 0.25, 1)          prune   \n",
       "1    cora           local  (128, 40, 80, 0.25, 1)          prune   \n",
       "2    cora          global  (128, 40, 80, 0.25, 1)         extend   \n",
       "3    cora           local  (128, 40, 80, 0.25, 1)         extend   \n",
       "\n",
       "   average_accuracy  training_time  \n",
       "0          0.750689      81.678901  \n",
       "1          0.697438       6.561523  \n",
       "2          0.794214     102.186127  \n",
       "3          0.791296      30.813241  "
      ]
     },
     "execution_count": 55,
     "metadata": {},
     "output_type": "execute_result"
    }
   ],
   "source": [
    "sub_df = accu_time_df_gen(param_df, config)\n",
    "sub_df"
   ]
  },
  {
   "cell_type": "code",
   "execution_count": 56,
   "metadata": {},
   "outputs": [
    {
     "data": {
      "image/png": "[encoded data removed]",
      "text/plain": [
       "<Figure size 640x480 with 1 Axes>"
      ]
     },
     "metadata": {},
     "output_type": "display_data"
    }
   ],
   "source": [
    "dynamic_update = 'extend'\n",
    "stats_dict = alL_stats_dict[dynamic_update]\n",
    "\n",
    "speed_accu_plot(alL_stats_dict, dynamic_update)"
   ]
  },
  {
   "cell_type": "code",
   "execution_count": 57,
   "metadata": {},
   "outputs": [
    {
     "data": {
      "image/png": "[encoded data removed]",
      "text/plain": [
       "<Figure size 640x480 with 1 Axes>"
      ]
     },
     "metadata": {},
     "output_type": "display_data"
    }
   ],
   "source": [
    "dynamic_update = 'prune'\n",
    "stats_dict = alL_stats_dict[dynamic_update]\n",
    "\n",
    "speed_accu_plot(alL_stats_dict, dynamic_update)"
   ]
  },
  {
   "cell_type": "code",
   "execution_count": null,
   "metadata": {},
   "outputs": [],
   "source": []
  }
 ],
 "metadata": {
  "kernelspec": {
   "display_name": "Python 3.10",
   "language": "python",
   "name": "py3.10"
  },
  "language_info": {
   "codemirror_mode": {
    "name": "ipython",
    "version": 3
   },
   "file_extension": ".py",
   "mimetype": "text/x-python",
   "name": "python",
   "nbconvert_exporter": "python",
   "pygments_lexer": "ipython3",
   "version": "3.10.13"
  }
 },
 "nbformat": 4,
 "nbformat_minor": 2
}
