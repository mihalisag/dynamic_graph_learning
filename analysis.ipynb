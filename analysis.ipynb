{
 "cells": [
  {
   "cell_type": "markdown",
   "metadata": {},
   "source": [
    "# Analysis of results "
   ]
  },
  {
   "cell_type": "code",
   "execution_count": 1,
   "metadata": {},
   "outputs": [
    {
     "name": "stdout",
     "output_type": "stream",
     "text": [
      "/home/jovyan/thesis\n"
     ]
    },
    {
     "name": "stderr",
     "output_type": "stream",
     "text": [
      "/home/jovyan/venvs/my_environment/lib/python3.10/site-packages/IPython/core/magics/osm.py:393: UserWarning: using bookmarks requires you to install the `pickleshare` library.\n",
      "  bkms = self.shell.db.get('bookmarks', {})\n",
      "/home/jovyan/venvs/my_environment/lib/python3.10/site-packages/IPython/core/magics/osm.py:417: UserWarning: using dhist requires you to install the `pickleshare` library.\n",
      "  self.shell.db['dhist'] = compress_dhist(dhist)[-100:]\n"
     ]
    }
   ],
   "source": [
    "cd ~/thesis/"
   ]
  },
  {
   "cell_type": "markdown",
   "metadata": {},
   "source": [
    "## Initial processing"
   ]
  },
  {
   "cell_type": "code",
   "execution_count": 2,
   "metadata": {},
   "outputs": [
    {
     "name": "stderr",
     "output_type": "stream",
     "text": [
      "/tmp/ipykernel_324/70208650.py:2: DeprecationWarning: \n",
      "Pyarrow will become a required dependency of pandas in the next major release of pandas (pandas 3.0),\n",
      "(to allow more performant data types, such as the Arrow string type, and better interoperability with other libraries)\n",
      "but was not found to be installed on your system.\n",
      "If this would cause problems for you,\n",
      "please provide us feedback at https://github.com/pandas-dev/pandas/issues/54466\n",
      "        \n",
      "  import pandas as pd\n"
     ]
    }
   ],
   "source": [
    "import numpy as np\n",
    "import pandas as pd\n",
    "\n",
    "import matplotlib.pyplot as plt\n",
    "\n",
    "import ast\n",
    "\n",
    "from analysis_utils import *"
   ]
  },
  {
   "cell_type": "code",
   "execution_count": 3,
   "metadata": {},
   "outputs": [],
   "source": [
    "results_df = pd.read_csv('results.csv')"
   ]
  },
  {
   "cell_type": "code",
   "execution_count": 4,
   "metadata": {},
   "outputs": [],
   "source": [
    "# These are the parameters for calculating the gloal/local difference\n",
    "config = {'dataset': 'cora',\n",
    "          'dynamic_update': 'extend',\n",
    "          'metric': 'macro',\n",
    "          'parameters': '(128, 80, 160, 4, 4)',\n",
    "          'num_different_nodes': 512}"
   ]
  },
  {
   "cell_type": "code",
   "execution_count": 5,
   "metadata": {},
   "outputs": [],
   "source": [
    "sub_df = accu_time_df_gen(results_df, config)"
   ]
  },
  {
   "cell_type": "code",
   "execution_count": 12,
   "metadata": {},
   "outputs": [],
   "source": [
    "# Calculate the average accuracy difference\n",
    "avg_accuracy_diff_perc = 100* (abs(sub_df.loc[0, 'average_accuracy'] - sub_df.loc[1, 'average_accuracy']) / sub_df.loc[0, 'average_accuracy'])\n",
    "\n",
    "# Calculate the training time difference\n",
    "training_time_diff_perc = 100* (abs(sub_df.loc[0, 'training_time'] - sub_df.loc[1, 'training_time'])) / sub_df.loc[0, 'training_time']"
   ]
  },
  {
   "cell_type": "code",
   "execution_count": 13,
   "metadata": {},
   "outputs": [
    {
     "data": {
      "text/plain": [
       "(1.006230422861552, 69.9747829843204)"
      ]
     },
     "execution_count": 13,
     "metadata": {},
     "output_type": "execute_result"
    }
   ],
   "source": [
    "avg_accuracy_diff_perc, training_time_diff_perc"
   ]
  },
  {
   "cell_type": "markdown",
   "metadata": {},
   "source": [
    "### Hyperparameter tuning"
   ]
  },
  {
   "cell_type": "code",
   "execution_count": 14,
   "metadata": {},
   "outputs": [
    {
     "data": {
      "text/plain": [
       "371"
      ]
     },
     "execution_count": 14,
     "metadata": {},
     "output_type": "execute_result"
    }
   ],
   "source": [
    "# Should have been 300 (?)\n",
    "all_parameters = list(results_df['parameters'].unique())\n",
    "len(all_parameters)"
   ]
  },
  {
   "cell_type": "code",
   "execution_count": 84,
   "metadata": {},
   "outputs": [
    {
     "ename": "ValueError",
     "evalue": "too many values to unpack (expected 5)",
     "output_type": "error",
     "traceback": [
      "\u001b[0;31m---------------------------------------------------------------------------\u001b[0m",
      "\u001b[0;31mValueError\u001b[0m                                Traceback (most recent call last)",
      "Cell \u001b[0;32mIn[84], line 11\u001b[0m\n\u001b[1;32m      7\u001b[0m Q \u001b[38;5;241m=\u001b[39m \u001b[38;5;28mset\u001b[39m()\n\u001b[1;32m     10\u001b[0m \u001b[38;5;28;01mfor\u001b[39;00m param \u001b[38;5;129;01min\u001b[39;00m all_parameters:\n\u001b[0;32m---> 11\u001b[0m     d, r, l, p, q \u001b[38;5;241m=\u001b[39m param\n\u001b[1;32m     12\u001b[0m     D\u001b[38;5;241m.\u001b[39madd(d)\n\u001b[1;32m     13\u001b[0m     R\u001b[38;5;241m.\u001b[39madd(r)\n",
      "\u001b[0;31mValueError\u001b[0m: too many values to unpack (expected 5)"
     ]
    }
   ],
   "source": [
    "# all_parameters = [ast.literal_eval(param_str) for param_str in all_parameters]\n",
    "\n",
    "D = set()\n",
    "R = set()\n",
    "L = set()\n",
    "P = set()\n",
    "Q = set()\n",
    "\n",
    "\n",
    "for param in all_parameters:\n",
    "    d, r, l, p, q = param\n",
    "    D.add(d)\n",
    "    R.add(r)\n",
    "    L.add(l)\n",
    "    P.add(p)\n",
    "    Q.add(q)\n",
    "\n",
    "\n",
    "D, R, L, P, Q"
   ]
  },
  {
   "cell_type": "code",
   "execution_count": null,
   "metadata": {},
   "outputs": [],
   "source": []
  },
  {
   "cell_type": "markdown",
   "metadata": {},
   "source": [
    "#### Cora"
   ]
  },
  {
   "cell_type": "code",
   "execution_count": 108,
   "metadata": {},
   "outputs": [],
   "source": [
    "config = {'dataset': 'cora',\n",
    "        #   'dynamic_update': 'extend',\n",
    "          'metric': 'macro',\n",
    "          'num_different_nodes': 512}"
   ]
  },
  {
   "cell_type": "code",
   "execution_count": 109,
   "metadata": {},
   "outputs": [],
   "source": [
    "cora_df = mult_params_accu_time_df_gen(results_df, config, all_parameters)"
   ]
  },
  {
   "cell_type": "code",
   "execution_count": 110,
   "metadata": {},
   "outputs": [
    {
     "data": {
      "image/png": "[encoded data removed]",
      "text/plain": [
       "<Figure size 640x480 with 1 Axes>"
      ]
     },
     "metadata": {},
     "output_type": "display_data"
    }
   ],
   "source": [
    "accu_time_plot(cora_df)"
   ]
  },
  {
   "cell_type": "code",
   "execution_count": 88,
   "metadata": {},
   "outputs": [
    {
     "data": {
      "text/html": [
       "<div>\n",
       "<style scoped>\n",
       "    .dataframe tbody tr th:only-of-type {\n",
       "        vertical-align: middle;\n",
       "    }\n",
       "\n",
       "    .dataframe tbody tr th {\n",
       "        vertical-align: top;\n",
       "    }\n",
       "\n",
       "    .dataframe thead th {\n",
       "        text-align: right;\n",
       "    }\n",
       "</style>\n",
       "<table border=\"1\" class=\"dataframe\">\n",
       "  <thead>\n",
       "    <tr style=\"text-align: right;\">\n",
       "      <th>cora</th>\n",
       "      <th>dataset</th>\n",
       "      <th>retraining_type</th>\n",
       "      <th>parameters</th>\n",
       "      <th>dynamic_update</th>\n",
       "      <th>removal_process</th>\n",
       "      <th>average_accuracy</th>\n",
       "      <th>training_time</th>\n",
       "    </tr>\n",
       "  </thead>\n",
       "  <tbody>\n",
       "    <tr>\n",
       "      <th>91</th>\n",
       "      <td>cora</td>\n",
       "      <td>local</td>\n",
       "      <td>(128, 40, 80, 2, 1)</td>\n",
       "      <td>extend</td>\n",
       "      <td>random</td>\n",
       "      <td>0.816479</td>\n",
       "      <td>33.817051</td>\n",
       "    </tr>\n",
       "    <tr>\n",
       "      <th>74</th>\n",
       "      <td>cora</td>\n",
       "      <td>global</td>\n",
       "      <td>(128, 40, 80, 4, 2)</td>\n",
       "      <td>extend</td>\n",
       "      <td>random</td>\n",
       "      <td>0.816394</td>\n",
       "      <td>105.576616</td>\n",
       "    </tr>\n",
       "    <tr>\n",
       "      <th>111</th>\n",
       "      <td>cora</td>\n",
       "      <td>local</td>\n",
       "      <td>(128, 40, 80, 0.25, 0.25)</td>\n",
       "      <td>extend</td>\n",
       "      <td>random</td>\n",
       "      <td>0.812863</td>\n",
       "      <td>31.953484</td>\n",
       "    </tr>\n",
       "    <tr>\n",
       "      <th>315</th>\n",
       "      <td>cora</td>\n",
       "      <td>local</td>\n",
       "      <td>(128, 40, 160, 1, 1)</td>\n",
       "      <td>extend</td>\n",
       "      <td>random</td>\n",
       "      <td>0.811209</td>\n",
       "      <td>62.478489</td>\n",
       "    </tr>\n",
       "    <tr>\n",
       "      <th>299</th>\n",
       "      <td>cora</td>\n",
       "      <td>local</td>\n",
       "      <td>(128, 40, 160, 2, 0.5)</td>\n",
       "      <td>extend</td>\n",
       "      <td>random</td>\n",
       "      <td>0.810902</td>\n",
       "      <td>63.524729</td>\n",
       "    </tr>\n",
       "    <tr>\n",
       "      <th>235</th>\n",
       "      <td>cora</td>\n",
       "      <td>local</td>\n",
       "      <td>(128, 80, 80, 1, 0.25)</td>\n",
       "      <td>extend</td>\n",
       "      <td>random</td>\n",
       "      <td>0.810208</td>\n",
       "      <td>64.816080</td>\n",
       "    </tr>\n",
       "    <tr>\n",
       "      <th>219</th>\n",
       "      <td>cora</td>\n",
       "      <td>local</td>\n",
       "      <td>(128, 80, 80, 4, 0.25)</td>\n",
       "      <td>extend</td>\n",
       "      <td>random</td>\n",
       "      <td>0.810062</td>\n",
       "      <td>67.367942</td>\n",
       "    </tr>\n",
       "    <tr>\n",
       "      <th>183</th>\n",
       "      <td>cora</td>\n",
       "      <td>local</td>\n",
       "      <td>(128, 80, 160, 0.5, 1)</td>\n",
       "      <td>extend</td>\n",
       "      <td>random</td>\n",
       "      <td>0.809882</td>\n",
       "      <td>123.806995</td>\n",
       "    </tr>\n",
       "    <tr>\n",
       "      <th>262</th>\n",
       "      <td>cora</td>\n",
       "      <td>global</td>\n",
       "      <td>(128, 80, 80, 0.25, 0.25)</td>\n",
       "      <td>extend</td>\n",
       "      <td>random</td>\n",
       "      <td>0.809080</td>\n",
       "      <td>204.833654</td>\n",
       "    </tr>\n",
       "    <tr>\n",
       "      <th>335</th>\n",
       "      <td>cora</td>\n",
       "      <td>local</td>\n",
       "      <td>(128, 40, 160, 0.5, 1)</td>\n",
       "      <td>extend</td>\n",
       "      <td>random</td>\n",
       "      <td>0.808739</td>\n",
       "      <td>61.532741</td>\n",
       "    </tr>\n",
       "    <tr>\n",
       "      <th>255</th>\n",
       "      <td>cora</td>\n",
       "      <td>local</td>\n",
       "      <td>(128, 80, 80, 0.5, 0.25)</td>\n",
       "      <td>extend</td>\n",
       "      <td>random</td>\n",
       "      <td>0.808450</td>\n",
       "      <td>66.094316</td>\n",
       "    </tr>\n",
       "    <tr>\n",
       "      <th>99</th>\n",
       "      <td>cora</td>\n",
       "      <td>local</td>\n",
       "      <td>(128, 40, 80, 1, 2)</td>\n",
       "      <td>extend</td>\n",
       "      <td>random</td>\n",
       "      <td>0.808023</td>\n",
       "      <td>31.512624</td>\n",
       "    </tr>\n",
       "    <tr>\n",
       "      <th>86</th>\n",
       "      <td>cora</td>\n",
       "      <td>global</td>\n",
       "      <td>(128, 40, 80, 2, 2)</td>\n",
       "      <td>extend</td>\n",
       "      <td>random</td>\n",
       "      <td>0.807493</td>\n",
       "      <td>106.450717</td>\n",
       "    </tr>\n",
       "    <tr>\n",
       "      <th>387</th>\n",
       "      <td>cora</td>\n",
       "      <td>local</td>\n",
       "      <td>(128, 40, 80, 1, 0.25)</td>\n",
       "      <td>extend</td>\n",
       "      <td>random</td>\n",
       "      <td>0.807041</td>\n",
       "      <td>33.020657</td>\n",
       "    </tr>\n",
       "    <tr>\n",
       "      <th>371</th>\n",
       "      <td>cora</td>\n",
       "      <td>local</td>\n",
       "      <td>(128, 40, 80, 4, 0.25)</td>\n",
       "      <td>extend</td>\n",
       "      <td>random</td>\n",
       "      <td>0.806688</td>\n",
       "      <td>32.818427</td>\n",
       "    </tr>\n",
       "  </tbody>\n",
       "</table>\n",
       "</div>"
      ],
      "text/plain": [
       "cora dataset retraining_type                 parameters dynamic_update  \\\n",
       "91      cora           local        (128, 40, 80, 2, 1)         extend   \n",
       "74      cora          global        (128, 40, 80, 4, 2)         extend   \n",
       "111     cora           local  (128, 40, 80, 0.25, 0.25)         extend   \n",
       "315     cora           local       (128, 40, 160, 1, 1)         extend   \n",
       "299     cora           local     (128, 40, 160, 2, 0.5)         extend   \n",
       "235     cora           local     (128, 80, 80, 1, 0.25)         extend   \n",
       "219     cora           local     (128, 80, 80, 4, 0.25)         extend   \n",
       "183     cora           local     (128, 80, 160, 0.5, 1)         extend   \n",
       "262     cora          global  (128, 80, 80, 0.25, 0.25)         extend   \n",
       "335     cora           local     (128, 40, 160, 0.5, 1)         extend   \n",
       "255     cora           local   (128, 80, 80, 0.5, 0.25)         extend   \n",
       "99      cora           local        (128, 40, 80, 1, 2)         extend   \n",
       "86      cora          global        (128, 40, 80, 2, 2)         extend   \n",
       "387     cora           local     (128, 40, 80, 1, 0.25)         extend   \n",
       "371     cora           local     (128, 40, 80, 4, 0.25)         extend   \n",
       "\n",
       "cora removal_process  average_accuracy  training_time  \n",
       "91            random          0.816479      33.817051  \n",
       "74            random          0.816394     105.576616  \n",
       "111           random          0.812863      31.953484  \n",
       "315           random          0.811209      62.478489  \n",
       "299           random          0.810902      63.524729  \n",
       "235           random          0.810208      64.816080  \n",
       "219           random          0.810062      67.367942  \n",
       "183           random          0.809882     123.806995  \n",
       "262           random          0.809080     204.833654  \n",
       "335           random          0.808739      61.532741  \n",
       "255           random          0.808450      66.094316  \n",
       "99            random          0.808023      31.512624  \n",
       "86            random          0.807493     106.450717  \n",
       "387           random          0.807041      33.020657  \n",
       "371           random          0.806688      32.818427  "
      ]
     },
     "execution_count": 88,
     "metadata": {},
     "output_type": "execute_result"
    }
   ],
   "source": [
    "# sub_df = sub_df[sub_df.loc[:, 'retraining_type'] == 'global'].reset_index(drop=True)\n",
    "cora_df.sort_values(by='average_accuracy', ascending=False).head(15)"
   ]
  },
  {
   "cell_type": "code",
   "execution_count": 89,
   "metadata": {},
   "outputs": [
    {
     "data": {
      "text/html": [
       "<div>\n",
       "<style scoped>\n",
       "    .dataframe tbody tr th:only-of-type {\n",
       "        vertical-align: middle;\n",
       "    }\n",
       "\n",
       "    .dataframe tbody tr th {\n",
       "        vertical-align: top;\n",
       "    }\n",
       "\n",
       "    .dataframe thead th {\n",
       "        text-align: right;\n",
       "    }\n",
       "</style>\n",
       "<table border=\"1\" class=\"dataframe\">\n",
       "  <thead>\n",
       "    <tr style=\"text-align: right;\">\n",
       "      <th>cora</th>\n",
       "      <th>dataset</th>\n",
       "      <th>retraining_type</th>\n",
       "      <th>parameters</th>\n",
       "      <th>dynamic_update</th>\n",
       "      <th>removal_process</th>\n",
       "      <th>average_accuracy</th>\n",
       "      <th>training_time</th>\n",
       "    </tr>\n",
       "  </thead>\n",
       "  <tbody>\n",
       "    <tr>\n",
       "      <th>0</th>\n",
       "      <td>cora</td>\n",
       "      <td>global</td>\n",
       "      <td>(128, 40, 80, 0.25, 1)</td>\n",
       "      <td>prune</td>\n",
       "      <td>degree_centrality</td>\n",
       "      <td>0.692879</td>\n",
       "      <td>76.708406</td>\n",
       "    </tr>\n",
       "    <tr>\n",
       "      <th>2</th>\n",
       "      <td>cora</td>\n",
       "      <td>global</td>\n",
       "      <td>(128, 40, 80, 0.25, 1)</td>\n",
       "      <td>extend</td>\n",
       "      <td>degree_centrality</td>\n",
       "      <td>0.788107</td>\n",
       "      <td>100.880492</td>\n",
       "    </tr>\n",
       "    <tr>\n",
       "      <th>4</th>\n",
       "      <td>cora</td>\n",
       "      <td>global</td>\n",
       "      <td>(128, 40, 80, 0.25, 1)</td>\n",
       "      <td>prune</td>\n",
       "      <td>betweenness_centrality</td>\n",
       "      <td>0.701802</td>\n",
       "      <td>75.814420</td>\n",
       "    </tr>\n",
       "    <tr>\n",
       "      <th>6</th>\n",
       "      <td>cora</td>\n",
       "      <td>global</td>\n",
       "      <td>(128, 40, 80, 0.25, 1)</td>\n",
       "      <td>extend</td>\n",
       "      <td>betweenness_centrality</td>\n",
       "      <td>0.784075</td>\n",
       "      <td>102.646673</td>\n",
       "    </tr>\n",
       "    <tr>\n",
       "      <th>8</th>\n",
       "      <td>cora</td>\n",
       "      <td>global</td>\n",
       "      <td>(128, 40, 80, 0.25, 1)</td>\n",
       "      <td>prune</td>\n",
       "      <td>random</td>\n",
       "      <td>0.750689</td>\n",
       "      <td>81.678901</td>\n",
       "    </tr>\n",
       "    <tr>\n",
       "      <th>...</th>\n",
       "      <td>...</td>\n",
       "      <td>...</td>\n",
       "      <td>...</td>\n",
       "      <td>...</td>\n",
       "      <td>...</td>\n",
       "      <td>...</td>\n",
       "      <td>...</td>\n",
       "    </tr>\n",
       "    <tr>\n",
       "      <th>406</th>\n",
       "      <td>cora</td>\n",
       "      <td>global</td>\n",
       "      <td>(128, 40, 80, 0.5, 0.25)</td>\n",
       "      <td>extend</td>\n",
       "      <td>random</td>\n",
       "      <td>0.785540</td>\n",
       "      <td>104.126992</td>\n",
       "    </tr>\n",
       "    <tr>\n",
       "      <th>408</th>\n",
       "      <td>cora</td>\n",
       "      <td>global</td>\n",
       "      <td>[64, 8, 8, 0.25, 4]</td>\n",
       "      <td>prune</td>\n",
       "      <td>random</td>\n",
       "      <td>0.711445</td>\n",
       "      <td>2.311835</td>\n",
       "    </tr>\n",
       "    <tr>\n",
       "      <th>410</th>\n",
       "      <td>cora</td>\n",
       "      <td>global</td>\n",
       "      <td>[64, 8, 8, 0.25, 4]</td>\n",
       "      <td>extend</td>\n",
       "      <td>random</td>\n",
       "      <td>0.719772</td>\n",
       "      <td>3.050927</td>\n",
       "    </tr>\n",
       "    <tr>\n",
       "      <th>412</th>\n",
       "      <td>cora</td>\n",
       "      <td>global</td>\n",
       "      <td>[64, 8, 8, 0.25, 4]</td>\n",
       "      <td>prune</td>\n",
       "      <td>random</td>\n",
       "      <td>0.701516</td>\n",
       "      <td>2.295618</td>\n",
       "    </tr>\n",
       "    <tr>\n",
       "      <th>414</th>\n",
       "      <td>cora</td>\n",
       "      <td>global</td>\n",
       "      <td>[64, 8, 8, 0.25, 4]</td>\n",
       "      <td>extend</td>\n",
       "      <td>random</td>\n",
       "      <td>0.731451</td>\n",
       "      <td>2.913603</td>\n",
       "    </tr>\n",
       "  </tbody>\n",
       "</table>\n",
       "<p>208 rows × 7 columns</p>\n",
       "</div>"
      ],
      "text/plain": [
       "cora dataset retraining_type                parameters dynamic_update  \\\n",
       "0       cora          global    (128, 40, 80, 0.25, 1)          prune   \n",
       "2       cora          global    (128, 40, 80, 0.25, 1)         extend   \n",
       "4       cora          global    (128, 40, 80, 0.25, 1)          prune   \n",
       "6       cora          global    (128, 40, 80, 0.25, 1)         extend   \n",
       "8       cora          global    (128, 40, 80, 0.25, 1)          prune   \n",
       "..       ...             ...                       ...            ...   \n",
       "406     cora          global  (128, 40, 80, 0.5, 0.25)         extend   \n",
       "408     cora          global       [64, 8, 8, 0.25, 4]          prune   \n",
       "410     cora          global       [64, 8, 8, 0.25, 4]         extend   \n",
       "412     cora          global       [64, 8, 8, 0.25, 4]          prune   \n",
       "414     cora          global       [64, 8, 8, 0.25, 4]         extend   \n",
       "\n",
       "cora         removal_process  average_accuracy  training_time  \n",
       "0          degree_centrality          0.692879      76.708406  \n",
       "2          degree_centrality          0.788107     100.880492  \n",
       "4     betweenness_centrality          0.701802      75.814420  \n",
       "6     betweenness_centrality          0.784075     102.646673  \n",
       "8                     random          0.750689      81.678901  \n",
       "..                       ...               ...            ...  \n",
       "406                   random          0.785540     104.126992  \n",
       "408                   random          0.711445       2.311835  \n",
       "410                   random          0.719772       3.050927  \n",
       "412                   random          0.701516       2.295618  \n",
       "414                   random          0.731451       2.913603  \n",
       "\n",
       "[208 rows x 7 columns]"
      ]
     },
     "execution_count": 89,
     "metadata": {},
     "output_type": "execute_result"
    }
   ],
   "source": [
    "cora_df.loc[cora_df['retraining_type'] == 'global']"
   ]
  },
  {
   "cell_type": "code",
   "execution_count": 90,
   "metadata": {},
   "outputs": [
    {
     "data": {
      "text/plain": [
       "{'dataset': 'cora',\n",
       " 'retraining_type': 'global',\n",
       " 'parameters': '(128, 40, 80, 4, 2)',\n",
       " 'dynamic_update': 'extend',\n",
       " 'removal_process': 'random',\n",
       " 'average_accuracy': 0.8163936506487652,\n",
       " 'training_time': 105.576616048813}"
      ]
     },
     "execution_count": 90,
     "metadata": {},
     "output_type": "execute_result"
    }
   ],
   "source": [
    "temp_df = cora_df.loc[cora_df['retraining_type'] == 'global']\n",
    "dict(temp_df.iloc[temp_df['average_accuracy'].argmax()])"
   ]
  },
  {
   "cell_type": "code",
   "execution_count": null,
   "metadata": {},
   "outputs": [],
   "source": []
  },
  {
   "cell_type": "markdown",
   "metadata": {},
   "source": [
    "#### Wikipedia "
   ]
  },
  {
   "cell_type": "code",
   "execution_count": 91,
   "metadata": {},
   "outputs": [],
   "source": [
    "config = {'dataset': 'wikipedia',\n",
    "        #   'dynamic_update': 'extend',\n",
    "          'metric': 'macro',\n",
    "          'num_different_nodes': 512}\n"
   ]
  },
  {
   "cell_type": "code",
   "execution_count": 92,
   "metadata": {},
   "outputs": [],
   "source": [
    "wiki_df = mult_params_accu_time_df_gen(results_df, config, all_parameters)"
   ]
  },
  {
   "cell_type": "code",
   "execution_count": 93,
   "metadata": {},
   "outputs": [
    {
     "data": {
      "image/png": "[encoded data removed]",
      "text/plain": [
       "<Figure size 640x480 with 1 Axes>"
      ]
     },
     "metadata": {},
     "output_type": "display_data"
    }
   ],
   "source": [
    "accu_time_plot(wiki_df)"
   ]
  },
  {
   "cell_type": "code",
   "execution_count": 94,
   "metadata": {},
   "outputs": [
    {
     "ename": "IndexError",
     "evalue": "single positional indexer is out-of-bounds",
     "output_type": "error",
     "traceback": [
      "\u001b[0;31m---------------------------------------------------------------------------\u001b[0m",
      "\u001b[0;31mIndexError\u001b[0m                                Traceback (most recent call last)",
      "Cell \u001b[0;32mIn[94], line 2\u001b[0m\n\u001b[1;32m      1\u001b[0m temp_df \u001b[38;5;241m=\u001b[39m wiki_df\u001b[38;5;241m.\u001b[39mloc[wiki_df[\u001b[38;5;124m'\u001b[39m\u001b[38;5;124mretraining_type\u001b[39m\u001b[38;5;124m'\u001b[39m] \u001b[38;5;241m==\u001b[39m \u001b[38;5;124m'\u001b[39m\u001b[38;5;124mglobal\u001b[39m\u001b[38;5;124m'\u001b[39m]\n\u001b[0;32m----> 2\u001b[0m \u001b[38;5;28mdict\u001b[39m(\u001b[43mtemp_df\u001b[49m\u001b[38;5;241;43m.\u001b[39;49m\u001b[43miloc\u001b[49m\u001b[43m[\u001b[49m\u001b[43mwiki_df\u001b[49m\u001b[43m[\u001b[49m\u001b[38;5;124;43m'\u001b[39;49m\u001b[38;5;124;43maverage_accuracy\u001b[39;49m\u001b[38;5;124;43m'\u001b[39;49m\u001b[43m]\u001b[49m\u001b[38;5;241;43m.\u001b[39;49m\u001b[43margmax\u001b[49m\u001b[43m(\u001b[49m\u001b[43m)\u001b[49m\u001b[43m]\u001b[49m)\n",
      "File \u001b[0;32m~/venvs/my_environment/lib/python3.10/site-packages/pandas/core/indexing.py:1192\u001b[0m, in \u001b[0;36m_LocationIndexer.__getitem__\u001b[0;34m(self, key)\u001b[0m\n\u001b[1;32m   1190\u001b[0m maybe_callable \u001b[38;5;241m=\u001b[39m com\u001b[38;5;241m.\u001b[39mapply_if_callable(key, \u001b[38;5;28mself\u001b[39m\u001b[38;5;241m.\u001b[39mobj)\n\u001b[1;32m   1191\u001b[0m maybe_callable \u001b[38;5;241m=\u001b[39m \u001b[38;5;28mself\u001b[39m\u001b[38;5;241m.\u001b[39m_check_deprecated_callable_usage(key, maybe_callable)\n\u001b[0;32m-> 1192\u001b[0m \u001b[38;5;28;01mreturn\u001b[39;00m \u001b[38;5;28;43mself\u001b[39;49m\u001b[38;5;241;43m.\u001b[39;49m\u001b[43m_getitem_axis\u001b[49m\u001b[43m(\u001b[49m\u001b[43mmaybe_callable\u001b[49m\u001b[43m,\u001b[49m\u001b[43m \u001b[49m\u001b[43maxis\u001b[49m\u001b[38;5;241;43m=\u001b[39;49m\u001b[43maxis\u001b[49m\u001b[43m)\u001b[49m\n",
      "File \u001b[0;32m~/venvs/my_environment/lib/python3.10/site-packages/pandas/core/indexing.py:1753\u001b[0m, in \u001b[0;36m_iLocIndexer._getitem_axis\u001b[0;34m(self, key, axis)\u001b[0m\n\u001b[1;32m   1750\u001b[0m     \u001b[38;5;28;01mraise\u001b[39;00m \u001b[38;5;167;01mTypeError\u001b[39;00m(\u001b[38;5;124m\"\u001b[39m\u001b[38;5;124mCannot index by location index with a non-integer key\u001b[39m\u001b[38;5;124m\"\u001b[39m)\n\u001b[1;32m   1752\u001b[0m \u001b[38;5;66;03m# validate the location\u001b[39;00m\n\u001b[0;32m-> 1753\u001b[0m \u001b[38;5;28;43mself\u001b[39;49m\u001b[38;5;241;43m.\u001b[39;49m\u001b[43m_validate_integer\u001b[49m\u001b[43m(\u001b[49m\u001b[43mkey\u001b[49m\u001b[43m,\u001b[49m\u001b[43m \u001b[49m\u001b[43maxis\u001b[49m\u001b[43m)\u001b[49m\n\u001b[1;32m   1755\u001b[0m \u001b[38;5;28;01mreturn\u001b[39;00m \u001b[38;5;28mself\u001b[39m\u001b[38;5;241m.\u001b[39mobj\u001b[38;5;241m.\u001b[39m_ixs(key, axis\u001b[38;5;241m=\u001b[39maxis)\n",
      "File \u001b[0;32m~/venvs/my_environment/lib/python3.10/site-packages/pandas/core/indexing.py:1686\u001b[0m, in \u001b[0;36m_iLocIndexer._validate_integer\u001b[0;34m(self, key, axis)\u001b[0m\n\u001b[1;32m   1684\u001b[0m len_axis \u001b[38;5;241m=\u001b[39m \u001b[38;5;28mlen\u001b[39m(\u001b[38;5;28mself\u001b[39m\u001b[38;5;241m.\u001b[39mobj\u001b[38;5;241m.\u001b[39m_get_axis(axis))\n\u001b[1;32m   1685\u001b[0m \u001b[38;5;28;01mif\u001b[39;00m key \u001b[38;5;241m>\u001b[39m\u001b[38;5;241m=\u001b[39m len_axis \u001b[38;5;129;01mor\u001b[39;00m key \u001b[38;5;241m<\u001b[39m \u001b[38;5;241m-\u001b[39mlen_axis:\n\u001b[0;32m-> 1686\u001b[0m     \u001b[38;5;28;01mraise\u001b[39;00m \u001b[38;5;167;01mIndexError\u001b[39;00m(\u001b[38;5;124m\"\u001b[39m\u001b[38;5;124msingle positional indexer is out-of-bounds\u001b[39m\u001b[38;5;124m\"\u001b[39m)\n",
      "\u001b[0;31mIndexError\u001b[0m: single positional indexer is out-of-bounds"
     ]
    }
   ],
   "source": [
    "temp_df = wiki_df.loc[wiki_df['retraining_type'] == 'global']\n",
    "dict(temp_df.iloc[wiki_df['average_accuracy'].argmax()])"
   ]
  },
  {
   "cell_type": "code",
   "execution_count": null,
   "metadata": {},
   "outputs": [],
   "source": []
  },
  {
   "cell_type": "code",
   "execution_count": null,
   "metadata": {},
   "outputs": [],
   "source": []
  },
  {
   "cell_type": "markdown",
   "metadata": {},
   "source": [
    "#### PPI"
   ]
  },
  {
   "cell_type": "code",
   "execution_count": 95,
   "metadata": {},
   "outputs": [],
   "source": [
    "config = {'dataset': 'PPI',\n",
    "          'metric': 'macro',\n",
    "          'num_different_nodes': 512}"
   ]
  },
  {
   "cell_type": "code",
   "execution_count": 96,
   "metadata": {},
   "outputs": [],
   "source": [
    "ppi_df = mult_params_accu_time_df_gen(results_df, config, all_parameters)"
   ]
  },
  {
   "cell_type": "code",
   "execution_count": 97,
   "metadata": {},
   "outputs": [
    {
     "data": {
      "text/html": [
       "<div>\n",
       "<style scoped>\n",
       "    .dataframe tbody tr th:only-of-type {\n",
       "        vertical-align: middle;\n",
       "    }\n",
       "\n",
       "    .dataframe tbody tr th {\n",
       "        vertical-align: top;\n",
       "    }\n",
       "\n",
       "    .dataframe thead th {\n",
       "        text-align: right;\n",
       "    }\n",
       "</style>\n",
       "<table border=\"1\" class=\"dataframe\">\n",
       "  <thead>\n",
       "    <tr style=\"text-align: right;\">\n",
       "      <th>PPI</th>\n",
       "      <th>dataset</th>\n",
       "      <th>retraining_type</th>\n",
       "      <th>parameters</th>\n",
       "      <th>dynamic_update</th>\n",
       "      <th>removal_process</th>\n",
       "      <th>average_accuracy</th>\n",
       "      <th>training_time</th>\n",
       "    </tr>\n",
       "  </thead>\n",
       "  <tbody>\n",
       "    <tr>\n",
       "      <th>14</th>\n",
       "      <td>PPI</td>\n",
       "      <td>global</td>\n",
       "      <td>(128, 80, 80, 0.25, 1)</td>\n",
       "      <td>prune</td>\n",
       "      <td>random</td>\n",
       "      <td>0.103920</td>\n",
       "      <td>658.539948</td>\n",
       "    </tr>\n",
       "    <tr>\n",
       "      <th>93</th>\n",
       "      <td>PPI</td>\n",
       "      <td>local</td>\n",
       "      <td>(128, 40, 80, 2, 1)</td>\n",
       "      <td>extend</td>\n",
       "      <td>random</td>\n",
       "      <td>0.103872</td>\n",
       "      <td>103.184063</td>\n",
       "    </tr>\n",
       "    <tr>\n",
       "      <th>46</th>\n",
       "      <td>PPI</td>\n",
       "      <td>global</td>\n",
       "      <td>(128, 80, 80, 2, 1)</td>\n",
       "      <td>prune</td>\n",
       "      <td>random</td>\n",
       "      <td>0.103022</td>\n",
       "      <td>664.677804</td>\n",
       "    </tr>\n",
       "    <tr>\n",
       "      <th>78</th>\n",
       "      <td>PPI</td>\n",
       "      <td>global</td>\n",
       "      <td>(128, 40, 80, 4, 1)</td>\n",
       "      <td>prune</td>\n",
       "      <td>random</td>\n",
       "      <td>0.101758</td>\n",
       "      <td>343.939501</td>\n",
       "    </tr>\n",
       "    <tr>\n",
       "      <th>33</th>\n",
       "      <td>PPI</td>\n",
       "      <td>local</td>\n",
       "      <td>(128, 80, 80, 4, 2)</td>\n",
       "      <td>extend</td>\n",
       "      <td>random</td>\n",
       "      <td>0.101657</td>\n",
       "      <td>172.781480</td>\n",
       "    </tr>\n",
       "    <tr>\n",
       "      <th>37</th>\n",
       "      <td>PPI</td>\n",
       "      <td>local</td>\n",
       "      <td>(128, 80, 80, 4, 1)</td>\n",
       "      <td>extend</td>\n",
       "      <td>random</td>\n",
       "      <td>0.101450</td>\n",
       "      <td>167.833059</td>\n",
       "    </tr>\n",
       "    <tr>\n",
       "      <th>6</th>\n",
       "      <td>PPI</td>\n",
       "      <td>global</td>\n",
       "      <td>(128, 40, 80, 0.25, 1)</td>\n",
       "      <td>prune</td>\n",
       "      <td>random</td>\n",
       "      <td>0.099995</td>\n",
       "      <td>333.163013</td>\n",
       "    </tr>\n",
       "    <tr>\n",
       "      <th>34</th>\n",
       "      <td>PPI</td>\n",
       "      <td>global</td>\n",
       "      <td>(128, 80, 80, 4, 1)</td>\n",
       "      <td>prune</td>\n",
       "      <td>random</td>\n",
       "      <td>0.099235</td>\n",
       "      <td>659.021818</td>\n",
       "    </tr>\n",
       "    <tr>\n",
       "      <th>42</th>\n",
       "      <td>PPI</td>\n",
       "      <td>global</td>\n",
       "      <td>(128, 80, 80, 2, 2)</td>\n",
       "      <td>prune</td>\n",
       "      <td>random</td>\n",
       "      <td>0.099116</td>\n",
       "      <td>673.238465</td>\n",
       "    </tr>\n",
       "    <tr>\n",
       "      <th>53</th>\n",
       "      <td>PPI</td>\n",
       "      <td>local</td>\n",
       "      <td>(128, 80, 80, 1, 4)</td>\n",
       "      <td>extend</td>\n",
       "      <td>random</td>\n",
       "      <td>0.098656</td>\n",
       "      <td>174.081321</td>\n",
       "    </tr>\n",
       "    <tr>\n",
       "      <th>112</th>\n",
       "      <td>PPI</td>\n",
       "      <td>global</td>\n",
       "      <td>(128, 40, 80, 0.25, 0.25)</td>\n",
       "      <td>extend</td>\n",
       "      <td>random</td>\n",
       "      <td>0.098650</td>\n",
       "      <td>388.765121</td>\n",
       "    </tr>\n",
       "    <tr>\n",
       "      <th>76</th>\n",
       "      <td>PPI</td>\n",
       "      <td>global</td>\n",
       "      <td>(128, 40, 80, 4, 2)</td>\n",
       "      <td>extend</td>\n",
       "      <td>random</td>\n",
       "      <td>0.098615</td>\n",
       "      <td>425.821706</td>\n",
       "    </tr>\n",
       "    <tr>\n",
       "      <th>90</th>\n",
       "      <td>PPI</td>\n",
       "      <td>global</td>\n",
       "      <td>(128, 40, 80, 2, 1)</td>\n",
       "      <td>prune</td>\n",
       "      <td>random</td>\n",
       "      <td>0.098507</td>\n",
       "      <td>337.525098</td>\n",
       "    </tr>\n",
       "    <tr>\n",
       "      <th>61</th>\n",
       "      <td>PPI</td>\n",
       "      <td>local</td>\n",
       "      <td>(128, 80, 80, 1, 1)</td>\n",
       "      <td>extend</td>\n",
       "      <td>random</td>\n",
       "      <td>0.098259</td>\n",
       "      <td>168.280955</td>\n",
       "    </tr>\n",
       "    <tr>\n",
       "      <th>73</th>\n",
       "      <td>PPI</td>\n",
       "      <td>local</td>\n",
       "      <td>(128, 40, 80, 4, 4)</td>\n",
       "      <td>extend</td>\n",
       "      <td>random</td>\n",
       "      <td>0.098193</td>\n",
       "      <td>101.546633</td>\n",
       "    </tr>\n",
       "  </tbody>\n",
       "</table>\n",
       "</div>"
      ],
      "text/plain": [
       "PPI dataset retraining_type                 parameters dynamic_update  \\\n",
       "14      PPI          global     (128, 80, 80, 0.25, 1)          prune   \n",
       "93      PPI           local        (128, 40, 80, 2, 1)         extend   \n",
       "46      PPI          global        (128, 80, 80, 2, 1)          prune   \n",
       "78      PPI          global        (128, 40, 80, 4, 1)          prune   \n",
       "33      PPI           local        (128, 80, 80, 4, 2)         extend   \n",
       "37      PPI           local        (128, 80, 80, 4, 1)         extend   \n",
       "6       PPI          global     (128, 40, 80, 0.25, 1)          prune   \n",
       "34      PPI          global        (128, 80, 80, 4, 1)          prune   \n",
       "42      PPI          global        (128, 80, 80, 2, 2)          prune   \n",
       "53      PPI           local        (128, 80, 80, 1, 4)         extend   \n",
       "112     PPI          global  (128, 40, 80, 0.25, 0.25)         extend   \n",
       "76      PPI          global        (128, 40, 80, 4, 2)         extend   \n",
       "90      PPI          global        (128, 40, 80, 2, 1)          prune   \n",
       "61      PPI           local        (128, 80, 80, 1, 1)         extend   \n",
       "73      PPI           local        (128, 40, 80, 4, 4)         extend   \n",
       "\n",
       "PPI removal_process  average_accuracy  training_time  \n",
       "14           random          0.103920     658.539948  \n",
       "93           random          0.103872     103.184063  \n",
       "46           random          0.103022     664.677804  \n",
       "78           random          0.101758     343.939501  \n",
       "33           random          0.101657     172.781480  \n",
       "37           random          0.101450     167.833059  \n",
       "6            random          0.099995     333.163013  \n",
       "34           random          0.099235     659.021818  \n",
       "42           random          0.099116     673.238465  \n",
       "53           random          0.098656     174.081321  \n",
       "112          random          0.098650     388.765121  \n",
       "76           random          0.098615     425.821706  \n",
       "90           random          0.098507     337.525098  \n",
       "61           random          0.098259     168.280955  \n",
       "73           random          0.098193     101.546633  "
      ]
     },
     "execution_count": 97,
     "metadata": {},
     "output_type": "execute_result"
    }
   ],
   "source": [
    "# sub_df = sub_df[sub_df.loc[:, 'retraining_type'] == 'global'].reset_index(drop=True)\n",
    "ppi_df.sort_values(by='average_accuracy', ascending=False).head(15)"
   ]
  },
  {
   "cell_type": "code",
   "execution_count": 98,
   "metadata": {},
   "outputs": [
    {
     "data": {
      "image/png": "[encoded data removed]",
      "text/plain": [
       "<Figure size 640x480 with 1 Axes>"
      ]
     },
     "metadata": {},
     "output_type": "display_data"
    }
   ],
   "source": [
    "accu_time_plot(ppi_df)"
   ]
  },
  {
   "cell_type": "code",
   "execution_count": 99,
   "metadata": {},
   "outputs": [
    {
     "data": {
      "text/plain": [
       "{'dataset': 'PPI',\n",
       " 'retraining_type': 'global',\n",
       " 'parameters': '(128, 80, 80, 0.25, 1)',\n",
       " 'dynamic_update': 'prune',\n",
       " 'removal_process': 'random',\n",
       " 'average_accuracy': 0.10392025126642672,\n",
       " 'training_time': 658.539947986603}"
      ]
     },
     "execution_count": 99,
     "metadata": {},
     "output_type": "execute_result"
    }
   ],
   "source": [
    "temp_df = ppi_df.loc[ppi_df['retraining_type'] == 'global']\n",
    "dict(temp_df.iloc[temp_df['average_accuracy'].argmax()])"
   ]
  },
  {
   "cell_type": "code",
   "execution_count": null,
   "metadata": {},
   "outputs": [],
   "source": []
  },
  {
   "cell_type": "code",
   "execution_count": null,
   "metadata": {},
   "outputs": [],
   "source": []
  },
  {
   "cell_type": "markdown",
   "metadata": {},
   "source": [
    "#### BlogCatalog"
   ]
  },
  {
   "cell_type": "code",
   "execution_count": 100,
   "metadata": {},
   "outputs": [],
   "source": [
    "config = {'dataset': 'blog_catalog',\n",
    "        # 'dynamic_update': 'extend',\n",
    "        'metric': 'macro',\n",
    "        'num_different_nodes': 512}"
   ]
  },
  {
   "cell_type": "code",
   "execution_count": 101,
   "metadata": {},
   "outputs": [
    {
     "data": {
      "text/html": [
       "<div>\n",
       "<style scoped>\n",
       "    .dataframe tbody tr th:only-of-type {\n",
       "        vertical-align: middle;\n",
       "    }\n",
       "\n",
       "    .dataframe tbody tr th {\n",
       "        vertical-align: top;\n",
       "    }\n",
       "\n",
       "    .dataframe thead th {\n",
       "        text-align: right;\n",
       "    }\n",
       "</style>\n",
       "<table border=\"1\" class=\"dataframe\">\n",
       "  <thead>\n",
       "    <tr style=\"text-align: right;\">\n",
       "      <th>blog_catalog</th>\n",
       "      <th>dataset</th>\n",
       "      <th>retraining_type</th>\n",
       "      <th>parameters</th>\n",
       "      <th>dynamic_update</th>\n",
       "      <th>removal_process</th>\n",
       "      <th>average_accuracy</th>\n",
       "      <th>training_time</th>\n",
       "    </tr>\n",
       "  </thead>\n",
       "  <tbody>\n",
       "    <tr>\n",
       "      <th>2</th>\n",
       "      <td>blog_catalog</td>\n",
       "      <td>global</td>\n",
       "      <td>(128, 40, 80, 0.25, 1)</td>\n",
       "      <td>extend</td>\n",
       "      <td>random</td>\n",
       "      <td>0.206375</td>\n",
       "      <td>4956.535452</td>\n",
       "    </tr>\n",
       "    <tr>\n",
       "      <th>5</th>\n",
       "      <td>blog_catalog</td>\n",
       "      <td>local</td>\n",
       "      <td>(128, 40, 80, 0.25, 1)</td>\n",
       "      <td>extend</td>\n",
       "      <td>random</td>\n",
       "      <td>0.204560</td>\n",
       "      <td>1466.205247</td>\n",
       "    </tr>\n",
       "    <tr>\n",
       "      <th>0</th>\n",
       "      <td>blog_catalog</td>\n",
       "      <td>global</td>\n",
       "      <td>(128, 40, 80, 0.25, 1)</td>\n",
       "      <td>prune</td>\n",
       "      <td>random</td>\n",
       "      <td>0.204061</td>\n",
       "      <td>4434.546483</td>\n",
       "    </tr>\n",
       "    <tr>\n",
       "      <th>10</th>\n",
       "      <td>blog_catalog</td>\n",
       "      <td>global</td>\n",
       "      <td>(128, 80, 80, 0.25, 1)</td>\n",
       "      <td>prune</td>\n",
       "      <td>random</td>\n",
       "      <td>0.203846</td>\n",
       "      <td>7917.033863</td>\n",
       "    </tr>\n",
       "    <tr>\n",
       "      <th>9</th>\n",
       "      <td>blog_catalog</td>\n",
       "      <td>local</td>\n",
       "      <td>(128, 40, 80, 0.25, 1)</td>\n",
       "      <td>extend</td>\n",
       "      <td>random</td>\n",
       "      <td>0.203679</td>\n",
       "      <td>1459.789268</td>\n",
       "    </tr>\n",
       "    <tr>\n",
       "      <th>6</th>\n",
       "      <td>blog_catalog</td>\n",
       "      <td>global</td>\n",
       "      <td>(128, 40, 80, 0.25, 1)</td>\n",
       "      <td>prune</td>\n",
       "      <td>random</td>\n",
       "      <td>0.203380</td>\n",
       "      <td>4254.954576</td>\n",
       "    </tr>\n",
       "    <tr>\n",
       "      <th>13</th>\n",
       "      <td>blog_catalog</td>\n",
       "      <td>local</td>\n",
       "      <td>(128, 80, 80, 0.25, 1)</td>\n",
       "      <td>extend</td>\n",
       "      <td>random</td>\n",
       "      <td>0.202358</td>\n",
       "      <td>1724.187371</td>\n",
       "    </tr>\n",
       "    <tr>\n",
       "      <th>4</th>\n",
       "      <td>blog_catalog</td>\n",
       "      <td>global</td>\n",
       "      <td>(128, 40, 80, 0.25, 1)</td>\n",
       "      <td>extend</td>\n",
       "      <td>random</td>\n",
       "      <td>0.201024</td>\n",
       "      <td>5098.421046</td>\n",
       "    </tr>\n",
       "    <tr>\n",
       "      <th>12</th>\n",
       "      <td>blog_catalog</td>\n",
       "      <td>global</td>\n",
       "      <td>(128, 80, 80, 0.25, 1)</td>\n",
       "      <td>extend</td>\n",
       "      <td>random</td>\n",
       "      <td>0.198858</td>\n",
       "      <td>8798.809094</td>\n",
       "    </tr>\n",
       "    <tr>\n",
       "      <th>1</th>\n",
       "      <td>blog_catalog</td>\n",
       "      <td>local</td>\n",
       "      <td>(128, 40, 80, 0.25, 1)</td>\n",
       "      <td>prune</td>\n",
       "      <td>random</td>\n",
       "      <td>0.198408</td>\n",
       "      <td>1480.310039</td>\n",
       "    </tr>\n",
       "    <tr>\n",
       "      <th>3</th>\n",
       "      <td>blog_catalog</td>\n",
       "      <td>local</td>\n",
       "      <td>(128, 40, 80, 0.25, 1)</td>\n",
       "      <td>extend</td>\n",
       "      <td>random</td>\n",
       "      <td>0.197464</td>\n",
       "      <td>1585.535359</td>\n",
       "    </tr>\n",
       "    <tr>\n",
       "      <th>7</th>\n",
       "      <td>blog_catalog</td>\n",
       "      <td>local</td>\n",
       "      <td>(128, 40, 80, 0.25, 1)</td>\n",
       "      <td>prune</td>\n",
       "      <td>random</td>\n",
       "      <td>0.196315</td>\n",
       "      <td>1494.013343</td>\n",
       "    </tr>\n",
       "    <tr>\n",
       "      <th>11</th>\n",
       "      <td>blog_catalog</td>\n",
       "      <td>local</td>\n",
       "      <td>(128, 80, 80, 0.25, 1)</td>\n",
       "      <td>prune</td>\n",
       "      <td>random</td>\n",
       "      <td>0.196149</td>\n",
       "      <td>1963.268622</td>\n",
       "    </tr>\n",
       "    <tr>\n",
       "      <th>8</th>\n",
       "      <td>blog_catalog</td>\n",
       "      <td>global</td>\n",
       "      <td>(128, 40, 80, 0.25, 1)</td>\n",
       "      <td>extend</td>\n",
       "      <td>random</td>\n",
       "      <td>0.196043</td>\n",
       "      <td>4969.717611</td>\n",
       "    </tr>\n",
       "    <tr>\n",
       "      <th>14</th>\n",
       "      <td>blog_catalog</td>\n",
       "      <td>global</td>\n",
       "      <td>[64, 8, 8, 0.25, 4]</td>\n",
       "      <td>extend</td>\n",
       "      <td>random</td>\n",
       "      <td>0.082027</td>\n",
       "      <td>1208.674120</td>\n",
       "    </tr>\n",
       "  </tbody>\n",
       "</table>\n",
       "</div>"
      ],
      "text/plain": [
       "blog_catalog       dataset retraining_type              parameters  \\\n",
       "2             blog_catalog          global  (128, 40, 80, 0.25, 1)   \n",
       "5             blog_catalog           local  (128, 40, 80, 0.25, 1)   \n",
       "0             blog_catalog          global  (128, 40, 80, 0.25, 1)   \n",
       "10            blog_catalog          global  (128, 80, 80, 0.25, 1)   \n",
       "9             blog_catalog           local  (128, 40, 80, 0.25, 1)   \n",
       "6             blog_catalog          global  (128, 40, 80, 0.25, 1)   \n",
       "13            blog_catalog           local  (128, 80, 80, 0.25, 1)   \n",
       "4             blog_catalog          global  (128, 40, 80, 0.25, 1)   \n",
       "12            blog_catalog          global  (128, 80, 80, 0.25, 1)   \n",
       "1             blog_catalog           local  (128, 40, 80, 0.25, 1)   \n",
       "3             blog_catalog           local  (128, 40, 80, 0.25, 1)   \n",
       "7             blog_catalog           local  (128, 40, 80, 0.25, 1)   \n",
       "11            blog_catalog           local  (128, 80, 80, 0.25, 1)   \n",
       "8             blog_catalog          global  (128, 40, 80, 0.25, 1)   \n",
       "14            blog_catalog          global     [64, 8, 8, 0.25, 4]   \n",
       "\n",
       "blog_catalog dynamic_update removal_process  average_accuracy  training_time  \n",
       "2                    extend          random          0.206375    4956.535452  \n",
       "5                    extend          random          0.204560    1466.205247  \n",
       "0                     prune          random          0.204061    4434.546483  \n",
       "10                    prune          random          0.203846    7917.033863  \n",
       "9                    extend          random          0.203679    1459.789268  \n",
       "6                     prune          random          0.203380    4254.954576  \n",
       "13                   extend          random          0.202358    1724.187371  \n",
       "4                    extend          random          0.201024    5098.421046  \n",
       "12                   extend          random          0.198858    8798.809094  \n",
       "1                     prune          random          0.198408    1480.310039  \n",
       "3                    extend          random          0.197464    1585.535359  \n",
       "7                     prune          random          0.196315    1494.013343  \n",
       "11                    prune          random          0.196149    1963.268622  \n",
       "8                    extend          random          0.196043    4969.717611  \n",
       "14                   extend          random          0.082027    1208.674120  "
      ]
     },
     "execution_count": 101,
     "metadata": {},
     "output_type": "execute_result"
    }
   ],
   "source": [
    "blog_df = mult_params_accu_time_df_gen(results_df, config, all_parameters)\n",
    "# sub_df = sub_df[sub_df.loc[:, 'retraining_type'] == 'global'].reset_index(drop=True)\n",
    "blog_df.sort_values(by='average_accuracy', ascending=False).head(15)"
   ]
  },
  {
   "cell_type": "code",
   "execution_count": 102,
   "metadata": {},
   "outputs": [
    {
     "data": {
      "image/png": "[encoded data removed]",
      "text/plain": [
       "<Figure size 640x480 with 1 Axes>"
      ]
     },
     "metadata": {},
     "output_type": "display_data"
    }
   ],
   "source": [
    "accu_time_plot(blog_df)"
   ]
  },
  {
   "cell_type": "code",
   "execution_count": 103,
   "metadata": {},
   "outputs": [],
   "source": [
    "from functools import reduce"
   ]
  },
  {
   "cell_type": "code",
   "execution_count": 104,
   "metadata": {},
   "outputs": [
    {
     "data": {
      "text/plain": [
       "0      (128, 40, 80, 0.25, 1)\n",
       "1      (128, 40, 80, 0.25, 1)\n",
       "2      (128, 40, 80, 0.25, 1)\n",
       "3      (128, 40, 80, 0.25, 1)\n",
       "4      (128, 40, 80, 0.25, 1)\n",
       "                ...          \n",
       "411       [64, 8, 8, 0.25, 4]\n",
       "412       [64, 8, 8, 0.25, 4]\n",
       "413       [64, 8, 8, 0.25, 4]\n",
       "414       [64, 8, 8, 0.25, 4]\n",
       "415       [64, 8, 8, 0.25, 4]\n",
       "Name: parameters, Length: 416, dtype: object"
      ]
     },
     "execution_count": 104,
     "metadata": {},
     "output_type": "execute_result"
    }
   ],
   "source": [
    "cora_df['parameters']"
   ]
  },
  {
   "cell_type": "code",
   "execution_count": 105,
   "metadata": {},
   "outputs": [
    {
     "name": "stdout",
     "output_type": "stream",
     "text": [
      "['(128, 40, 80, 0.25, 1)']\n"
     ]
    }
   ],
   "source": [
    "dfs = [blog_df, ppi_df, ppi_df]\n",
    "\n",
    "\n",
    "dfs = [df[df['retraining_type'] == 'local'] for df in dfs]\n",
    "top_n = 10\n",
    "\n",
    "# Get the top N values from the column of interest for each dataframe\n",
    "top_values = [df.sort_values(by='average_accuracy', ascending=False).head(top_n)['parameters'].to_list() for df in dfs]\n",
    "\n",
    "# Find the intersection of the top values\n",
    "intersection = reduce(lambda x, y: set(x).intersection(y), top_values)\n",
    "\n",
    "# Convert the intersection to a list (optional)\n",
    "common_values = list(intersection)\n",
    "\n",
    "print(common_values)"
   ]
  },
  {
   "cell_type": "code",
   "execution_count": 106,
   "metadata": {},
   "outputs": [
    {
     "data": {
      "text/plain": [
       "[['(128, 40, 80, 0.25, 1)',\n",
       "  '(128, 40, 80, 0.25, 1)',\n",
       "  '(128, 80, 80, 0.25, 1)',\n",
       "  '(128, 40, 80, 0.25, 1)',\n",
       "  '(128, 40, 80, 0.25, 1)',\n",
       "  '(128, 40, 80, 0.25, 1)',\n",
       "  '(128, 80, 80, 0.25, 1)',\n",
       "  '[64, 8, 8, 0.25, 4]'],\n",
       " ['(128, 40, 80, 2, 1)',\n",
       "  '(128, 80, 80, 4, 2)',\n",
       "  '(128, 80, 80, 4, 1)',\n",
       "  '(128, 80, 80, 1, 4)',\n",
       "  '(128, 80, 80, 1, 1)',\n",
       "  '(128, 40, 80, 4, 4)',\n",
       "  '(128, 40, 80, 4, 2)',\n",
       "  '(128, 40, 80, 0.25, 1)',\n",
       "  '(128, 80, 80, 2, 4)',\n",
       "  '(128, 40, 80, 0.25, 0.25)'],\n",
       " ['(128, 40, 80, 2, 1)',\n",
       "  '(128, 80, 80, 4, 2)',\n",
       "  '(128, 80, 80, 4, 1)',\n",
       "  '(128, 80, 80, 1, 4)',\n",
       "  '(128, 80, 80, 1, 1)',\n",
       "  '(128, 40, 80, 4, 4)',\n",
       "  '(128, 40, 80, 4, 2)',\n",
       "  '(128, 40, 80, 0.25, 1)',\n",
       "  '(128, 80, 80, 2, 4)',\n",
       "  '(128, 40, 80, 0.25, 0.25)']]"
      ]
     },
     "execution_count": 106,
     "metadata": {},
     "output_type": "execute_result"
    }
   ],
   "source": [
    "top_values"
   ]
  },
  {
   "cell_type": "code",
   "execution_count": null,
   "metadata": {},
   "outputs": [],
   "source": []
  },
  {
   "cell_type": "markdown",
   "metadata": {},
   "source": [
    "## Table of results for specific dataset"
   ]
  },
  {
   "cell_type": "code",
   "execution_count": 6,
   "metadata": {},
   "outputs": [],
   "source": [
    "perc_list = ['10%', '20%', '30%', '40%', '50%', '60%', '70%', '80%', '90%']"
   ]
  },
  {
   "cell_type": "code",
   "execution_count": 7,
   "metadata": {},
   "outputs": [],
   "source": [
    "# These are the parameters for calculating the gloal/local difference\n",
    "config = {'dataset': 'cora',\n",
    "          'dynamic_update': 'extend',\n",
    "          'parameters': '(128, 40, 80, 4, 2)',\n",
    "          'num_different_nodes': 512}"
   ]
  },
  {
   "cell_type": "code",
   "execution_count": 8,
   "metadata": {},
   "outputs": [],
   "source": [
    "table_df = table_df_gen(results_df, config)"
   ]
  },
  {
   "cell_type": "code",
   "execution_count": 9,
   "metadata": {},
   "outputs": [
    {
     "data": {
      "text/plain": [
       "{'dataset': 'cora',\n",
       " 'retraining_type': 'global',\n",
       " 'parameters': '(128, 80, 160, 4, 4)',\n",
       " 'dynamic_update': 'extend',\n",
       " 'removal_process': 'random',\n",
       " 'average_accuracy': 0.7906122755311733,\n",
       " 'training_time': 415.683768033981}"
      ]
     },
     "execution_count": 9,
     "metadata": {},
     "output_type": "execute_result"
    }
   ],
   "source": [
    "dict(sub_df.iloc[sub_df['average_accuracy'].argmax()])"
   ]
  },
  {
   "cell_type": "code",
   "execution_count": null,
   "metadata": {},
   "outputs": [
    {
     "data": {
      "text/plain": [
       "array([0.1, 0.2, 0.3, 0.4, 0.5, 0.6, 0.7, 0.8, 0.9])"
      ]
     },
     "execution_count": 31,
     "metadata": {},
     "output_type": "execute_result"
    }
   ],
   "source": [
    "np.arange(0.1, 1, 0.1)"
   ]
  },
  {
   "cell_type": "code",
   "execution_count": null,
   "metadata": {},
   "outputs": [],
   "source": [
    "# Filter the DataFrame for 'macro' and 'micro' scores\n",
    "macro_df = table_df[table_df['metric'] == 'macro']\n",
    "micro_df = table_df[table_df['metric'] == 'micro']\n",
    "\n",
    "# X-axis values\n",
    "x_values = 1 - np.arange(0.1, 1, 0.1)"
   ]
  },
  {
   "cell_type": "code",
   "execution_count": null,
   "metadata": {},
   "outputs": [
    {
     "data": {
      "image/png": "[encoded data removed]",
      "text/plain": [
       "<Figure size 640x480 with 1 Axes>"
      ]
     },
     "metadata": {},
     "output_type": "display_data"
    }
   ],
   "source": [
    "# Plot for macro scores\n",
    "table_scores_plot(macro_df, 'macro')"
   ]
  },
  {
   "cell_type": "code",
   "execution_count": null,
   "metadata": {},
   "outputs": [
    {
     "data": {
      "image/png": "[encoded data removed]",
      "text/plain": [
       "<Figure size 640x480 with 1 Axes>"
      ]
     },
     "metadata": {},
     "output_type": "display_data"
    }
   ],
   "source": [
    "# Plot for macro scores\n",
    "table_scores_plot(micro_df, 'micro')"
   ]
  },
  {
   "cell_type": "code",
   "execution_count": 12,
   "metadata": {},
   "outputs": [
    {
     "data": {
      "text/html": [
       "<div>\n",
       "<style scoped>\n",
       "    .dataframe tbody tr th:only-of-type {\n",
       "        vertical-align: middle;\n",
       "    }\n",
       "\n",
       "    .dataframe tbody tr th {\n",
       "        vertical-align: top;\n",
       "    }\n",
       "\n",
       "    .dataframe thead th {\n",
       "        text-align: right;\n",
       "    }\n",
       "</style>\n",
       "<table border=\"1\" class=\"dataframe\">\n",
       "  <thead>\n",
       "    <tr style=\"text-align: right;\">\n",
       "      <th>wikipedia</th>\n",
       "      <th>dataset</th>\n",
       "      <th>nodes</th>\n",
       "      <th>edges</th>\n",
       "      <th>retraining_type</th>\n",
       "      <th>metric</th>\n",
       "      <th>10%</th>\n",
       "      <th>20%</th>\n",
       "      <th>30%</th>\n",
       "      <th>40%</th>\n",
       "      <th>50%</th>\n",
       "      <th>...</th>\n",
       "      <th>70%</th>\n",
       "      <th>80%</th>\n",
       "      <th>90%</th>\n",
       "      <th>parameters</th>\n",
       "      <th>training_time</th>\n",
       "      <th>dynamic_update</th>\n",
       "      <th>num_different_nodes</th>\n",
       "      <th>num_starting_nodes</th>\n",
       "      <th>removal_process</th>\n",
       "      <th>execution_timestamp</th>\n",
       "    </tr>\n",
       "  </thead>\n",
       "  <tbody>\n",
       "    <tr>\n",
       "      <th>4</th>\n",
       "      <td>wikipedia</td>\n",
       "      <td>4777</td>\n",
       "      <td>92517</td>\n",
       "      <td>global</td>\n",
       "      <td>macro</td>\n",
       "      <td>0.070454</td>\n",
       "      <td>0.094191</td>\n",
       "      <td>0.098199</td>\n",
       "      <td>0.118037</td>\n",
       "      <td>0.128328</td>\n",
       "      <td>...</td>\n",
       "      <td>0.156230</td>\n",
       "      <td>0.152185</td>\n",
       "      <td>0.177443</td>\n",
       "      <td>(128, 40, 80, 0.25, 1)</td>\n",
       "      <td>4115.748518</td>\n",
       "      <td>extend</td>\n",
       "      <td>512</td>\n",
       "      <td>512</td>\n",
       "      <td>random</td>\n",
       "      <td>13/06/2024 - 13:29</td>\n",
       "    </tr>\n",
       "    <tr>\n",
       "      <th>5</th>\n",
       "      <td>wikipedia</td>\n",
       "      <td>4777</td>\n",
       "      <td>92517</td>\n",
       "      <td>global</td>\n",
       "      <td>micro</td>\n",
       "      <td>0.493023</td>\n",
       "      <td>0.524856</td>\n",
       "      <td>0.538876</td>\n",
       "      <td>0.545169</td>\n",
       "      <td>0.545416</td>\n",
       "      <td>...</td>\n",
       "      <td>0.555091</td>\n",
       "      <td>0.555439</td>\n",
       "      <td>0.541841</td>\n",
       "      <td>(128, 40, 80, 0.25, 1)</td>\n",
       "      <td>4115.748518</td>\n",
       "      <td>extend</td>\n",
       "      <td>512</td>\n",
       "      <td>512</td>\n",
       "      <td>random</td>\n",
       "      <td>13/06/2024 - 13:29</td>\n",
       "    </tr>\n",
       "    <tr>\n",
       "      <th>6</th>\n",
       "      <td>wikipedia</td>\n",
       "      <td>4777</td>\n",
       "      <td>92517</td>\n",
       "      <td>local</td>\n",
       "      <td>macro</td>\n",
       "      <td>0.068397</td>\n",
       "      <td>0.088862</td>\n",
       "      <td>0.098758</td>\n",
       "      <td>0.100617</td>\n",
       "      <td>0.112384</td>\n",
       "      <td>...</td>\n",
       "      <td>0.163243</td>\n",
       "      <td>0.146401</td>\n",
       "      <td>0.178086</td>\n",
       "      <td>(128, 40, 80, 0.25, 1)</td>\n",
       "      <td>880.233272</td>\n",
       "      <td>extend</td>\n",
       "      <td>512</td>\n",
       "      <td>512</td>\n",
       "      <td>random</td>\n",
       "      <td>13/06/2024 - 13:29</td>\n",
       "    </tr>\n",
       "    <tr>\n",
       "      <th>7</th>\n",
       "      <td>wikipedia</td>\n",
       "      <td>4777</td>\n",
       "      <td>92517</td>\n",
       "      <td>local</td>\n",
       "      <td>micro</td>\n",
       "      <td>0.459302</td>\n",
       "      <td>0.515960</td>\n",
       "      <td>0.540670</td>\n",
       "      <td>0.541681</td>\n",
       "      <td>0.539138</td>\n",
       "      <td>...</td>\n",
       "      <td>0.552999</td>\n",
       "      <td>0.537657</td>\n",
       "      <td>0.520921</td>\n",
       "      <td>(128, 40, 80, 0.25, 1)</td>\n",
       "      <td>880.233272</td>\n",
       "      <td>extend</td>\n",
       "      <td>512</td>\n",
       "      <td>512</td>\n",
       "      <td>random</td>\n",
       "      <td>13/06/2024 - 13:29</td>\n",
       "    </tr>\n",
       "  </tbody>\n",
       "</table>\n",
       "<p>4 rows × 21 columns</p>\n",
       "</div>"
      ],
      "text/plain": [
       "wikipedia    dataset  nodes  edges retraining_type metric       10%       20%  \\\n",
       "4          wikipedia   4777  92517          global  macro  0.070454  0.094191   \n",
       "5          wikipedia   4777  92517          global  micro  0.493023  0.524856   \n",
       "6          wikipedia   4777  92517           local  macro  0.068397  0.088862   \n",
       "7          wikipedia   4777  92517           local  micro  0.459302  0.515960   \n",
       "\n",
       "wikipedia       30%       40%       50%  ...       70%       80%       90%  \\\n",
       "4          0.098199  0.118037  0.128328  ...  0.156230  0.152185  0.177443   \n",
       "5          0.538876  0.545169  0.545416  ...  0.555091  0.555439  0.541841   \n",
       "6          0.098758  0.100617  0.112384  ...  0.163243  0.146401  0.178086   \n",
       "7          0.540670  0.541681  0.539138  ...  0.552999  0.537657  0.520921   \n",
       "\n",
       "wikipedia              parameters training_time  dynamic_update  \\\n",
       "4          (128, 40, 80, 0.25, 1)   4115.748518          extend   \n",
       "5          (128, 40, 80, 0.25, 1)   4115.748518          extend   \n",
       "6          (128, 40, 80, 0.25, 1)    880.233272          extend   \n",
       "7          (128, 40, 80, 0.25, 1)    880.233272          extend   \n",
       "\n",
       "wikipedia num_different_nodes  num_starting_nodes  removal_process  \\\n",
       "4                         512                 512           random   \n",
       "5                         512                 512           random   \n",
       "6                         512                 512           random   \n",
       "7                         512                 512           random   \n",
       "\n",
       "wikipedia execution_timestamp  \n",
       "4          13/06/2024 - 13:29  \n",
       "5          13/06/2024 - 13:29  \n",
       "6          13/06/2024 - 13:29  \n",
       "7          13/06/2024 - 13:29  \n",
       "\n",
       "[4 rows x 21 columns]"
      ]
     },
     "execution_count": 12,
     "metadata": {},
     "output_type": "execute_result"
    }
   ],
   "source": [
    "table_df"
   ]
  },
  {
   "cell_type": "code",
   "execution_count": 14,
   "metadata": {},
   "outputs": [],
   "source": [
    "# These are the parameters for calculating the gloal/local difference\n",
    "config = {'parameters': '(128, 40, 80, 0.25, 1)',\n",
    "         'num_different_nodes': 512,\n",
    "         'dynamic_update': 'extend'}\n",
    "\n",
    "dfs = []\n",
    "dataset_names = ['PPI', 'blog_catalog', 'cora', 'wikipedia']\n",
    "\n",
    "for dataset in dataset_names:\n",
    "\n",
    "    config['dataset'] = dataset\n",
    "\n",
    "    table_df = table_df_gen(results_df, config)\n",
    "\n",
    "    # Limit to random only\n",
    "    table_df = table_df[table_df['removal_process'] == 'random']\n",
    "\n",
    "    dfs.append(table_df)\n",
    "\n",
    "dfs[0] = dfs[0][:4]\n",
    "dfs[1] = dfs[1][:4]"
   ]
  },
  {
   "cell_type": "code",
   "execution_count": 19,
   "metadata": {},
   "outputs": [
    {
     "data": {
      "image/png": "[encoded data removed]",
      "text/plain": [
       "<Figure size 1200x1600 with 8 Axes>"
      ]
     },
     "metadata": {},
     "output_type": "display_data"
    }
   ],
   "source": [
    "exp_table_scores_plot(dfs, dataset_names)"
   ]
  },
  {
   "cell_type": "code",
   "execution_count": null,
   "metadata": {},
   "outputs": [],
   "source": []
  },
  {
   "cell_type": "code",
   "execution_count": null,
   "metadata": {},
   "outputs": [],
   "source": []
  },
  {
   "cell_type": "code",
   "execution_count": null,
   "metadata": {},
   "outputs": [],
   "source": []
  },
  {
   "cell_type": "code",
   "execution_count": null,
   "metadata": {},
   "outputs": [],
   "source": []
  },
  {
   "cell_type": "code",
   "execution_count": null,
   "metadata": {},
   "outputs": [],
   "source": []
  },
  {
   "cell_type": "markdown",
   "metadata": {},
   "source": [
    "## Graphs "
   ]
  },
  {
   "cell_type": "code",
   "execution_count": 6,
   "metadata": {},
   "outputs": [],
   "source": [
    "speed_df = sub_df.copy()"
   ]
  },
  {
   "cell_type": "code",
   "execution_count": 7,
   "metadata": {},
   "outputs": [
    {
     "data": {
      "text/plain": [
       "0    (128, 80, 160, 4, 4)\n",
       "1    (128, 80, 160, 4, 4)\n",
       "Name: parameters, dtype: object"
      ]
     },
     "execution_count": 7,
     "metadata": {},
     "output_type": "execute_result"
    }
   ],
   "source": [
    "speed_df.sort_values(by='average_accuracy', ascending=False).head(30)['parameters']"
   ]
  },
  {
   "cell_type": "code",
   "execution_count": 8,
   "metadata": {},
   "outputs": [],
   "source": [
    "# Function to convert string to tuple and extract required elements\n",
    "def extract_elements(param_str):\n",
    "    tuple_obj = ast.literal_eval(param_str)\n",
    "    return tuple_obj[1], tuple_obj[2]\n",
    "\n",
    "# Apply the function to the 'parameters' column and create new columns\n",
    "speed_df[['walk_length', 'walks_num']] = speed_df['parameters'].apply(lambda x: pd.Series(extract_elements(x)))"
   ]
  },
  {
   "cell_type": "code",
   "execution_count": 9,
   "metadata": {},
   "outputs": [
    {
     "data": {
      "text/html": [
       "<div>\n",
       "<style scoped>\n",
       "    .dataframe tbody tr th:only-of-type {\n",
       "        vertical-align: middle;\n",
       "    }\n",
       "\n",
       "    .dataframe tbody tr th {\n",
       "        vertical-align: top;\n",
       "    }\n",
       "\n",
       "    .dataframe thead th {\n",
       "        text-align: right;\n",
       "    }\n",
       "</style>\n",
       "<table border=\"1\" class=\"dataframe\">\n",
       "  <thead>\n",
       "    <tr style=\"text-align: right;\">\n",
       "      <th></th>\n",
       "      <th>dataset</th>\n",
       "      <th>retraining_type</th>\n",
       "      <th>parameters</th>\n",
       "      <th>dynamic_update</th>\n",
       "      <th>removal_process</th>\n",
       "      <th>average_accuracy</th>\n",
       "      <th>training_time</th>\n",
       "      <th>walk_length</th>\n",
       "      <th>walks_num</th>\n",
       "    </tr>\n",
       "  </thead>\n",
       "  <tbody>\n",
       "    <tr>\n",
       "      <th>0</th>\n",
       "      <td>cora</td>\n",
       "      <td>global</td>\n",
       "      <td>(128, 80, 160, 4, 4)</td>\n",
       "      <td>extend</td>\n",
       "      <td>random</td>\n",
       "      <td>0.790612</td>\n",
       "      <td>415.683768</td>\n",
       "      <td>80</td>\n",
       "      <td>160</td>\n",
       "    </tr>\n",
       "    <tr>\n",
       "      <th>1</th>\n",
       "      <td>cora</td>\n",
       "      <td>local</td>\n",
       "      <td>(128, 80, 160, 4, 4)</td>\n",
       "      <td>extend</td>\n",
       "      <td>random</td>\n",
       "      <td>0.782657</td>\n",
       "      <td>124.809953</td>\n",
       "      <td>80</td>\n",
       "      <td>160</td>\n",
       "    </tr>\n",
       "  </tbody>\n",
       "</table>\n",
       "</div>"
      ],
      "text/plain": [
       "  dataset retraining_type            parameters dynamic_update  \\\n",
       "0    cora          global  (128, 80, 160, 4, 4)         extend   \n",
       "1    cora           local  (128, 80, 160, 4, 4)         extend   \n",
       "\n",
       "  removal_process  average_accuracy  training_time  walk_length  walks_num  \n",
       "0          random          0.790612     415.683768           80        160  \n",
       "1          random          0.782657     124.809953           80        160  "
      ]
     },
     "execution_count": 9,
     "metadata": {},
     "output_type": "execute_result"
    }
   ],
   "source": [
    "speed_df.tail(8)"
   ]
  },
  {
   "cell_type": "code",
   "execution_count": 10,
   "metadata": {},
   "outputs": [],
   "source": [
    "speed_df = speed_df.loc[speed_df['walk_length'] != 8]"
   ]
  },
  {
   "cell_type": "code",
   "execution_count": 11,
   "metadata": {},
   "outputs": [
    {
     "data": {
      "text/plain": [
       "array([80])"
      ]
     },
     "execution_count": 11,
     "metadata": {},
     "output_type": "execute_result"
    }
   ],
   "source": [
    "speed_df['walk_length'].unique()"
   ]
  },
  {
   "cell_type": "code",
   "execution_count": 12,
   "metadata": {},
   "outputs": [],
   "source": [
    "global_speed_df = speed_df.loc[speed_df['retraining_type'] == 'global']\n",
    "local_speed_df = speed_df.loc[speed_df['retraining_type'] == 'local']"
   ]
  },
  {
   "cell_type": "code",
   "execution_count": 13,
   "metadata": {},
   "outputs": [
    {
     "data": {
      "text/html": [
       "<div>\n",
       "<style scoped>\n",
       "    .dataframe tbody tr th:only-of-type {\n",
       "        vertical-align: middle;\n",
       "    }\n",
       "\n",
       "    .dataframe tbody tr th {\n",
       "        vertical-align: top;\n",
       "    }\n",
       "\n",
       "    .dataframe thead th {\n",
       "        text-align: right;\n",
       "    }\n",
       "</style>\n",
       "<table border=\"1\" class=\"dataframe\">\n",
       "  <thead>\n",
       "    <tr style=\"text-align: right;\">\n",
       "      <th></th>\n",
       "      <th>dataset</th>\n",
       "      <th>retraining_type</th>\n",
       "      <th>parameters</th>\n",
       "      <th>dynamic_update</th>\n",
       "      <th>removal_process</th>\n",
       "      <th>average_accuracy</th>\n",
       "      <th>training_time</th>\n",
       "      <th>walk_length</th>\n",
       "      <th>walks_num</th>\n",
       "    </tr>\n",
       "  </thead>\n",
       "  <tbody>\n",
       "    <tr>\n",
       "      <th>0</th>\n",
       "      <td>cora</td>\n",
       "      <td>global</td>\n",
       "      <td>(128, 80, 160, 4, 4)</td>\n",
       "      <td>extend</td>\n",
       "      <td>random</td>\n",
       "      <td>0.790612</td>\n",
       "      <td>415.683768</td>\n",
       "      <td>80</td>\n",
       "      <td>160</td>\n",
       "    </tr>\n",
       "  </tbody>\n",
       "</table>\n",
       "</div>"
      ],
      "text/plain": [
       "  dataset retraining_type            parameters dynamic_update  \\\n",
       "0    cora          global  (128, 80, 160, 4, 4)         extend   \n",
       "\n",
       "  removal_process  average_accuracy  training_time  walk_length  walks_num  \n",
       "0          random          0.790612     415.683768           80        160  "
      ]
     },
     "execution_count": 13,
     "metadata": {},
     "output_type": "execute_result"
    }
   ],
   "source": [
    "global_speed_df"
   ]
  },
  {
   "cell_type": "code",
   "execution_count": 14,
   "metadata": {},
   "outputs": [
    {
     "data": {
      "text/plain": [
       "415.683768033981"
      ]
     },
     "execution_count": 14,
     "metadata": {},
     "output_type": "execute_result"
    }
   ],
   "source": [
    "global_speed_df.loc[global_speed_df['walk_length'] == 80, 'training_time'].mean()"
   ]
  },
  {
   "cell_type": "code",
   "execution_count": 15,
   "metadata": {},
   "outputs": [
    {
     "data": {
      "text/plain": [
       "124.809953451157"
      ]
     },
     "execution_count": 15,
     "metadata": {},
     "output_type": "execute_result"
    }
   ],
   "source": [
    "local_speed_df.loc[local_speed_df['walk_length'] == 80, 'training_time'].mean()\n"
   ]
  },
  {
   "cell_type": "code",
   "execution_count": 16,
   "metadata": {},
   "outputs": [
    {
     "data": {
      "text/plain": [
       "nan"
      ]
     },
     "execution_count": 16,
     "metadata": {},
     "output_type": "execute_result"
    }
   ],
   "source": [
    "global_speed_df.loc[global_speed_df['walk_length'] == 40, 'training_time'].mean()"
   ]
  },
  {
   "cell_type": "code",
   "execution_count": 17,
   "metadata": {},
   "outputs": [
    {
     "data": {
      "text/plain": [
       "nan"
      ]
     },
     "execution_count": 17,
     "metadata": {},
     "output_type": "execute_result"
    }
   ],
   "source": [
    "local_speed_df.loc[local_speed_df['walk_length'] == 40, 'training_time'].mean()"
   ]
  },
  {
   "cell_type": "markdown",
   "metadata": {},
   "source": [
    "## One parameter set evaluation "
   ]
  },
  {
   "cell_type": "code",
   "execution_count": 18,
   "metadata": {},
   "outputs": [],
   "source": [
    "param_df = results_df.loc[results_df['parameters'] == '(128, 40, 80, 0.25, 1)']"
   ]
  },
  {
   "cell_type": "code",
   "execution_count": 19,
   "metadata": {},
   "outputs": [],
   "source": [
    "# These are the parameters for calculating the gloal/local difference\n",
    "config = {'parameters': '(128, 40, 80, 0.25, 1)',\n",
    "          'metric': 'macro',\n",
    "          'num_different_nodes': 512}\n",
    "\n",
    "all_stats_dict = {'extend': {}, 'prune': {}}\n",
    "\n",
    "for dynamic_update in all_stats_dict:\n",
    "\n",
    "    for dataset in param_df['dataset'].unique():\n",
    "        \n",
    "        config['dataset'] = dataset\n",
    "        sub_df = accu_time_df_gen(param_df, config)\n",
    "\n",
    "        # if dynamic_update in list(sub_df['dynamic_update']):\n",
    "        dynamic_df = sub_df[sub_df['dynamic_update'] == dynamic_update]\n",
    "        dynamic_df = dynamic_df.reset_index(drop=True)\n",
    "\n",
    "        #  # Calculate the average accuracy difference\n",
    "        # avg_accuracy_diff_perc = 100 * (abs(dynamic_df.loc[0, 'average_accuracy'] - dynamic_df.loc[1, 'average_accuracy']) / dynamic_df.loc[0, 'average_accuracy'])\n",
    "\n",
    "        # # Calculate the training time difference\n",
    "        # training_time_diff_perc = 100 * (abs(dynamic_df.loc[0, 'training_time'] - dynamic_df.loc[1, 'training_time'])) / dynamic_df.loc[0, 'training_time']\n",
    "\n",
    "        # Calculate the average accuracy difference\n",
    "        avg_accuracy_diff_perc = (abs(dynamic_df.loc[0, 'average_accuracy'] - dynamic_df.loc[1, 'average_accuracy']) / dynamic_df.loc[0, 'average_accuracy'])\n",
    "\n",
    "        # Calculate the training time difference\n",
    "        training_time_diff_perc = (abs(dynamic_df.loc[0, 'training_time'] - dynamic_df.loc[1, 'training_time'])) / dynamic_df.loc[0, 'training_time']\n",
    "\n",
    "        all_stats_dict[dynamic_update].update({dataset: (avg_accuracy_diff_perc, training_time_diff_perc)})\n"
   ]
  },
  {
   "cell_type": "code",
   "execution_count": 1,
   "metadata": {},
   "outputs": [
    {
     "ename": "NameError",
     "evalue": "name 'all_stats_dict' is not defined",
     "output_type": "error",
     "traceback": [
      "\u001b[0;31m---------------------------------------------------------------------------\u001b[0m",
      "\u001b[0;31mNameError\u001b[0m                                 Traceback (most recent call last)",
      "Cell \u001b[0;32mIn[1], line 1\u001b[0m\n\u001b[0;32m----> 1\u001b[0m \u001b[43mall_stats_dict\u001b[49m\n",
      "\u001b[0;31mNameError\u001b[0m: name 'all_stats_dict' is not defined"
     ]
    }
   ],
   "source": [
    "all_stats_dict"
   ]
  },
  {
   "cell_type": "code",
   "execution_count": 21,
   "metadata": {},
   "outputs": [
    {
     "data": {
      "text/plain": [
       "True"
      ]
     },
     "execution_count": 21,
     "metadata": {},
     "output_type": "execute_result"
    }
   ],
   "source": [
    "'prune' in list(sub_df['dynamic_update'])"
   ]
  },
  {
   "cell_type": "code",
   "execution_count": 22,
   "metadata": {},
   "outputs": [
    {
     "data": {
      "text/html": [
       "<div>\n",
       "<style scoped>\n",
       "    .dataframe tbody tr th:only-of-type {\n",
       "        vertical-align: middle;\n",
       "    }\n",
       "\n",
       "    .dataframe tbody tr th {\n",
       "        vertical-align: top;\n",
       "    }\n",
       "\n",
       "    .dataframe thead th {\n",
       "        text-align: right;\n",
       "    }\n",
       "</style>\n",
       "<table border=\"1\" class=\"dataframe\">\n",
       "  <thead>\n",
       "    <tr style=\"text-align: right;\">\n",
       "      <th></th>\n",
       "      <th>dataset</th>\n",
       "      <th>retraining_type</th>\n",
       "      <th>parameters</th>\n",
       "      <th>dynamic_update</th>\n",
       "      <th>removal_process</th>\n",
       "      <th>average_accuracy</th>\n",
       "      <th>training_time</th>\n",
       "    </tr>\n",
       "  </thead>\n",
       "  <tbody>\n",
       "    <tr>\n",
       "      <th>0</th>\n",
       "      <td>cora</td>\n",
       "      <td>global</td>\n",
       "      <td>(128, 40, 80, 0.25, 1)</td>\n",
       "      <td>prune</td>\n",
       "      <td>degree_centrality</td>\n",
       "      <td>0.692879</td>\n",
       "      <td>76.708406</td>\n",
       "    </tr>\n",
       "    <tr>\n",
       "      <th>1</th>\n",
       "      <td>cora</td>\n",
       "      <td>local</td>\n",
       "      <td>(128, 40, 80, 0.25, 1)</td>\n",
       "      <td>prune</td>\n",
       "      <td>degree_centrality</td>\n",
       "      <td>0.613932</td>\n",
       "      <td>11.665169</td>\n",
       "    </tr>\n",
       "    <tr>\n",
       "      <th>2</th>\n",
       "      <td>cora</td>\n",
       "      <td>global</td>\n",
       "      <td>(128, 40, 80, 0.25, 1)</td>\n",
       "      <td>extend</td>\n",
       "      <td>degree_centrality</td>\n",
       "      <td>0.788107</td>\n",
       "      <td>100.880492</td>\n",
       "    </tr>\n",
       "    <tr>\n",
       "      <th>3</th>\n",
       "      <td>cora</td>\n",
       "      <td>local</td>\n",
       "      <td>(128, 40, 80, 0.25, 1)</td>\n",
       "      <td>extend</td>\n",
       "      <td>degree_centrality</td>\n",
       "      <td>0.781914</td>\n",
       "      <td>30.449891</td>\n",
       "    </tr>\n",
       "    <tr>\n",
       "      <th>4</th>\n",
       "      <td>cora</td>\n",
       "      <td>global</td>\n",
       "      <td>(128, 40, 80, 0.25, 1)</td>\n",
       "      <td>prune</td>\n",
       "      <td>betweenness_centrality</td>\n",
       "      <td>0.701802</td>\n",
       "      <td>75.814420</td>\n",
       "    </tr>\n",
       "    <tr>\n",
       "      <th>5</th>\n",
       "      <td>cora</td>\n",
       "      <td>local</td>\n",
       "      <td>(128, 40, 80, 0.25, 1)</td>\n",
       "      <td>prune</td>\n",
       "      <td>betweenness_centrality</td>\n",
       "      <td>0.658202</td>\n",
       "      <td>9.899643</td>\n",
       "    </tr>\n",
       "    <tr>\n",
       "      <th>6</th>\n",
       "      <td>cora</td>\n",
       "      <td>global</td>\n",
       "      <td>(128, 40, 80, 0.25, 1)</td>\n",
       "      <td>extend</td>\n",
       "      <td>betweenness_centrality</td>\n",
       "      <td>0.784075</td>\n",
       "      <td>102.646673</td>\n",
       "    </tr>\n",
       "    <tr>\n",
       "      <th>7</th>\n",
       "      <td>cora</td>\n",
       "      <td>local</td>\n",
       "      <td>(128, 40, 80, 0.25, 1)</td>\n",
       "      <td>extend</td>\n",
       "      <td>betweenness_centrality</td>\n",
       "      <td>0.787830</td>\n",
       "      <td>32.030649</td>\n",
       "    </tr>\n",
       "    <tr>\n",
       "      <th>8</th>\n",
       "      <td>cora</td>\n",
       "      <td>global</td>\n",
       "      <td>(128, 40, 80, 0.25, 1)</td>\n",
       "      <td>prune</td>\n",
       "      <td>random</td>\n",
       "      <td>0.750689</td>\n",
       "      <td>81.678901</td>\n",
       "    </tr>\n",
       "    <tr>\n",
       "      <th>9</th>\n",
       "      <td>cora</td>\n",
       "      <td>local</td>\n",
       "      <td>(128, 40, 80, 0.25, 1)</td>\n",
       "      <td>prune</td>\n",
       "      <td>random</td>\n",
       "      <td>0.697438</td>\n",
       "      <td>6.561523</td>\n",
       "    </tr>\n",
       "    <tr>\n",
       "      <th>10</th>\n",
       "      <td>cora</td>\n",
       "      <td>global</td>\n",
       "      <td>(128, 40, 80, 0.25, 1)</td>\n",
       "      <td>extend</td>\n",
       "      <td>random</td>\n",
       "      <td>0.794214</td>\n",
       "      <td>102.186127</td>\n",
       "    </tr>\n",
       "    <tr>\n",
       "      <th>11</th>\n",
       "      <td>cora</td>\n",
       "      <td>local</td>\n",
       "      <td>(128, 40, 80, 0.25, 1)</td>\n",
       "      <td>extend</td>\n",
       "      <td>random</td>\n",
       "      <td>0.791296</td>\n",
       "      <td>30.813241</td>\n",
       "    </tr>\n",
       "  </tbody>\n",
       "</table>\n",
       "</div>"
      ],
      "text/plain": [
       "   dataset retraining_type              parameters dynamic_update  \\\n",
       "0     cora          global  (128, 40, 80, 0.25, 1)          prune   \n",
       "1     cora           local  (128, 40, 80, 0.25, 1)          prune   \n",
       "2     cora          global  (128, 40, 80, 0.25, 1)         extend   \n",
       "3     cora           local  (128, 40, 80, 0.25, 1)         extend   \n",
       "4     cora          global  (128, 40, 80, 0.25, 1)          prune   \n",
       "5     cora           local  (128, 40, 80, 0.25, 1)          prune   \n",
       "6     cora          global  (128, 40, 80, 0.25, 1)         extend   \n",
       "7     cora           local  (128, 40, 80, 0.25, 1)         extend   \n",
       "8     cora          global  (128, 40, 80, 0.25, 1)          prune   \n",
       "9     cora           local  (128, 40, 80, 0.25, 1)          prune   \n",
       "10    cora          global  (128, 40, 80, 0.25, 1)         extend   \n",
       "11    cora           local  (128, 40, 80, 0.25, 1)         extend   \n",
       "\n",
       "           removal_process  average_accuracy  training_time  \n",
       "0        degree_centrality          0.692879      76.708406  \n",
       "1        degree_centrality          0.613932      11.665169  \n",
       "2        degree_centrality          0.788107     100.880492  \n",
       "3        degree_centrality          0.781914      30.449891  \n",
       "4   betweenness_centrality          0.701802      75.814420  \n",
       "5   betweenness_centrality          0.658202       9.899643  \n",
       "6   betweenness_centrality          0.784075     102.646673  \n",
       "7   betweenness_centrality          0.787830      32.030649  \n",
       "8                   random          0.750689      81.678901  \n",
       "9                   random          0.697438       6.561523  \n",
       "10                  random          0.794214     102.186127  \n",
       "11                  random          0.791296      30.813241  "
      ]
     },
     "execution_count": 22,
     "metadata": {},
     "output_type": "execute_result"
    }
   ],
   "source": [
    "sub_df = accu_time_df_gen(param_df, config)\n",
    "sub_df"
   ]
  },
  {
   "cell_type": "code",
   "execution_count": 74,
   "metadata": {},
   "outputs": [],
   "source": []
  },
  {
   "cell_type": "code",
   "execution_count": 80,
   "metadata": {},
   "outputs": [
    {
     "data": {
      "image/png": "[encoded data removed]",
      "text/plain": [
       "<Figure size 640x480 with 1 Axes>"
      ]
     },
     "metadata": {},
     "output_type": "display_data"
    }
   ],
   "source": [
    "dynamic_update = 'extend'\n",
    "stats_dict = all_stats_dict[dynamic_update]\n",
    "\n",
    "accu_speedup_dataset_plot(all_stats_dict, dynamic_update)"
   ]
  },
  {
   "cell_type": "code",
   "execution_count": 76,
   "metadata": {},
   "outputs": [
    {
     "data": {
      "image/png": "[encoded data removed]",
      "text/plain": [
       "<Figure size 640x480 with 1 Axes>"
      ]
     },
     "metadata": {},
     "output_type": "display_data"
    }
   ],
   "source": [
    "dynamic_update = 'prune'\n",
    "stats_dict = all_stats_dict[dynamic_update]\n",
    "\n",
    "accu_speedup_dataset_plot(all_stats_dict, dynamic_update)"
   ]
  },
  {
   "cell_type": "code",
   "execution_count": null,
   "metadata": {},
   "outputs": [],
   "source": []
  },
  {
   "cell_type": "code",
   "execution_count": null,
   "metadata": {},
   "outputs": [],
   "source": []
  },
  {
   "cell_type": "code",
   "execution_count": null,
   "metadata": {},
   "outputs": [],
   "source": []
  },
  {
   "cell_type": "markdown",
   "metadata": {},
   "source": [
    "## Walk length"
   ]
  },
  {
   "cell_type": "code",
   "execution_count": 40,
   "metadata": {},
   "outputs": [
    {
     "data": {
      "text/plain": [
       "{'blog_catalog': {40.0: [0.201524007815397, 3256.033997217815],\n",
       "  80.0: [0.20060781264196575, 5261.498232364655]},\n",
       " 'wikipedia': {40.0: [0.11597638457821292, 2653.277732104063],\n",
       "  80.0: [0.12305040023738104, 4396.736878275875]},\n",
       " 'PPI': {40.0: [0.09202691540289733, 257.8922663256526],\n",
       "  80.0: [0.09393444069159347, 492.3110450108846]},\n",
       " 'cora': {40.0: [0.7912552550078312, 99.58286873881633],\n",
       "  80.0: [0.7900403366123152, 201.27813012838362]}}"
      ]
     },
     "execution_count": 40,
     "metadata": {},
     "output_type": "execute_result"
    }
   ],
   "source": [
    "all_dataset_walk_dict = dataset_walk_scores_gen(results_df, 'extend')\n",
    "all_dataset_walk_dict"
   ]
  },
  {
   "cell_type": "code",
   "execution_count": 41,
   "metadata": {},
   "outputs": [
    {
     "data": {
      "text/plain": [
       "{'blog_catalog': {40.0: [0.20027803238289535, 3107.896535793942],\n",
       "  80.0: [0.19999769708238824, 4940.151242733005]},\n",
       " 'wikipedia': {40.0: [0.07216420081377814, 1321.0635981559756],\n",
       "  80.0: [0.11365675285922053, 3785.294533967975]},\n",
       " 'PPI': {40.0: [0.08601274493372534, 198.97648096084598],\n",
       "  80.0: [0.08845783844683341, 396.1347808539868]},\n",
       " 'cora': {40.0: [0.7329718749986349, 66.44138810497063],\n",
       "  80.0: [0.7333733544507433, 134.51013869524004]}}"
      ]
     },
     "execution_count": 41,
     "metadata": {},
     "output_type": "execute_result"
    }
   ],
   "source": [
    "all_dataset_walk_dict = dataset_walk_scores_gen(results_df, 'prune')\n",
    "all_dataset_walk_dict"
   ]
  },
  {
   "cell_type": "markdown",
   "metadata": {},
   "source": [
    "From these results we have similar accuracy but half training time with half walk length (for cora)"
   ]
  },
  {
   "cell_type": "code",
   "execution_count": 42,
   "metadata": {},
   "outputs": [
    {
     "ename": "NameError",
     "evalue": "name 'all_df' is not defined",
     "output_type": "error",
     "traceback": [
      "\u001b[0;31m---------------------------------------------------------------------------\u001b[0m",
      "\u001b[0;31mNameError\u001b[0m                                 Traceback (most recent call last)",
      "Cell \u001b[0;32mIn[42], line 1\u001b[0m\n\u001b[0;32m----> 1\u001b[0m np\u001b[38;5;241m.\u001b[39mmean(\u001b[43mall_df\u001b[49m[all_df[\u001b[38;5;124m'\u001b[39m\u001b[38;5;124mwalk_length\u001b[39m\u001b[38;5;124m'\u001b[39m] \u001b[38;5;241m==\u001b[39m \u001b[38;5;241m40\u001b[39m][\u001b[38;5;124m'\u001b[39m\u001b[38;5;124maverage_accuracy\u001b[39m\u001b[38;5;124m'\u001b[39m])\n",
      "\u001b[0;31mNameError\u001b[0m: name 'all_df' is not defined"
     ]
    }
   ],
   "source": [
    "np.mean(all_df[all_df['walk_length'] == 40]['average_accuracy'])"
   ]
  },
  {
   "cell_type": "code",
   "execution_count": null,
   "metadata": {},
   "outputs": [
    {
     "data": {
      "text/plain": [
       "0.7900403366123153"
      ]
     },
     "execution_count": 19,
     "metadata": {},
     "output_type": "execute_result"
    }
   ],
   "source": [
    "np.mean(all_df[all_df['walk_length'] == 80]['average_accuracy'])"
   ]
  },
  {
   "cell_type": "code",
   "execution_count": null,
   "metadata": {},
   "outputs": [
    {
     "data": {
      "text/plain": [
       "100.90610643863675"
      ]
     },
     "execution_count": 20,
     "metadata": {},
     "output_type": "execute_result"
    }
   ],
   "source": [
    "np.mean(all_df[all_df['walk_length'] == 40]['training_time'])"
   ]
  },
  {
   "cell_type": "markdown",
   "metadata": {},
   "source": []
  },
  {
   "cell_type": "code",
   "execution_count": null,
   "metadata": {},
   "outputs": [
    {
     "data": {
      "text/plain": [
       "201.27813012838368"
      ]
     },
     "execution_count": 21,
     "metadata": {},
     "output_type": "execute_result"
    }
   ],
   "source": [
    "np.mean(all_df[all_df['walk_length'] == 80]['training_time'])"
   ]
  },
  {
   "cell_type": "code",
   "execution_count": null,
   "metadata": {},
   "outputs": [],
   "source": []
  },
  {
   "cell_type": "code",
   "execution_count": null,
   "metadata": {},
   "outputs": [],
   "source": []
  },
  {
   "cell_type": "code",
   "execution_count": null,
   "metadata": {},
   "outputs": [],
   "source": [
    "# fig, axes = plt.subplots(2, 1, figsize=(10, 8))\n",
    "\n",
    "# # Bar plot for Accuracy\n",
    "# sns.barplot(ax=axes[0], data=df.melt(id_vars=['Dataset'], value_vars=['Walk Length 1 Accuracy', 'Walk Length 2 Accuracy']),\n",
    "#             x='Dataset', y='value', hue='variable')\n",
    "# axes[0].set_title('Accuracy by Dataset and Walk Length')\n",
    "# axes[0].set_ylabel('Accuracy')\n",
    "# axes[0].set_xlabel('')\n",
    "\n",
    "# # Bar plot for Time\n",
    "# sns.barplot(ax=axes[1], data=df.melt(id_vars=['Dataset'], value_vars=['Walk Length 1 Time', 'Walk Length 2 Time']),\n",
    "#             x='Dataset', y='value', hue='variable')\n",
    "# axes[1].set_title('Time by Dataset and Walk Length')\n",
    "# axes[1].set_ylabel('Time')\n",
    "# axes[1].set_xlabel('Dataset')\n",
    "\n",
    "# plt.tight_layout()\n",
    "# plt.show()\n"
   ]
  },
  {
   "cell_type": "code",
   "execution_count": null,
   "metadata": {},
   "outputs": [],
   "source": []
  },
  {
   "cell_type": "code",
   "execution_count": null,
   "metadata": {},
   "outputs": [],
   "source": []
  },
  {
   "cell_type": "code",
   "execution_count": 43,
   "metadata": {},
   "outputs": [
    {
     "data": {
      "text/plain": [
       "{'blog_catalog': {40.0: [0.201524007815397, 3256.033997217815],\n",
       "  80.0: [0.20060781264196575, 5261.498232364655]},\n",
       " 'wikipedia': {40.0: [0.11597638457821292, 2653.277732104063],\n",
       "  80.0: [0.12305040023738104, 4396.736878275875]},\n",
       " 'PPI': {40.0: [0.09202691540289733, 257.8922663256526],\n",
       "  80.0: [0.09393444069159347, 492.3110450108846]},\n",
       " 'cora': {40.0: [0.7912552550078312, 99.58286873881633],\n",
       "  80.0: [0.7900403366123152, 201.27813012838362]}}"
      ]
     },
     "execution_count": 43,
     "metadata": {},
     "output_type": "execute_result"
    }
   ],
   "source": []
  },
  {
   "cell_type": "code",
   "execution_count": 92,
   "metadata": {},
   "outputs": [],
   "source": []
  },
  {
   "cell_type": "code",
   "execution_count": 88,
   "metadata": {},
   "outputs": [
    {
     "data": {
      "text/plain": [
       "{'blog_catalog': {40.0: [0.201524007815397, 3256.033997217815],\n",
       "  80.0: [0.20060781264196575, 5261.498232364655]},\n",
       " 'wikipedia': {40.0: [0.11597638457821292, 2653.277732104063],\n",
       "  80.0: [0.12305040023738104, 4396.736878275875]},\n",
       " 'PPI': {40.0: [0.09202691540289733, 257.8922663256526],\n",
       "  80.0: [0.09393444069159347, 492.3110450108846]},\n",
       " 'cora': {40.0: [0.7912552550078312, 99.58286873881633],\n",
       "  80.0: [0.7900403366123152, 201.27813012838362]}}"
      ]
     },
     "execution_count": 88,
     "metadata": {},
     "output_type": "execute_result"
    }
   ],
   "source": [
    "dynamic_update = 'extend'\n",
    "\n",
    "all_dataset_walk_dict = dataset_walk_scores_gen(results_df, dynamic_update)\n",
    "all_dataset_walk_dict"
   ]
  },
  {
   "cell_type": "code",
   "execution_count": 89,
   "metadata": {},
   "outputs": [
    {
     "data": {
      "image/png": "[encoded data removed]",
      "text/plain": [
       "<Figure size 640x480 with 1 Axes>"
      ]
     },
     "metadata": {},
     "output_type": "display_data"
    }
   ],
   "source": [
    "dataset_walk_plot(dynamic_update, 'accuracy', all_dataset_walk_dict)"
   ]
  },
  {
   "cell_type": "code",
   "execution_count": 83,
   "metadata": {},
   "outputs": [
    {
     "data": {
      "image/png": "[encoded data removed]",
      "text/plain": [
       "<Figure size 640x480 with 1 Axes>"
      ]
     },
     "metadata": {},
     "output_type": "display_data"
    }
   ],
   "source": [
    "dataset_walk_plot(dynamic_update, 'time', all_dataset_walk_dict)"
   ]
  },
  {
   "cell_type": "code",
   "execution_count": 90,
   "metadata": {},
   "outputs": [
    {
     "data": {
      "text/plain": [
       "{'blog_catalog': {40.0: [0.20027803238289535, 3107.896535793942],\n",
       "  80.0: [0.19999769708238824, 4940.151242733005]},\n",
       " 'wikipedia': {40.0: [0.07216420081377814, 1321.0635981559756],\n",
       "  80.0: [0.11365675285922053, 3785.294533967975]},\n",
       " 'PPI': {40.0: [0.08601274493372534, 198.97648096084598],\n",
       "  80.0: [0.08845783844683341, 396.1347808539868]},\n",
       " 'cora': {40.0: [0.7329718749986349, 66.44138810497063],\n",
       "  80.0: [0.7333733544507433, 134.51013869524004]}}"
      ]
     },
     "execution_count": 90,
     "metadata": {},
     "output_type": "execute_result"
    }
   ],
   "source": [
    "dynamic_update = 'prune'\n",
    "\n",
    "all_dataset_walk_dict = dataset_walk_scores_gen(results_df, dynamic_update)\n",
    "all_dataset_walk_dict\n"
   ]
  },
  {
   "cell_type": "code",
   "execution_count": 91,
   "metadata": {},
   "outputs": [
    {
     "data": {
      "image/png": "[encoded data removed]",
      "text/plain": [
       "<Figure size 640x480 with 1 Axes>"
      ]
     },
     "metadata": {},
     "output_type": "display_data"
    }
   ],
   "source": [
    "dataset_walk_plot(dynamic_update, 'accuracy', all_dataset_walk_dict)"
   ]
  },
  {
   "cell_type": "code",
   "execution_count": 86,
   "metadata": {},
   "outputs": [
    {
     "data": {
      "image/png": "[encoded data removed]",
      "text/plain": [
       "<Figure size 640x480 with 1 Axes>"
      ]
     },
     "metadata": {},
     "output_type": "display_data"
    }
   ],
   "source": [
    "dataset_walk_plot(dynamic_update, 'time', all_dataset_walk_dict)"
   ]
  },
  {
   "cell_type": "code",
   "execution_count": null,
   "metadata": {},
   "outputs": [],
   "source": []
  },
  {
   "cell_type": "markdown",
   "metadata": {},
   "source": [
    "## Centrality"
   ]
  },
  {
   "cell_type": "code",
   "execution_count": 4,
   "metadata": {},
   "outputs": [
    {
     "data": {
      "text/html": [
       "<div>\n",
       "<style scoped>\n",
       "    .dataframe tbody tr th:only-of-type {\n",
       "        vertical-align: middle;\n",
       "    }\n",
       "\n",
       "    .dataframe tbody tr th {\n",
       "        vertical-align: top;\n",
       "    }\n",
       "\n",
       "    .dataframe thead th {\n",
       "        text-align: right;\n",
       "    }\n",
       "</style>\n",
       "<table border=\"1\" class=\"dataframe\">\n",
       "  <thead>\n",
       "    <tr style=\"text-align: right;\">\n",
       "      <th></th>\n",
       "      <th>dataset</th>\n",
       "      <th>nodes</th>\n",
       "      <th>edges</th>\n",
       "      <th>retraining_type</th>\n",
       "      <th>metric</th>\n",
       "      <th>10%</th>\n",
       "      <th>20%</th>\n",
       "      <th>30%</th>\n",
       "      <th>40%</th>\n",
       "      <th>50%</th>\n",
       "      <th>...</th>\n",
       "      <th>70%</th>\n",
       "      <th>80%</th>\n",
       "      <th>90%</th>\n",
       "      <th>parameters</th>\n",
       "      <th>training_time</th>\n",
       "      <th>dynamic_update</th>\n",
       "      <th>num_different_nodes</th>\n",
       "      <th>num_starting_nodes</th>\n",
       "      <th>removal_process</th>\n",
       "      <th>execution_timestamp</th>\n",
       "    </tr>\n",
       "  </thead>\n",
       "  <tbody>\n",
       "    <tr>\n",
       "      <th>0</th>\n",
       "      <td>PPI</td>\n",
       "      <td>3890</td>\n",
       "      <td>38739</td>\n",
       "      <td>global</td>\n",
       "      <td>macro</td>\n",
       "      <td>0.117919</td>\n",
       "      <td>0.123484</td>\n",
       "      <td>0.120631</td>\n",
       "      <td>0.109218</td>\n",
       "      <td>0.101414</td>\n",
       "      <td>...</td>\n",
       "      <td>0.092165</td>\n",
       "      <td>0.070849</td>\n",
       "      <td>0.061516</td>\n",
       "      <td>(128, 40, 80, 0.25, 1)</td>\n",
       "      <td>333.163013</td>\n",
       "      <td>prune</td>\n",
       "      <td>512</td>\n",
       "      <td>2227</td>\n",
       "      <td>betweenness_centrality</td>\n",
       "      <td>11/07/2024 - 20:15</td>\n",
       "    </tr>\n",
       "    <tr>\n",
       "      <th>1</th>\n",
       "      <td>PPI</td>\n",
       "      <td>3890</td>\n",
       "      <td>38739</td>\n",
       "      <td>global</td>\n",
       "      <td>micro</td>\n",
       "      <td>0.180473</td>\n",
       "      <td>0.184911</td>\n",
       "      <td>0.166667</td>\n",
       "      <td>0.154586</td>\n",
       "      <td>0.137951</td>\n",
       "      <td>...</td>\n",
       "      <td>0.131924</td>\n",
       "      <td>0.107658</td>\n",
       "      <td>0.098323</td>\n",
       "      <td>(128, 40, 80, 0.25, 1)</td>\n",
       "      <td>333.163013</td>\n",
       "      <td>prune</td>\n",
       "      <td>512</td>\n",
       "      <td>2227</td>\n",
       "      <td>betweenness_centrality</td>\n",
       "      <td>11/07/2024 - 20:15</td>\n",
       "    </tr>\n",
       "    <tr>\n",
       "      <th>2</th>\n",
       "      <td>PPI</td>\n",
       "      <td>3890</td>\n",
       "      <td>38739</td>\n",
       "      <td>local</td>\n",
       "      <td>macro</td>\n",
       "      <td>0.091723</td>\n",
       "      <td>0.084281</td>\n",
       "      <td>0.094639</td>\n",
       "      <td>0.091126</td>\n",
       "      <td>0.081769</td>\n",
       "      <td>...</td>\n",
       "      <td>0.071375</td>\n",
       "      <td>0.065970</td>\n",
       "      <td>0.051746</td>\n",
       "      <td>(128, 40, 80, 0.25, 1)</td>\n",
       "      <td>68.855529</td>\n",
       "      <td>prune</td>\n",
       "      <td>512</td>\n",
       "      <td>2227</td>\n",
       "      <td>betweenness_centrality</td>\n",
       "      <td>11/07/2024 - 20:15</td>\n",
       "    </tr>\n",
       "    <tr>\n",
       "      <th>3</th>\n",
       "      <td>PPI</td>\n",
       "      <td>3890</td>\n",
       "      <td>38739</td>\n",
       "      <td>local</td>\n",
       "      <td>micro</td>\n",
       "      <td>0.136986</td>\n",
       "      <td>0.135802</td>\n",
       "      <td>0.139854</td>\n",
       "      <td>0.128944</td>\n",
       "      <td>0.119649</td>\n",
       "      <td>...</td>\n",
       "      <td>0.103881</td>\n",
       "      <td>0.096022</td>\n",
       "      <td>0.077744</td>\n",
       "      <td>(128, 40, 80, 0.25, 1)</td>\n",
       "      <td>68.855529</td>\n",
       "      <td>prune</td>\n",
       "      <td>512</td>\n",
       "      <td>2227</td>\n",
       "      <td>betweenness_centrality</td>\n",
       "      <td>11/07/2024 - 20:15</td>\n",
       "    </tr>\n",
       "    <tr>\n",
       "      <th>4</th>\n",
       "      <td>PPI</td>\n",
       "      <td>3890</td>\n",
       "      <td>38739</td>\n",
       "      <td>global</td>\n",
       "      <td>macro</td>\n",
       "      <td>0.113568</td>\n",
       "      <td>0.106821</td>\n",
       "      <td>0.097135</td>\n",
       "      <td>0.097138</td>\n",
       "      <td>0.086269</td>\n",
       "      <td>...</td>\n",
       "      <td>0.078349</td>\n",
       "      <td>0.073512</td>\n",
       "      <td>0.066392</td>\n",
       "      <td>(128, 40, 80, 0.25, 1)</td>\n",
       "      <td>407.610555</td>\n",
       "      <td>extend</td>\n",
       "      <td>512</td>\n",
       "      <td>512</td>\n",
       "      <td>betweenness_centrality</td>\n",
       "      <td>11/07/2024 - 20:01</td>\n",
       "    </tr>\n",
       "  </tbody>\n",
       "</table>\n",
       "<p>5 rows × 21 columns</p>\n",
       "</div>"
      ],
      "text/plain": [
       "  dataset  nodes  edges retraining_type metric       10%       20%       30%  \\\n",
       "0     PPI   3890  38739          global  macro  0.117919  0.123484  0.120631   \n",
       "1     PPI   3890  38739          global  micro  0.180473  0.184911  0.166667   \n",
       "2     PPI   3890  38739           local  macro  0.091723  0.084281  0.094639   \n",
       "3     PPI   3890  38739           local  micro  0.136986  0.135802  0.139854   \n",
       "4     PPI   3890  38739          global  macro  0.113568  0.106821  0.097135   \n",
       "\n",
       "        40%       50%  ...       70%       80%       90%  \\\n",
       "0  0.109218  0.101414  ...  0.092165  0.070849  0.061516   \n",
       "1  0.154586  0.137951  ...  0.131924  0.107658  0.098323   \n",
       "2  0.091126  0.081769  ...  0.071375  0.065970  0.051746   \n",
       "3  0.128944  0.119649  ...  0.103881  0.096022  0.077744   \n",
       "4  0.097138  0.086269  ...  0.078349  0.073512  0.066392   \n",
       "\n",
       "               parameters training_time  dynamic_update num_different_nodes  \\\n",
       "0  (128, 40, 80, 0.25, 1)    333.163013           prune                 512   \n",
       "1  (128, 40, 80, 0.25, 1)    333.163013           prune                 512   \n",
       "2  (128, 40, 80, 0.25, 1)     68.855529           prune                 512   \n",
       "3  (128, 40, 80, 0.25, 1)     68.855529           prune                 512   \n",
       "4  (128, 40, 80, 0.25, 1)    407.610555          extend                 512   \n",
       "\n",
       "   num_starting_nodes         removal_process execution_timestamp  \n",
       "0                2227  betweenness_centrality  11/07/2024 - 20:15  \n",
       "1                2227  betweenness_centrality  11/07/2024 - 20:15  \n",
       "2                2227  betweenness_centrality  11/07/2024 - 20:15  \n",
       "3                2227  betweenness_centrality  11/07/2024 - 20:15  \n",
       "4                 512  betweenness_centrality  11/07/2024 - 20:01  \n",
       "\n",
       "[5 rows x 21 columns]"
      ]
     },
     "execution_count": 4,
     "metadata": {},
     "output_type": "execute_result"
    }
   ],
   "source": [
    "results_df.head()"
   ]
  },
  {
   "cell_type": "code",
   "execution_count": 21,
   "metadata": {},
   "outputs": [],
   "source": [
    "# These are the parameters for calculating the gloal/local difference\n",
    "config = {'dataset': 'PPI',\n",
    "          'dynamic_update': 'prune',\n",
    "          'metric': 'macro',\n",
    "          'parameters': '(128, 40, 80, 0.25, 1)'}"
   ]
  },
  {
   "cell_type": "code",
   "execution_count": 22,
   "metadata": {},
   "outputs": [],
   "source": [
    "sub_df = results_df.copy()\n",
    "\n",
    "for key in config:\n",
    "    sub_df = sub_df[sub_df.loc[:, key] == config[key]]"
   ]
  },
  {
   "cell_type": "code",
   "execution_count": 23,
   "metadata": {},
   "outputs": [
    {
     "data": {
      "text/html": [
       "<div>\n",
       "<style scoped>\n",
       "    .dataframe tbody tr th:only-of-type {\n",
       "        vertical-align: middle;\n",
       "    }\n",
       "\n",
       "    .dataframe tbody tr th {\n",
       "        vertical-align: top;\n",
       "    }\n",
       "\n",
       "    .dataframe thead th {\n",
       "        text-align: right;\n",
       "    }\n",
       "</style>\n",
       "<table border=\"1\" class=\"dataframe\">\n",
       "  <thead>\n",
       "    <tr style=\"text-align: right;\">\n",
       "      <th></th>\n",
       "      <th>dataset</th>\n",
       "      <th>nodes</th>\n",
       "      <th>edges</th>\n",
       "      <th>retraining_type</th>\n",
       "      <th>metric</th>\n",
       "      <th>10%</th>\n",
       "      <th>20%</th>\n",
       "      <th>30%</th>\n",
       "      <th>40%</th>\n",
       "      <th>50%</th>\n",
       "      <th>...</th>\n",
       "      <th>70%</th>\n",
       "      <th>80%</th>\n",
       "      <th>90%</th>\n",
       "      <th>parameters</th>\n",
       "      <th>training_time</th>\n",
       "      <th>dynamic_update</th>\n",
       "      <th>num_different_nodes</th>\n",
       "      <th>num_starting_nodes</th>\n",
       "      <th>removal_process</th>\n",
       "      <th>execution_timestamp</th>\n",
       "    </tr>\n",
       "  </thead>\n",
       "  <tbody>\n",
       "    <tr>\n",
       "      <th>0</th>\n",
       "      <td>PPI</td>\n",
       "      <td>3890</td>\n",
       "      <td>38739</td>\n",
       "      <td>global</td>\n",
       "      <td>macro</td>\n",
       "      <td>0.117919</td>\n",
       "      <td>0.123484</td>\n",
       "      <td>0.120631</td>\n",
       "      <td>0.109218</td>\n",
       "      <td>0.101414</td>\n",
       "      <td>...</td>\n",
       "      <td>0.092165</td>\n",
       "      <td>0.070849</td>\n",
       "      <td>0.061516</td>\n",
       "      <td>(128, 40, 80, 0.25, 1)</td>\n",
       "      <td>333.163013</td>\n",
       "      <td>prune</td>\n",
       "      <td>512</td>\n",
       "      <td>2227</td>\n",
       "      <td>betweenness_centrality</td>\n",
       "      <td>11/07/2024 - 20:15</td>\n",
       "    </tr>\n",
       "    <tr>\n",
       "      <th>2</th>\n",
       "      <td>PPI</td>\n",
       "      <td>3890</td>\n",
       "      <td>38739</td>\n",
       "      <td>local</td>\n",
       "      <td>macro</td>\n",
       "      <td>0.091723</td>\n",
       "      <td>0.084281</td>\n",
       "      <td>0.094639</td>\n",
       "      <td>0.091126</td>\n",
       "      <td>0.081769</td>\n",
       "      <td>...</td>\n",
       "      <td>0.071375</td>\n",
       "      <td>0.065970</td>\n",
       "      <td>0.051746</td>\n",
       "      <td>(128, 40, 80, 0.25, 1)</td>\n",
       "      <td>68.855529</td>\n",
       "      <td>prune</td>\n",
       "      <td>512</td>\n",
       "      <td>2227</td>\n",
       "      <td>betweenness_centrality</td>\n",
       "      <td>11/07/2024 - 20:15</td>\n",
       "    </tr>\n",
       "    <tr>\n",
       "      <th>256</th>\n",
       "      <td>PPI</td>\n",
       "      <td>3890</td>\n",
       "      <td>38739</td>\n",
       "      <td>global</td>\n",
       "      <td>macro</td>\n",
       "      <td>0.100238</td>\n",
       "      <td>0.102293</td>\n",
       "      <td>0.089567</td>\n",
       "      <td>0.097844</td>\n",
       "      <td>0.088332</td>\n",
       "      <td>...</td>\n",
       "      <td>0.075928</td>\n",
       "      <td>0.066621</td>\n",
       "      <td>0.054594</td>\n",
       "      <td>(128, 40, 80, 0.25, 1)</td>\n",
       "      <td>341.050711</td>\n",
       "      <td>prune</td>\n",
       "      <td>512</td>\n",
       "      <td>2227</td>\n",
       "      <td>random</td>\n",
       "      <td>12/06/2024 - 17:53</td>\n",
       "    </tr>\n",
       "    <tr>\n",
       "      <th>258</th>\n",
       "      <td>PPI</td>\n",
       "      <td>3890</td>\n",
       "      <td>38739</td>\n",
       "      <td>local</td>\n",
       "      <td>macro</td>\n",
       "      <td>0.079820</td>\n",
       "      <td>0.070594</td>\n",
       "      <td>0.080996</td>\n",
       "      <td>0.087415</td>\n",
       "      <td>0.087862</td>\n",
       "      <td>...</td>\n",
       "      <td>0.075724</td>\n",
       "      <td>0.068366</td>\n",
       "      <td>0.055067</td>\n",
       "      <td>(128, 40, 80, 0.25, 1)</td>\n",
       "      <td>69.428200</td>\n",
       "      <td>prune</td>\n",
       "      <td>512</td>\n",
       "      <td>2227</td>\n",
       "      <td>random</td>\n",
       "      <td>12/06/2024 - 17:53</td>\n",
       "    </tr>\n",
       "  </tbody>\n",
       "</table>\n",
       "<p>4 rows × 21 columns</p>\n",
       "</div>"
      ],
      "text/plain": [
       "    dataset  nodes  edges retraining_type metric       10%       20%  \\\n",
       "0       PPI   3890  38739          global  macro  0.117919  0.123484   \n",
       "2       PPI   3890  38739           local  macro  0.091723  0.084281   \n",
       "256     PPI   3890  38739          global  macro  0.100238  0.102293   \n",
       "258     PPI   3890  38739           local  macro  0.079820  0.070594   \n",
       "\n",
       "          30%       40%       50%  ...       70%       80%       90%  \\\n",
       "0    0.120631  0.109218  0.101414  ...  0.092165  0.070849  0.061516   \n",
       "2    0.094639  0.091126  0.081769  ...  0.071375  0.065970  0.051746   \n",
       "256  0.089567  0.097844  0.088332  ...  0.075928  0.066621  0.054594   \n",
       "258  0.080996  0.087415  0.087862  ...  0.075724  0.068366  0.055067   \n",
       "\n",
       "                 parameters training_time  dynamic_update num_different_nodes  \\\n",
       "0    (128, 40, 80, 0.25, 1)    333.163013           prune                 512   \n",
       "2    (128, 40, 80, 0.25, 1)     68.855529           prune                 512   \n",
       "256  (128, 40, 80, 0.25, 1)    341.050711           prune                 512   \n",
       "258  (128, 40, 80, 0.25, 1)     69.428200           prune                 512   \n",
       "\n",
       "     num_starting_nodes         removal_process execution_timestamp  \n",
       "0                  2227  betweenness_centrality  11/07/2024 - 20:15  \n",
       "2                  2227  betweenness_centrality  11/07/2024 - 20:15  \n",
       "256                2227                  random  12/06/2024 - 17:53  \n",
       "258                2227                  random  12/06/2024 - 17:53  \n",
       "\n",
       "[4 rows x 21 columns]"
      ]
     },
     "execution_count": 23,
     "metadata": {},
     "output_type": "execute_result"
    }
   ],
   "source": [
    "sub_df"
   ]
  },
  {
   "cell_type": "code",
   "execution_count": null,
   "metadata": {},
   "outputs": [],
   "source": []
  },
  {
   "cell_type": "code",
   "execution_count": null,
   "metadata": {},
   "outputs": [],
   "source": []
  },
  {
   "cell_type": "code",
   "execution_count": null,
   "metadata": {},
   "outputs": [],
   "source": []
  }
 ],
 "metadata": {
  "kernelspec": {
   "display_name": "Python 3.10",
   "language": "python",
   "name": "py3.10"
  }
 },
 "nbformat": 4,
 "nbformat_minor": 2
}
