{
 "cells": [
  {
   "cell_type": "markdown",
   "metadata": {},
   "source": [
    "# Node classfication"
   ]
  },
  {
   "cell_type": "code",
   "execution_count": 1,
   "metadata": {},
   "outputs": [
    {
     "name": "stdout",
     "output_type": "stream",
     "text": [
      "/home/jovyan/thesis\n"
     ]
    },
    {
     "name": "stderr",
     "output_type": "stream",
     "text": [
      "/home/jovyan/venvs/my_environment/lib/python3.10/site-packages/IPython/core/magics/osm.py:393: UserWarning: using bookmarks requires you to install the `pickleshare` library.\n",
      "  bkms = self.shell.db.get('bookmarks', {})\n",
      "/home/jovyan/venvs/my_environment/lib/python3.10/site-packages/IPython/core/magics/osm.py:417: UserWarning: using dhist requires you to install the `pickleshare` library.\n",
      "  self.shell.db['dhist'] = compress_dhist(dhist)[-100:]\n"
     ]
    }
   ],
   "source": [
    "cd ~/thesis"
   ]
  },
  {
   "cell_type": "markdown",
   "metadata": {},
   "source": [
    "Import libraries"
   ]
  },
  {
   "cell_type": "code",
   "execution_count": 2,
   "metadata": {},
   "outputs": [
    {
     "name": "stderr",
     "output_type": "stream",
     "text": [
      "/tmp/ipykernel_290/3219661849.py:2: DeprecationWarning: \n",
      "Pyarrow will become a required dependency of pandas in the next major release of pandas (pandas 3.0),\n",
      "(to allow more performant data types, such as the Arrow string type, and better interoperability with other libraries)\n",
      "but was not found to be installed on your system.\n",
      "If this would cause problems for you,\n",
      "please provide us feedback at https://github.com/pandas-dev/pandas/issues/54466\n",
      "        \n",
      "  import pandas as pd\n"
     ]
    }
   ],
   "source": [
    "import numpy as np\n",
    "import pandas as pd\n",
    "import networkx as nx\n",
    "\n",
    "# Modify eliorc's implementation\n",
    "from eliorc_mod.node2vec import Node2Vec\n",
    "from gensim.models import Word2Vec\n",
    "\n",
    "from utils import model_gen, plot_graph, relabel_subgraph, \\\n",
    "enhanced_ext_subgraph_func, connect_subgraph, groups_assign, \\\n",
    "emb_group_gen, ovr_classifier, get_neighborhood, \\\n",
    "remove_nodes_connected, generate_extended_embeddings, compare_models"
   ]
  },
  {
   "cell_type": "markdown",
   "metadata": {},
   "source": [
    "### BlogCatalog "
   ]
  },
  {
   "cell_type": "code",
   "execution_count": 4,
   "metadata": {},
   "outputs": [],
   "source": [
    "blog_dir = '/home/jovyan/thesis/datasets/blog_catalog/data/'\n",
    "\n",
    "G = nx.read_edgelist(blog_dir+'edges.csv', delimiter=',')\n",
    "G.name = 'blog_catalog'\n",
    "\n",
    "# Groups mapping\n",
    "group_df = pd.read_csv(blog_dir+'group-edges.csv', delimiter=',')\n",
    "group_df.columns = ['node_num', 'group']\n",
    "\n",
    "model = Word2Vec.load(\"models/blog_model\")\n",
    "\n",
    "groups_dict = {node_num: group_df.loc[node_num, 'group']  for node_num in group_df['node_num']}\n",
    "\n",
    "X, y, _ = emb_group_gen(groups_dict, model)\n",
    "\n",
    "\n",
    "# # Plot\n",
    "# test_grid_search(G, X, y)"
   ]
  },
  {
   "cell_type": "markdown",
   "metadata": {},
   "source": [
    "## Adding/removing nodes/edges"
   ]
  },
  {
   "cell_type": "markdown",
   "metadata": {},
   "source": [
    "### Extending"
   ]
  },
  {
   "cell_type": "markdown",
   "metadata": {},
   "source": [
    "#### Stochastic Block Model"
   ]
  },
  {
   "cell_type": "code",
   "execution_count": 6,
   "metadata": {},
   "outputs": [],
   "source": [
    "sizes = [200, 100, 150]\n",
    "\n",
    "probs = [[0.01, 0.025, 0.02],\n",
    "         [0.025, 0.05, 0.02],\n",
    "         [0.02, 0.02, 0.01]]\n",
    "\n",
    "initial_graph = nx.stochastic_block_model(sizes, probs, seed=0)\n",
    "# initial_graph.remove_nodes_from([0, 4])"
   ]
  },
  {
   "cell_type": "code",
   "execution_count": 9,
   "metadata": {},
   "outputs": [],
   "source": [
    "ext_subgraph = nx.erdos_renyi_graph(n=125, p=0.45, seed=12)\n",
    "\n",
    "# Relabel the subgraph based on the initial graph\n",
    "ext_subgraph = relabel_subgraph(initial_graph, ext_subgraph)"
   ]
  },
  {
   "cell_type": "code",
   "execution_count": null,
   "metadata": {},
   "outputs": [],
   "source": []
  },
  {
   "cell_type": "code",
   "execution_count": 10,
   "metadata": {},
   "outputs": [
    {
     "name": "stdout",
     "output_type": "stream",
     "text": [
      "New graph (from scratch)\n",
      "For training size: 0.9: [[0.25862068965517243, 0.24764189215802118]]\n",
      "For training size: 0.8: [[0.1826086956521739, 0.18300978928156628]]\n",
      "For training size: 0.7: [[0.23121387283236994, 0.23017435810169581]]\n",
      "For training size: 0.6: [[0.20869565217391303, 0.20771250984104225]]\n",
      "For training size: 0.5: [[0.21875, 0.21909433025297834]]\n",
      "For training size: 0.4: [[0.22028985507246376, 0.22105905977239457]]\n",
      "For training size: 0.29999999999999993: [[0.23325062034739455, 0.23193697769926977]]\n",
      "For training size: 0.19999999999999996: [[0.2217391304347826, 0.2208709477056816]]\n",
      "For training size: 0.09999999999999998: [[0.20656370656370657, 0.19793177814738688]]\n",
      "\n",
      "\n",
      "\n",
      "Manually updated graph (extending the graph)\n",
      "For training size: 0.9: [[0.20689655172413793, 0.19622728318380492]]\n",
      "For training size: 0.8: [[0.21739130434782608, 0.21445698372219896]]\n",
      "For training size: 0.7: [[0.1791907514450867, 0.17744530399180722]]\n",
      "For training size: 0.6: [[0.23478260869565218, 0.23237556464735598]]\n",
      "For training size: 0.5: [[0.2222222222222222, 0.22046375963891918]]\n",
      "For training size: 0.4: [[0.24347826086956523, 0.2406484854231446]]\n",
      "For training size: 0.29999999999999993: [[0.2555831265508685, 0.2545570153686427]]\n",
      "For training size: 0.19999999999999996: [[0.21956521739130436, 0.2136134409433673]]\n",
      "For training size: 0.09999999999999998: [[0.20077220077220076, 0.19097469906835332]]\n"
     ]
    }
   ],
   "source": [
    "compare_models(initial_graph, ext_subgraph)"
   ]
  },
  {
   "cell_type": "code",
   "execution_count": 45,
   "metadata": {},
   "outputs": [],
   "source": [
    "# ext_subgraph = relabel_subgraph(initial_graph, ext_subgraph)\n",
    "\n",
    "# [node_main, node_sub], mod_graph = connect_subgraph(initial_graph, ext_subgraph)\n",
    "\n",
    "# print(f'Main node: {node_main}')\n",
    "# print(f'Sub node: {node_sub}')"
   ]
  },
  {
   "cell_type": "code",
   "execution_count": null,
   "metadata": {},
   "outputs": [],
   "source": []
  },
  {
   "cell_type": "code",
   "execution_count": 46,
   "metadata": {},
   "outputs": [],
   "source": [
    "# list(initial_graph.neighbors(node_main))"
   ]
  },
  {
   "cell_type": "code",
   "execution_count": 47,
   "metadata": {},
   "outputs": [],
   "source": [
    "# len(list(get_neighborhood(initial_graph, 2, 1).nodes()))"
   ]
  },
  {
   "cell_type": "code",
   "execution_count": 51,
   "metadata": {},
   "outputs": [],
   "source": [
    "# enh_ext_subgraph = enhanced_ext_subgraph_func(initial_graph, ext_subgraph, node_main, max_step=2)"
   ]
  },
  {
   "cell_type": "code",
   "execution_count": 25,
   "metadata": {},
   "outputs": [],
   "source": [
    "# plot_graph(ext_subgraph)"
   ]
  },
  {
   "cell_type": "code",
   "execution_count": 26,
   "metadata": {},
   "outputs": [],
   "source": [
    "# plot_graph(enh_ext_subgraph)"
   ]
  },
  {
   "cell_type": "code",
   "execution_count": 27,
   "metadata": {},
   "outputs": [],
   "source": [
    "# print(f'Extending subgraph nodes: {sorted(ext_subgraph.nodes())}')\n",
    "# print(f'Enhanced extending subgraph nodes: {sorted(enh_ext_subgraph.nodes())}')"
   ]
  },
  {
   "cell_type": "code",
   "execution_count": 28,
   "metadata": {},
   "outputs": [],
   "source": [
    "# len(initial_graph.nodes()), len(initial_graph.edges())\n",
    "# len(ext_subgraph.nodes()), len(ext_subgraph.edges())\n",
    "# len(enh_ext_subgraph.nodes()), len(enh_ext_subgraph.edges())\n",
    "# len(mod_graph.nodes()), len(mod_graph.edges())"
   ]
  },
  {
   "cell_type": "code",
   "execution_count": 10,
   "metadata": {},
   "outputs": [],
   "source": [
    "# params = [64, 10, 80, 0.25, 4]\n",
    "\n",
    "# groups_dict = groups_assign(initial_graph, relabel_subgraph(initial_graph, ext_subgraph))\n",
    "\n",
    "# X_ext, y_ext = generate_extended_embeddings(initial_graph, ext_subgraph, params, groups_dict)\n",
    "\n",
    "# [node_main, node_sub], mod_graph = connect_subgraph(initial_graph, ext_subgraph)\n",
    "# enh_ext_subgraph = enhanced_ext_subgraph_func(initial_graph, ext_subgraph, node_main, max_step=2)\n",
    "\n",
    "# node2vec_initial, model_initial = model_gen(initial_graph, params)\n",
    "# node2vec_ext, model_ext = model_gen(enh_ext_subgraph, params)\n",
    "# node2vec_mod, model_mod = model_gen(mod_graph, params)"
   ]
  },
  {
   "cell_type": "markdown",
   "metadata": {},
   "source": [
    "Manually"
   ]
  },
  {
   "cell_type": "code",
   "execution_count": 34,
   "metadata": {},
   "outputs": [],
   "source": [
    "# node2vec_ext, model_ext = model_gen(ext_subgraph, params)\n",
    "# model_ext.wv.vectors.shape\n",
    "\n",
    "node2vec_initial, model_initial = model_gen(initial_graph, params)\n",
    "node2vec_ext, model_ext = model_gen(enh_ext_subgraph, params)\n",
    "node2vec_mod, model_mod = model_gen(mod_graph, params)"
   ]
  },
  {
   "cell_type": "code",
   "execution_count": null,
   "metadata": {},
   "outputs": [],
   "source": []
  },
  {
   "cell_type": "code",
   "execution_count": 131,
   "metadata": {},
   "outputs": [],
   "source": [
    "X_initial, y_initial, node_vectors_dict_initial = emb_group_gen(groups_dict, model_initial)"
   ]
  },
  {
   "cell_type": "code",
   "execution_count": 132,
   "metadata": {},
   "outputs": [],
   "source": [
    "X_ext, y_ext, node_vectors_dict_ext = emb_group_gen(groups_dict, model_ext)"
   ]
  },
  {
   "cell_type": "code",
   "execution_count": 133,
   "metadata": {},
   "outputs": [],
   "source": [
    "X_mod, y_mod, node_vectors_dict_mod = emb_group_gen(groups_dict, model_mod)"
   ]
  },
  {
   "cell_type": "code",
   "execution_count": 134,
   "metadata": {},
   "outputs": [],
   "source": [
    "kept_nodes = set(enh_ext_subgraph.nodes()) - set(node_vectors_dict_initial.keys()).intersection(enh_ext_subgraph.nodes())"
   ]
  },
  {
   "cell_type": "code",
   "execution_count": 135,
   "metadata": {},
   "outputs": [],
   "source": [
    "X_ext_only = [node_vectors_dict_ext[node] for node in kept_nodes]\n",
    "y_ext_only = [groups_dict[node] for node in kept_nodes]"
   ]
  },
  {
   "cell_type": "code",
   "execution_count": 136,
   "metadata": {},
   "outputs": [],
   "source": [
    "X_manual = X_initial + X_ext_only\n",
    "y_manual = y_initial + y_ext_only"
   ]
  },
  {
   "cell_type": "code",
   "execution_count": 137,
   "metadata": {},
   "outputs": [
    {
     "data": {
      "text/plain": [
       "(300, 375, 375)"
      ]
     },
     "execution_count": 137,
     "metadata": {},
     "output_type": "execute_result"
    }
   ],
   "source": [
    "len(X_initial), len(X_mod), len(X_manual)"
   ]
  },
  {
   "cell_type": "code",
   "execution_count": 138,
   "metadata": {},
   "outputs": [
    {
     "data": {
      "text/plain": [
       "array([0.1, 0.2, 0.3, 0.4, 0.5, 0.6, 0.7, 0.8, 0.9])"
      ]
     },
     "execution_count": 138,
     "metadata": {},
     "output_type": "execute_result"
    }
   ],
   "source": [
    "test_sizes = np.arange(0.1, 1, 0.1)\n",
    "test_sizes"
   ]
  },
  {
   "cell_type": "code",
   "execution_count": 139,
   "metadata": {},
   "outputs": [
    {
     "name": "stdout",
     "output_type": "stream",
     "text": [
      "New graph (from scratch)\n",
      "For training size: 0.9: [[0.21052631578947367, 0.2333333333333334]]\n",
      "For training size: 0.8: [[0.21333333333333335, 0.21445328014725668]]\n",
      "For training size: 0.7: [[0.1415929203539823, 0.1414285714285714]]\n",
      "For training size: 0.6: [[0.15333333333333332, 0.1493379933459694]]\n",
      "For training size: 0.5: [[0.19680851063829788, 0.19943981758393306]]\n",
      "For training size: 0.4: [[0.2, 0.20337840721088768]]\n",
      "For training size: 0.29999999999999993: [[0.20152091254752852, 0.19793567543567545]]\n",
      "For training size: 0.19999999999999996: [[0.18666666666666668, 0.18308305067570002]]\n",
      "For training size: 0.09999999999999998: [[0.20414201183431951, 0.19568052997006866]]\n",
      "\n",
      "\n",
      "\n",
      "Manually updated graph (extending the graph)\n",
      "For training size: 0.9: [[0.13157894736842105, 0.13968253968253969]]\n",
      "For training size: 0.8: [[0.10666666666666667, 0.1066025641025641]]\n",
      "For training size: 0.7: [[0.13274336283185842, 0.1281740774948322]]\n",
      "For training size: 0.6: [[0.11333333333333333, 0.10787598874555396]]\n",
      "For training size: 0.5: [[0.15425531914893617, 0.14796195590933217]]\n",
      "For training size: 0.4: [[0.2088888888888889, 0.20266768525592055]]\n",
      "For training size: 0.29999999999999993: [[0.21292775665399238, 0.20235849841657944]]\n",
      "For training size: 0.19999999999999996: [[0.23333333333333334, 0.228297656610641]]\n",
      "For training size: 0.09999999999999998: [[0.20710059171597633, 0.19701269991475723]]\n"
     ]
    }
   ],
   "source": [
    "print(\"New graph (from scratch)\")\n",
    "for test_size in test_sizes:\n",
    "    print(f\"For training size: {(1-test_size)}: {list(ovr_classifier(X_mod, y_mod, test_size).values())}\")\n",
    "\n",
    "print(2*'\\n')\n",
    "\n",
    "print(\"Manually updated graph (extending the graph)\")\n",
    "for test_size in test_sizes:\n",
    "    print(f\"For training size: {(1-test_size)}: {list(ovr_classifier(X_manual, y_manual, test_size).values())}\")"
   ]
  },
  {
   "cell_type": "code",
   "execution_count": 108,
   "metadata": {},
   "outputs": [],
   "source": [
    "# test_grid_search(mod_graph, X_fast, y_fast)\n",
    "# test_grid_search(mod_graph, X_mod, y_mod)"
   ]
  },
  {
   "cell_type": "code",
   "execution_count": null,
   "metadata": {},
   "outputs": [],
   "source": []
  },
  {
   "cell_type": "code",
   "execution_count": null,
   "metadata": {},
   "outputs": [],
   "source": []
  },
  {
   "cell_type": "markdown",
   "metadata": {},
   "source": [
    "#### BlogCatalog"
   ]
  },
  {
   "cell_type": "code",
   "execution_count": 3,
   "metadata": {},
   "outputs": [],
   "source": [
    "blog_dir = '/home/jovyan/thesis/datasets/blog_catalog/data/'\n",
    "\n",
    "initial_graph = nx.read_edgelist(blog_dir+'edges.csv', delimiter=',')\n",
    "initial_graph.name = 'blog_catalog'\n",
    "\n",
    "# Groups mapping\n",
    "group_df = pd.read_csv(blog_dir+'group-edges.csv', delimiter=',')\n",
    "group_df.columns = ['node_num', 'group']\n",
    "\n",
    "model = Word2Vec.load(\"models/blog_model\")"
   ]
  },
  {
   "cell_type": "code",
   "execution_count": 4,
   "metadata": {},
   "outputs": [
    {
     "name": "stderr",
     "output_type": "stream",
     "text": [
      "\n",
      "KeyboardInterrupt\n",
      "\n"
     ]
    }
   ],
   "source": [
    "ext_subgraph = nx.erdos_renyi_graph(n=75, p=0.35, seed=12)\n",
    "\n",
    "# Relabel the subgraph based on the initial graph\n",
    "ext_subgraph = relabel_subgraph(initial_graph, ext_subgraph)\n",
    "\n",
    "compare_models(initial_graph, ext_subgraph)"
   ]
  },
  {
   "cell_type": "code",
   "execution_count": 28,
   "metadata": {},
   "outputs": [],
   "source": [
    "# Fill these similar to previous cells - make a function"
   ]
  },
  {
   "cell_type": "code",
   "execution_count": null,
   "metadata": {},
   "outputs": [],
   "source": [
    "params = [64, 10, 80, 0.25, 4]"
   ]
  },
  {
   "cell_type": "code",
   "execution_count": null,
   "metadata": {},
   "outputs": [],
   "source": [
    "groups_dict = groups_assign(initial_graph, ext_subgraph)\n",
    "\n",
    "# Generate embeddings for the extending subgraph, without common embeddings with initial graph\n",
    "X_ext, y_ext = generate_extended_embeddings(initial_graph, ext_subgraph, params, groups_dict)"
   ]
  },
  {
   "cell_type": "code",
   "execution_count": null,
   "metadata": {},
   "outputs": [],
   "source": []
  },
  {
   "cell_type": "code",
   "execution_count": null,
   "metadata": {},
   "outputs": [],
   "source": []
  },
  {
   "cell_type": "markdown",
   "metadata": {},
   "source": [
    "## Finding nearby area of node"
   ]
  },
  {
   "cell_type": "code",
   "execution_count": 29,
   "metadata": {},
   "outputs": [],
   "source": [
    "blog_dir = '/home/jovyan/thesis/datasets/blog_catalog/data/'\n",
    "\n",
    "G = nx.read_edgelist(blog_dir+'edges.csv', delimiter=',')\n",
    "G.name = 'blog_catalog'\n",
    "\n",
    "# plt.figure(figsize=(3, 3))\n",
    "# nx.draw(G, with_labels=True)\n",
    "# plt.show()"
   ]
  },
  {
   "cell_type": "code",
   "execution_count": 32,
   "metadata": {},
   "outputs": [
    {
     "data": {
      "text/plain": [
       "119"
      ]
     },
     "execution_count": 32,
     "metadata": {},
     "output_type": "execute_result"
    }
   ],
   "source": [
    "len(get_neighborhood(G, '1', 1).nodes())"
   ]
  },
  {
   "cell_type": "code",
   "execution_count": 33,
   "metadata": {},
   "outputs": [
    {
     "data": {
      "text/plain": [
       "9554"
      ]
     },
     "execution_count": 33,
     "metadata": {},
     "output_type": "execute_result"
    }
   ],
   "source": [
    "len(get_neighborhood(G, '1', 2).nodes())"
   ]
  },
  {
   "cell_type": "code",
   "execution_count": null,
   "metadata": {},
   "outputs": [],
   "source": []
  },
  {
   "cell_type": "code",
   "execution_count": 34,
   "metadata": {},
   "outputs": [],
   "source": [
    "G = nx.random_regular_graph(3, 40, seed=10)\n",
    "\n",
    "# plt.figure(figsize=(3, 3))\n",
    "# nx.draw(G, with_labels=True)\n",
    "# plt.show()"
   ]
  },
  {
   "cell_type": "code",
   "execution_count": 35,
   "metadata": {},
   "outputs": [
    {
     "data": {
      "text/plain": [
       "[25, 4, 15]"
      ]
     },
     "execution_count": 35,
     "metadata": {},
     "output_type": "execute_result"
    }
   ],
   "source": [
    "list(get_neighborhood(G, 0, 1))"
   ]
  },
  {
   "cell_type": "code",
   "execution_count": 36,
   "metadata": {},
   "outputs": [
    {
     "data": {
      "text/plain": [
       "[33, 34, 4, 36, 6, 7, 37, 38, 14, 15, 16, 18, 22, 25, 27, 28, 29, 31]"
      ]
     },
     "execution_count": 36,
     "metadata": {},
     "output_type": "execute_result"
    }
   ],
   "source": [
    "list(get_neighborhood(G, 0, 3))"
   ]
  },
  {
   "cell_type": "code",
   "execution_count": null,
   "metadata": {},
   "outputs": [],
   "source": []
  },
  {
   "cell_type": "code",
   "execution_count": null,
   "metadata": {},
   "outputs": [],
   "source": []
  },
  {
   "cell_type": "code",
   "execution_count": null,
   "metadata": {},
   "outputs": [],
   "source": []
  },
  {
   "cell_type": "code",
   "execution_count": null,
   "metadata": {},
   "outputs": [],
   "source": []
  },
  {
   "cell_type": "code",
   "execution_count": null,
   "metadata": {},
   "outputs": [],
   "source": []
  },
  {
   "cell_type": "markdown",
   "metadata": {},
   "source": [
    "### Pruning"
   ]
  },
  {
   "cell_type": "markdown",
   "metadata": {},
   "source": [
    "#### BlogCatalog"
   ]
  },
  {
   "cell_type": "code",
   "execution_count": 37,
   "metadata": {},
   "outputs": [],
   "source": [
    "blog_dir = '/home/jovyan/thesis/datasets/blog_catalog/data/'\n",
    "\n",
    "# blog_dir = 'datasets/blog_catalog/data/'\n",
    "\n",
    "G = nx.read_edgelist(blog_dir+'edges.csv', delimiter=',')\n",
    "G.name = 'blog_catalog'"
   ]
  },
  {
   "cell_type": "code",
   "execution_count": null,
   "metadata": {},
   "outputs": [],
   "source": []
  },
  {
   "cell_type": "code",
   "execution_count": null,
   "metadata": {},
   "outputs": [],
   "source": []
  },
  {
   "cell_type": "markdown",
   "metadata": {},
   "source": [
    "#### Other graphs"
   ]
  },
  {
   "cell_type": "code",
   "execution_count": 11,
   "metadata": {},
   "outputs": [
    {
     "data": {
      "image/png": "[encoded data removed]",
      "text/plain": [
       "<Figure size 400x400 with 1 Axes>"
      ]
     },
     "metadata": {},
     "output_type": "display_data"
    }
   ],
   "source": [
    "G = nx.random_tree(12, seed=1)\n",
    "\n",
    "plot_graph(G)"
   ]
  },
  {
   "cell_type": "code",
   "execution_count": 12,
   "metadata": {},
   "outputs": [
    {
     "data": {
      "text/plain": [
       "[0, 11, 3]"
      ]
     },
     "execution_count": 12,
     "metadata": {},
     "output_type": "execute_result"
    }
   ],
   "source": [
    "graph, removed_nodes = remove_nodes_connected(G, 3)\n",
    "removed_nodes"
   ]
  },
  {
   "cell_type": "code",
   "execution_count": 14,
   "metadata": {},
   "outputs": [
    {
     "data": {
      "image/png": "[encoded data removed]",
      "text/plain": [
       "<Figure size 400x400 with 1 Axes>"
      ]
     },
     "metadata": {},
     "output_type": "display_data"
    }
   ],
   "source": [
    "plot_graph(graph)"
   ]
  },
  {
   "cell_type": "code",
   "execution_count": 15,
   "metadata": {},
   "outputs": [],
   "source": [
    "neighbors = []\n",
    "\n",
    "for node in removed_nodes: \n",
    "    neighbors += list(get_neighborhood(G, node, 2))"
   ]
  },
  {
   "cell_type": "code",
   "execution_count": 16,
   "metadata": {},
   "outputs": [
    {
     "data": {
      "text/plain": [
       "[9, 2, 10, 6, 1, 4, 7]"
      ]
     },
     "execution_count": 16,
     "metadata": {},
     "output_type": "execute_result"
    }
   ],
   "source": [
    "neighbors"
   ]
  },
  {
   "cell_type": "code",
   "execution_count": 17,
   "metadata": {},
   "outputs": [
    {
     "data": {
      "image/png": "[encoded data removed]",
      "text/plain": [
       "<Figure size 400x400 with 1 Axes>"
      ]
     },
     "metadata": {},
     "output_type": "display_data"
    }
   ],
   "source": [
    "plot_graph(G.subgraph(neighbors))"
   ]
  },
  {
   "cell_type": "code",
   "execution_count": 18,
   "metadata": {},
   "outputs": [
    {
     "data": {
      "text/plain": [
       "[0, 11, 3]"
      ]
     },
     "execution_count": 18,
     "metadata": {},
     "output_type": "execute_result"
    }
   ],
   "source": [
    "removed_nodes"
   ]
  },
  {
   "cell_type": "code",
   "execution_count": 20,
   "metadata": {},
   "outputs": [
    {
     "data": {
      "image/png": "[encoded data removed]",
      "text/plain": [
       "<Figure size 400x400 with 1 Axes>"
      ]
     },
     "metadata": {},
     "output_type": "display_data"
    }
   ],
   "source": [
    "plot_graph(graph)"
   ]
  },
  {
   "cell_type": "code",
   "execution_count": 21,
   "metadata": {},
   "outputs": [
    {
     "data": {
      "image/png": "[encoded data removed]",
      "text/plain": [
       "<Figure size 400x400 with 1 Axes>"
      ]
     },
     "metadata": {},
     "output_type": "display_data"
    }
   ],
   "source": [
    "plot_graph(G.subgraph([0, 2, 9, 6, 11, 3, 1, 4]))"
   ]
  },
  {
   "cell_type": "code",
   "execution_count": 51,
   "metadata": {},
   "outputs": [],
   "source": [
    "# This works even if the graph is not connected\n",
    "# Node2Vec(G.subgraph([0, 2, 9, 6, 11, 3, 1, 4]))"
   ]
  },
  {
   "cell_type": "code",
   "execution_count": null,
   "metadata": {},
   "outputs": [],
   "source": []
  },
  {
   "cell_type": "code",
   "execution_count": null,
   "metadata": {},
   "outputs": [],
   "source": []
  },
  {
   "cell_type": "code",
   "execution_count": null,
   "metadata": {},
   "outputs": [],
   "source": []
  },
  {
   "cell_type": "code",
   "execution_count": null,
   "metadata": {},
   "outputs": [],
   "source": []
  },
  {
   "cell_type": "code",
   "execution_count": 52,
   "metadata": {},
   "outputs": [],
   "source": [
    "sizes = [10, 10, 25]\n",
    "probs = [[0.25, 0.05, 0.02], [0.05, 0.35, 0.07], [0.02, 0.07, 0.40]]\n",
    "\n",
    "G = nx.stochastic_block_model(sizes, probs, seed=0)"
   ]
  },
  {
   "cell_type": "code",
   "execution_count": null,
   "metadata": {},
   "outputs": [],
   "source": []
  },
  {
   "cell_type": "code",
   "execution_count": null,
   "metadata": {},
   "outputs": [],
   "source": []
  },
  {
   "cell_type": "code",
   "execution_count": null,
   "metadata": {},
   "outputs": [],
   "source": []
  },
  {
   "cell_type": "markdown",
   "metadata": {},
   "source": [
    "## Testing Wikipedia .mat file"
   ]
  },
  {
   "cell_type": "code",
   "execution_count": null,
   "metadata": {},
   "outputs": [],
   "source": [
    "data = scipy.io.loadmat('datasets/wikipedia/POS.mat')\n",
    "\n",
    "matrix0 = data['network'].astype('float32')"
   ]
  },
  {
   "cell_type": "code",
   "execution_count": null,
   "metadata": {},
   "outputs": [],
   "source": [
    "data"
   ]
  },
  {
   "cell_type": "code",
   "execution_count": null,
   "metadata": {},
   "outputs": [],
   "source": [
    "data['group']"
   ]
  },
  {
   "cell_type": "code",
   "execution_count": null,
   "metadata": {},
   "outputs": [],
   "source": [
    "data['group'].toarray()"
   ]
  },
  {
   "cell_type": "code",
   "execution_count": null,
   "metadata": {},
   "outputs": [],
   "source": [
    "matrix0"
   ]
  },
  {
   "cell_type": "code",
   "execution_count": null,
   "metadata": {},
   "outputs": [],
   "source": [
    "4777**2"
   ]
  },
  {
   "cell_type": "markdown",
   "metadata": {},
   "source": [
    "## Graph customisation"
   ]
  },
  {
   "cell_type": "code",
   "execution_count": 7,
   "metadata": {},
   "outputs": [
    {
     "ename": "NameError",
     "evalue": "name 'initial_graph' is not defined",
     "output_type": "error",
     "traceback": [
      "\u001b[0;31m---------------------------------------------------------------------------\u001b[0m",
      "\u001b[0;31mNameError\u001b[0m                                 Traceback (most recent call last)",
      "Cell \u001b[0;32mIn[7], line 1\u001b[0m\n\u001b[0;32m----> 1\u001b[0m plot_graph(\u001b[43minitial_graph\u001b[49m)\n",
      "\u001b[0;31mNameError\u001b[0m: name 'initial_graph' is not defined"
     ]
    }
   ],
   "source": []
  },
  {
   "cell_type": "code",
   "execution_count": null,
   "metadata": {},
   "outputs": [],
   "source": []
  }
 ],
 "metadata": {
  "kernelspec": {
   "display_name": "Python 3.10",
   "language": "python",
   "name": "py3.10"
  },
  "language_info": {
   "codemirror_mode": {
    "name": "ipython",
    "version": 3
   },
   "file_extension": ".py",
   "mimetype": "text/x-python",
   "name": "python",
   "nbconvert_exporter": "python",
   "pygments_lexer": "ipython3",
   "version": "3.10.13"
  }
 },
 "nbformat": 4,
 "nbformat_minor": 4
}
