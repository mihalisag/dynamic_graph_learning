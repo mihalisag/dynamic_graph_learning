{
 "cells": [
  {
   "cell_type": "markdown",
   "metadata": {},
   "source": [
    "# Centrality"
   ]
  },
  {
   "cell_type": "code",
   "execution_count": 1,
   "metadata": {},
   "outputs": [
    {
     "name": "stdout",
     "output_type": "stream",
     "text": [
      "/home/jovyan/thesis\n"
     ]
    },
    {
     "name": "stderr",
     "output_type": "stream",
     "text": [
      "/home/jovyan/venvs/my_environment/lib/python3.10/site-packages/IPython/core/magics/osm.py:393: UserWarning: using bookmarks requires you to install the `pickleshare` library.\n",
      "  bkms = self.shell.db.get('bookmarks', {})\n",
      "/home/jovyan/venvs/my_environment/lib/python3.10/site-packages/IPython/core/magics/osm.py:417: UserWarning: using dhist requires you to install the `pickleshare` library.\n",
      "  self.shell.db['dhist'] = compress_dhist(dhist)[-100:]\n"
     ]
    }
   ],
   "source": [
    "cd ~/thesis"
   ]
  },
  {
   "cell_type": "markdown",
   "metadata": {},
   "source": [
    "Import libraries"
   ]
  },
  {
   "cell_type": "code",
   "execution_count": 2,
   "metadata": {},
   "outputs": [
    {
     "name": "stderr",
     "output_type": "stream",
     "text": [
      "/tmp/ipykernel_473/573104159.py:2: DeprecationWarning: \n",
      "Pyarrow will become a required dependency of pandas in the next major release of pandas (pandas 3.0),\n",
      "(to allow more performant data types, such as the Arrow string type, and better interoperability with other libraries)\n",
      "but was not found to be installed on your system.\n",
      "If this would cause problems for you,\n",
      "please provide us feedback at https://github.com/pandas-dev/pandas/issues/54466\n",
      "        \n",
      "  import pandas as pd\n"
     ]
    }
   ],
   "source": [
    "import numpy as np\n",
    "import pandas as pd\n",
    "import networkx as nx\n",
    "\n",
    "# Modify eliorc's implementation\n",
    "from eliorc_mod.node2vec import Node2Vec\n",
    "from gensim.models import Word2Vec\n",
    "\n",
    "from main_utils import *\n",
    "from plot_utils import *\n",
    "from analysis_utils import *"
   ]
  },
  {
   "cell_type": "code",
   "execution_count": 4,
   "metadata": {},
   "outputs": [
    {
     "data": {
      "image/png": "[encoded data removed]",
      "text/plain": [
       "<Figure size 400x400 with 1 Axes>"
      ]
     },
     "metadata": {},
     "output_type": "display_data"
    }
   ],
   "source": [
    "G = nx.Graph([(0, 1), (0, 2), (0, 3), (1, 2), (1, 3)])\n",
    "plot_graph(G)"
   ]
  },
  {
   "cell_type": "code",
   "execution_count": 5,
   "metadata": {},
   "outputs": [
    {
     "data": {
      "text/plain": [
       "{0: 1.0, 1: 1.0, 2: 0.6666666666666666, 3: 0.6666666666666666}"
      ]
     },
     "execution_count": 5,
     "metadata": {},
     "output_type": "execute_result"
    }
   ],
   "source": [
    "nx.degree_centrality(G)"
   ]
  },
  {
   "cell_type": "markdown",
   "metadata": {},
   "source": [
    "## Generation"
   ]
  },
  {
   "cell_type": "markdown",
   "metadata": {},
   "source": [
    "### Stochastic Block Model"
   ]
  },
  {
   "cell_type": "code",
   "execution_count": null,
   "metadata": {},
   "outputs": [],
   "source": [
    "initial_graph = nx.erdos_renyi_graph(15, 0.25, seed=42)\n",
    "plot_graph(initial_graph)"
   ]
  },
  {
   "cell_type": "code",
   "execution_count": null,
   "metadata": {},
   "outputs": [],
   "source": [
    "bet_centr_dict = nx.betweenness_centrality(initial_graph)\n",
    "bet_centr_df = pd.DataFrame(list(bet_centr_dict.items()), columns=['node_id', 'centrality'])\n",
    "bet_centr_df.sort_values(by='centrality', ascending=False).reset_index(drop=True)"
   ]
  },
  {
   "cell_type": "code",
   "execution_count": null,
   "metadata": {},
   "outputs": [],
   "source": [
    "?? nx.betweenness_centrality_subset"
   ]
  },
  {
   "cell_type": "code",
   "execution_count": null,
   "metadata": {},
   "outputs": [],
   "source": [
    "max_bet_cent_node = max(bet_centr_dict, key=bet_centr_dict.get)"
   ]
  },
  {
   "cell_type": "code",
   "execution_count": null,
   "metadata": {},
   "outputs": [],
   "source": [
    "max_bet_cent_node"
   ]
  },
  {
   "cell_type": "code",
   "execution_count": null,
   "metadata": {},
   "outputs": [],
   "source": [
    "bet_centr_dict"
   ]
  },
  {
   "cell_type": "code",
   "execution_count": null,
   "metadata": {},
   "outputs": [],
   "source": [
    "graph, remove_nodes_edges_dict = remove_nodes_connected(initial_graph, 5, removal_process='betweenness_centrality')"
   ]
  },
  {
   "cell_type": "code",
   "execution_count": null,
   "metadata": {},
   "outputs": [],
   "source": [
    "plot_graph(initial_graph)"
   ]
  },
  {
   "cell_type": "code",
   "execution_count": null,
   "metadata": {},
   "outputs": [],
   "source": [
    "plot_graph(graph)"
   ]
  },
  {
   "cell_type": "code",
   "execution_count": null,
   "metadata": {},
   "outputs": [],
   "source": [
    "remove_nodes_edges_dict"
   ]
  },
  {
   "cell_type": "markdown",
   "metadata": {},
   "source": [
    "### PPI"
   ]
  },
  {
   "cell_type": "code",
   "execution_count": 7,
   "metadata": {},
   "outputs": [],
   "source": [
    "initial_graph, group_df = mat_load_func('datasets/PPI/PPI.mat')\n",
    "initial_graph.name = 'PPI'"
   ]
  },
  {
   "cell_type": "code",
   "execution_count": 8,
   "metadata": {},
   "outputs": [
    {
     "name": "stdout",
     "output_type": "stream",
     "text": [
      "Graph Information:\n",
      "Number of nodes: 3890\n",
      "Number of edges: 38739\n",
      "Density: 0.005121425469371459\n",
      "Is connected: False\n",
      "Average clustering coefficient: 0.14644876266464119\n",
      "Directed: False\n"
     ]
    }
   ],
   "source": [
    "advanced_info(initial_graph)"
   ]
  },
  {
   "cell_type": "markdown",
   "metadata": {},
   "source": [
    "Around 8-9 minutes to calculate it"
   ]
  },
  {
   "cell_type": "code",
   "execution_count": null,
   "metadata": {},
   "outputs": [],
   "source": [
    "bet_centr_dict = nx.betweenness_centrality(initial_graph)\n",
    "bet_centr_df = pd.DataFrame(list(bet_centr_dict.items()), columns=['node_id', 'centrality'])\n",
    "bet_centr_df.sort_values(by='centrality', ascending=False).reset_index(drop=True)"
   ]
  },
  {
   "cell_type": "code",
   "execution_count": null,
   "metadata": {},
   "outputs": [],
   "source": [
    "graph, remove_nodes_edges_dict = remove_nodes_connected(initial_graph, 2, removal_process='betweenness_centrality')"
   ]
  },
  {
   "cell_type": "code",
   "execution_count": null,
   "metadata": {},
   "outputs": [],
   "source": [
    "new_graph, new_remove_nodes_edges_dict = remove_nodes_connected(initial_graph, 2, removal_process='betweenness_centrality')"
   ]
  },
  {
   "cell_type": "markdown",
   "metadata": {},
   "source": [
    "It finished in 8 minutes when we set k=100"
   ]
  },
  {
   "cell_type": "code",
   "execution_count": null,
   "metadata": {},
   "outputs": [],
   "source": [
    "new_graph, new_remove_nodes_edges_dict = remove_nodes_connected(initial_graph, 2, removal_process='betweenness_centrality')"
   ]
  },
  {
   "cell_type": "markdown",
   "metadata": {},
   "source": [
    "### Trying with nxp"
   ]
  },
  {
   "cell_type": "code",
   "execution_count": 9,
   "metadata": {},
   "outputs": [],
   "source": [
    "import nx_parallel as nxp"
   ]
  },
  {
   "cell_type": "code",
   "execution_count": 10,
   "metadata": {},
   "outputs": [
    {
     "name": "stdout",
     "output_type": "stream",
     "text": [
      "Graph Information:\n",
      "Number of nodes: 3890\n",
      "Number of edges: 38739\n",
      "Density: 0.005121425469371459\n",
      "Is connected: False\n",
      "Average clustering coefficient: 0.14644876266464119\n",
      "Directed: False\n"
     ]
    }
   ],
   "source": [
    "advanced_info(initial_graph)"
   ]
  },
  {
   "cell_type": "code",
   "execution_count": 11,
   "metadata": {},
   "outputs": [
    {
     "data": {
      "text/html": [
       "<div>\n",
       "<style scoped>\n",
       "    .dataframe tbody tr th:only-of-type {\n",
       "        vertical-align: middle;\n",
       "    }\n",
       "\n",
       "    .dataframe tbody tr th {\n",
       "        vertical-align: top;\n",
       "    }\n",
       "\n",
       "    .dataframe thead th {\n",
       "        text-align: right;\n",
       "    }\n",
       "</style>\n",
       "<table border=\"1\" class=\"dataframe\">\n",
       "  <thead>\n",
       "    <tr style=\"text-align: right;\">\n",
       "      <th></th>\n",
       "      <th>node_id</th>\n",
       "      <th>centrality</th>\n",
       "    </tr>\n",
       "  </thead>\n",
       "  <tbody>\n",
       "    <tr>\n",
       "      <th>0</th>\n",
       "      <td>3630</td>\n",
       "      <td>0.119515</td>\n",
       "    </tr>\n",
       "    <tr>\n",
       "      <th>1</th>\n",
       "      <td>1219</td>\n",
       "      <td>0.046365</td>\n",
       "    </tr>\n",
       "    <tr>\n",
       "      <th>2</th>\n",
       "      <td>291</td>\n",
       "      <td>0.034905</td>\n",
       "    </tr>\n",
       "    <tr>\n",
       "      <th>3</th>\n",
       "      <td>824</td>\n",
       "      <td>0.034823</td>\n",
       "    </tr>\n",
       "    <tr>\n",
       "      <th>4</th>\n",
       "      <td>3361</td>\n",
       "      <td>0.033478</td>\n",
       "    </tr>\n",
       "    <tr>\n",
       "      <th>...</th>\n",
       "      <td>...</td>\n",
       "      <td>...</td>\n",
       "    </tr>\n",
       "    <tr>\n",
       "      <th>3885</th>\n",
       "      <td>3481</td>\n",
       "      <td>0.000000</td>\n",
       "    </tr>\n",
       "    <tr>\n",
       "      <th>3886</th>\n",
       "      <td>1228</td>\n",
       "      <td>0.000000</td>\n",
       "    </tr>\n",
       "    <tr>\n",
       "      <th>3887</th>\n",
       "      <td>910</td>\n",
       "      <td>0.000000</td>\n",
       "    </tr>\n",
       "    <tr>\n",
       "      <th>3888</th>\n",
       "      <td>2268</td>\n",
       "      <td>0.000000</td>\n",
       "    </tr>\n",
       "    <tr>\n",
       "      <th>3889</th>\n",
       "      <td>2978</td>\n",
       "      <td>0.000000</td>\n",
       "    </tr>\n",
       "  </tbody>\n",
       "</table>\n",
       "<p>3890 rows × 2 columns</p>\n",
       "</div>"
      ],
      "text/plain": [
       "      node_id  centrality\n",
       "0        3630    0.119515\n",
       "1        1219    0.046365\n",
       "2         291    0.034905\n",
       "3         824    0.034823\n",
       "4        3361    0.033478\n",
       "...       ...         ...\n",
       "3885     3481    0.000000\n",
       "3886     1228    0.000000\n",
       "3887      910    0.000000\n",
       "3888     2268    0.000000\n",
       "3889     2978    0.000000\n",
       "\n",
       "[3890 rows x 2 columns]"
      ]
     },
     "execution_count": 11,
     "metadata": {},
     "output_type": "execute_result"
    }
   ],
   "source": [
    "bet_centr_dict = nxp.betweenness_centrality(initial_graph, k=100)\n",
    "bet_centr_df = pd.DataFrame(list(bet_centr_dict.items()), columns=['node_id', 'centrality'])\n",
    "bet_centr_df.sort_values(by='centrality', ascending=False).reset_index(drop=True)"
   ]
  },
  {
   "cell_type": "markdown",
   "metadata": {},
   "source": [
    "It took 1.5 minutes to calculate it in parallel for num_nodes=2 with centrality while it takes half a minute for 128 randomly."
   ]
  },
  {
   "cell_type": "code",
   "execution_count": 14,
   "metadata": {},
   "outputs": [],
   "source": [
    "new_graph, new_remove_nodes_edges_dict = remove_nodes_connected(initial_graph, 2, removal_process='betweenness_centrality')"
   ]
  },
  {
   "cell_type": "code",
   "execution_count": null,
   "metadata": {},
   "outputs": [],
   "source": []
  },
  {
   "cell_type": "markdown",
   "metadata": {},
   "source": [
    "### BlogCatalog"
   ]
  },
  {
   "cell_type": "code",
   "execution_count": 11,
   "metadata": {},
   "outputs": [],
   "source": [
    "blog_dir = 'datasets/blog_catalog/data/'\n",
    "\n",
    "initial_graph = nx.read_edgelist(blog_dir+'edges.csv', delimiter=',')\n",
    "initial_graph.name = 'blog_catalog'\n",
    "\n",
    "# Groups mapping\n",
    "group_df = pd.read_csv(blog_dir+'group-edges.csv', delimiter=',')\n",
    "group_df.columns = ['node_num', 'group']"
   ]
  },
  {
   "cell_type": "code",
   "execution_count": null,
   "metadata": {},
   "outputs": [],
   "source": [
    "centrality = nx.degree_centrality(initial_graph)"
   ]
  },
  {
   "cell_type": "code",
   "execution_count": 15,
   "metadata": {},
   "outputs": [],
   "source": [
    "node = max(centrality, key=centrality.get)"
   ]
  },
  {
   "cell_type": "code",
   "execution_count": 17,
   "metadata": {},
   "outputs": [
    {
     "data": {
      "text/plain": [
       "0.38715934438948696"
      ]
     },
     "execution_count": 17,
     "metadata": {},
     "output_type": "execute_result"
    }
   ],
   "source": [
    "centrality[node]"
   ]
  },
  {
   "cell_type": "code",
   "execution_count": 22,
   "metadata": {},
   "outputs": [],
   "source": [
    "graph, remove_nodes_edges_dict = remove_nodes_connected(initial_graph, 16, removal_process='degree_centrality')"
   ]
  },
  {
   "cell_type": "code",
   "execution_count": 23,
   "metadata": {},
   "outputs": [],
   "source": [
    "graph, remove_nodes_edges_dict = remove_nodes_connected(initial_graph, 16, removal_process='random')"
   ]
  },
  {
   "cell_type": "code",
   "execution_count": null,
   "metadata": {},
   "outputs": [],
   "source": []
  },
  {
   "cell_type": "code",
   "execution_count": null,
   "metadata": {},
   "outputs": [],
   "source": []
  },
  {
   "cell_type": "code",
   "execution_count": null,
   "metadata": {},
   "outputs": [],
   "source": []
  },
  {
   "cell_type": "markdown",
   "metadata": {},
   "source": [
    "## Comparison"
   ]
  },
  {
   "cell_type": "code",
   "execution_count": 4,
   "metadata": {},
   "outputs": [],
   "source": [
    "results_df = pd.read_csv('results.csv')"
   ]
  },
  {
   "cell_type": "code",
   "execution_count": 5,
   "metadata": {},
   "outputs": [
    {
     "data": {
      "text/html": [
       "<div>\n",
       "<style scoped>\n",
       "    .dataframe tbody tr th:only-of-type {\n",
       "        vertical-align: middle;\n",
       "    }\n",
       "\n",
       "    .dataframe tbody tr th {\n",
       "        vertical-align: top;\n",
       "    }\n",
       "\n",
       "    .dataframe thead th {\n",
       "        text-align: right;\n",
       "    }\n",
       "</style>\n",
       "<table border=\"1\" class=\"dataframe\">\n",
       "  <thead>\n",
       "    <tr style=\"text-align: right;\">\n",
       "      <th></th>\n",
       "      <th>dataset</th>\n",
       "      <th>nodes</th>\n",
       "      <th>edges</th>\n",
       "      <th>retraining_type</th>\n",
       "      <th>metric</th>\n",
       "      <th>10%</th>\n",
       "      <th>20%</th>\n",
       "      <th>30%</th>\n",
       "      <th>40%</th>\n",
       "      <th>50%</th>\n",
       "      <th>...</th>\n",
       "      <th>70%</th>\n",
       "      <th>80%</th>\n",
       "      <th>90%</th>\n",
       "      <th>parameters</th>\n",
       "      <th>training_time</th>\n",
       "      <th>dynamic_update</th>\n",
       "      <th>num_different_nodes</th>\n",
       "      <th>num_starting_nodes</th>\n",
       "      <th>removal_process</th>\n",
       "      <th>execution_timestamp</th>\n",
       "    </tr>\n",
       "  </thead>\n",
       "  <tbody>\n",
       "    <tr>\n",
       "      <th>0</th>\n",
       "      <td>PPI</td>\n",
       "      <td>3890</td>\n",
       "      <td>38739</td>\n",
       "      <td>global</td>\n",
       "      <td>macro</td>\n",
       "      <td>0.085952</td>\n",
       "      <td>0.072052</td>\n",
       "      <td>0.081977</td>\n",
       "      <td>0.089873</td>\n",
       "      <td>0.087135</td>\n",
       "      <td>...</td>\n",
       "      <td>0.064754</td>\n",
       "      <td>0.063289</td>\n",
       "      <td>0.040925</td>\n",
       "      <td>(128, 40, 80, 0.25, 1)</td>\n",
       "      <td>219.054698</td>\n",
       "      <td>prune</td>\n",
       "      <td>512</td>\n",
       "      <td>2972</td>\n",
       "      <td>degree_centrality</td>\n",
       "      <td>18/07/2024 - 14:52</td>\n",
       "    </tr>\n",
       "    <tr>\n",
       "      <th>1</th>\n",
       "      <td>PPI</td>\n",
       "      <td>3890</td>\n",
       "      <td>38739</td>\n",
       "      <td>global</td>\n",
       "      <td>micro</td>\n",
       "      <td>0.133136</td>\n",
       "      <td>0.121302</td>\n",
       "      <td>0.116371</td>\n",
       "      <td>0.122781</td>\n",
       "      <td>0.115453</td>\n",
       "      <td>...</td>\n",
       "      <td>0.095137</td>\n",
       "      <td>0.090270</td>\n",
       "      <td>0.059849</td>\n",
       "      <td>(128, 40, 80, 0.25, 1)</td>\n",
       "      <td>219.054698</td>\n",
       "      <td>prune</td>\n",
       "      <td>512</td>\n",
       "      <td>2972</td>\n",
       "      <td>degree_centrality</td>\n",
       "      <td>18/07/2024 - 14:52</td>\n",
       "    </tr>\n",
       "    <tr>\n",
       "      <th>2</th>\n",
       "      <td>PPI</td>\n",
       "      <td>3890</td>\n",
       "      <td>38739</td>\n",
       "      <td>local</td>\n",
       "      <td>macro</td>\n",
       "      <td>0.054119</td>\n",
       "      <td>0.071297</td>\n",
       "      <td>0.085033</td>\n",
       "      <td>0.085455</td>\n",
       "      <td>0.080754</td>\n",
       "      <td>...</td>\n",
       "      <td>0.071808</td>\n",
       "      <td>0.061188</td>\n",
       "      <td>0.047507</td>\n",
       "      <td>(128, 40, 80, 0.25, 1)</td>\n",
       "      <td>42.793524</td>\n",
       "      <td>prune</td>\n",
       "      <td>512</td>\n",
       "      <td>2972</td>\n",
       "      <td>degree_centrality</td>\n",
       "      <td>18/07/2024 - 14:52</td>\n",
       "    </tr>\n",
       "    <tr>\n",
       "      <th>3</th>\n",
       "      <td>PPI</td>\n",
       "      <td>3890</td>\n",
       "      <td>38739</td>\n",
       "      <td>local</td>\n",
       "      <td>micro</td>\n",
       "      <td>0.097686</td>\n",
       "      <td>0.105398</td>\n",
       "      <td>0.116438</td>\n",
       "      <td>0.118895</td>\n",
       "      <td>0.110026</td>\n",
       "      <td>...</td>\n",
       "      <td>0.106828</td>\n",
       "      <td>0.099614</td>\n",
       "      <td>0.087689</td>\n",
       "      <td>(128, 40, 80, 0.25, 1)</td>\n",
       "      <td>42.793524</td>\n",
       "      <td>prune</td>\n",
       "      <td>512</td>\n",
       "      <td>2972</td>\n",
       "      <td>degree_centrality</td>\n",
       "      <td>18/07/2024 - 14:52</td>\n",
       "    </tr>\n",
       "    <tr>\n",
       "      <th>4</th>\n",
       "      <td>wikipedia</td>\n",
       "      <td>4777</td>\n",
       "      <td>92517</td>\n",
       "      <td>global</td>\n",
       "      <td>macro</td>\n",
       "      <td>0.036618</td>\n",
       "      <td>0.043872</td>\n",
       "      <td>0.043830</td>\n",
       "      <td>0.043829</td>\n",
       "      <td>0.039620</td>\n",
       "      <td>...</td>\n",
       "      <td>0.042098</td>\n",
       "      <td>0.042659</td>\n",
       "      <td>0.036916</td>\n",
       "      <td>(128, 40, 80, 0.25, 1)</td>\n",
       "      <td>698.351662</td>\n",
       "      <td>prune</td>\n",
       "      <td>512</td>\n",
       "      <td>4777</td>\n",
       "      <td>betweenness_centrality</td>\n",
       "      <td>18/07/2024 - 14:42</td>\n",
       "    </tr>\n",
       "    <tr>\n",
       "      <th>5</th>\n",
       "      <td>wikipedia</td>\n",
       "      <td>4777</td>\n",
       "      <td>92517</td>\n",
       "      <td>global</td>\n",
       "      <td>micro</td>\n",
       "      <td>0.437939</td>\n",
       "      <td>0.464244</td>\n",
       "      <td>0.464844</td>\n",
       "      <td>0.458382</td>\n",
       "      <td>0.442569</td>\n",
       "      <td>...</td>\n",
       "      <td>0.410248</td>\n",
       "      <td>0.400938</td>\n",
       "      <td>0.377963</td>\n",
       "      <td>(128, 40, 80, 0.25, 1)</td>\n",
       "      <td>698.351662</td>\n",
       "      <td>prune</td>\n",
       "      <td>512</td>\n",
       "      <td>4777</td>\n",
       "      <td>betweenness_centrality</td>\n",
       "      <td>18/07/2024 - 14:42</td>\n",
       "    </tr>\n",
       "    <tr>\n",
       "      <th>6</th>\n",
       "      <td>wikipedia</td>\n",
       "      <td>4777</td>\n",
       "      <td>92517</td>\n",
       "      <td>local</td>\n",
       "      <td>macro</td>\n",
       "      <td>0.049548</td>\n",
       "      <td>0.060786</td>\n",
       "      <td>0.039719</td>\n",
       "      <td>0.034608</td>\n",
       "      <td>0.033228</td>\n",
       "      <td>...</td>\n",
       "      <td>0.034788</td>\n",
       "      <td>0.035353</td>\n",
       "      <td>0.034175</td>\n",
       "      <td>(128, 40, 80, 0.25, 1)</td>\n",
       "      <td>172.945279</td>\n",
       "      <td>prune</td>\n",
       "      <td>512</td>\n",
       "      <td>4777</td>\n",
       "      <td>betweenness_centrality</td>\n",
       "      <td>18/07/2024 - 14:42</td>\n",
       "    </tr>\n",
       "    <tr>\n",
       "      <th>7</th>\n",
       "      <td>wikipedia</td>\n",
       "      <td>4777</td>\n",
       "      <td>92517</td>\n",
       "      <td>local</td>\n",
       "      <td>micro</td>\n",
       "      <td>0.485356</td>\n",
       "      <td>0.459205</td>\n",
       "      <td>0.449093</td>\n",
       "      <td>0.456829</td>\n",
       "      <td>0.439514</td>\n",
       "      <td>...</td>\n",
       "      <td>0.419258</td>\n",
       "      <td>0.410256</td>\n",
       "      <td>0.390930</td>\n",
       "      <td>(128, 40, 80, 0.25, 1)</td>\n",
       "      <td>172.945279</td>\n",
       "      <td>prune</td>\n",
       "      <td>512</td>\n",
       "      <td>4777</td>\n",
       "      <td>betweenness_centrality</td>\n",
       "      <td>18/07/2024 - 14:42</td>\n",
       "    </tr>\n",
       "    <tr>\n",
       "      <th>8</th>\n",
       "      <td>wikipedia</td>\n",
       "      <td>4777</td>\n",
       "      <td>92517</td>\n",
       "      <td>global</td>\n",
       "      <td>macro</td>\n",
       "      <td>0.069780</td>\n",
       "      <td>0.061717</td>\n",
       "      <td>0.048079</td>\n",
       "      <td>0.035819</td>\n",
       "      <td>0.038611</td>\n",
       "      <td>...</td>\n",
       "      <td>0.050014</td>\n",
       "      <td>0.034446</td>\n",
       "      <td>0.037771</td>\n",
       "      <td>(128, 40, 80, 0.25, 1)</td>\n",
       "      <td>682.652340</td>\n",
       "      <td>prune</td>\n",
       "      <td>512</td>\n",
       "      <td>4777</td>\n",
       "      <td>degree_centrality</td>\n",
       "      <td>18/07/2024 - 12:45</td>\n",
       "    </tr>\n",
       "    <tr>\n",
       "      <th>9</th>\n",
       "      <td>wikipedia</td>\n",
       "      <td>4777</td>\n",
       "      <td>92517</td>\n",
       "      <td>global</td>\n",
       "      <td>micro</td>\n",
       "      <td>0.477752</td>\n",
       "      <td>0.473623</td>\n",
       "      <td>0.465625</td>\n",
       "      <td>0.449004</td>\n",
       "      <td>0.451946</td>\n",
       "      <td>...</td>\n",
       "      <td>0.416946</td>\n",
       "      <td>0.406800</td>\n",
       "      <td>0.387861</td>\n",
       "      <td>(128, 40, 80, 0.25, 1)</td>\n",
       "      <td>682.652340</td>\n",
       "      <td>prune</td>\n",
       "      <td>512</td>\n",
       "      <td>4777</td>\n",
       "      <td>degree_centrality</td>\n",
       "      <td>18/07/2024 - 12:45</td>\n",
       "    </tr>\n",
       "  </tbody>\n",
       "</table>\n",
       "<p>10 rows × 21 columns</p>\n",
       "</div>"
      ],
      "text/plain": [
       "     dataset  nodes  edges retraining_type metric       10%       20%  \\\n",
       "0        PPI   3890  38739          global  macro  0.085952  0.072052   \n",
       "1        PPI   3890  38739          global  micro  0.133136  0.121302   \n",
       "2        PPI   3890  38739           local  macro  0.054119  0.071297   \n",
       "3        PPI   3890  38739           local  micro  0.097686  0.105398   \n",
       "4  wikipedia   4777  92517          global  macro  0.036618  0.043872   \n",
       "5  wikipedia   4777  92517          global  micro  0.437939  0.464244   \n",
       "6  wikipedia   4777  92517           local  macro  0.049548  0.060786   \n",
       "7  wikipedia   4777  92517           local  micro  0.485356  0.459205   \n",
       "8  wikipedia   4777  92517          global  macro  0.069780  0.061717   \n",
       "9  wikipedia   4777  92517          global  micro  0.477752  0.473623   \n",
       "\n",
       "        30%       40%       50%  ...       70%       80%       90%  \\\n",
       "0  0.081977  0.089873  0.087135  ...  0.064754  0.063289  0.040925   \n",
       "1  0.116371  0.122781  0.115453  ...  0.095137  0.090270  0.059849   \n",
       "2  0.085033  0.085455  0.080754  ...  0.071808  0.061188  0.047507   \n",
       "3  0.116438  0.118895  0.110026  ...  0.106828  0.099614  0.087689   \n",
       "4  0.043830  0.043829  0.039620  ...  0.042098  0.042659  0.036916   \n",
       "5  0.464844  0.458382  0.442569  ...  0.410248  0.400938  0.377963   \n",
       "6  0.039719  0.034608  0.033228  ...  0.034788  0.035353  0.034175   \n",
       "7  0.449093  0.456829  0.439514  ...  0.419258  0.410256  0.390930   \n",
       "8  0.048079  0.035819  0.038611  ...  0.050014  0.034446  0.037771   \n",
       "9  0.465625  0.449004  0.451946  ...  0.416946  0.406800  0.387861   \n",
       "\n",
       "               parameters training_time  dynamic_update num_different_nodes  \\\n",
       "0  (128, 40, 80, 0.25, 1)    219.054698           prune                 512   \n",
       "1  (128, 40, 80, 0.25, 1)    219.054698           prune                 512   \n",
       "2  (128, 40, 80, 0.25, 1)     42.793524           prune                 512   \n",
       "3  (128, 40, 80, 0.25, 1)     42.793524           prune                 512   \n",
       "4  (128, 40, 80, 0.25, 1)    698.351662           prune                 512   \n",
       "5  (128, 40, 80, 0.25, 1)    698.351662           prune                 512   \n",
       "6  (128, 40, 80, 0.25, 1)    172.945279           prune                 512   \n",
       "7  (128, 40, 80, 0.25, 1)    172.945279           prune                 512   \n",
       "8  (128, 40, 80, 0.25, 1)    682.652340           prune                 512   \n",
       "9  (128, 40, 80, 0.25, 1)    682.652340           prune                 512   \n",
       "\n",
       "   num_starting_nodes         removal_process execution_timestamp  \n",
       "0                2972       degree_centrality  18/07/2024 - 14:52  \n",
       "1                2972       degree_centrality  18/07/2024 - 14:52  \n",
       "2                2972       degree_centrality  18/07/2024 - 14:52  \n",
       "3                2972       degree_centrality  18/07/2024 - 14:52  \n",
       "4                4777  betweenness_centrality  18/07/2024 - 14:42  \n",
       "5                4777  betweenness_centrality  18/07/2024 - 14:42  \n",
       "6                4777  betweenness_centrality  18/07/2024 - 14:42  \n",
       "7                4777  betweenness_centrality  18/07/2024 - 14:42  \n",
       "8                4777       degree_centrality  18/07/2024 - 12:45  \n",
       "9                4777       degree_centrality  18/07/2024 - 12:45  \n",
       "\n",
       "[10 rows x 21 columns]"
      ]
     },
     "execution_count": 5,
     "metadata": {},
     "output_type": "execute_result"
    }
   ],
   "source": [
    "results_df.head(10)"
   ]
  },
  {
   "cell_type": "code",
   "execution_count": 6,
   "metadata": {},
   "outputs": [],
   "source": [
    "param_df = results_df.loc[results_df['parameters'] == '(128, 40, 80, 0.25, 1)']"
   ]
  },
  {
   "cell_type": "code",
   "execution_count": 7,
   "metadata": {},
   "outputs": [],
   "source": [
    "# These are the parameters for calculating the gloal/local difference\n",
    "config = {'dynamic_update': 'prune',\n",
    "          'retraining_type': 'local',\n",
    "          'metric': 'macro',\n",
    "          'parameters': '(128, 40, 80, 0.25, 1)',\n",
    "          'num_different_nodes': 512}"
   ]
  },
  {
   "cell_type": "code",
   "execution_count": 8,
   "metadata": {},
   "outputs": [],
   "source": [
    "sub_df = accu_time_df_gen(param_df, config)"
   ]
  },
  {
   "cell_type": "code",
   "execution_count": 9,
   "metadata": {},
   "outputs": [
    {
     "data": {
      "text/html": [
       "<div>\n",
       "<style scoped>\n",
       "    .dataframe tbody tr th:only-of-type {\n",
       "        vertical-align: middle;\n",
       "    }\n",
       "\n",
       "    .dataframe tbody tr th {\n",
       "        vertical-align: top;\n",
       "    }\n",
       "\n",
       "    .dataframe thead th {\n",
       "        text-align: right;\n",
       "    }\n",
       "</style>\n",
       "<table border=\"1\" class=\"dataframe\">\n",
       "  <thead>\n",
       "    <tr style=\"text-align: right;\">\n",
       "      <th></th>\n",
       "      <th>dataset</th>\n",
       "      <th>retraining_type</th>\n",
       "      <th>parameters</th>\n",
       "      <th>dynamic_update</th>\n",
       "      <th>removal_process</th>\n",
       "      <th>average_accuracy</th>\n",
       "      <th>training_time</th>\n",
       "    </tr>\n",
       "  </thead>\n",
       "  <tbody>\n",
       "    <tr>\n",
       "      <th>0</th>\n",
       "      <td>PPI</td>\n",
       "      <td>local</td>\n",
       "      <td>(128, 40, 80, 0.25, 1)</td>\n",
       "      <td>prune</td>\n",
       "      <td>degree_centrality</td>\n",
       "      <td>0.069418</td>\n",
       "      <td>42.793524</td>\n",
       "    </tr>\n",
       "    <tr>\n",
       "      <th>1</th>\n",
       "      <td>wikipedia</td>\n",
       "      <td>local</td>\n",
       "      <td>(128, 40, 80, 0.25, 1)</td>\n",
       "      <td>prune</td>\n",
       "      <td>betweenness_centrality</td>\n",
       "      <td>0.039392</td>\n",
       "      <td>172.945279</td>\n",
       "    </tr>\n",
       "    <tr>\n",
       "      <th>2</th>\n",
       "      <td>wikipedia</td>\n",
       "      <td>local</td>\n",
       "      <td>(128, 40, 80, 0.25, 1)</td>\n",
       "      <td>prune</td>\n",
       "      <td>degree_centrality</td>\n",
       "      <td>0.033993</td>\n",
       "      <td>181.304677</td>\n",
       "    </tr>\n",
       "    <tr>\n",
       "      <th>3</th>\n",
       "      <td>cora</td>\n",
       "      <td>local</td>\n",
       "      <td>(128, 40, 80, 0.25, 1)</td>\n",
       "      <td>prune</td>\n",
       "      <td>degree_centrality</td>\n",
       "      <td>0.613932</td>\n",
       "      <td>11.665169</td>\n",
       "    </tr>\n",
       "    <tr>\n",
       "      <th>4</th>\n",
       "      <td>PPI</td>\n",
       "      <td>local</td>\n",
       "      <td>(128, 40, 80, 0.25, 1)</td>\n",
       "      <td>prune</td>\n",
       "      <td>betweenness_centrality</td>\n",
       "      <td>0.069948</td>\n",
       "      <td>50.187979</td>\n",
       "    </tr>\n",
       "    <tr>\n",
       "      <th>5</th>\n",
       "      <td>cora</td>\n",
       "      <td>local</td>\n",
       "      <td>(128, 40, 80, 0.25, 1)</td>\n",
       "      <td>prune</td>\n",
       "      <td>betweenness_centrality</td>\n",
       "      <td>0.658202</td>\n",
       "      <td>9.899643</td>\n",
       "    </tr>\n",
       "    <tr>\n",
       "      <th>6</th>\n",
       "      <td>PPI</td>\n",
       "      <td>local</td>\n",
       "      <td>(128, 40, 80, 0.25, 1)</td>\n",
       "      <td>prune</td>\n",
       "      <td>random</td>\n",
       "      <td>0.078023</td>\n",
       "      <td>68.855529</td>\n",
       "    </tr>\n",
       "    <tr>\n",
       "      <th>7</th>\n",
       "      <td>blog_catalog</td>\n",
       "      <td>local</td>\n",
       "      <td>(128, 40, 80, 0.25, 1)</td>\n",
       "      <td>prune</td>\n",
       "      <td>random</td>\n",
       "      <td>0.198408</td>\n",
       "      <td>1480.310039</td>\n",
       "    </tr>\n",
       "    <tr>\n",
       "      <th>8</th>\n",
       "      <td>blog_catalog</td>\n",
       "      <td>local</td>\n",
       "      <td>(128, 40, 80, 0.25, 1)</td>\n",
       "      <td>prune</td>\n",
       "      <td>random</td>\n",
       "      <td>0.196315</td>\n",
       "      <td>1494.013343</td>\n",
       "    </tr>\n",
       "    <tr>\n",
       "      <th>9</th>\n",
       "      <td>wikipedia</td>\n",
       "      <td>local</td>\n",
       "      <td>(128, 40, 80, 0.25, 1)</td>\n",
       "      <td>prune</td>\n",
       "      <td>random</td>\n",
       "      <td>0.094717</td>\n",
       "      <td>826.445227</td>\n",
       "    </tr>\n",
       "    <tr>\n",
       "      <th>10</th>\n",
       "      <td>PPI</td>\n",
       "      <td>local</td>\n",
       "      <td>(128, 40, 80, 0.25, 1)</td>\n",
       "      <td>prune</td>\n",
       "      <td>random</td>\n",
       "      <td>0.075805</td>\n",
       "      <td>69.428200</td>\n",
       "    </tr>\n",
       "    <tr>\n",
       "      <th>11</th>\n",
       "      <td>cora</td>\n",
       "      <td>local</td>\n",
       "      <td>(128, 40, 80, 0.25, 1)</td>\n",
       "      <td>prune</td>\n",
       "      <td>random</td>\n",
       "      <td>0.697438</td>\n",
       "      <td>6.561523</td>\n",
       "    </tr>\n",
       "  </tbody>\n",
       "</table>\n",
       "</div>"
      ],
      "text/plain": [
       "         dataset retraining_type              parameters dynamic_update  \\\n",
       "0            PPI           local  (128, 40, 80, 0.25, 1)          prune   \n",
       "1      wikipedia           local  (128, 40, 80, 0.25, 1)          prune   \n",
       "2      wikipedia           local  (128, 40, 80, 0.25, 1)          prune   \n",
       "3           cora           local  (128, 40, 80, 0.25, 1)          prune   \n",
       "4            PPI           local  (128, 40, 80, 0.25, 1)          prune   \n",
       "5           cora           local  (128, 40, 80, 0.25, 1)          prune   \n",
       "6            PPI           local  (128, 40, 80, 0.25, 1)          prune   \n",
       "7   blog_catalog           local  (128, 40, 80, 0.25, 1)          prune   \n",
       "8   blog_catalog           local  (128, 40, 80, 0.25, 1)          prune   \n",
       "9      wikipedia           local  (128, 40, 80, 0.25, 1)          prune   \n",
       "10           PPI           local  (128, 40, 80, 0.25, 1)          prune   \n",
       "11          cora           local  (128, 40, 80, 0.25, 1)          prune   \n",
       "\n",
       "           removal_process  average_accuracy  training_time  \n",
       "0        degree_centrality          0.069418      42.793524  \n",
       "1   betweenness_centrality          0.039392     172.945279  \n",
       "2        degree_centrality          0.033993     181.304677  \n",
       "3        degree_centrality          0.613932      11.665169  \n",
       "4   betweenness_centrality          0.069948      50.187979  \n",
       "5   betweenness_centrality          0.658202       9.899643  \n",
       "6                   random          0.078023      68.855529  \n",
       "7                   random          0.198408    1480.310039  \n",
       "8                   random          0.196315    1494.013343  \n",
       "9                   random          0.094717     826.445227  \n",
       "10                  random          0.075805      69.428200  \n",
       "11                  random          0.697438       6.561523  "
      ]
     },
     "execution_count": 9,
     "metadata": {},
     "output_type": "execute_result"
    }
   ],
   "source": [
    "sub_df"
   ]
  },
  {
   "cell_type": "code",
   "execution_count": 10,
   "metadata": {},
   "outputs": [],
   "source": [
    "# all_stats_dict = {key:[] for key in sub_df['removal_process'].unique()}"
   ]
  },
  {
   "cell_type": "code",
   "execution_count": 11,
   "metadata": {},
   "outputs": [
    {
     "ename": "NameError",
     "evalue": "name 'all_stats_dict' is not defined",
     "output_type": "error",
     "traceback": [
      "\u001b[0;31m---------------------------------------------------------------------------\u001b[0m",
      "\u001b[0;31mNameError\u001b[0m                                 Traceback (most recent call last)",
      "Cell \u001b[0;32mIn[11], line 1\u001b[0m\n\u001b[0;32m----> 1\u001b[0m \u001b[38;5;28;01mfor\u001b[39;00m process \u001b[38;5;129;01min\u001b[39;00m \u001b[43mall_stats_dict\u001b[49m:\n\u001b[1;32m      3\u001b[0m     \u001b[38;5;28;01mfor\u001b[39;00m dataset \u001b[38;5;129;01min\u001b[39;00m sub_df[\u001b[38;5;124m'\u001b[39m\u001b[38;5;124mdataset\u001b[39m\u001b[38;5;124m'\u001b[39m]\u001b[38;5;241m.\u001b[39munique():\n\u001b[1;32m      5\u001b[0m         new_df \u001b[38;5;241m=\u001b[39m sub_df\n",
      "\u001b[0;31mNameError\u001b[0m: name 'all_stats_dict' is not defined"
     ]
    }
   ],
   "source": [
    "for process in all_stats_dict:\n",
    "\n",
    "    for dataset in sub_df['dataset'].unique():\n",
    "\n",
    "        new_df = sub_df\n",
    "\n",
    "        config['dataset'] = dataset\n",
    "        config['removal_process'] = process\n",
    "\n",
    "        for key in config:\n",
    "            new_df = new_df[new_df.loc[:, key] == config[key]]\n",
    "\n",
    "        print(dataset, new_df['average_accuracy'].values[0])\n",
    "        \n",
    "        # new_df = accu_time_df_gen(sub_df, config)\n",
    "\n",
    "        # print(dataset, new_df['average_accuracy'].values[0])\n",
    "\n",
    "        # avg_accuracy = sub_df[]\n",
    "\n",
    "        # all_stats_dict[process].update({dataset: (avg_accuracy_diff_perc, training_time_diff_perc)})"
   ]
  },
  {
   "cell_type": "code",
   "execution_count": 19,
   "metadata": {},
   "outputs": [],
   "source": [
    "def dataset_removal_plot(sub_df):\n",
    "    '''\n",
    "        Plots the average accuracy for every dataset and for\n",
    "        different node removal processes\n",
    "    '''\n",
    "\n",
    "    # Set font to Computer Modern\n",
    "    plt.rcParams['font.family'] = 'serif'\n",
    "    plt.rcParams['font.serif'] = 'Computer Modern'\n",
    "    plt.rcParams['text.usetex'] = True  # Use LaTeX for rendering text\n",
    "\n",
    "    # # Plotting parameters\n",
    "    # labels = sub_df['dataset'].unique()\n",
    "\n",
    "    # Define the order of datasets\n",
    "    labels = ['blog_catalog', 'wikipedia', 'PPI', 'cora']\n",
    "    removal_processes = sub_df['removal_process'].unique()\n",
    "    x = np.arange(len(labels))  # the label locations\n",
    "    width = 0.2  # the width of the bars\n",
    "\n",
    "    # Create the figure and the axes\n",
    "    fig, ax = plt.subplots() #figsize=(12, 8))\n",
    "\n",
    "    # Plot bars for each removal process\n",
    "    for i, removal_process in enumerate(removal_processes):\n",
    "        # Filter data for the current removal process\n",
    "        filtered_data = sub_df[sub_df['removal_process'] == removal_process]\n",
    "        accuracy_values = [filtered_data[filtered_data['dataset'] == label]['average_accuracy'].values[0] if label in filtered_data['dataset'].values else 0 for label in labels]\n",
    "        \n",
    "        # Plot the bars\n",
    "        rects = ax.bar(x + i * width - (len(removal_processes) / 2) * width, accuracy_values, width, label=removal_process)\n",
    "\n",
    "    # Add some text for labels, title and custom x-axis tick labels, etc.\n",
    "    # ax.set_xlabel('Dataset', fontdict={'size': 20})\n",
    "    # ax.set_ylabel('Average Accuracy', fontdict={'size': 20})\n",
    "    # ax.set_title('Average Accuracy by Dataset and Removal Process')\n",
    "    ax.set_xticks(x)\n",
    "    ax.set_xticklabels(labels, fontsize=16)\n",
    "    ax.set_ylim([0, 1])\n",
    "    ax.legend()\n",
    "\n",
    "    # Reverse the legend items\n",
    "    handles, labels = ax.get_legend_handles_labels()\n",
    "    ax.legend(handles[::-1], labels[::-1])\n",
    "\n",
    "    # Add grid\n",
    "    ax.grid(True, which='both', linestyle='--', linewidth=0.5)\n",
    "    ax.set_axisbelow(True)\n",
    "\n",
    "    # Adjust the legend\n",
    "    plt.legend(loc='lower center', ncol=3, bbox_to_anchor=(0.5, -0.3))\n",
    "\n",
    "    # Adjust spacing and save the plot\n",
    "    plt.tight_layout()\n",
    "    plt.savefig('figures/accuracy_by_dataset_removal_process.svg', dpi=100, bbox_inches='tight')\n",
    "    plt.savefig('figures/accuracy_by_dataset_removal_process.pdf', dpi=100, bbox_inches='tight')\n",
    "\n",
    "    # Show the plot\n",
    "    plt.show()"
   ]
  },
  {
   "cell_type": "code",
   "execution_count": 20,
   "metadata": {},
   "outputs": [
    {
     "data": {
      "image/png": "[encoded data removed]",
      "text/plain": [
       "<Figure size 640x480 with 1 Axes>"
      ]
     },
     "metadata": {},
     "output_type": "display_data"
    }
   ],
   "source": [
    "dataset_removal_plot(sub_df)"
   ]
  },
  {
   "cell_type": "code",
   "execution_count": null,
   "metadata": {},
   "outputs": [],
   "source": []
  }
 ],
 "metadata": {
  "kernelspec": {
   "display_name": "Python 3.10",
   "language": "python",
   "name": "py3.10"
  },
  "language_info": {
   "codemirror_mode": {
    "name": "ipython",
    "version": 3
   },
   "file_extension": ".py",
   "mimetype": "text/x-python",
   "name": "python",
   "nbconvert_exporter": "python",
   "pygments_lexer": "ipython3",
   "version": "3.10.13"
  }
 },
 "nbformat": 4,
 "nbformat_minor": 2
}
